{
 "cells": [
  {
   "cell_type": "code",
   "execution_count": 0,
   "metadata": {
    "application/vnd.databricks.v1+cell": {
     "cellMetadata": {
      "byteLimit": 2048000,
      "rowLimit": 10000
     },
     "inputWidgets": {},
     "nuid": "05984622-6a1d-42c6-a19e-5fdea3215b80",
     "showTitle": false,
     "title": ""
    }
   },
   "outputs": [],
   "source": [
    "from pyspark.sql.functions import *\n",
    "from pyspark.sql.types import *"
   ]
  },
  {
   "cell_type": "code",
   "execution_count": 0,
   "metadata": {
    "application/vnd.databricks.v1+cell": {
     "cellMetadata": {
      "byteLimit": 2048000,
      "rowLimit": 10000
     },
     "inputWidgets": {},
     "nuid": "cac3fc3c-f338-41f3-9962-e5f35cbd935b",
     "showTitle": false,
     "title": ""
    }
   },
   "outputs": [],
   "source": [
    "def rdfile(formatname,options,path):\n",
    "    return spark.read.format(formatname).options(**options).load(path)"
   ]
  },
  {
   "cell_type": "code",
   "execution_count": 0,
   "metadata": {
    "application/vnd.databricks.v1+cell": {
     "cellMetadata": {
      "byteLimit": 2048000,
      "rowLimit": 10000
     },
     "inputWidgets": {},
     "nuid": "a314874f-8377-4fb5-bac8-781cf1147772",
     "showTitle": false,
     "title": ""
    }
   },
   "outputs": [],
   "source": [
    "formatname='csv'\n",
    "options={\n",
    "    'header':True,\n",
    "    'delimeter':',',\n",
    "    'inferschema':True\n",
    "}\n",
    "path='dbfs:/FileStore/20240105_sales_customer.csv'\n",
    "\n",
    "df=rdfile('csv',options,'dbfs:/FileStore/20240105_sales_customer.csv')"
   ]
  },
  {
   "cell_type": "code",
   "execution_count": 0,
   "metadata": {
    "application/vnd.databricks.v1+cell": {
     "cellMetadata": {
      "byteLimit": 2048000,
      "rowLimit": 10000
     },
     "inputWidgets": {},
     "nuid": "3b3e490c-1df9-4b84-8a00-076632f6495c",
     "showTitle": false,
     "title": ""
    }
   },
   "outputs": [
    {
     "output_type": "display_data",
     "data": {
      "text/html": [
       "<style scoped>\n",
       "  .table-result-container {\n",
       "    max-height: 300px;\n",
       "    overflow: auto;\n",
       "  }\n",
       "  table, th, td {\n",
       "    border: 1px solid black;\n",
       "    border-collapse: collapse;\n",
       "  }\n",
       "  th, td {\n",
       "    padding: 5px;\n",
       "  }\n",
       "  th {\n",
       "    text-align: left;\n",
       "  }\n",
       "</style><div class='table-result-container'><table class='table-result'><thead style='background-color: white'><tr><th>Customer Id</th><th>Name</th><th>Email Id</th><th>address</th><th>gender</th><th>age</th><th>Joining Date</th><th>registered</th><th>order ID</th><th>orders</th><th>spent</th><th>job</th><th>hobbies</th><th>is_married</th></tr></thead><tbody><tr><td>amxjo131</td><td>Joseph Rice</td><td>josephrice131@slingacademy.com</td><td>91773 Miller Shoal Diaztown, FL 38841</td><td>male</td><td>43</td><td>07-12-2022 20:15</td><td>2019-05-05</td><td>null</td><td>7</td><td>568.29</td><td>Artist</td><td>Playing sports</td><td>false</td></tr><tr><td>amxga386</td><td>Gary Moore</td><td>garymoore386@slingacademy.com</td><td>6450 John Lodge Territon, KY 95945</td><td>male</td><td>71</td><td>07-12-2021 20:15</td><td>2020-05-20</td><td>null</td><td>11</td><td>568.92</td><td>Artist</td><td>Swimming</td><td>true</td></tr><tr><td>amxj944</td><td>John Walker</td><td>johnwalker944@slingacademy.com</td><td>27265 Murray Island Kevinfort, PA 63231</td><td>male</td><td>44</td><td>07-12-2022 20:15</td><td>2020-04-04</td><td>null</td><td>11</td><td>497.12</td><td>Clerk</td><td>Painting</td><td>false</td></tr><tr><td>amxer176</td><td>Eric Carter</td><td>ericcarter176@slingacademy.com</td><td>USNS Knight FPO AA 76532</td><td>male</td><td>38</td><td>07-12-2022 20:15</td><td>2019-01-30</td><td>null</td><td>17</td><td>834.6</td><td>Butcher</td><td>Playing musical instruments</td><td>false</td></tr><tr><td>amxwi427</td><td>William Jackson</td><td>williamjackson427@slingacademy.com</td><td>170 Jackson Loaf Kristenland, AS 48876</td><td>male</td><td>58</td><td>10-12-2022 20:15</td><td>2022-07-01</td><td>null</td><td>14</td><td>151.59</td><td>Engineer</td><td>Reading</td><td>false</td></tr><tr><td>amxni228</td><td>Nicole Jones</td><td>nicolejones228@slingacademy.com</td><td>14354 Baker Harbor Apt. 017 Ericville, HI 11192</td><td>female</td><td>33</td><td>07-12-2022 20:15</td><td>2021-08-07</td><td>null</td><td>19</td><td>33.17</td><td>Unemployed</td><td>Running</td><td>true</td></tr><tr><td>amxda980</td><td>David Davis</td><td>daviddavis980@slingacademy.com</td><td>021 Katherine Mall Jameston, DC 24685</td><td>male</td><td>59</td><td>07-12-2022 20:15</td><td>2022-06-16</td><td>null</td><td>9</td><td>970.96</td><td>Doctor</td><td>Playing sports</td><td>false</td></tr><tr><td>amxja889</td><td>Jason Montgomery</td><td>jasonmontgomery889@slingacademy.com</td><td>14657 Scott Loop Apt. 735 Port Ashley, NH 34470</td><td>male</td><td>58</td><td>07-12-2023 20:15</td><td>2021-11-13</td><td>null</td><td>12</td><td>676.2</td><td>Waitress</td><td>Collecting</td><td>false</td></tr><tr><td>amxke695</td><td>Kent Weaver</td><td>kentweaver695@slingacademy.com</td><td>6644 Mitchell Burg Victorhaven, KS 66356</td><td>male</td><td>61</td><td>07-01-2022 20:15</td><td>2023-06-11</td><td>null</td><td>1</td><td>674.37</td><td>Clerk</td><td>Hiking</td><td>false</td></tr><tr><td>amxda573</td><td>Darrell Dillon</td><td>darrelldillon573@slingacademy.com</td><td>PSC 7267, Box 9911 APO AE 49343</td><td>male</td><td>50</td><td>07-0-2022 20:15</td><td>2022-09-13</td><td>null</td><td>12</td><td>750.72</td><td>Dentist</td><td>Watching movies</td><td>false</td></tr><tr><td>amxja322</td><td>Jacqueline Wang</td><td>jacquelinewang322@slingacademy.com</td><td>16963 Stewart Curve Suite 27 South Cameron, ND 25136</td><td>female</td><td>22</td><td>07-12-2022 20:15</td><td>2023-02-08</td><td>null</td><td>12</td><td>962.47</td><td>Housewife</td><td>Collecting</td><td>false</td></tr><tr><td>amxjo185</td><td>Jodi Gonzalez</td><td>jodigonzalez185@slingacademy.com</td><td>378 Johnson Oval South Stacie, RI 76332</td><td>female</td><td>69</td><td>07-12-2022 20:15</td><td>2021-06-25</td><td>null</td><td>12</td><td>68.67</td><td>Baker</td><td>Photography</td><td>false</td></tr><tr><td>amxom769</td><td>Omar Martin</td><td>omarmartin769@slingacademy.com</td><td>Unit 9103 Box 4771 DPO AA 16592</td><td>male</td><td>28</td><td>07-12-2022 20:15</td><td>2023-05-28</td><td>null</td><td>3</td><td>162.58</td><td>Doctor</td><td>Gardening</td><td>true</td></tr><tr><td>amxni473</td><td>Nicole Lara</td><td>nicolelara473@slingacademy.com</td><td>9822 Lisa Courts Johnhaven, IL 80438</td><td>female</td><td>77</td><td>07-01-2022 20:15</td><td>2023-03-03</td><td>null</td><td>17</td><td>309.81</td><td>Janitor</td><td>Hiking</td><td>true</td></tr><tr><td>amxja753</td><td>Jason Brown</td><td>jasonbrown753@slingacademy.com</td><td>7310 Romero Summit East Scotttown, DC 53183</td><td>male</td><td>63</td><td>07-14-2022  20:15:39</td><td>2022-12-05</td><td>null</td><td>13</td><td>763.27</td><td>Lawyer</td><td>Fishing</td><td>true</td></tr><tr><td>amxda257</td><td>David Benson</td><td>davidbenson257@slingacademy.com</td><td>444 Derek Summit Lisaborough, WA 20685</td><td>male</td><td>61</td><td>07-12-2022 20:15</td><td>2022-04-15</td><td>null</td><td>17</td><td>111.11</td><td>Lawyer</td><td>Meditation</td><td>true</td></tr><tr><td>amxki513</td><td>Kimberly Mora</td><td>kimberlymora513@slingacademy.com</td><td>7679 Perry Square West Amybury, RI 15144</td><td>female</td><td>34</td><td>07-12-2022 20:15</td><td>2019-05-19</td><td>null</td><td>10</td><td>208.46</td><td>Farmer</td><td>Collecting</td><td>false</td></tr><tr><td>amxer904</td><td>Erik Macias</td><td>erikmacias904@wingacademy.com</td><td>568 Christopher Tunnel Toddburgh, DE 86966</td><td>male</td><td>25</td><td>07-12-2022 20:15</td><td>2020-04-18</td><td>null</td><td>8</td><td>439.53</td><td>Accountant</td><td>Fishing</td><td>false</td></tr><tr><td>amxja681</td><td>James Johnson</td><td>jamesjohnson681@wingacademy.com</td><td>19870 Sean Parkway North Jamesfurt, NC 28950</td><td>male</td><td>67</td><td>07-08-2022 20:15</td><td>2019-02-17</td><td>null</td><td>5</td><td>394.95</td><td>Security Guard</td><td>Watching movies</td><td>false</td></tr><tr><td>amxde324</td><td>Derek Peterson</td><td>derekpeterson324@wingacademy.com</td><td>70830 Jonathan Pine Wilcoxburgh, MI 38265</td><td>male</td><td>36</td><td>07-12-2022 20:15</td><td>2020-12-15</td><td>null</td><td>2</td><td>153.8</td><td>Architect</td><td>Photography</td><td>true</td></tr><tr><td>amxdi438</td><td>Diane Henson</td><td>dianehenson438@wingacademy.com</td><td>86382 Baker Ports Apt. 074 Cookfurt, NM 54313</td><td>female</td><td>74</td><td>07-12-2022 20:15</td><td>2020-03-21</td><td>null</td><td>19</td><td>62.52</td><td>Butcher</td><td>Playing musical instruments</td><td>false</td></tr><tr><td>amxco721</td><td>Cody Lyons</td><td>codylyons721@wingacademy.com</td><td>60971 Carrillo Square Suite 141 New Kimberlybury, AS 02128</td><td>male</td><td>47</td><td>07-12-2022 20:15</td><td>2019-11-25</td><td>null</td><td>14</td><td>43.17</td><td>Baker</td><td>Hunting</td><td>false</td></tr><tr><td>amxma249</td><td>Margaret Hardy</td><td>margarethardy249@wingacademy.com</td><td>2900 Sandra Villages Apt. 985 Phillipsstad, NH 19830</td><td>female</td><td>25</td><td>07-12-2022 20:15</td><td>2021-07-17</td><td>null</td><td>9</td><td>455.27</td><td>Barber</td><td>Other</td><td>false</td></tr><tr><td>amxar881</td><td>Arthur Hayes</td><td>arthurhayes881@wingacademy.com</td><td>353 Elizabeth Forest Deannachester, NM 66952</td><td>male</td><td>75</td><td>07-15-2022  20:15:39</td><td>2021-04-01</td><td>null</td><td>6</td><td>749.78</td><td>Chef</td><td>Sewing</td><td>false</td></tr><tr><td>amxra702</td><td>Raymond Taylor</td><td>raymondtaylor702@wingacademy.com</td><td>07867 John Mills Apt. 985 Tinaville, ID 59142</td><td>male</td><td>36</td><td>07-12-2022 20:15</td><td>2021-09-24</td><td>null</td><td>6</td><td>125.18</td><td>Butcher</td><td>Playing musical instruments</td><td>false</td></tr><tr><td>amxti476</td><td>Tina Moore</td><td>tinamoore476@wingacademy.com</td><td>50984 Shelly Pass Port Nicholas, SC 48629</td><td>female</td><td>34</td><td>07-12-2022 20:15</td><td>2020-07-15</td><td>null</td><td>17</td><td>888.53</td><td>Chef</td><td>Running</td><td>false</td></tr><tr><td>amxky170</td><td>Kylie White</td><td>kyliewhite170@wingacademy.com</td><td>5004 Christine Falls Suite 217 Jasonburgh, NJ 75688</td><td>female</td><td>63</td><td>07-12-2022 20:15</td><td>2020-02-03</td><td>null</td><td>6</td><td>872.18</td><td>Janitor</td><td>Reading</td><td>true</td></tr><tr><td>amxjo648</td><td>Jonathan Manning</td><td>jonathanmanning648@wingacademy.com</td><td>1501 Gregory Glens Suite 940 Stephensstad, GU 55206</td><td>male</td><td>30</td><td>07-12-2022 20:15</td><td>2022-01-21</td><td>null</td><td>0</td><td>178.54</td><td>Librarian</td><td>Playing sports</td><td>false</td></tr><tr><td>amxan256</td><td>Angela Bryant</td><td>angelabryant256@wingacademy.com</td><td>01454 Christopher Turnpike North Ryanstad, MI 36226</td><td>female</td><td>23</td><td>07-12-2022 20:15</td><td>2019-09-11</td><td>null</td><td>3</td><td>525.2</td><td>Politician</td><td>Cycling</td><td>false</td></tr></tbody></table></div>"
      ]
     },
     "metadata": {
      "application/vnd.databricks.v1+output": {
       "addedWidgets": {},
       "aggData": [],
       "aggError": "",
       "aggOverflow": false,
       "aggSchema": [],
       "aggSeriesLimitReached": false,
       "aggType": "",
       "arguments": {},
       "columnCustomDisplayInfos": {},
       "data": [
        [
         "amxjo131",
         "Joseph Rice",
         "josephrice131@slingacademy.com",
         "91773 Miller Shoal Diaztown, FL 38841",
         "male",
         43,
         "07-12-2022 20:15",
         "2019-05-05",
         null,
         7,
         568.29,
         "Artist",
         "Playing sports",
         false
        ],
        [
         "amxga386",
         "Gary Moore",
         "garymoore386@slingacademy.com",
         "6450 John Lodge Territon, KY 95945",
         "male",
         71,
         "07-12-2021 20:15",
         "2020-05-20",
         null,
         11,
         568.92,
         "Artist",
         "Swimming",
         true
        ],
        [
         "amxj944",
         "John Walker",
         "johnwalker944@slingacademy.com",
         "27265 Murray Island Kevinfort, PA 63231",
         "male",
         44,
         "07-12-2022 20:15",
         "2020-04-04",
         null,
         11,
         497.12,
         "Clerk",
         "Painting",
         false
        ],
        [
         "amxer176",
         "Eric Carter",
         "ericcarter176@slingacademy.com",
         "USNS Knight FPO AA 76532",
         "male",
         38,
         "07-12-2022 20:15",
         "2019-01-30",
         null,
         17,
         834.6,
         "Butcher",
         "Playing musical instruments",
         false
        ],
        [
         "amxwi427",
         "William Jackson",
         "williamjackson427@slingacademy.com",
         "170 Jackson Loaf Kristenland, AS 48876",
         "male",
         58,
         "10-12-2022 20:15",
         "2022-07-01",
         null,
         14,
         151.59,
         "Engineer",
         "Reading",
         false
        ],
        [
         "amxni228",
         "Nicole Jones",
         "nicolejones228@slingacademy.com",
         "14354 Baker Harbor Apt. 017 Ericville, HI 11192",
         "female",
         33,
         "07-12-2022 20:15",
         "2021-08-07",
         null,
         19,
         33.17,
         "Unemployed",
         "Running",
         true
        ],
        [
         "amxda980",
         "David Davis",
         "daviddavis980@slingacademy.com",
         "021 Katherine Mall Jameston, DC 24685",
         "male",
         59,
         "07-12-2022 20:15",
         "2022-06-16",
         null,
         9,
         970.96,
         "Doctor",
         "Playing sports",
         false
        ],
        [
         "amxja889",
         "Jason Montgomery",
         "jasonmontgomery889@slingacademy.com",
         "14657 Scott Loop Apt. 735 Port Ashley, NH 34470",
         "male",
         58,
         "07-12-2023 20:15",
         "2021-11-13",
         null,
         12,
         676.2,
         "Waitress",
         "Collecting",
         false
        ],
        [
         "amxke695",
         "Kent Weaver",
         "kentweaver695@slingacademy.com",
         "6644 Mitchell Burg Victorhaven, KS 66356",
         "male",
         61,
         "07-01-2022 20:15",
         "2023-06-11",
         null,
         1,
         674.37,
         "Clerk",
         "Hiking",
         false
        ],
        [
         "amxda573",
         "Darrell Dillon",
         "darrelldillon573@slingacademy.com",
         "PSC 7267, Box 9911 APO AE 49343",
         "male",
         50,
         "07-0-2022 20:15",
         "2022-09-13",
         null,
         12,
         750.72,
         "Dentist",
         "Watching movies",
         false
        ],
        [
         "amxja322",
         "Jacqueline Wang",
         "jacquelinewang322@slingacademy.com",
         "16963 Stewart Curve Suite 27 South Cameron, ND 25136",
         "female",
         22,
         "07-12-2022 20:15",
         "2023-02-08",
         null,
         12,
         962.47,
         "Housewife",
         "Collecting",
         false
        ],
        [
         "amxjo185",
         "Jodi Gonzalez",
         "jodigonzalez185@slingacademy.com",
         "378 Johnson Oval South Stacie, RI 76332",
         "female",
         69,
         "07-12-2022 20:15",
         "2021-06-25",
         null,
         12,
         68.67,
         "Baker",
         "Photography",
         false
        ],
        [
         "amxom769",
         "Omar Martin",
         "omarmartin769@slingacademy.com",
         "Unit 9103 Box 4771 DPO AA 16592",
         "male",
         28,
         "07-12-2022 20:15",
         "2023-05-28",
         null,
         3,
         162.58,
         "Doctor",
         "Gardening",
         true
        ],
        [
         "amxni473",
         "Nicole Lara",
         "nicolelara473@slingacademy.com",
         "9822 Lisa Courts Johnhaven, IL 80438",
         "female",
         77,
         "07-01-2022 20:15",
         "2023-03-03",
         null,
         17,
         309.81,
         "Janitor",
         "Hiking",
         true
        ],
        [
         "amxja753",
         "Jason Brown",
         "jasonbrown753@slingacademy.com",
         "7310 Romero Summit East Scotttown, DC 53183",
         "male",
         63,
         "07-14-2022  20:15:39",
         "2022-12-05",
         null,
         13,
         763.27,
         "Lawyer",
         "Fishing",
         true
        ],
        [
         "amxda257",
         "David Benson",
         "davidbenson257@slingacademy.com",
         "444 Derek Summit Lisaborough, WA 20685",
         "male",
         61,
         "07-12-2022 20:15",
         "2022-04-15",
         null,
         17,
         111.11,
         "Lawyer",
         "Meditation",
         true
        ],
        [
         "amxki513",
         "Kimberly Mora",
         "kimberlymora513@slingacademy.com",
         "7679 Perry Square West Amybury, RI 15144",
         "female",
         34,
         "07-12-2022 20:15",
         "2019-05-19",
         null,
         10,
         208.46,
         "Farmer",
         "Collecting",
         false
        ],
        [
         "amxer904",
         "Erik Macias",
         "erikmacias904@wingacademy.com",
         "568 Christopher Tunnel Toddburgh, DE 86966",
         "male",
         25,
         "07-12-2022 20:15",
         "2020-04-18",
         null,
         8,
         439.53,
         "Accountant",
         "Fishing",
         false
        ],
        [
         "amxja681",
         "James Johnson",
         "jamesjohnson681@wingacademy.com",
         "19870 Sean Parkway North Jamesfurt, NC 28950",
         "male",
         67,
         "07-08-2022 20:15",
         "2019-02-17",
         null,
         5,
         394.95,
         "Security Guard",
         "Watching movies",
         false
        ],
        [
         "amxde324",
         "Derek Peterson",
         "derekpeterson324@wingacademy.com",
         "70830 Jonathan Pine Wilcoxburgh, MI 38265",
         "male",
         36,
         "07-12-2022 20:15",
         "2020-12-15",
         null,
         2,
         153.8,
         "Architect",
         "Photography",
         true
        ],
        [
         "amxdi438",
         "Diane Henson",
         "dianehenson438@wingacademy.com",
         "86382 Baker Ports Apt. 074 Cookfurt, NM 54313",
         "female",
         74,
         "07-12-2022 20:15",
         "2020-03-21",
         null,
         19,
         62.52,
         "Butcher",
         "Playing musical instruments",
         false
        ],
        [
         "amxco721",
         "Cody Lyons",
         "codylyons721@wingacademy.com",
         "60971 Carrillo Square Suite 141 New Kimberlybury, AS 02128",
         "male",
         47,
         "07-12-2022 20:15",
         "2019-11-25",
         null,
         14,
         43.17,
         "Baker",
         "Hunting",
         false
        ],
        [
         "amxma249",
         "Margaret Hardy",
         "margarethardy249@wingacademy.com",
         "2900 Sandra Villages Apt. 985 Phillipsstad, NH 19830",
         "female",
         25,
         "07-12-2022 20:15",
         "2021-07-17",
         null,
         9,
         455.27,
         "Barber",
         "Other",
         false
        ],
        [
         "amxar881",
         "Arthur Hayes",
         "arthurhayes881@wingacademy.com",
         "353 Elizabeth Forest Deannachester, NM 66952",
         "male",
         75,
         "07-15-2022  20:15:39",
         "2021-04-01",
         null,
         6,
         749.78,
         "Chef",
         "Sewing",
         false
        ],
        [
         "amxra702",
         "Raymond Taylor",
         "raymondtaylor702@wingacademy.com",
         "07867 John Mills Apt. 985 Tinaville, ID 59142",
         "male",
         36,
         "07-12-2022 20:15",
         "2021-09-24",
         null,
         6,
         125.18,
         "Butcher",
         "Playing musical instruments",
         false
        ],
        [
         "amxti476",
         "Tina Moore",
         "tinamoore476@wingacademy.com",
         "50984 Shelly Pass Port Nicholas, SC 48629",
         "female",
         34,
         "07-12-2022 20:15",
         "2020-07-15",
         null,
         17,
         888.53,
         "Chef",
         "Running",
         false
        ],
        [
         "amxky170",
         "Kylie White",
         "kyliewhite170@wingacademy.com",
         "5004 Christine Falls Suite 217 Jasonburgh, NJ 75688",
         "female",
         63,
         "07-12-2022 20:15",
         "2020-02-03",
         null,
         6,
         872.18,
         "Janitor",
         "Reading",
         true
        ],
        [
         "amxjo648",
         "Jonathan Manning",
         "jonathanmanning648@wingacademy.com",
         "1501 Gregory Glens Suite 940 Stephensstad, GU 55206",
         "male",
         30,
         "07-12-2022 20:15",
         "2022-01-21",
         null,
         0,
         178.54,
         "Librarian",
         "Playing sports",
         false
        ],
        [
         "amxan256",
         "Angela Bryant",
         "angelabryant256@wingacademy.com",
         "01454 Christopher Turnpike North Ryanstad, MI 36226",
         "female",
         23,
         "07-12-2022 20:15",
         "2019-09-11",
         null,
         3,
         525.2,
         "Politician",
         "Cycling",
         false
        ]
       ],
       "datasetInfos": [],
       "dbfsResultPath": null,
       "isJsonSchema": true,
       "metadata": {},
       "overflow": false,
       "plotOptions": {
        "customPlotOptions": {},
        "displayType": "table",
        "pivotAggregation": null,
        "pivotColumns": null,
        "xColumns": null,
        "yColumns": null
       },
       "removedWidgets": [],
       "schema": [
        {
         "metadata": "{}",
         "name": "Customer Id",
         "type": "\"string\""
        },
        {
         "metadata": "{}",
         "name": "Name",
         "type": "\"string\""
        },
        {
         "metadata": "{}",
         "name": "Email Id",
         "type": "\"string\""
        },
        {
         "metadata": "{}",
         "name": "address",
         "type": "\"string\""
        },
        {
         "metadata": "{}",
         "name": "gender",
         "type": "\"string\""
        },
        {
         "metadata": "{}",
         "name": "age",
         "type": "\"integer\""
        },
        {
         "metadata": "{}",
         "name": "Joining Date",
         "type": "\"string\""
        },
        {
         "metadata": "{\"__detected_date_formats\":\"d-M-yyyy\"}",
         "name": "registered",
         "type": "\"date\""
        },
        {
         "metadata": "{}",
         "name": "order ID",
         "type": "\"string\""
        },
        {
         "metadata": "{}",
         "name": "orders",
         "type": "\"integer\""
        },
        {
         "metadata": "{}",
         "name": "spent",
         "type": "\"double\""
        },
        {
         "metadata": "{}",
         "name": "job",
         "type": "\"string\""
        },
        {
         "metadata": "{}",
         "name": "hobbies",
         "type": "\"string\""
        },
        {
         "metadata": "{}",
         "name": "is_married",
         "type": "\"boolean\""
        }
       ],
       "type": "table"
      }
     },
     "output_type": "display_data"
    }
   ],
   "source": [
    "df.display()"
   ]
  },
  {
   "cell_type": "code",
   "execution_count": 0,
   "metadata": {
    "application/vnd.databricks.v1+cell": {
     "cellMetadata": {
      "byteLimit": 2048000,
      "rowLimit": 10000
     },
     "inputWidgets": {},
     "nuid": "2a166e91-593f-498c-8ceb-2010f73514fa",
     "showTitle": false,
     "title": ""
    }
   },
   "outputs": [
    {
     "output_type": "display_data",
     "data": {
      "text/html": [
       "<style scoped>\n",
       "  .table-result-container {\n",
       "    max-height: 300px;\n",
       "    overflow: auto;\n",
       "  }\n",
       "  table, th, td {\n",
       "    border: 1px solid black;\n",
       "    border-collapse: collapse;\n",
       "  }\n",
       "  th, td {\n",
       "    padding: 5px;\n",
       "  }\n",
       "  th {\n",
       "    text-align: left;\n",
       "  }\n",
       "</style><div class='table-result-container'><table class='table-result'><thead style='background-color: white'><tr><th>Customer Id</th><th>Name</th><th>Email Id</th><th>address</th><th>gender</th><th>age</th><th>Joining Date</th><th>registered</th><th>order ID</th><th>orders</th><th>spent</th><th>job</th><th>hobbies</th><th>is_married</th></tr></thead><tbody><tr><td>amxjo131</td><td>Joseph Rice</td><td>josephrice131@slingacademy.com</td><td>91773 Miller Shoal Diaztown, FL 38841</td><td>male</td><td>43</td><td>07-12-2022 20:15</td><td>05-05-2019</td><td>null</td><td>7</td><td>568.29</td><td>Artist</td><td>Playing sports</td><td>FALSE</td></tr><tr><td>amxga386</td><td>Gary Moore</td><td>garymoore386@slingacademy.com</td><td>6450 John Lodge Territon, KY 95945</td><td>male</td><td>71</td><td>07-12-2021 20:15</td><td>20-05-2020</td><td>null</td><td>11</td><td>568.92</td><td>Artist</td><td>Swimming</td><td>TRUE</td></tr><tr><td>amxj944</td><td>John Walker</td><td>johnwalker944@slingacademy.com</td><td>27265 Murray Island Kevinfort, PA 63231</td><td>male</td><td>44</td><td>07-12-2022 20:15</td><td>04-04-2020</td><td>null</td><td>11</td><td>497.12</td><td>Clerk</td><td>Painting</td><td>FALSE</td></tr><tr><td>amxer176</td><td>Eric Carter</td><td>ericcarter176@slingacademy.com</td><td>USNS Knight FPO AA 76532</td><td>male</td><td>38</td><td>07-12-2022 20:15</td><td>30-01-2019</td><td>null</td><td>17</td><td>834.6</td><td>Butcher</td><td>Playing musical instruments</td><td>FALSE</td></tr><tr><td>amxwi427</td><td>William Jackson</td><td>williamjackson427@slingacademy.com</td><td>170 Jackson Loaf Kristenland, AS 48876</td><td>male</td><td>58</td><td>10-12-2022 20:15</td><td>01-07-2022</td><td>null</td><td>14</td><td>151.59</td><td>Engineer</td><td>Reading</td><td>FALSE</td></tr><tr><td>amxni228</td><td>Nicole Jones</td><td>nicolejones228@slingacademy.com</td><td>14354 Baker Harbor Apt. 017 Ericville, HI 11192</td><td>female</td><td>33</td><td>07-12-2022 20:15</td><td>07-08-2021</td><td>null</td><td>19</td><td>33.17</td><td>Unemployed</td><td>Running</td><td>TRUE</td></tr><tr><td>amxda980</td><td>David Davis</td><td>daviddavis980@slingacademy.com</td><td>021 Katherine Mall Jameston, DC 24685</td><td>male</td><td>59</td><td>07-12-2022 20:15</td><td>16-06-2022</td><td>null</td><td>9</td><td>970.96</td><td>Doctor</td><td>Playing sports</td><td>FALSE</td></tr><tr><td>amxja889</td><td>Jason Montgomery</td><td>jasonmontgomery889@slingacademy.com</td><td>14657 Scott Loop Apt. 735 Port Ashley, NH 34470</td><td>male</td><td>58</td><td>07-12-2023 20:15</td><td>13-11-2021</td><td>null</td><td>12</td><td>676.2</td><td>Waitress</td><td>Collecting</td><td>FALSE</td></tr><tr><td>amxke695</td><td>Kent Weaver</td><td>kentweaver695@slingacademy.com</td><td>6644 Mitchell Burg Victorhaven, KS 66356</td><td>male</td><td>61</td><td>07-01-2022 20:15</td><td>11-06-2023</td><td>null</td><td>1</td><td>674.37</td><td>Clerk</td><td>Hiking</td><td>FALSE</td></tr><tr><td>amxda573</td><td>Darrell Dillon</td><td>darrelldillon573@slingacademy.com</td><td>PSC 7267, Box 9911 APO AE 49343</td><td>male</td><td>50</td><td>07-0-2022 20:15</td><td>13-09-2022</td><td>null</td><td>12</td><td>750.72</td><td>Dentist</td><td>Watching movies</td><td>FALSE</td></tr><tr><td>amxja322</td><td>Jacqueline Wang</td><td>jacquelinewang322@slingacademy.com</td><td>16963 Stewart Curve Suite 27 South Cameron, ND 25136</td><td>female</td><td>22</td><td>07-12-2022 20:15</td><td>08-02-2023</td><td>null</td><td>12</td><td>962.47</td><td>Housewife</td><td>Collecting</td><td>FALSE</td></tr><tr><td>amxjo185</td><td>Jodi Gonzalez</td><td>jodigonzalez185@slingacademy.com</td><td>378 Johnson Oval South Stacie, RI 76332</td><td>female</td><td>69</td><td>07-12-2022 20:15</td><td>25-06-2021</td><td>null</td><td>12</td><td>68.67</td><td>Baker</td><td>Photography</td><td>FALSE</td></tr><tr><td>amxom769</td><td>Omar Martin</td><td>omarmartin769@slingacademy.com</td><td>Unit 9103 Box 4771 DPO AA 16592</td><td>male</td><td>28</td><td>07-12-2022 20:15</td><td>28-05-2023</td><td>null</td><td>3</td><td>162.58</td><td>Doctor</td><td>Gardening</td><td>TRUE</td></tr><tr><td>amxni473</td><td>Nicole Lara</td><td>nicolelara473@slingacademy.com</td><td>9822 Lisa Courts Johnhaven, IL 80438</td><td>female</td><td>77</td><td>07-01-2022 20:15</td><td>03-03-2023</td><td>null</td><td>17</td><td>309.81</td><td>Janitor</td><td>Hiking</td><td>TRUE</td></tr><tr><td>amxja753</td><td>Jason Brown</td><td>jasonbrown753@slingacademy.com</td><td>7310 Romero Summit East Scotttown, DC 53183</td><td>male</td><td>63</td><td>07-14-2022  20:15:39</td><td>05-12-2022</td><td>null</td><td>13</td><td>763.27</td><td>Lawyer</td><td>Fishing</td><td>TRUE</td></tr><tr><td>amxda257</td><td>David Benson</td><td>davidbenson257@slingacademy.com</td><td>444 Derek Summit Lisaborough, WA 20685</td><td>male</td><td>61</td><td>07-12-2022 20:15</td><td>15-04-2022</td><td>null</td><td>17</td><td>111.11</td><td>Lawyer</td><td>Meditation</td><td>TRUE</td></tr><tr><td>amxki513</td><td>Kimberly Mora</td><td>kimberlymora513@slingacademy.com</td><td>7679 Perry Square West Amybury, RI 15144</td><td>female</td><td>34</td><td>07-12-2022 20:15</td><td>19-05-2019</td><td>null</td><td>10</td><td>208.46</td><td>Farmer</td><td>Collecting</td><td>FALSE</td></tr><tr><td>amxer904</td><td>Erik Macias</td><td>erikmacias904@wingacademy.com</td><td>568 Christopher Tunnel Toddburgh, DE 86966</td><td>male</td><td>25</td><td>07-12-2022 20:15</td><td>18-04-2020</td><td>null</td><td>8</td><td>439.53</td><td>Accountant</td><td>Fishing</td><td>FALSE</td></tr><tr><td>amxja681</td><td>James Johnson</td><td>jamesjohnson681@wingacademy.com</td><td>19870 Sean Parkway North Jamesfurt, NC 28950</td><td>male</td><td>67</td><td>07-08-2022 20:15</td><td>17-02-2019</td><td>null</td><td>5</td><td>394.95</td><td>Security Guard</td><td>Watching movies</td><td>FALSE</td></tr><tr><td>amxde324</td><td>Derek Peterson</td><td>derekpeterson324@wingacademy.com</td><td>70830 Jonathan Pine Wilcoxburgh, MI 38265</td><td>male</td><td>36</td><td>07-12-2022 20:15</td><td>15-12-2020</td><td>null</td><td>2</td><td>153.8</td><td>Architect</td><td>Photography</td><td>TRUE</td></tr><tr><td>amxdi438</td><td>Diane Henson</td><td>dianehenson438@wingacademy.com</td><td>86382 Baker Ports Apt. 074 Cookfurt, NM 54313</td><td>female</td><td>74</td><td>07-12-2022 20:15</td><td>21-03-2020</td><td>null</td><td>19</td><td>62.52</td><td>Butcher</td><td>Playing musical instruments</td><td>FALSE</td></tr><tr><td>amxco721</td><td>Cody Lyons</td><td>codylyons721@wingacademy.com</td><td>60971 Carrillo Square Suite 141 New Kimberlybury, AS 02128</td><td>male</td><td>47</td><td>07-12-2022 20:15</td><td>25-11-2019</td><td>null</td><td>14</td><td>43.17</td><td>Baker</td><td>Hunting</td><td>FALSE</td></tr><tr><td>amxma249</td><td>Margaret Hardy</td><td>margarethardy249@wingacademy.com</td><td>2900 Sandra Villages Apt. 985 Phillipsstad, NH 19830</td><td>female</td><td>25</td><td>07-12-2022 20:15</td><td>17-07-2021</td><td>null</td><td>9</td><td>455.27</td><td>Barber</td><td>Other</td><td>FALSE</td></tr><tr><td>amxar881</td><td>Arthur Hayes</td><td>arthurhayes881@wingacademy.com</td><td>353 Elizabeth Forest Deannachester, NM 66952</td><td>male</td><td>75</td><td>07-15-2022  20:15:39</td><td>01-04-2021</td><td>null</td><td>6</td><td>749.78</td><td>Chef</td><td>Sewing</td><td>FALSE</td></tr><tr><td>amxra702</td><td>Raymond Taylor</td><td>raymondtaylor702@wingacademy.com</td><td>07867 John Mills Apt. 985 Tinaville, ID 59142</td><td>male</td><td>36</td><td>07-12-2022 20:15</td><td>24-09-2021</td><td>null</td><td>6</td><td>125.18</td><td>Butcher</td><td>Playing musical instruments</td><td>FALSE</td></tr><tr><td>amxti476</td><td>Tina Moore</td><td>tinamoore476@wingacademy.com</td><td>50984 Shelly Pass Port Nicholas, SC 48629</td><td>female</td><td>34</td><td>07-12-2022 20:15</td><td>15-07-2020</td><td>null</td><td>17</td><td>888.53</td><td>Chef</td><td>Running</td><td>FALSE</td></tr><tr><td>amxky170</td><td>Kylie White</td><td>kyliewhite170@wingacademy.com</td><td>5004 Christine Falls Suite 217 Jasonburgh, NJ 75688</td><td>female</td><td>63</td><td>07-12-2022 20:15</td><td>03-02-2020</td><td>null</td><td>6</td><td>872.18</td><td>Janitor</td><td>Reading</td><td>TRUE</td></tr><tr><td>amxjo648</td><td>Jonathan Manning</td><td>jonathanmanning648@wingacademy.com</td><td>1501 Gregory Glens Suite 940 Stephensstad, GU 55206</td><td>male</td><td>30</td><td>07-12-2022 20:15</td><td>21-01-2022</td><td>null</td><td>0</td><td>178.54</td><td>Librarian</td><td>Playing sports</td><td>FALSE</td></tr><tr><td>amxan256</td><td>Angela Bryant</td><td>angelabryant256@wingacademy.com</td><td>01454 Christopher Turnpike North Ryanstad, MI 36226</td><td>female</td><td>23</td><td>07-12-2022 20:15</td><td>11-09-2019</td><td>null</td><td>3</td><td>525.2</td><td>Politician</td><td>Cycling</td><td>FALSE</td></tr></tbody></table></div>"
      ]
     },
     "metadata": {
      "application/vnd.databricks.v1+output": {
       "addedWidgets": {},
       "aggData": [],
       "aggError": "",
       "aggOverflow": false,
       "aggSchema": [],
       "aggSeriesLimitReached": false,
       "aggType": "",
       "arguments": {},
       "columnCustomDisplayInfos": {},
       "data": [
        [
         "amxjo131",
         "Joseph Rice",
         "josephrice131@slingacademy.com",
         "91773 Miller Shoal Diaztown, FL 38841",
         "male",
         "43",
         "07-12-2022 20:15",
         "05-05-2019",
         null,
         "7",
         "568.29",
         "Artist",
         "Playing sports",
         "FALSE"
        ],
        [
         "amxga386",
         "Gary Moore",
         "garymoore386@slingacademy.com",
         "6450 John Lodge Territon, KY 95945",
         "male",
         "71",
         "07-12-2021 20:15",
         "20-05-2020",
         null,
         "11",
         "568.92",
         "Artist",
         "Swimming",
         "TRUE"
        ],
        [
         "amxj944",
         "John Walker",
         "johnwalker944@slingacademy.com",
         "27265 Murray Island Kevinfort, PA 63231",
         "male",
         "44",
         "07-12-2022 20:15",
         "04-04-2020",
         null,
         "11",
         "497.12",
         "Clerk",
         "Painting",
         "FALSE"
        ],
        [
         "amxer176",
         "Eric Carter",
         "ericcarter176@slingacademy.com",
         "USNS Knight FPO AA 76532",
         "male",
         "38",
         "07-12-2022 20:15",
         "30-01-2019",
         null,
         "17",
         "834.6",
         "Butcher",
         "Playing musical instruments",
         "FALSE"
        ],
        [
         "amxwi427",
         "William Jackson",
         "williamjackson427@slingacademy.com",
         "170 Jackson Loaf Kristenland, AS 48876",
         "male",
         "58",
         "10-12-2022 20:15",
         "01-07-2022",
         null,
         "14",
         "151.59",
         "Engineer",
         "Reading",
         "FALSE"
        ],
        [
         "amxni228",
         "Nicole Jones",
         "nicolejones228@slingacademy.com",
         "14354 Baker Harbor Apt. 017 Ericville, HI 11192",
         "female",
         "33",
         "07-12-2022 20:15",
         "07-08-2021",
         null,
         "19",
         "33.17",
         "Unemployed",
         "Running",
         "TRUE"
        ],
        [
         "amxda980",
         "David Davis",
         "daviddavis980@slingacademy.com",
         "021 Katherine Mall Jameston, DC 24685",
         "male",
         "59",
         "07-12-2022 20:15",
         "16-06-2022",
         null,
         "9",
         "970.96",
         "Doctor",
         "Playing sports",
         "FALSE"
        ],
        [
         "amxja889",
         "Jason Montgomery",
         "jasonmontgomery889@slingacademy.com",
         "14657 Scott Loop Apt. 735 Port Ashley, NH 34470",
         "male",
         "58",
         "07-12-2023 20:15",
         "13-11-2021",
         null,
         "12",
         "676.2",
         "Waitress",
         "Collecting",
         "FALSE"
        ],
        [
         "amxke695",
         "Kent Weaver",
         "kentweaver695@slingacademy.com",
         "6644 Mitchell Burg Victorhaven, KS 66356",
         "male",
         "61",
         "07-01-2022 20:15",
         "11-06-2023",
         null,
         "1",
         "674.37",
         "Clerk",
         "Hiking",
         "FALSE"
        ],
        [
         "amxda573",
         "Darrell Dillon",
         "darrelldillon573@slingacademy.com",
         "PSC 7267, Box 9911 APO AE 49343",
         "male",
         "50",
         "07-0-2022 20:15",
         "13-09-2022",
         null,
         "12",
         "750.72",
         "Dentist",
         "Watching movies",
         "FALSE"
        ],
        [
         "amxja322",
         "Jacqueline Wang",
         "jacquelinewang322@slingacademy.com",
         "16963 Stewart Curve Suite 27 South Cameron, ND 25136",
         "female",
         "22",
         "07-12-2022 20:15",
         "08-02-2023",
         null,
         "12",
         "962.47",
         "Housewife",
         "Collecting",
         "FALSE"
        ],
        [
         "amxjo185",
         "Jodi Gonzalez",
         "jodigonzalez185@slingacademy.com",
         "378 Johnson Oval South Stacie, RI 76332",
         "female",
         "69",
         "07-12-2022 20:15",
         "25-06-2021",
         null,
         "12",
         "68.67",
         "Baker",
         "Photography",
         "FALSE"
        ],
        [
         "amxom769",
         "Omar Martin",
         "omarmartin769@slingacademy.com",
         "Unit 9103 Box 4771 DPO AA 16592",
         "male",
         "28",
         "07-12-2022 20:15",
         "28-05-2023",
         null,
         "3",
         "162.58",
         "Doctor",
         "Gardening",
         "TRUE"
        ],
        [
         "amxni473",
         "Nicole Lara",
         "nicolelara473@slingacademy.com",
         "9822 Lisa Courts Johnhaven, IL 80438",
         "female",
         "77",
         "07-01-2022 20:15",
         "03-03-2023",
         null,
         "17",
         "309.81",
         "Janitor",
         "Hiking",
         "TRUE"
        ],
        [
         "amxja753",
         "Jason Brown",
         "jasonbrown753@slingacademy.com",
         "7310 Romero Summit East Scotttown, DC 53183",
         "male",
         "63",
         "07-14-2022  20:15:39",
         "05-12-2022",
         null,
         "13",
         "763.27",
         "Lawyer",
         "Fishing",
         "TRUE"
        ],
        [
         "amxda257",
         "David Benson",
         "davidbenson257@slingacademy.com",
         "444 Derek Summit Lisaborough, WA 20685",
         "male",
         "61",
         "07-12-2022 20:15",
         "15-04-2022",
         null,
         "17",
         "111.11",
         "Lawyer",
         "Meditation",
         "TRUE"
        ],
        [
         "amxki513",
         "Kimberly Mora",
         "kimberlymora513@slingacademy.com",
         "7679 Perry Square West Amybury, RI 15144",
         "female",
         "34",
         "07-12-2022 20:15",
         "19-05-2019",
         null,
         "10",
         "208.46",
         "Farmer",
         "Collecting",
         "FALSE"
        ],
        [
         "amxer904",
         "Erik Macias",
         "erikmacias904@wingacademy.com",
         "568 Christopher Tunnel Toddburgh, DE 86966",
         "male",
         "25",
         "07-12-2022 20:15",
         "18-04-2020",
         null,
         "8",
         "439.53",
         "Accountant",
         "Fishing",
         "FALSE"
        ],
        [
         "amxja681",
         "James Johnson",
         "jamesjohnson681@wingacademy.com",
         "19870 Sean Parkway North Jamesfurt, NC 28950",
         "male",
         "67",
         "07-08-2022 20:15",
         "17-02-2019",
         null,
         "5",
         "394.95",
         "Security Guard",
         "Watching movies",
         "FALSE"
        ],
        [
         "amxde324",
         "Derek Peterson",
         "derekpeterson324@wingacademy.com",
         "70830 Jonathan Pine Wilcoxburgh, MI 38265",
         "male",
         "36",
         "07-12-2022 20:15",
         "15-12-2020",
         null,
         "2",
         "153.8",
         "Architect",
         "Photography",
         "TRUE"
        ],
        [
         "amxdi438",
         "Diane Henson",
         "dianehenson438@wingacademy.com",
         "86382 Baker Ports Apt. 074 Cookfurt, NM 54313",
         "female",
         "74",
         "07-12-2022 20:15",
         "21-03-2020",
         null,
         "19",
         "62.52",
         "Butcher",
         "Playing musical instruments",
         "FALSE"
        ],
        [
         "amxco721",
         "Cody Lyons",
         "codylyons721@wingacademy.com",
         "60971 Carrillo Square Suite 141 New Kimberlybury, AS 02128",
         "male",
         "47",
         "07-12-2022 20:15",
         "25-11-2019",
         null,
         "14",
         "43.17",
         "Baker",
         "Hunting",
         "FALSE"
        ],
        [
         "amxma249",
         "Margaret Hardy",
         "margarethardy249@wingacademy.com",
         "2900 Sandra Villages Apt. 985 Phillipsstad, NH 19830",
         "female",
         "25",
         "07-12-2022 20:15",
         "17-07-2021",
         null,
         "9",
         "455.27",
         "Barber",
         "Other",
         "FALSE"
        ],
        [
         "amxar881",
         "Arthur Hayes",
         "arthurhayes881@wingacademy.com",
         "353 Elizabeth Forest Deannachester, NM 66952",
         "male",
         "75",
         "07-15-2022  20:15:39",
         "01-04-2021",
         null,
         "6",
         "749.78",
         "Chef",
         "Sewing",
         "FALSE"
        ],
        [
         "amxra702",
         "Raymond Taylor",
         "raymondtaylor702@wingacademy.com",
         "07867 John Mills Apt. 985 Tinaville, ID 59142",
         "male",
         "36",
         "07-12-2022 20:15",
         "24-09-2021",
         null,
         "6",
         "125.18",
         "Butcher",
         "Playing musical instruments",
         "FALSE"
        ],
        [
         "amxti476",
         "Tina Moore",
         "tinamoore476@wingacademy.com",
         "50984 Shelly Pass Port Nicholas, SC 48629",
         "female",
         "34",
         "07-12-2022 20:15",
         "15-07-2020",
         null,
         "17",
         "888.53",
         "Chef",
         "Running",
         "FALSE"
        ],
        [
         "amxky170",
         "Kylie White",
         "kyliewhite170@wingacademy.com",
         "5004 Christine Falls Suite 217 Jasonburgh, NJ 75688",
         "female",
         "63",
         "07-12-2022 20:15",
         "03-02-2020",
         null,
         "6",
         "872.18",
         "Janitor",
         "Reading",
         "TRUE"
        ],
        [
         "amxjo648",
         "Jonathan Manning",
         "jonathanmanning648@wingacademy.com",
         "1501 Gregory Glens Suite 940 Stephensstad, GU 55206",
         "male",
         "30",
         "07-12-2022 20:15",
         "21-01-2022",
         null,
         "0",
         "178.54",
         "Librarian",
         "Playing sports",
         "FALSE"
        ],
        [
         "amxan256",
         "Angela Bryant",
         "angelabryant256@wingacademy.com",
         "01454 Christopher Turnpike North Ryanstad, MI 36226",
         "female",
         "23",
         "07-12-2022 20:15",
         "11-09-2019",
         null,
         "3",
         "525.2",
         "Politician",
         "Cycling",
         "FALSE"
        ]
       ],
       "datasetInfos": [],
       "dbfsResultPath": null,
       "isJsonSchema": true,
       "metadata": {},
       "overflow": false,
       "plotOptions": {
        "customPlotOptions": {},
        "displayType": "table",
        "pivotAggregation": null,
        "pivotColumns": null,
        "xColumns": null,
        "yColumns": null
       },
       "removedWidgets": [],
       "schema": [
        {
         "metadata": "{}",
         "name": "Customer Id",
         "type": "\"string\""
        },
        {
         "metadata": "{}",
         "name": "Name",
         "type": "\"string\""
        },
        {
         "metadata": "{}",
         "name": "Email Id",
         "type": "\"string\""
        },
        {
         "metadata": "{}",
         "name": "address",
         "type": "\"string\""
        },
        {
         "metadata": "{}",
         "name": "gender",
         "type": "\"string\""
        },
        {
         "metadata": "{}",
         "name": "age",
         "type": "\"string\""
        },
        {
         "metadata": "{}",
         "name": "Joining Date",
         "type": "\"string\""
        },
        {
         "metadata": "{}",
         "name": "registered",
         "type": "\"string\""
        },
        {
         "metadata": "{}",
         "name": "order ID",
         "type": "\"string\""
        },
        {
         "metadata": "{}",
         "name": "orders",
         "type": "\"string\""
        },
        {
         "metadata": "{}",
         "name": "spent",
         "type": "\"string\""
        },
        {
         "metadata": "{}",
         "name": "job",
         "type": "\"string\""
        },
        {
         "metadata": "{}",
         "name": "hobbies",
         "type": "\"string\""
        },
        {
         "metadata": "{}",
         "name": "is_married",
         "type": "\"string\""
        }
       ],
       "type": "table"
      }
     },
     "output_type": "display_data"
    }
   ],
   "source": [
    "df=spark.read.csv('dbfs:/FileStore/20240105_sales_customer.csv',header=True)\n",
    "df.display()"
   ]
  },
  {
   "cell_type": "code",
   "execution_count": 0,
   "metadata": {
    "application/vnd.databricks.v1+cell": {
     "cellMetadata": {
      "byteLimit": 2048000,
      "rowLimit": 10000
     },
     "inputWidgets": {},
     "nuid": "9d18a7e6-0e7c-4ec8-accf-e6abfee3c3fd",
     "showTitle": false,
     "title": ""
    }
   },
   "outputs": [
    {
     "output_type": "display_data",
     "data": {
      "text/html": [
       "<style scoped>\n",
       "  .table-result-container {\n",
       "    max-height: 300px;\n",
       "    overflow: auto;\n",
       "  }\n",
       "  table, th, td {\n",
       "    border: 1px solid black;\n",
       "    border-collapse: collapse;\n",
       "  }\n",
       "  th, td {\n",
       "    padding: 5px;\n",
       "  }\n",
       "  th {\n",
       "    text-align: left;\n",
       "  }\n",
       "</style><div class='table-result-container'><table class='table-result'><thead style='background-color: white'><tr><th>Customer Id</th><th>Name</th><th>Email Id</th><th>address</th><th>gender</th><th>age</th><th>Joining Date</th><th>registered</th><th>order ID</th><th>orders</th><th>spent</th><th>job</th><th>hobbies</th><th>is_married</th><th>company</th></tr></thead><tbody><tr><td>amxjo131</td><td>Joseph Rice</td><td>josephrice131@slingacademy.com</td><td>91773 Miller Shoal Diaztown, FL 38841</td><td>male</td><td>43</td><td>07-12-2022 20:15</td><td>05-05-2019</td><td>null</td><td>7</td><td>568.29</td><td>Artist</td><td>Playing sports</td><td>FALSE</td><td>ABC</td></tr><tr><td>amxga386</td><td>Gary Moore</td><td>garymoore386@slingacademy.com</td><td>6450 John Lodge Territon, KY 95945</td><td>male</td><td>71</td><td>07-12-2021 20:15</td><td>20-05-2020</td><td>null</td><td>11</td><td>568.92</td><td>Artist</td><td>Swimming</td><td>TRUE</td><td>ABC</td></tr><tr><td>amxj944</td><td>John Walker</td><td>johnwalker944@slingacademy.com</td><td>27265 Murray Island Kevinfort, PA 63231</td><td>male</td><td>44</td><td>07-12-2022 20:15</td><td>04-04-2020</td><td>null</td><td>11</td><td>497.12</td><td>Clerk</td><td>Painting</td><td>FALSE</td><td>ABC</td></tr><tr><td>amxer176</td><td>Eric Carter</td><td>ericcarter176@slingacademy.com</td><td>USNS Knight FPO AA 76532</td><td>male</td><td>38</td><td>07-12-2022 20:15</td><td>30-01-2019</td><td>null</td><td>17</td><td>834.6</td><td>Butcher</td><td>Playing musical instruments</td><td>FALSE</td><td>ABC</td></tr><tr><td>amxwi427</td><td>William Jackson</td><td>williamjackson427@slingacademy.com</td><td>170 Jackson Loaf Kristenland, AS 48876</td><td>male</td><td>58</td><td>10-12-2022 20:15</td><td>01-07-2022</td><td>null</td><td>14</td><td>151.59</td><td>Engineer</td><td>Reading</td><td>FALSE</td><td>ABC</td></tr><tr><td>amxni228</td><td>Nicole Jones</td><td>nicolejones228@slingacademy.com</td><td>14354 Baker Harbor Apt. 017 Ericville, HI 11192</td><td>female</td><td>33</td><td>07-12-2022 20:15</td><td>07-08-2021</td><td>null</td><td>19</td><td>33.17</td><td>Unemployed</td><td>Running</td><td>TRUE</td><td>ABC</td></tr><tr><td>amxda980</td><td>David Davis</td><td>daviddavis980@slingacademy.com</td><td>021 Katherine Mall Jameston, DC 24685</td><td>male</td><td>59</td><td>07-12-2022 20:15</td><td>16-06-2022</td><td>null</td><td>9</td><td>970.96</td><td>Doctor</td><td>Playing sports</td><td>FALSE</td><td>ABC</td></tr><tr><td>amxja889</td><td>Jason Montgomery</td><td>jasonmontgomery889@slingacademy.com</td><td>14657 Scott Loop Apt. 735 Port Ashley, NH 34470</td><td>male</td><td>58</td><td>07-12-2023 20:15</td><td>13-11-2021</td><td>null</td><td>12</td><td>676.2</td><td>Waitress</td><td>Collecting</td><td>FALSE</td><td>ABC</td></tr><tr><td>amxke695</td><td>Kent Weaver</td><td>kentweaver695@slingacademy.com</td><td>6644 Mitchell Burg Victorhaven, KS 66356</td><td>male</td><td>61</td><td>07-01-2022 20:15</td><td>11-06-2023</td><td>null</td><td>1</td><td>674.37</td><td>Clerk</td><td>Hiking</td><td>FALSE</td><td>ABC</td></tr><tr><td>amxda573</td><td>Darrell Dillon</td><td>darrelldillon573@slingacademy.com</td><td>PSC 7267, Box 9911 APO AE 49343</td><td>male</td><td>50</td><td>07-0-2022 20:15</td><td>13-09-2022</td><td>null</td><td>12</td><td>750.72</td><td>Dentist</td><td>Watching movies</td><td>FALSE</td><td>ABC</td></tr><tr><td>amxja322</td><td>Jacqueline Wang</td><td>jacquelinewang322@slingacademy.com</td><td>16963 Stewart Curve Suite 27 South Cameron, ND 25136</td><td>female</td><td>22</td><td>07-12-2022 20:15</td><td>08-02-2023</td><td>null</td><td>12</td><td>962.47</td><td>Housewife</td><td>Collecting</td><td>FALSE</td><td>ABC</td></tr><tr><td>amxjo185</td><td>Jodi Gonzalez</td><td>jodigonzalez185@slingacademy.com</td><td>378 Johnson Oval South Stacie, RI 76332</td><td>female</td><td>69</td><td>07-12-2022 20:15</td><td>25-06-2021</td><td>null</td><td>12</td><td>68.67</td><td>Baker</td><td>Photography</td><td>FALSE</td><td>ABC</td></tr><tr><td>amxom769</td><td>Omar Martin</td><td>omarmartin769@slingacademy.com</td><td>Unit 9103 Box 4771 DPO AA 16592</td><td>male</td><td>28</td><td>07-12-2022 20:15</td><td>28-05-2023</td><td>null</td><td>3</td><td>162.58</td><td>Doctor</td><td>Gardening</td><td>TRUE</td><td>ABC</td></tr><tr><td>amxni473</td><td>Nicole Lara</td><td>nicolelara473@slingacademy.com</td><td>9822 Lisa Courts Johnhaven, IL 80438</td><td>female</td><td>77</td><td>07-01-2022 20:15</td><td>03-03-2023</td><td>null</td><td>17</td><td>309.81</td><td>Janitor</td><td>Hiking</td><td>TRUE</td><td>ABC</td></tr><tr><td>amxja753</td><td>Jason Brown</td><td>jasonbrown753@slingacademy.com</td><td>7310 Romero Summit East Scotttown, DC 53183</td><td>male</td><td>63</td><td>07-14-2022  20:15:39</td><td>05-12-2022</td><td>null</td><td>13</td><td>763.27</td><td>Lawyer</td><td>Fishing</td><td>TRUE</td><td>ABC</td></tr><tr><td>amxda257</td><td>David Benson</td><td>davidbenson257@slingacademy.com</td><td>444 Derek Summit Lisaborough, WA 20685</td><td>male</td><td>61</td><td>07-12-2022 20:15</td><td>15-04-2022</td><td>null</td><td>17</td><td>111.11</td><td>Lawyer</td><td>Meditation</td><td>TRUE</td><td>ABC</td></tr><tr><td>amxki513</td><td>Kimberly Mora</td><td>kimberlymora513@slingacademy.com</td><td>7679 Perry Square West Amybury, RI 15144</td><td>female</td><td>34</td><td>07-12-2022 20:15</td><td>19-05-2019</td><td>null</td><td>10</td><td>208.46</td><td>Farmer</td><td>Collecting</td><td>FALSE</td><td>ABC</td></tr><tr><td>amxer904</td><td>Erik Macias</td><td>erikmacias904@wingacademy.com</td><td>568 Christopher Tunnel Toddburgh, DE 86966</td><td>male</td><td>25</td><td>07-12-2022 20:15</td><td>18-04-2020</td><td>null</td><td>8</td><td>439.53</td><td>Accountant</td><td>Fishing</td><td>FALSE</td><td>ABC</td></tr><tr><td>amxja681</td><td>James Johnson</td><td>jamesjohnson681@wingacademy.com</td><td>19870 Sean Parkway North Jamesfurt, NC 28950</td><td>male</td><td>67</td><td>07-08-2022 20:15</td><td>17-02-2019</td><td>null</td><td>5</td><td>394.95</td><td>Security Guard</td><td>Watching movies</td><td>FALSE</td><td>ABC</td></tr><tr><td>amxde324</td><td>Derek Peterson</td><td>derekpeterson324@wingacademy.com</td><td>70830 Jonathan Pine Wilcoxburgh, MI 38265</td><td>male</td><td>36</td><td>07-12-2022 20:15</td><td>15-12-2020</td><td>null</td><td>2</td><td>153.8</td><td>Architect</td><td>Photography</td><td>TRUE</td><td>ABC</td></tr><tr><td>amxdi438</td><td>Diane Henson</td><td>dianehenson438@wingacademy.com</td><td>86382 Baker Ports Apt. 074 Cookfurt, NM 54313</td><td>female</td><td>74</td><td>07-12-2022 20:15</td><td>21-03-2020</td><td>null</td><td>19</td><td>62.52</td><td>Butcher</td><td>Playing musical instruments</td><td>FALSE</td><td>ABC</td></tr><tr><td>amxco721</td><td>Cody Lyons</td><td>codylyons721@wingacademy.com</td><td>60971 Carrillo Square Suite 141 New Kimberlybury, AS 02128</td><td>male</td><td>47</td><td>07-12-2022 20:15</td><td>25-11-2019</td><td>null</td><td>14</td><td>43.17</td><td>Baker</td><td>Hunting</td><td>FALSE</td><td>ABC</td></tr><tr><td>amxma249</td><td>Margaret Hardy</td><td>margarethardy249@wingacademy.com</td><td>2900 Sandra Villages Apt. 985 Phillipsstad, NH 19830</td><td>female</td><td>25</td><td>07-12-2022 20:15</td><td>17-07-2021</td><td>null</td><td>9</td><td>455.27</td><td>Barber</td><td>Other</td><td>FALSE</td><td>ABC</td></tr><tr><td>amxar881</td><td>Arthur Hayes</td><td>arthurhayes881@wingacademy.com</td><td>353 Elizabeth Forest Deannachester, NM 66952</td><td>male</td><td>75</td><td>07-15-2022  20:15:39</td><td>01-04-2021</td><td>null</td><td>6</td><td>749.78</td><td>Chef</td><td>Sewing</td><td>FALSE</td><td>ABC</td></tr><tr><td>amxra702</td><td>Raymond Taylor</td><td>raymondtaylor702@wingacademy.com</td><td>07867 John Mills Apt. 985 Tinaville, ID 59142</td><td>male</td><td>36</td><td>07-12-2022 20:15</td><td>24-09-2021</td><td>null</td><td>6</td><td>125.18</td><td>Butcher</td><td>Playing musical instruments</td><td>FALSE</td><td>ABC</td></tr><tr><td>amxti476</td><td>Tina Moore</td><td>tinamoore476@wingacademy.com</td><td>50984 Shelly Pass Port Nicholas, SC 48629</td><td>female</td><td>34</td><td>07-12-2022 20:15</td><td>15-07-2020</td><td>null</td><td>17</td><td>888.53</td><td>Chef</td><td>Running</td><td>FALSE</td><td>ABC</td></tr><tr><td>amxky170</td><td>Kylie White</td><td>kyliewhite170@wingacademy.com</td><td>5004 Christine Falls Suite 217 Jasonburgh, NJ 75688</td><td>female</td><td>63</td><td>07-12-2022 20:15</td><td>03-02-2020</td><td>null</td><td>6</td><td>872.18</td><td>Janitor</td><td>Reading</td><td>TRUE</td><td>ABC</td></tr><tr><td>amxjo648</td><td>Jonathan Manning</td><td>jonathanmanning648@wingacademy.com</td><td>1501 Gregory Glens Suite 940 Stephensstad, GU 55206</td><td>male</td><td>30</td><td>07-12-2022 20:15</td><td>21-01-2022</td><td>null</td><td>0</td><td>178.54</td><td>Librarian</td><td>Playing sports</td><td>FALSE</td><td>ABC</td></tr><tr><td>amxan256</td><td>Angela Bryant</td><td>angelabryant256@wingacademy.com</td><td>01454 Christopher Turnpike North Ryanstad, MI 36226</td><td>female</td><td>23</td><td>07-12-2022 20:15</td><td>11-09-2019</td><td>null</td><td>3</td><td>525.2</td><td>Politician</td><td>Cycling</td><td>FALSE</td><td>ABC</td></tr></tbody></table></div>"
      ]
     },
     "metadata": {
      "application/vnd.databricks.v1+output": {
       "addedWidgets": {},
       "aggData": [],
       "aggError": "",
       "aggOverflow": false,
       "aggSchema": [],
       "aggSeriesLimitReached": false,
       "aggType": "",
       "arguments": {},
       "columnCustomDisplayInfos": {},
       "data": [
        [
         "amxjo131",
         "Joseph Rice",
         "josephrice131@slingacademy.com",
         "91773 Miller Shoal Diaztown, FL 38841",
         "male",
         "43",
         "07-12-2022 20:15",
         "05-05-2019",
         null,
         "7",
         "568.29",
         "Artist",
         "Playing sports",
         "FALSE",
         "ABC"
        ],
        [
         "amxga386",
         "Gary Moore",
         "garymoore386@slingacademy.com",
         "6450 John Lodge Territon, KY 95945",
         "male",
         "71",
         "07-12-2021 20:15",
         "20-05-2020",
         null,
         "11",
         "568.92",
         "Artist",
         "Swimming",
         "TRUE",
         "ABC"
        ],
        [
         "amxj944",
         "John Walker",
         "johnwalker944@slingacademy.com",
         "27265 Murray Island Kevinfort, PA 63231",
         "male",
         "44",
         "07-12-2022 20:15",
         "04-04-2020",
         null,
         "11",
         "497.12",
         "Clerk",
         "Painting",
         "FALSE",
         "ABC"
        ],
        [
         "amxer176",
         "Eric Carter",
         "ericcarter176@slingacademy.com",
         "USNS Knight FPO AA 76532",
         "male",
         "38",
         "07-12-2022 20:15",
         "30-01-2019",
         null,
         "17",
         "834.6",
         "Butcher",
         "Playing musical instruments",
         "FALSE",
         "ABC"
        ],
        [
         "amxwi427",
         "William Jackson",
         "williamjackson427@slingacademy.com",
         "170 Jackson Loaf Kristenland, AS 48876",
         "male",
         "58",
         "10-12-2022 20:15",
         "01-07-2022",
         null,
         "14",
         "151.59",
         "Engineer",
         "Reading",
         "FALSE",
         "ABC"
        ],
        [
         "amxni228",
         "Nicole Jones",
         "nicolejones228@slingacademy.com",
         "14354 Baker Harbor Apt. 017 Ericville, HI 11192",
         "female",
         "33",
         "07-12-2022 20:15",
         "07-08-2021",
         null,
         "19",
         "33.17",
         "Unemployed",
         "Running",
         "TRUE",
         "ABC"
        ],
        [
         "amxda980",
         "David Davis",
         "daviddavis980@slingacademy.com",
         "021 Katherine Mall Jameston, DC 24685",
         "male",
         "59",
         "07-12-2022 20:15",
         "16-06-2022",
         null,
         "9",
         "970.96",
         "Doctor",
         "Playing sports",
         "FALSE",
         "ABC"
        ],
        [
         "amxja889",
         "Jason Montgomery",
         "jasonmontgomery889@slingacademy.com",
         "14657 Scott Loop Apt. 735 Port Ashley, NH 34470",
         "male",
         "58",
         "07-12-2023 20:15",
         "13-11-2021",
         null,
         "12",
         "676.2",
         "Waitress",
         "Collecting",
         "FALSE",
         "ABC"
        ],
        [
         "amxke695",
         "Kent Weaver",
         "kentweaver695@slingacademy.com",
         "6644 Mitchell Burg Victorhaven, KS 66356",
         "male",
         "61",
         "07-01-2022 20:15",
         "11-06-2023",
         null,
         "1",
         "674.37",
         "Clerk",
         "Hiking",
         "FALSE",
         "ABC"
        ],
        [
         "amxda573",
         "Darrell Dillon",
         "darrelldillon573@slingacademy.com",
         "PSC 7267, Box 9911 APO AE 49343",
         "male",
         "50",
         "07-0-2022 20:15",
         "13-09-2022",
         null,
         "12",
         "750.72",
         "Dentist",
         "Watching movies",
         "FALSE",
         "ABC"
        ],
        [
         "amxja322",
         "Jacqueline Wang",
         "jacquelinewang322@slingacademy.com",
         "16963 Stewart Curve Suite 27 South Cameron, ND 25136",
         "female",
         "22",
         "07-12-2022 20:15",
         "08-02-2023",
         null,
         "12",
         "962.47",
         "Housewife",
         "Collecting",
         "FALSE",
         "ABC"
        ],
        [
         "amxjo185",
         "Jodi Gonzalez",
         "jodigonzalez185@slingacademy.com",
         "378 Johnson Oval South Stacie, RI 76332",
         "female",
         "69",
         "07-12-2022 20:15",
         "25-06-2021",
         null,
         "12",
         "68.67",
         "Baker",
         "Photography",
         "FALSE",
         "ABC"
        ],
        [
         "amxom769",
         "Omar Martin",
         "omarmartin769@slingacademy.com",
         "Unit 9103 Box 4771 DPO AA 16592",
         "male",
         "28",
         "07-12-2022 20:15",
         "28-05-2023",
         null,
         "3",
         "162.58",
         "Doctor",
         "Gardening",
         "TRUE",
         "ABC"
        ],
        [
         "amxni473",
         "Nicole Lara",
         "nicolelara473@slingacademy.com",
         "9822 Lisa Courts Johnhaven, IL 80438",
         "female",
         "77",
         "07-01-2022 20:15",
         "03-03-2023",
         null,
         "17",
         "309.81",
         "Janitor",
         "Hiking",
         "TRUE",
         "ABC"
        ],
        [
         "amxja753",
         "Jason Brown",
         "jasonbrown753@slingacademy.com",
         "7310 Romero Summit East Scotttown, DC 53183",
         "male",
         "63",
         "07-14-2022  20:15:39",
         "05-12-2022",
         null,
         "13",
         "763.27",
         "Lawyer",
         "Fishing",
         "TRUE",
         "ABC"
        ],
        [
         "amxda257",
         "David Benson",
         "davidbenson257@slingacademy.com",
         "444 Derek Summit Lisaborough, WA 20685",
         "male",
         "61",
         "07-12-2022 20:15",
         "15-04-2022",
         null,
         "17",
         "111.11",
         "Lawyer",
         "Meditation",
         "TRUE",
         "ABC"
        ],
        [
         "amxki513",
         "Kimberly Mora",
         "kimberlymora513@slingacademy.com",
         "7679 Perry Square West Amybury, RI 15144",
         "female",
         "34",
         "07-12-2022 20:15",
         "19-05-2019",
         null,
         "10",
         "208.46",
         "Farmer",
         "Collecting",
         "FALSE",
         "ABC"
        ],
        [
         "amxer904",
         "Erik Macias",
         "erikmacias904@wingacademy.com",
         "568 Christopher Tunnel Toddburgh, DE 86966",
         "male",
         "25",
         "07-12-2022 20:15",
         "18-04-2020",
         null,
         "8",
         "439.53",
         "Accountant",
         "Fishing",
         "FALSE",
         "ABC"
        ],
        [
         "amxja681",
         "James Johnson",
         "jamesjohnson681@wingacademy.com",
         "19870 Sean Parkway North Jamesfurt, NC 28950",
         "male",
         "67",
         "07-08-2022 20:15",
         "17-02-2019",
         null,
         "5",
         "394.95",
         "Security Guard",
         "Watching movies",
         "FALSE",
         "ABC"
        ],
        [
         "amxde324",
         "Derek Peterson",
         "derekpeterson324@wingacademy.com",
         "70830 Jonathan Pine Wilcoxburgh, MI 38265",
         "male",
         "36",
         "07-12-2022 20:15",
         "15-12-2020",
         null,
         "2",
         "153.8",
         "Architect",
         "Photography",
         "TRUE",
         "ABC"
        ],
        [
         "amxdi438",
         "Diane Henson",
         "dianehenson438@wingacademy.com",
         "86382 Baker Ports Apt. 074 Cookfurt, NM 54313",
         "female",
         "74",
         "07-12-2022 20:15",
         "21-03-2020",
         null,
         "19",
         "62.52",
         "Butcher",
         "Playing musical instruments",
         "FALSE",
         "ABC"
        ],
        [
         "amxco721",
         "Cody Lyons",
         "codylyons721@wingacademy.com",
         "60971 Carrillo Square Suite 141 New Kimberlybury, AS 02128",
         "male",
         "47",
         "07-12-2022 20:15",
         "25-11-2019",
         null,
         "14",
         "43.17",
         "Baker",
         "Hunting",
         "FALSE",
         "ABC"
        ],
        [
         "amxma249",
         "Margaret Hardy",
         "margarethardy249@wingacademy.com",
         "2900 Sandra Villages Apt. 985 Phillipsstad, NH 19830",
         "female",
         "25",
         "07-12-2022 20:15",
         "17-07-2021",
         null,
         "9",
         "455.27",
         "Barber",
         "Other",
         "FALSE",
         "ABC"
        ],
        [
         "amxar881",
         "Arthur Hayes",
         "arthurhayes881@wingacademy.com",
         "353 Elizabeth Forest Deannachester, NM 66952",
         "male",
         "75",
         "07-15-2022  20:15:39",
         "01-04-2021",
         null,
         "6",
         "749.78",
         "Chef",
         "Sewing",
         "FALSE",
         "ABC"
        ],
        [
         "amxra702",
         "Raymond Taylor",
         "raymondtaylor702@wingacademy.com",
         "07867 John Mills Apt. 985 Tinaville, ID 59142",
         "male",
         "36",
         "07-12-2022 20:15",
         "24-09-2021",
         null,
         "6",
         "125.18",
         "Butcher",
         "Playing musical instruments",
         "FALSE",
         "ABC"
        ],
        [
         "amxti476",
         "Tina Moore",
         "tinamoore476@wingacademy.com",
         "50984 Shelly Pass Port Nicholas, SC 48629",
         "female",
         "34",
         "07-12-2022 20:15",
         "15-07-2020",
         null,
         "17",
         "888.53",
         "Chef",
         "Running",
         "FALSE",
         "ABC"
        ],
        [
         "amxky170",
         "Kylie White",
         "kyliewhite170@wingacademy.com",
         "5004 Christine Falls Suite 217 Jasonburgh, NJ 75688",
         "female",
         "63",
         "07-12-2022 20:15",
         "03-02-2020",
         null,
         "6",
         "872.18",
         "Janitor",
         "Reading",
         "TRUE",
         "ABC"
        ],
        [
         "amxjo648",
         "Jonathan Manning",
         "jonathanmanning648@wingacademy.com",
         "1501 Gregory Glens Suite 940 Stephensstad, GU 55206",
         "male",
         "30",
         "07-12-2022 20:15",
         "21-01-2022",
         null,
         "0",
         "178.54",
         "Librarian",
         "Playing sports",
         "FALSE",
         "ABC"
        ],
        [
         "amxan256",
         "Angela Bryant",
         "angelabryant256@wingacademy.com",
         "01454 Christopher Turnpike North Ryanstad, MI 36226",
         "female",
         "23",
         "07-12-2022 20:15",
         "11-09-2019",
         null,
         "3",
         "525.2",
         "Politician",
         "Cycling",
         "FALSE",
         "ABC"
        ]
       ],
       "datasetInfos": [],
       "dbfsResultPath": null,
       "isJsonSchema": true,
       "metadata": {},
       "overflow": false,
       "plotOptions": {
        "customPlotOptions": {},
        "displayType": "table",
        "pivotAggregation": null,
        "pivotColumns": null,
        "xColumns": null,
        "yColumns": null
       },
       "removedWidgets": [],
       "schema": [
        {
         "metadata": "{}",
         "name": "Customer Id",
         "type": "\"string\""
        },
        {
         "metadata": "{}",
         "name": "Name",
         "type": "\"string\""
        },
        {
         "metadata": "{}",
         "name": "Email Id",
         "type": "\"string\""
        },
        {
         "metadata": "{}",
         "name": "address",
         "type": "\"string\""
        },
        {
         "metadata": "{}",
         "name": "gender",
         "type": "\"string\""
        },
        {
         "metadata": "{}",
         "name": "age",
         "type": "\"string\""
        },
        {
         "metadata": "{}",
         "name": "Joining Date",
         "type": "\"string\""
        },
        {
         "metadata": "{}",
         "name": "registered",
         "type": "\"string\""
        },
        {
         "metadata": "{}",
         "name": "order ID",
         "type": "\"string\""
        },
        {
         "metadata": "{}",
         "name": "orders",
         "type": "\"string\""
        },
        {
         "metadata": "{}",
         "name": "spent",
         "type": "\"string\""
        },
        {
         "metadata": "{}",
         "name": "job",
         "type": "\"string\""
        },
        {
         "metadata": "{}",
         "name": "hobbies",
         "type": "\"string\""
        },
        {
         "metadata": "{}",
         "name": "is_married",
         "type": "\"string\""
        },
        {
         "metadata": "{}",
         "name": "company",
         "type": "\"string\""
        }
       ],
       "type": "table"
      }
     },
     "output_type": "display_data"
    }
   ],
   "source": [
    "df.withColumn('company',lit('ABC')).display()"
   ]
  },
  {
   "cell_type": "code",
   "execution_count": 0,
   "metadata": {
    "application/vnd.databricks.v1+cell": {
     "cellMetadata": {
      "byteLimit": 2048000,
      "rowLimit": 10000
     },
     "inputWidgets": {},
     "nuid": "ba208e54-f42c-43d9-9372-189a9957af45",
     "showTitle": false,
     "title": ""
    }
   },
   "outputs": [
    {
     "output_type": "display_data",
     "data": {
      "text/html": [
       "<style scoped>\n",
       "  .table-result-container {\n",
       "    max-height: 300px;\n",
       "    overflow: auto;\n",
       "  }\n",
       "  table, th, td {\n",
       "    border: 1px solid black;\n",
       "    border-collapse: collapse;\n",
       "  }\n",
       "  th, td {\n",
       "    padding: 5px;\n",
       "  }\n",
       "  th {\n",
       "    text-align: left;\n",
       "  }\n",
       "</style><div class='table-result-container'><table class='table-result'><thead style='background-color: white'><tr><th>customer_id</th><th>Name</th><th>Email Id</th><th>address</th><th>gender</th><th>age</th><th>Joining Date</th><th>registered</th><th>order ID</th><th>orders</th><th>spent</th><th>job</th><th>hobbies</th><th>is_married</th></tr></thead><tbody><tr><td>amxjo131</td><td>Joseph Rice</td><td>josephrice131@slingacademy.com</td><td>91773 Miller Shoal Diaztown, FL 38841</td><td>male</td><td>43</td><td>07-12-2022 20:15</td><td>05-05-2019</td><td>null</td><td>7</td><td>568.29</td><td>Artist</td><td>Playing sports</td><td>FALSE</td></tr><tr><td>amxga386</td><td>Gary Moore</td><td>garymoore386@slingacademy.com</td><td>6450 John Lodge Territon, KY 95945</td><td>male</td><td>71</td><td>07-12-2021 20:15</td><td>20-05-2020</td><td>null</td><td>11</td><td>568.92</td><td>Artist</td><td>Swimming</td><td>TRUE</td></tr><tr><td>amxj944</td><td>John Walker</td><td>johnwalker944@slingacademy.com</td><td>27265 Murray Island Kevinfort, PA 63231</td><td>male</td><td>44</td><td>07-12-2022 20:15</td><td>04-04-2020</td><td>null</td><td>11</td><td>497.12</td><td>Clerk</td><td>Painting</td><td>FALSE</td></tr><tr><td>amxer176</td><td>Eric Carter</td><td>ericcarter176@slingacademy.com</td><td>USNS Knight FPO AA 76532</td><td>male</td><td>38</td><td>07-12-2022 20:15</td><td>30-01-2019</td><td>null</td><td>17</td><td>834.6</td><td>Butcher</td><td>Playing musical instruments</td><td>FALSE</td></tr><tr><td>amxwi427</td><td>William Jackson</td><td>williamjackson427@slingacademy.com</td><td>170 Jackson Loaf Kristenland, AS 48876</td><td>male</td><td>58</td><td>10-12-2022 20:15</td><td>01-07-2022</td><td>null</td><td>14</td><td>151.59</td><td>Engineer</td><td>Reading</td><td>FALSE</td></tr><tr><td>amxni228</td><td>Nicole Jones</td><td>nicolejones228@slingacademy.com</td><td>14354 Baker Harbor Apt. 017 Ericville, HI 11192</td><td>female</td><td>33</td><td>07-12-2022 20:15</td><td>07-08-2021</td><td>null</td><td>19</td><td>33.17</td><td>Unemployed</td><td>Running</td><td>TRUE</td></tr><tr><td>amxda980</td><td>David Davis</td><td>daviddavis980@slingacademy.com</td><td>021 Katherine Mall Jameston, DC 24685</td><td>male</td><td>59</td><td>07-12-2022 20:15</td><td>16-06-2022</td><td>null</td><td>9</td><td>970.96</td><td>Doctor</td><td>Playing sports</td><td>FALSE</td></tr><tr><td>amxja889</td><td>Jason Montgomery</td><td>jasonmontgomery889@slingacademy.com</td><td>14657 Scott Loop Apt. 735 Port Ashley, NH 34470</td><td>male</td><td>58</td><td>07-12-2023 20:15</td><td>13-11-2021</td><td>null</td><td>12</td><td>676.2</td><td>Waitress</td><td>Collecting</td><td>FALSE</td></tr><tr><td>amxke695</td><td>Kent Weaver</td><td>kentweaver695@slingacademy.com</td><td>6644 Mitchell Burg Victorhaven, KS 66356</td><td>male</td><td>61</td><td>07-01-2022 20:15</td><td>11-06-2023</td><td>null</td><td>1</td><td>674.37</td><td>Clerk</td><td>Hiking</td><td>FALSE</td></tr><tr><td>amxda573</td><td>Darrell Dillon</td><td>darrelldillon573@slingacademy.com</td><td>PSC 7267, Box 9911 APO AE 49343</td><td>male</td><td>50</td><td>07-0-2022 20:15</td><td>13-09-2022</td><td>null</td><td>12</td><td>750.72</td><td>Dentist</td><td>Watching movies</td><td>FALSE</td></tr><tr><td>amxja322</td><td>Jacqueline Wang</td><td>jacquelinewang322@slingacademy.com</td><td>16963 Stewart Curve Suite 27 South Cameron, ND 25136</td><td>female</td><td>22</td><td>07-12-2022 20:15</td><td>08-02-2023</td><td>null</td><td>12</td><td>962.47</td><td>Housewife</td><td>Collecting</td><td>FALSE</td></tr><tr><td>amxjo185</td><td>Jodi Gonzalez</td><td>jodigonzalez185@slingacademy.com</td><td>378 Johnson Oval South Stacie, RI 76332</td><td>female</td><td>69</td><td>07-12-2022 20:15</td><td>25-06-2021</td><td>null</td><td>12</td><td>68.67</td><td>Baker</td><td>Photography</td><td>FALSE</td></tr><tr><td>amxom769</td><td>Omar Martin</td><td>omarmartin769@slingacademy.com</td><td>Unit 9103 Box 4771 DPO AA 16592</td><td>male</td><td>28</td><td>07-12-2022 20:15</td><td>28-05-2023</td><td>null</td><td>3</td><td>162.58</td><td>Doctor</td><td>Gardening</td><td>TRUE</td></tr><tr><td>amxni473</td><td>Nicole Lara</td><td>nicolelara473@slingacademy.com</td><td>9822 Lisa Courts Johnhaven, IL 80438</td><td>female</td><td>77</td><td>07-01-2022 20:15</td><td>03-03-2023</td><td>null</td><td>17</td><td>309.81</td><td>Janitor</td><td>Hiking</td><td>TRUE</td></tr><tr><td>amxja753</td><td>Jason Brown</td><td>jasonbrown753@slingacademy.com</td><td>7310 Romero Summit East Scotttown, DC 53183</td><td>male</td><td>63</td><td>07-14-2022  20:15:39</td><td>05-12-2022</td><td>null</td><td>13</td><td>763.27</td><td>Lawyer</td><td>Fishing</td><td>TRUE</td></tr><tr><td>amxda257</td><td>David Benson</td><td>davidbenson257@slingacademy.com</td><td>444 Derek Summit Lisaborough, WA 20685</td><td>male</td><td>61</td><td>07-12-2022 20:15</td><td>15-04-2022</td><td>null</td><td>17</td><td>111.11</td><td>Lawyer</td><td>Meditation</td><td>TRUE</td></tr><tr><td>amxki513</td><td>Kimberly Mora</td><td>kimberlymora513@slingacademy.com</td><td>7679 Perry Square West Amybury, RI 15144</td><td>female</td><td>34</td><td>07-12-2022 20:15</td><td>19-05-2019</td><td>null</td><td>10</td><td>208.46</td><td>Farmer</td><td>Collecting</td><td>FALSE</td></tr><tr><td>amxer904</td><td>Erik Macias</td><td>erikmacias904@wingacademy.com</td><td>568 Christopher Tunnel Toddburgh, DE 86966</td><td>male</td><td>25</td><td>07-12-2022 20:15</td><td>18-04-2020</td><td>null</td><td>8</td><td>439.53</td><td>Accountant</td><td>Fishing</td><td>FALSE</td></tr><tr><td>amxja681</td><td>James Johnson</td><td>jamesjohnson681@wingacademy.com</td><td>19870 Sean Parkway North Jamesfurt, NC 28950</td><td>male</td><td>67</td><td>07-08-2022 20:15</td><td>17-02-2019</td><td>null</td><td>5</td><td>394.95</td><td>Security Guard</td><td>Watching movies</td><td>FALSE</td></tr><tr><td>amxde324</td><td>Derek Peterson</td><td>derekpeterson324@wingacademy.com</td><td>70830 Jonathan Pine Wilcoxburgh, MI 38265</td><td>male</td><td>36</td><td>07-12-2022 20:15</td><td>15-12-2020</td><td>null</td><td>2</td><td>153.8</td><td>Architect</td><td>Photography</td><td>TRUE</td></tr><tr><td>amxdi438</td><td>Diane Henson</td><td>dianehenson438@wingacademy.com</td><td>86382 Baker Ports Apt. 074 Cookfurt, NM 54313</td><td>female</td><td>74</td><td>07-12-2022 20:15</td><td>21-03-2020</td><td>null</td><td>19</td><td>62.52</td><td>Butcher</td><td>Playing musical instruments</td><td>FALSE</td></tr><tr><td>amxco721</td><td>Cody Lyons</td><td>codylyons721@wingacademy.com</td><td>60971 Carrillo Square Suite 141 New Kimberlybury, AS 02128</td><td>male</td><td>47</td><td>07-12-2022 20:15</td><td>25-11-2019</td><td>null</td><td>14</td><td>43.17</td><td>Baker</td><td>Hunting</td><td>FALSE</td></tr><tr><td>amxma249</td><td>Margaret Hardy</td><td>margarethardy249@wingacademy.com</td><td>2900 Sandra Villages Apt. 985 Phillipsstad, NH 19830</td><td>female</td><td>25</td><td>07-12-2022 20:15</td><td>17-07-2021</td><td>null</td><td>9</td><td>455.27</td><td>Barber</td><td>Other</td><td>FALSE</td></tr><tr><td>amxar881</td><td>Arthur Hayes</td><td>arthurhayes881@wingacademy.com</td><td>353 Elizabeth Forest Deannachester, NM 66952</td><td>male</td><td>75</td><td>07-15-2022  20:15:39</td><td>01-04-2021</td><td>null</td><td>6</td><td>749.78</td><td>Chef</td><td>Sewing</td><td>FALSE</td></tr><tr><td>amxra702</td><td>Raymond Taylor</td><td>raymondtaylor702@wingacademy.com</td><td>07867 John Mills Apt. 985 Tinaville, ID 59142</td><td>male</td><td>36</td><td>07-12-2022 20:15</td><td>24-09-2021</td><td>null</td><td>6</td><td>125.18</td><td>Butcher</td><td>Playing musical instruments</td><td>FALSE</td></tr><tr><td>amxti476</td><td>Tina Moore</td><td>tinamoore476@wingacademy.com</td><td>50984 Shelly Pass Port Nicholas, SC 48629</td><td>female</td><td>34</td><td>07-12-2022 20:15</td><td>15-07-2020</td><td>null</td><td>17</td><td>888.53</td><td>Chef</td><td>Running</td><td>FALSE</td></tr><tr><td>amxky170</td><td>Kylie White</td><td>kyliewhite170@wingacademy.com</td><td>5004 Christine Falls Suite 217 Jasonburgh, NJ 75688</td><td>female</td><td>63</td><td>07-12-2022 20:15</td><td>03-02-2020</td><td>null</td><td>6</td><td>872.18</td><td>Janitor</td><td>Reading</td><td>TRUE</td></tr><tr><td>amxjo648</td><td>Jonathan Manning</td><td>jonathanmanning648@wingacademy.com</td><td>1501 Gregory Glens Suite 940 Stephensstad, GU 55206</td><td>male</td><td>30</td><td>07-12-2022 20:15</td><td>21-01-2022</td><td>null</td><td>0</td><td>178.54</td><td>Librarian</td><td>Playing sports</td><td>FALSE</td></tr><tr><td>amxan256</td><td>Angela Bryant</td><td>angelabryant256@wingacademy.com</td><td>01454 Christopher Turnpike North Ryanstad, MI 36226</td><td>female</td><td>23</td><td>07-12-2022 20:15</td><td>11-09-2019</td><td>null</td><td>3</td><td>525.2</td><td>Politician</td><td>Cycling</td><td>FALSE</td></tr></tbody></table></div>"
      ]
     },
     "metadata": {
      "application/vnd.databricks.v1+output": {
       "addedWidgets": {},
       "aggData": [],
       "aggError": "",
       "aggOverflow": false,
       "aggSchema": [],
       "aggSeriesLimitReached": false,
       "aggType": "",
       "arguments": {},
       "columnCustomDisplayInfos": {},
       "data": [
        [
         "amxjo131",
         "Joseph Rice",
         "josephrice131@slingacademy.com",
         "91773 Miller Shoal Diaztown, FL 38841",
         "male",
         "43",
         "07-12-2022 20:15",
         "05-05-2019",
         null,
         "7",
         "568.29",
         "Artist",
         "Playing sports",
         "FALSE"
        ],
        [
         "amxga386",
         "Gary Moore",
         "garymoore386@slingacademy.com",
         "6450 John Lodge Territon, KY 95945",
         "male",
         "71",
         "07-12-2021 20:15",
         "20-05-2020",
         null,
         "11",
         "568.92",
         "Artist",
         "Swimming",
         "TRUE"
        ],
        [
         "amxj944",
         "John Walker",
         "johnwalker944@slingacademy.com",
         "27265 Murray Island Kevinfort, PA 63231",
         "male",
         "44",
         "07-12-2022 20:15",
         "04-04-2020",
         null,
         "11",
         "497.12",
         "Clerk",
         "Painting",
         "FALSE"
        ],
        [
         "amxer176",
         "Eric Carter",
         "ericcarter176@slingacademy.com",
         "USNS Knight FPO AA 76532",
         "male",
         "38",
         "07-12-2022 20:15",
         "30-01-2019",
         null,
         "17",
         "834.6",
         "Butcher",
         "Playing musical instruments",
         "FALSE"
        ],
        [
         "amxwi427",
         "William Jackson",
         "williamjackson427@slingacademy.com",
         "170 Jackson Loaf Kristenland, AS 48876",
         "male",
         "58",
         "10-12-2022 20:15",
         "01-07-2022",
         null,
         "14",
         "151.59",
         "Engineer",
         "Reading",
         "FALSE"
        ],
        [
         "amxni228",
         "Nicole Jones",
         "nicolejones228@slingacademy.com",
         "14354 Baker Harbor Apt. 017 Ericville, HI 11192",
         "female",
         "33",
         "07-12-2022 20:15",
         "07-08-2021",
         null,
         "19",
         "33.17",
         "Unemployed",
         "Running",
         "TRUE"
        ],
        [
         "amxda980",
         "David Davis",
         "daviddavis980@slingacademy.com",
         "021 Katherine Mall Jameston, DC 24685",
         "male",
         "59",
         "07-12-2022 20:15",
         "16-06-2022",
         null,
         "9",
         "970.96",
         "Doctor",
         "Playing sports",
         "FALSE"
        ],
        [
         "amxja889",
         "Jason Montgomery",
         "jasonmontgomery889@slingacademy.com",
         "14657 Scott Loop Apt. 735 Port Ashley, NH 34470",
         "male",
         "58",
         "07-12-2023 20:15",
         "13-11-2021",
         null,
         "12",
         "676.2",
         "Waitress",
         "Collecting",
         "FALSE"
        ],
        [
         "amxke695",
         "Kent Weaver",
         "kentweaver695@slingacademy.com",
         "6644 Mitchell Burg Victorhaven, KS 66356",
         "male",
         "61",
         "07-01-2022 20:15",
         "11-06-2023",
         null,
         "1",
         "674.37",
         "Clerk",
         "Hiking",
         "FALSE"
        ],
        [
         "amxda573",
         "Darrell Dillon",
         "darrelldillon573@slingacademy.com",
         "PSC 7267, Box 9911 APO AE 49343",
         "male",
         "50",
         "07-0-2022 20:15",
         "13-09-2022",
         null,
         "12",
         "750.72",
         "Dentist",
         "Watching movies",
         "FALSE"
        ],
        [
         "amxja322",
         "Jacqueline Wang",
         "jacquelinewang322@slingacademy.com",
         "16963 Stewart Curve Suite 27 South Cameron, ND 25136",
         "female",
         "22",
         "07-12-2022 20:15",
         "08-02-2023",
         null,
         "12",
         "962.47",
         "Housewife",
         "Collecting",
         "FALSE"
        ],
        [
         "amxjo185",
         "Jodi Gonzalez",
         "jodigonzalez185@slingacademy.com",
         "378 Johnson Oval South Stacie, RI 76332",
         "female",
         "69",
         "07-12-2022 20:15",
         "25-06-2021",
         null,
         "12",
         "68.67",
         "Baker",
         "Photography",
         "FALSE"
        ],
        [
         "amxom769",
         "Omar Martin",
         "omarmartin769@slingacademy.com",
         "Unit 9103 Box 4771 DPO AA 16592",
         "male",
         "28",
         "07-12-2022 20:15",
         "28-05-2023",
         null,
         "3",
         "162.58",
         "Doctor",
         "Gardening",
         "TRUE"
        ],
        [
         "amxni473",
         "Nicole Lara",
         "nicolelara473@slingacademy.com",
         "9822 Lisa Courts Johnhaven, IL 80438",
         "female",
         "77",
         "07-01-2022 20:15",
         "03-03-2023",
         null,
         "17",
         "309.81",
         "Janitor",
         "Hiking",
         "TRUE"
        ],
        [
         "amxja753",
         "Jason Brown",
         "jasonbrown753@slingacademy.com",
         "7310 Romero Summit East Scotttown, DC 53183",
         "male",
         "63",
         "07-14-2022  20:15:39",
         "05-12-2022",
         null,
         "13",
         "763.27",
         "Lawyer",
         "Fishing",
         "TRUE"
        ],
        [
         "amxda257",
         "David Benson",
         "davidbenson257@slingacademy.com",
         "444 Derek Summit Lisaborough, WA 20685",
         "male",
         "61",
         "07-12-2022 20:15",
         "15-04-2022",
         null,
         "17",
         "111.11",
         "Lawyer",
         "Meditation",
         "TRUE"
        ],
        [
         "amxki513",
         "Kimberly Mora",
         "kimberlymora513@slingacademy.com",
         "7679 Perry Square West Amybury, RI 15144",
         "female",
         "34",
         "07-12-2022 20:15",
         "19-05-2019",
         null,
         "10",
         "208.46",
         "Farmer",
         "Collecting",
         "FALSE"
        ],
        [
         "amxer904",
         "Erik Macias",
         "erikmacias904@wingacademy.com",
         "568 Christopher Tunnel Toddburgh, DE 86966",
         "male",
         "25",
         "07-12-2022 20:15",
         "18-04-2020",
         null,
         "8",
         "439.53",
         "Accountant",
         "Fishing",
         "FALSE"
        ],
        [
         "amxja681",
         "James Johnson",
         "jamesjohnson681@wingacademy.com",
         "19870 Sean Parkway North Jamesfurt, NC 28950",
         "male",
         "67",
         "07-08-2022 20:15",
         "17-02-2019",
         null,
         "5",
         "394.95",
         "Security Guard",
         "Watching movies",
         "FALSE"
        ],
        [
         "amxde324",
         "Derek Peterson",
         "derekpeterson324@wingacademy.com",
         "70830 Jonathan Pine Wilcoxburgh, MI 38265",
         "male",
         "36",
         "07-12-2022 20:15",
         "15-12-2020",
         null,
         "2",
         "153.8",
         "Architect",
         "Photography",
         "TRUE"
        ],
        [
         "amxdi438",
         "Diane Henson",
         "dianehenson438@wingacademy.com",
         "86382 Baker Ports Apt. 074 Cookfurt, NM 54313",
         "female",
         "74",
         "07-12-2022 20:15",
         "21-03-2020",
         null,
         "19",
         "62.52",
         "Butcher",
         "Playing musical instruments",
         "FALSE"
        ],
        [
         "amxco721",
         "Cody Lyons",
         "codylyons721@wingacademy.com",
         "60971 Carrillo Square Suite 141 New Kimberlybury, AS 02128",
         "male",
         "47",
         "07-12-2022 20:15",
         "25-11-2019",
         null,
         "14",
         "43.17",
         "Baker",
         "Hunting",
         "FALSE"
        ],
        [
         "amxma249",
         "Margaret Hardy",
         "margarethardy249@wingacademy.com",
         "2900 Sandra Villages Apt. 985 Phillipsstad, NH 19830",
         "female",
         "25",
         "07-12-2022 20:15",
         "17-07-2021",
         null,
         "9",
         "455.27",
         "Barber",
         "Other",
         "FALSE"
        ],
        [
         "amxar881",
         "Arthur Hayes",
         "arthurhayes881@wingacademy.com",
         "353 Elizabeth Forest Deannachester, NM 66952",
         "male",
         "75",
         "07-15-2022  20:15:39",
         "01-04-2021",
         null,
         "6",
         "749.78",
         "Chef",
         "Sewing",
         "FALSE"
        ],
        [
         "amxra702",
         "Raymond Taylor",
         "raymondtaylor702@wingacademy.com",
         "07867 John Mills Apt. 985 Tinaville, ID 59142",
         "male",
         "36",
         "07-12-2022 20:15",
         "24-09-2021",
         null,
         "6",
         "125.18",
         "Butcher",
         "Playing musical instruments",
         "FALSE"
        ],
        [
         "amxti476",
         "Tina Moore",
         "tinamoore476@wingacademy.com",
         "50984 Shelly Pass Port Nicholas, SC 48629",
         "female",
         "34",
         "07-12-2022 20:15",
         "15-07-2020",
         null,
         "17",
         "888.53",
         "Chef",
         "Running",
         "FALSE"
        ],
        [
         "amxky170",
         "Kylie White",
         "kyliewhite170@wingacademy.com",
         "5004 Christine Falls Suite 217 Jasonburgh, NJ 75688",
         "female",
         "63",
         "07-12-2022 20:15",
         "03-02-2020",
         null,
         "6",
         "872.18",
         "Janitor",
         "Reading",
         "TRUE"
        ],
        [
         "amxjo648",
         "Jonathan Manning",
         "jonathanmanning648@wingacademy.com",
         "1501 Gregory Glens Suite 940 Stephensstad, GU 55206",
         "male",
         "30",
         "07-12-2022 20:15",
         "21-01-2022",
         null,
         "0",
         "178.54",
         "Librarian",
         "Playing sports",
         "FALSE"
        ],
        [
         "amxan256",
         "Angela Bryant",
         "angelabryant256@wingacademy.com",
         "01454 Christopher Turnpike North Ryanstad, MI 36226",
         "female",
         "23",
         "07-12-2022 20:15",
         "11-09-2019",
         null,
         "3",
         "525.2",
         "Politician",
         "Cycling",
         "FALSE"
        ]
       ],
       "datasetInfos": [],
       "dbfsResultPath": null,
       "isJsonSchema": true,
       "metadata": {},
       "overflow": false,
       "plotOptions": {
        "customPlotOptions": {},
        "displayType": "table",
        "pivotAggregation": null,
        "pivotColumns": null,
        "xColumns": null,
        "yColumns": null
       },
       "removedWidgets": [],
       "schema": [
        {
         "metadata": "{}",
         "name": "customer_id",
         "type": "\"string\""
        },
        {
         "metadata": "{}",
         "name": "Name",
         "type": "\"string\""
        },
        {
         "metadata": "{}",
         "name": "Email Id",
         "type": "\"string\""
        },
        {
         "metadata": "{}",
         "name": "address",
         "type": "\"string\""
        },
        {
         "metadata": "{}",
         "name": "gender",
         "type": "\"string\""
        },
        {
         "metadata": "{}",
         "name": "age",
         "type": "\"string\""
        },
        {
         "metadata": "{}",
         "name": "Joining Date",
         "type": "\"string\""
        },
        {
         "metadata": "{}",
         "name": "registered",
         "type": "\"string\""
        },
        {
         "metadata": "{}",
         "name": "order ID",
         "type": "\"string\""
        },
        {
         "metadata": "{}",
         "name": "orders",
         "type": "\"string\""
        },
        {
         "metadata": "{}",
         "name": "spent",
         "type": "\"string\""
        },
        {
         "metadata": "{}",
         "name": "job",
         "type": "\"string\""
        },
        {
         "metadata": "{}",
         "name": "hobbies",
         "type": "\"string\""
        },
        {
         "metadata": "{}",
         "name": "is_married",
         "type": "\"string\""
        }
       ],
       "type": "table"
      }
     },
     "output_type": "display_data"
    }
   ],
   "source": [
    "df.withColumnRenamed('Customer Id', 'customer_id').display()"
   ]
  },
  {
   "cell_type": "code",
   "execution_count": 0,
   "metadata": {
    "application/vnd.databricks.v1+cell": {
     "cellMetadata": {
      "byteLimit": 2048000,
      "rowLimit": 10000
     },
     "inputWidgets": {},
     "nuid": "27360b03-c042-4701-a704-f29bbe645c83",
     "showTitle": false,
     "title": ""
    }
   },
   "outputs": [
    {
     "output_type": "display_data",
     "data": {
      "text/html": [
       "<style scoped>\n",
       "  .table-result-container {\n",
       "    max-height: 300px;\n",
       "    overflow: auto;\n",
       "  }\n",
       "  table, th, td {\n",
       "    border: 1px solid black;\n",
       "    border-collapse: collapse;\n",
       "  }\n",
       "  th, td {\n",
       "    padding: 5px;\n",
       "  }\n",
       "  th {\n",
       "    text-align: left;\n",
       "  }\n",
       "</style><div class='table-result-container'><table class='table-result'><thead style='background-color: white'><tr><th>job</th><th>Avg</th></tr></thead><tbody><tr><td>Security Guard</td><td>394.95</td></tr><tr><td>Lawyer</td><td>874.38</td></tr><tr><td>Chef</td><td>1638.31</td></tr><tr><td>Architect</td><td>153.8</td></tr><tr><td>Librarian</td><td>178.54</td></tr><tr><td>Janitor</td><td>1181.99</td></tr><tr><td>Butcher</td><td>1022.3</td></tr><tr><td>Farmer</td><td>208.46</td></tr><tr><td>Barber</td><td>455.27</td></tr><tr><td>Artist</td><td>1137.21</td></tr><tr><td>Clerk</td><td>1171.49</td></tr><tr><td>Baker</td><td>111.84</td></tr><tr><td>Doctor</td><td>1133.54</td></tr><tr><td>Engineer</td><td>151.59</td></tr><tr><td>Housewife</td><td>962.47</td></tr><tr><td>Accountant</td><td>439.53</td></tr><tr><td>Waitress</td><td>676.2</td></tr><tr><td>Politician</td><td>525.2</td></tr><tr><td>Dentist</td><td>750.72</td></tr><tr><td>Unemployed</td><td>33.17</td></tr></tbody></table></div>"
      ]
     },
     "metadata": {
      "application/vnd.databricks.v1+output": {
       "addedWidgets": {},
       "aggData": [],
       "aggError": "",
       "aggOverflow": false,
       "aggSchema": [],
       "aggSeriesLimitReached": false,
       "aggType": "",
       "arguments": {},
       "columnCustomDisplayInfos": {},
       "data": [
        [
         "Security Guard",
         394.95
        ],
        [
         "Lawyer",
         874.38
        ],
        [
         "Chef",
         1638.31
        ],
        [
         "Architect",
         153.8
        ],
        [
         "Librarian",
         178.54
        ],
        [
         "Janitor",
         1181.99
        ],
        [
         "Butcher",
         1022.3
        ],
        [
         "Farmer",
         208.46
        ],
        [
         "Barber",
         455.27
        ],
        [
         "Artist",
         1137.21
        ],
        [
         "Clerk",
         1171.49
        ],
        [
         "Baker",
         111.84
        ],
        [
         "Doctor",
         1133.54
        ],
        [
         "Engineer",
         151.59
        ],
        [
         "Housewife",
         962.47
        ],
        [
         "Accountant",
         439.53
        ],
        [
         "Waitress",
         676.2
        ],
        [
         "Politician",
         525.2
        ],
        [
         "Dentist",
         750.72
        ],
        [
         "Unemployed",
         33.17
        ]
       ],
       "datasetInfos": [],
       "dbfsResultPath": null,
       "isJsonSchema": true,
       "metadata": {},
       "overflow": false,
       "plotOptions": {
        "customPlotOptions": {},
        "displayType": "table",
        "pivotAggregation": null,
        "pivotColumns": null,
        "xColumns": null,
        "yColumns": null
       },
       "removedWidgets": [],
       "schema": [
        {
         "metadata": "{}",
         "name": "job",
         "type": "\"string\""
        },
        {
         "metadata": "{}",
         "name": "Avg",
         "type": "\"double\""
        }
       ],
       "type": "table"
      }
     },
     "output_type": "display_data"
    }
   ],
   "source": [
    "df.groupBy('job').agg(sum('spent').alias('Avg')).display()"
   ]
  },
  {
   "cell_type": "code",
   "execution_count": 0,
   "metadata": {
    "application/vnd.databricks.v1+cell": {
     "cellMetadata": {
      "byteLimit": 2048000,
      "rowLimit": 10000
     },
     "inputWidgets": {},
     "nuid": "08d9cbf9-3386-4719-8c2d-b231e8e91ae8",
     "showTitle": false,
     "title": ""
    }
   },
   "outputs": [
    {
     "output_type": "display_data",
     "data": {
      "text/html": [
       "<style scoped>\n",
       "  .table-result-container {\n",
       "    max-height: 300px;\n",
       "    overflow: auto;\n",
       "  }\n",
       "  table, th, td {\n",
       "    border: 1px solid black;\n",
       "    border-collapse: collapse;\n",
       "  }\n",
       "  th, td {\n",
       "    padding: 5px;\n",
       "  }\n",
       "  th {\n",
       "    text-align: left;\n",
       "  }\n",
       "</style><div class='table-result-container'><table class='table-result'><thead style='background-color: white'><tr><th>Email Id</th><th>count</th></tr></thead><tbody><tr><td>nicolelara473@slingacademy.com</td><td>1</td></tr><tr><td>kyliewhite170@wingacademy.com</td><td>1</td></tr><tr><td>angelabryant256@wingacademy.com</td><td>1</td></tr><tr><td>johnwalker944@slingacademy.com</td><td>1</td></tr><tr><td>darrelldillon573@slingacademy.com</td><td>1</td></tr><tr><td>jasonbrown753@slingacademy.com</td><td>1</td></tr><tr><td>margarethardy249@wingacademy.com</td><td>1</td></tr><tr><td>nicolejones228@slingacademy.com</td><td>1</td></tr><tr><td>ericcarter176@slingacademy.com</td><td>1</td></tr><tr><td>jodigonzalez185@slingacademy.com</td><td>1</td></tr><tr><td>omarmartin769@slingacademy.com</td><td>1</td></tr><tr><td>jacquelinewang322@slingacademy.com</td><td>1</td></tr><tr><td>erikmacias904@wingacademy.com</td><td>1</td></tr><tr><td>dianehenson438@wingacademy.com</td><td>1</td></tr><tr><td>tinamoore476@wingacademy.com</td><td>1</td></tr><tr><td>raymondtaylor702@wingacademy.com</td><td>1</td></tr><tr><td>jasonmontgomery889@slingacademy.com</td><td>1</td></tr><tr><td>kentweaver695@slingacademy.com</td><td>1</td></tr><tr><td>derekpeterson324@wingacademy.com</td><td>1</td></tr><tr><td>jamesjohnson681@wingacademy.com</td><td>1</td></tr><tr><td>kimberlymora513@slingacademy.com</td><td>1</td></tr><tr><td>williamjackson427@slingacademy.com</td><td>1</td></tr><tr><td>arthurhayes881@wingacademy.com</td><td>1</td></tr><tr><td>garymoore386@slingacademy.com</td><td>1</td></tr><tr><td>daviddavis980@slingacademy.com</td><td>1</td></tr><tr><td>jonathanmanning648@wingacademy.com</td><td>1</td></tr><tr><td>josephrice131@slingacademy.com</td><td>1</td></tr><tr><td>codylyons721@wingacademy.com</td><td>1</td></tr><tr><td>davidbenson257@slingacademy.com</td><td>1</td></tr></tbody></table></div>"
      ]
     },
     "metadata": {
      "application/vnd.databricks.v1+output": {
       "addedWidgets": {},
       "aggData": [],
       "aggError": "",
       "aggOverflow": false,
       "aggSchema": [],
       "aggSeriesLimitReached": false,
       "aggType": "",
       "arguments": {},
       "columnCustomDisplayInfos": {},
       "data": [
        [
         "nicolelara473@slingacademy.com",
         1
        ],
        [
         "kyliewhite170@wingacademy.com",
         1
        ],
        [
         "angelabryant256@wingacademy.com",
         1
        ],
        [
         "johnwalker944@slingacademy.com",
         1
        ],
        [
         "darrelldillon573@slingacademy.com",
         1
        ],
        [
         "jasonbrown753@slingacademy.com",
         1
        ],
        [
         "margarethardy249@wingacademy.com",
         1
        ],
        [
         "nicolejones228@slingacademy.com",
         1
        ],
        [
         "ericcarter176@slingacademy.com",
         1
        ],
        [
         "jodigonzalez185@slingacademy.com",
         1
        ],
        [
         "omarmartin769@slingacademy.com",
         1
        ],
        [
         "jacquelinewang322@slingacademy.com",
         1
        ],
        [
         "erikmacias904@wingacademy.com",
         1
        ],
        [
         "dianehenson438@wingacademy.com",
         1
        ],
        [
         "tinamoore476@wingacademy.com",
         1
        ],
        [
         "raymondtaylor702@wingacademy.com",
         1
        ],
        [
         "jasonmontgomery889@slingacademy.com",
         1
        ],
        [
         "kentweaver695@slingacademy.com",
         1
        ],
        [
         "derekpeterson324@wingacademy.com",
         1
        ],
        [
         "jamesjohnson681@wingacademy.com",
         1
        ],
        [
         "kimberlymora513@slingacademy.com",
         1
        ],
        [
         "williamjackson427@slingacademy.com",
         1
        ],
        [
         "arthurhayes881@wingacademy.com",
         1
        ],
        [
         "garymoore386@slingacademy.com",
         1
        ],
        [
         "daviddavis980@slingacademy.com",
         1
        ],
        [
         "jonathanmanning648@wingacademy.com",
         1
        ],
        [
         "josephrice131@slingacademy.com",
         1
        ],
        [
         "codylyons721@wingacademy.com",
         1
        ],
        [
         "davidbenson257@slingacademy.com",
         1
        ]
       ],
       "datasetInfos": [],
       "dbfsResultPath": null,
       "isJsonSchema": true,
       "metadata": {},
       "overflow": false,
       "plotOptions": {
        "customPlotOptions": {},
        "displayType": "table",
        "pivotAggregation": null,
        "pivotColumns": null,
        "xColumns": null,
        "yColumns": null
       },
       "removedWidgets": [],
       "schema": [
        {
         "metadata": "{}",
         "name": "Email Id",
         "type": "\"string\""
        },
        {
         "metadata": "{}",
         "name": "count",
         "type": "\"long\""
        }
       ],
       "type": "table"
      }
     },
     "output_type": "display_data"
    }
   ],
   "source": [
    "df.groupBy('Email Id').count().display()"
   ]
  },
  {
   "cell_type": "code",
   "execution_count": 0,
   "metadata": {
    "application/vnd.databricks.v1+cell": {
     "cellMetadata": {
      "byteLimit": 2048000,
      "rowLimit": 10000
     },
     "inputWidgets": {},
     "nuid": "422d59a4-b058-461b-b79e-6ef5dfc9f879",
     "showTitle": false,
     "title": ""
    }
   },
   "outputs": [
    {
     "output_type": "display_data",
     "data": {
      "text/html": [
       "<style scoped>\n",
       "  .table-result-container {\n",
       "    max-height: 300px;\n",
       "    overflow: auto;\n",
       "  }\n",
       "  table, th, td {\n",
       "    border: 1px solid black;\n",
       "    border-collapse: collapse;\n",
       "  }\n",
       "  th, td {\n",
       "    padding: 5px;\n",
       "  }\n",
       "  th {\n",
       "    text-align: left;\n",
       "  }\n",
       "</style><div class='table-result-container'><table class='table-result'><thead style='background-color: white'><tr><th>gender</th><th>count</th></tr></thead><tbody><tr><td>female</td><td>10</td></tr><tr><td>male</td><td>19</td></tr></tbody></table></div>"
      ]
     },
     "metadata": {
      "application/vnd.databricks.v1+output": {
       "addedWidgets": {},
       "aggData": [],
       "aggError": "",
       "aggOverflow": false,
       "aggSchema": [],
       "aggSeriesLimitReached": false,
       "aggType": "",
       "arguments": {},
       "columnCustomDisplayInfos": {},
       "data": [
        [
         "female",
         10
        ],
        [
         "male",
         19
        ]
       ],
       "datasetInfos": [],
       "dbfsResultPath": null,
       "isJsonSchema": true,
       "metadata": {},
       "overflow": false,
       "plotOptions": {
        "customPlotOptions": {},
        "displayType": "table",
        "pivotAggregation": null,
        "pivotColumns": null,
        "xColumns": null,
        "yColumns": null
       },
       "removedWidgets": [],
       "schema": [
        {
         "metadata": "{}",
         "name": "gender",
         "type": "\"string\""
        },
        {
         "metadata": "{}",
         "name": "count",
         "type": "\"long\""
        }
       ],
       "type": "table"
      }
     },
     "output_type": "display_data"
    }
   ],
   "source": [
    "df.groupBy('gender').count()"
   ]
  },
  {
   "cell_type": "code",
   "execution_count": 0,
   "metadata": {
    "application/vnd.databricks.v1+cell": {
     "cellMetadata": {
      "byteLimit": 2048000,
      "rowLimit": 10000
     },
     "inputWidgets": {},
     "nuid": "8bcbd5e7-770d-4529-a6ba-0f50a4dc6f7b",
     "showTitle": false,
     "title": ""
    }
   },
   "outputs": [
    {
     "output_type": "display_data",
     "data": {
      "text/html": [
       "<style scoped>\n",
       "  .table-result-container {\n",
       "    max-height: 300px;\n",
       "    overflow: auto;\n",
       "  }\n",
       "  table, th, td {\n",
       "    border: 1px solid black;\n",
       "    border-collapse: collapse;\n",
       "  }\n",
       "  th, td {\n",
       "    padding: 5px;\n",
       "  }\n",
       "  th {\n",
       "    text-align: left;\n",
       "  }\n",
       "</style><div class='table-result-container'><table class='table-result'><thead style='background-color: white'><tr><th>gender</th><th>count</th></tr></thead><tbody><tr><td>male</td><td>19</td></tr></tbody></table></div>"
      ]
     },
     "metadata": {
      "application/vnd.databricks.v1+output": {
       "addedWidgets": {},
       "aggData": [],
       "aggError": "",
       "aggOverflow": false,
       "aggSchema": [],
       "aggSeriesLimitReached": false,
       "aggType": "",
       "arguments": {},
       "columnCustomDisplayInfos": {},
       "data": [
        [
         "male",
         19
        ]
       ],
       "datasetInfos": [],
       "dbfsResultPath": null,
       "isJsonSchema": true,
       "metadata": {},
       "overflow": false,
       "plotOptions": {
        "customPlotOptions": {},
        "displayType": "table",
        "pivotAggregation": null,
        "pivotColumns": null,
        "xColumns": null,
        "yColumns": null
       },
       "removedWidgets": [],
       "schema": [
        {
         "metadata": "{}",
         "name": "gender",
         "type": "\"string\""
        },
        {
         "metadata": "{}",
         "name": "count",
         "type": "\"long\""
        }
       ],
       "type": "table"
      }
     },
     "output_type": "display_data"
    }
   ],
   "source": [
    "male_count = df.groupBy('gender').count().filter(\"gender = 'male'\").display()"
   ]
  },
  {
   "cell_type": "code",
   "execution_count": 0,
   "metadata": {
    "application/vnd.databricks.v1+cell": {
     "cellMetadata": {
      "byteLimit": 2048000,
      "rowLimit": 10000
     },
     "inputWidgets": {},
     "nuid": "fcc89687-397f-4b19-995a-17537059dc6e",
     "showTitle": false,
     "title": ""
    }
   },
   "outputs": [
    {
     "output_type": "stream",
     "name": "stdout",
     "output_type": "stream",
     "text": [
      "19"
     ]
    }
   ],
   "source": [
    "df1=df.filter(col('gender')=='male').count()\n",
    "display(df1)"
   ]
  },
  {
   "cell_type": "code",
   "execution_count": 0,
   "metadata": {
    "application/vnd.databricks.v1+cell": {
     "cellMetadata": {
      "byteLimit": 2048000,
      "rowLimit": 10000
     },
     "inputWidgets": {},
     "nuid": "59b3d3d4-1b3c-435c-a897-60b58a603a73",
     "showTitle": false,
     "title": ""
    }
   },
   "outputs": [
    {
     "output_type": "display_data",
     "data": {
      "text/html": [
       "<style scoped>\n",
       "  .table-result-container {\n",
       "    max-height: 300px;\n",
       "    overflow: auto;\n",
       "  }\n",
       "  table, th, td {\n",
       "    border: 1px solid black;\n",
       "    border-collapse: collapse;\n",
       "  }\n",
       "  th, td {\n",
       "    padding: 5px;\n",
       "  }\n",
       "  th {\n",
       "    text-align: left;\n",
       "  }\n",
       "</style><div class='table-result-container'><table class='table-result'><thead style='background-color: white'><tr><th>gender</th><th>new_gender</th></tr></thead><tbody><tr><td>male</td><td>M</td></tr><tr><td>male</td><td>M</td></tr><tr><td>male</td><td>M</td></tr><tr><td>male</td><td>M</td></tr><tr><td>male</td><td>M</td></tr><tr><td>female</td><td>F</td></tr><tr><td>male</td><td>M</td></tr><tr><td>male</td><td>M</td></tr><tr><td>male</td><td>M</td></tr><tr><td>male</td><td>M</td></tr><tr><td>female</td><td>F</td></tr><tr><td>female</td><td>F</td></tr><tr><td>male</td><td>M</td></tr><tr><td>female</td><td>F</td></tr><tr><td>male</td><td>M</td></tr><tr><td>male</td><td>M</td></tr><tr><td>female</td><td>F</td></tr><tr><td>male</td><td>M</td></tr><tr><td>male</td><td>M</td></tr><tr><td>male</td><td>M</td></tr><tr><td>female</td><td>F</td></tr><tr><td>male</td><td>M</td></tr><tr><td>female</td><td>F</td></tr><tr><td>male</td><td>M</td></tr><tr><td>male</td><td>M</td></tr><tr><td>female</td><td>F</td></tr><tr><td>female</td><td>F</td></tr><tr><td>male</td><td>M</td></tr><tr><td>female</td><td>F</td></tr></tbody></table></div>"
      ]
     },
     "metadata": {
      "application/vnd.databricks.v1+output": {
       "addedWidgets": {},
       "aggData": [],
       "aggError": "",
       "aggOverflow": false,
       "aggSchema": [],
       "aggSeriesLimitReached": false,
       "aggType": "",
       "arguments": {},
       "columnCustomDisplayInfos": {},
       "data": [
        [
         "male",
         "M"
        ],
        [
         "male",
         "M"
        ],
        [
         "male",
         "M"
        ],
        [
         "male",
         "M"
        ],
        [
         "male",
         "M"
        ],
        [
         "female",
         "F"
        ],
        [
         "male",
         "M"
        ],
        [
         "male",
         "M"
        ],
        [
         "male",
         "M"
        ],
        [
         "male",
         "M"
        ],
        [
         "female",
         "F"
        ],
        [
         "female",
         "F"
        ],
        [
         "male",
         "M"
        ],
        [
         "female",
         "F"
        ],
        [
         "male",
         "M"
        ],
        [
         "male",
         "M"
        ],
        [
         "female",
         "F"
        ],
        [
         "male",
         "M"
        ],
        [
         "male",
         "M"
        ],
        [
         "male",
         "M"
        ],
        [
         "female",
         "F"
        ],
        [
         "male",
         "M"
        ],
        [
         "female",
         "F"
        ],
        [
         "male",
         "M"
        ],
        [
         "male",
         "M"
        ],
        [
         "female",
         "F"
        ],
        [
         "female",
         "F"
        ],
        [
         "male",
         "M"
        ],
        [
         "female",
         "F"
        ]
       ],
       "datasetInfos": [],
       "dbfsResultPath": null,
       "isJsonSchema": true,
       "metadata": {},
       "overflow": false,
       "plotOptions": {
        "customPlotOptions": {},
        "displayType": "table",
        "pivotAggregation": null,
        "pivotColumns": null,
        "xColumns": null,
        "yColumns": null
       },
       "removedWidgets": [],
       "schema": [
        {
         "metadata": "{}",
         "name": "gender",
         "type": "\"string\""
        },
        {
         "metadata": "{}",
         "name": "new_gender",
         "type": "\"string\""
        }
       ],
       "type": "table"
      }
     },
     "output_type": "display_data"
    }
   ],
   "source": [
    "df.select(col(\"gender\"),when(df.gender == \"male\",\"M\").when(df.gender == \"female\",\"F\").when(df.gender.isNull() ,\"\").otherwise(df.gender).alias(\"new_gender\")).display()"
   ]
  },
  {
   "cell_type": "code",
   "execution_count": 0,
   "metadata": {
    "application/vnd.databricks.v1+cell": {
     "cellMetadata": {
      "byteLimit": 2048000,
      "rowLimit": 10000
     },
     "inputWidgets": {},
     "nuid": "c575af71-4586-42e0-aeb5-a207716f7cc9",
     "showTitle": false,
     "title": ""
    }
   },
   "outputs": [
    {
     "output_type": "display_data",
     "data": {
      "text/html": [
       "<style scoped>\n",
       "  .table-result-container {\n",
       "    max-height: 300px;\n",
       "    overflow: auto;\n",
       "  }\n",
       "  table, th, td {\n",
       "    border: 1px solid black;\n",
       "    border-collapse: collapse;\n",
       "  }\n",
       "  th, td {\n",
       "    padding: 5px;\n",
       "  }\n",
       "  th {\n",
       "    text-align: left;\n",
       "  }\n",
       "</style><div class='table-result-container'><table class='table-result'><thead style='background-color: white'><tr><th>Customer Id</th><th>Name</th><th>Email Id</th><th>address</th><th>gender</th><th>age</th><th>Joining Date</th><th>registered</th><th>order ID</th><th>orders</th><th>spent</th><th>job</th><th>hobbies</th><th>is_married</th></tr></thead><tbody><tr><td>amxjo131</td><td>Joseph Rice</td><td>josephrice131@slingacademy.com</td><td>91773 Miller Shoal Diaztown, FL 38841</td><td>M</td><td>43</td><td>07-12-2022 20:15</td><td>05-05-2019</td><td>null</td><td>7</td><td>568.29</td><td>Artist</td><td>Playing sports</td><td>FALSE</td></tr><tr><td>amxga386</td><td>Gary Moore</td><td>garymoore386@slingacademy.com</td><td>6450 John Lodge Territon, KY 95945</td><td>M</td><td>71</td><td>07-12-2021 20:15</td><td>20-05-2020</td><td>null</td><td>11</td><td>568.92</td><td>Artist</td><td>Swimming</td><td>TRUE</td></tr><tr><td>amxj944</td><td>John Walker</td><td>johnwalker944@slingacademy.com</td><td>27265 Murray Island Kevinfort, PA 63231</td><td>M</td><td>44</td><td>07-12-2022 20:15</td><td>04-04-2020</td><td>null</td><td>11</td><td>497.12</td><td>Clerk</td><td>Painting</td><td>FALSE</td></tr><tr><td>amxer176</td><td>Eric Carter</td><td>ericcarter176@slingacademy.com</td><td>USNS Knight FPO AA 76532</td><td>M</td><td>38</td><td>07-12-2022 20:15</td><td>30-01-2019</td><td>null</td><td>17</td><td>834.6</td><td>Butcher</td><td>Playing musical instruments</td><td>FALSE</td></tr><tr><td>amxwi427</td><td>William Jackson</td><td>williamjackson427@slingacademy.com</td><td>170 Jackson Loaf Kristenland, AS 48876</td><td>M</td><td>58</td><td>10-12-2022 20:15</td><td>01-07-2022</td><td>null</td><td>14</td><td>151.59</td><td>Engineer</td><td>Reading</td><td>FALSE</td></tr><tr><td>amxni228</td><td>Nicole Jones</td><td>nicolejones228@slingacademy.com</td><td>14354 Baker Harbor Apt. 017 Ericville, HI 11192</td><td>F</td><td>33</td><td>07-12-2022 20:15</td><td>07-08-2021</td><td>null</td><td>19</td><td>33.17</td><td>Unemployed</td><td>Running</td><td>TRUE</td></tr><tr><td>amxda980</td><td>David Davis</td><td>daviddavis980@slingacademy.com</td><td>021 Katherine Mall Jameston, DC 24685</td><td>M</td><td>59</td><td>07-12-2022 20:15</td><td>16-06-2022</td><td>null</td><td>9</td><td>970.96</td><td>Doctor</td><td>Playing sports</td><td>FALSE</td></tr><tr><td>amxja889</td><td>Jason Montgomery</td><td>jasonmontgomery889@slingacademy.com</td><td>14657 Scott Loop Apt. 735 Port Ashley, NH 34470</td><td>M</td><td>58</td><td>07-12-2023 20:15</td><td>13-11-2021</td><td>null</td><td>12</td><td>676.2</td><td>Waitress</td><td>Collecting</td><td>FALSE</td></tr><tr><td>amxke695</td><td>Kent Weaver</td><td>kentweaver695@slingacademy.com</td><td>6644 Mitchell Burg Victorhaven, KS 66356</td><td>M</td><td>61</td><td>07-01-2022 20:15</td><td>11-06-2023</td><td>null</td><td>1</td><td>674.37</td><td>Clerk</td><td>Hiking</td><td>FALSE</td></tr><tr><td>amxda573</td><td>Darrell Dillon</td><td>darrelldillon573@slingacademy.com</td><td>PSC 7267, Box 9911 APO AE 49343</td><td>M</td><td>50</td><td>07-0-2022 20:15</td><td>13-09-2022</td><td>null</td><td>12</td><td>750.72</td><td>Dentist</td><td>Watching movies</td><td>FALSE</td></tr><tr><td>amxja322</td><td>Jacqueline Wang</td><td>jacquelinewang322@slingacademy.com</td><td>16963 Stewart Curve Suite 27 South Cameron, ND 25136</td><td>F</td><td>22</td><td>07-12-2022 20:15</td><td>08-02-2023</td><td>null</td><td>12</td><td>962.47</td><td>Housewife</td><td>Collecting</td><td>FALSE</td></tr><tr><td>amxjo185</td><td>Jodi Gonzalez</td><td>jodigonzalez185@slingacademy.com</td><td>378 Johnson Oval South Stacie, RI 76332</td><td>F</td><td>69</td><td>07-12-2022 20:15</td><td>25-06-2021</td><td>null</td><td>12</td><td>68.67</td><td>Baker</td><td>Photography</td><td>FALSE</td></tr><tr><td>amxom769</td><td>Omar Martin</td><td>omarmartin769@slingacademy.com</td><td>Unit 9103 Box 4771 DPO AA 16592</td><td>M</td><td>28</td><td>07-12-2022 20:15</td><td>28-05-2023</td><td>null</td><td>3</td><td>162.58</td><td>Doctor</td><td>Gardening</td><td>TRUE</td></tr><tr><td>amxni473</td><td>Nicole Lara</td><td>nicolelara473@slingacademy.com</td><td>9822 Lisa Courts Johnhaven, IL 80438</td><td>F</td><td>77</td><td>07-01-2022 20:15</td><td>03-03-2023</td><td>null</td><td>17</td><td>309.81</td><td>Janitor</td><td>Hiking</td><td>TRUE</td></tr><tr><td>amxja753</td><td>Jason Brown</td><td>jasonbrown753@slingacademy.com</td><td>7310 Romero Summit East Scotttown, DC 53183</td><td>M</td><td>63</td><td>07-14-2022  20:15:39</td><td>05-12-2022</td><td>null</td><td>13</td><td>763.27</td><td>Lawyer</td><td>Fishing</td><td>TRUE</td></tr><tr><td>amxda257</td><td>David Benson</td><td>davidbenson257@slingacademy.com</td><td>444 Derek Summit Lisaborough, WA 20685</td><td>M</td><td>61</td><td>07-12-2022 20:15</td><td>15-04-2022</td><td>null</td><td>17</td><td>111.11</td><td>Lawyer</td><td>Meditation</td><td>TRUE</td></tr><tr><td>amxki513</td><td>Kimberly Mora</td><td>kimberlymora513@slingacademy.com</td><td>7679 Perry Square West Amybury, RI 15144</td><td>F</td><td>34</td><td>07-12-2022 20:15</td><td>19-05-2019</td><td>null</td><td>10</td><td>208.46</td><td>Farmer</td><td>Collecting</td><td>FALSE</td></tr><tr><td>amxer904</td><td>Erik Macias</td><td>erikmacias904@wingacademy.com</td><td>568 Christopher Tunnel Toddburgh, DE 86966</td><td>M</td><td>25</td><td>07-12-2022 20:15</td><td>18-04-2020</td><td>null</td><td>8</td><td>439.53</td><td>Accountant</td><td>Fishing</td><td>FALSE</td></tr><tr><td>amxja681</td><td>James Johnson</td><td>jamesjohnson681@wingacademy.com</td><td>19870 Sean Parkway North Jamesfurt, NC 28950</td><td>M</td><td>67</td><td>07-08-2022 20:15</td><td>17-02-2019</td><td>null</td><td>5</td><td>394.95</td><td>Security Guard</td><td>Watching movies</td><td>FALSE</td></tr><tr><td>amxde324</td><td>Derek Peterson</td><td>derekpeterson324@wingacademy.com</td><td>70830 Jonathan Pine Wilcoxburgh, MI 38265</td><td>M</td><td>36</td><td>07-12-2022 20:15</td><td>15-12-2020</td><td>null</td><td>2</td><td>153.8</td><td>Architect</td><td>Photography</td><td>TRUE</td></tr><tr><td>amxdi438</td><td>Diane Henson</td><td>dianehenson438@wingacademy.com</td><td>86382 Baker Ports Apt. 074 Cookfurt, NM 54313</td><td>F</td><td>74</td><td>07-12-2022 20:15</td><td>21-03-2020</td><td>null</td><td>19</td><td>62.52</td><td>Butcher</td><td>Playing musical instruments</td><td>FALSE</td></tr><tr><td>amxco721</td><td>Cody Lyons</td><td>codylyons721@wingacademy.com</td><td>60971 Carrillo Square Suite 141 New Kimberlybury, AS 02128</td><td>M</td><td>47</td><td>07-12-2022 20:15</td><td>25-11-2019</td><td>null</td><td>14</td><td>43.17</td><td>Baker</td><td>Hunting</td><td>FALSE</td></tr><tr><td>amxma249</td><td>Margaret Hardy</td><td>margarethardy249@wingacademy.com</td><td>2900 Sandra Villages Apt. 985 Phillipsstad, NH 19830</td><td>F</td><td>25</td><td>07-12-2022 20:15</td><td>17-07-2021</td><td>null</td><td>9</td><td>455.27</td><td>Barber</td><td>Other</td><td>FALSE</td></tr><tr><td>amxar881</td><td>Arthur Hayes</td><td>arthurhayes881@wingacademy.com</td><td>353 Elizabeth Forest Deannachester, NM 66952</td><td>M</td><td>75</td><td>07-15-2022  20:15:39</td><td>01-04-2021</td><td>null</td><td>6</td><td>749.78</td><td>Chef</td><td>Sewing</td><td>FALSE</td></tr><tr><td>amxra702</td><td>Raymond Taylor</td><td>raymondtaylor702@wingacademy.com</td><td>07867 John Mills Apt. 985 Tinaville, ID 59142</td><td>M</td><td>36</td><td>07-12-2022 20:15</td><td>24-09-2021</td><td>null</td><td>6</td><td>125.18</td><td>Butcher</td><td>Playing musical instruments</td><td>FALSE</td></tr><tr><td>amxti476</td><td>Tina Moore</td><td>tinamoore476@wingacademy.com</td><td>50984 Shelly Pass Port Nicholas, SC 48629</td><td>F</td><td>34</td><td>07-12-2022 20:15</td><td>15-07-2020</td><td>null</td><td>17</td><td>888.53</td><td>Chef</td><td>Running</td><td>FALSE</td></tr><tr><td>amxky170</td><td>Kylie White</td><td>kyliewhite170@wingacademy.com</td><td>5004 Christine Falls Suite 217 Jasonburgh, NJ 75688</td><td>F</td><td>63</td><td>07-12-2022 20:15</td><td>03-02-2020</td><td>null</td><td>6</td><td>872.18</td><td>Janitor</td><td>Reading</td><td>TRUE</td></tr><tr><td>amxjo648</td><td>Jonathan Manning</td><td>jonathanmanning648@wingacademy.com</td><td>1501 Gregory Glens Suite 940 Stephensstad, GU 55206</td><td>M</td><td>30</td><td>07-12-2022 20:15</td><td>21-01-2022</td><td>null</td><td>0</td><td>178.54</td><td>Librarian</td><td>Playing sports</td><td>FALSE</td></tr><tr><td>amxan256</td><td>Angela Bryant</td><td>angelabryant256@wingacademy.com</td><td>01454 Christopher Turnpike North Ryanstad, MI 36226</td><td>F</td><td>23</td><td>07-12-2022 20:15</td><td>11-09-2019</td><td>null</td><td>3</td><td>525.2</td><td>Politician</td><td>Cycling</td><td>FALSE</td></tr></tbody></table></div>"
      ]
     },
     "metadata": {
      "application/vnd.databricks.v1+output": {
       "addedWidgets": {},
       "aggData": [],
       "aggError": "",
       "aggOverflow": false,
       "aggSchema": [],
       "aggSeriesLimitReached": false,
       "aggType": "",
       "arguments": {},
       "columnCustomDisplayInfos": {},
       "data": [
        [
         "amxjo131",
         "Joseph Rice",
         "josephrice131@slingacademy.com",
         "91773 Miller Shoal Diaztown, FL 38841",
         "M",
         "43",
         "07-12-2022 20:15",
         "05-05-2019",
         null,
         "7",
         "568.29",
         "Artist",
         "Playing sports",
         "FALSE"
        ],
        [
         "amxga386",
         "Gary Moore",
         "garymoore386@slingacademy.com",
         "6450 John Lodge Territon, KY 95945",
         "M",
         "71",
         "07-12-2021 20:15",
         "20-05-2020",
         null,
         "11",
         "568.92",
         "Artist",
         "Swimming",
         "TRUE"
        ],
        [
         "amxj944",
         "John Walker",
         "johnwalker944@slingacademy.com",
         "27265 Murray Island Kevinfort, PA 63231",
         "M",
         "44",
         "07-12-2022 20:15",
         "04-04-2020",
         null,
         "11",
         "497.12",
         "Clerk",
         "Painting",
         "FALSE"
        ],
        [
         "amxer176",
         "Eric Carter",
         "ericcarter176@slingacademy.com",
         "USNS Knight FPO AA 76532",
         "M",
         "38",
         "07-12-2022 20:15",
         "30-01-2019",
         null,
         "17",
         "834.6",
         "Butcher",
         "Playing musical instruments",
         "FALSE"
        ],
        [
         "amxwi427",
         "William Jackson",
         "williamjackson427@slingacademy.com",
         "170 Jackson Loaf Kristenland, AS 48876",
         "M",
         "58",
         "10-12-2022 20:15",
         "01-07-2022",
         null,
         "14",
         "151.59",
         "Engineer",
         "Reading",
         "FALSE"
        ],
        [
         "amxni228",
         "Nicole Jones",
         "nicolejones228@slingacademy.com",
         "14354 Baker Harbor Apt. 017 Ericville, HI 11192",
         "F",
         "33",
         "07-12-2022 20:15",
         "07-08-2021",
         null,
         "19",
         "33.17",
         "Unemployed",
         "Running",
         "TRUE"
        ],
        [
         "amxda980",
         "David Davis",
         "daviddavis980@slingacademy.com",
         "021 Katherine Mall Jameston, DC 24685",
         "M",
         "59",
         "07-12-2022 20:15",
         "16-06-2022",
         null,
         "9",
         "970.96",
         "Doctor",
         "Playing sports",
         "FALSE"
        ],
        [
         "amxja889",
         "Jason Montgomery",
         "jasonmontgomery889@slingacademy.com",
         "14657 Scott Loop Apt. 735 Port Ashley, NH 34470",
         "M",
         "58",
         "07-12-2023 20:15",
         "13-11-2021",
         null,
         "12",
         "676.2",
         "Waitress",
         "Collecting",
         "FALSE"
        ],
        [
         "amxke695",
         "Kent Weaver",
         "kentweaver695@slingacademy.com",
         "6644 Mitchell Burg Victorhaven, KS 66356",
         "M",
         "61",
         "07-01-2022 20:15",
         "11-06-2023",
         null,
         "1",
         "674.37",
         "Clerk",
         "Hiking",
         "FALSE"
        ],
        [
         "amxda573",
         "Darrell Dillon",
         "darrelldillon573@slingacademy.com",
         "PSC 7267, Box 9911 APO AE 49343",
         "M",
         "50",
         "07-0-2022 20:15",
         "13-09-2022",
         null,
         "12",
         "750.72",
         "Dentist",
         "Watching movies",
         "FALSE"
        ],
        [
         "amxja322",
         "Jacqueline Wang",
         "jacquelinewang322@slingacademy.com",
         "16963 Stewart Curve Suite 27 South Cameron, ND 25136",
         "F",
         "22",
         "07-12-2022 20:15",
         "08-02-2023",
         null,
         "12",
         "962.47",
         "Housewife",
         "Collecting",
         "FALSE"
        ],
        [
         "amxjo185",
         "Jodi Gonzalez",
         "jodigonzalez185@slingacademy.com",
         "378 Johnson Oval South Stacie, RI 76332",
         "F",
         "69",
         "07-12-2022 20:15",
         "25-06-2021",
         null,
         "12",
         "68.67",
         "Baker",
         "Photography",
         "FALSE"
        ],
        [
         "amxom769",
         "Omar Martin",
         "omarmartin769@slingacademy.com",
         "Unit 9103 Box 4771 DPO AA 16592",
         "M",
         "28",
         "07-12-2022 20:15",
         "28-05-2023",
         null,
         "3",
         "162.58",
         "Doctor",
         "Gardening",
         "TRUE"
        ],
        [
         "amxni473",
         "Nicole Lara",
         "nicolelara473@slingacademy.com",
         "9822 Lisa Courts Johnhaven, IL 80438",
         "F",
         "77",
         "07-01-2022 20:15",
         "03-03-2023",
         null,
         "17",
         "309.81",
         "Janitor",
         "Hiking",
         "TRUE"
        ],
        [
         "amxja753",
         "Jason Brown",
         "jasonbrown753@slingacademy.com",
         "7310 Romero Summit East Scotttown, DC 53183",
         "M",
         "63",
         "07-14-2022  20:15:39",
         "05-12-2022",
         null,
         "13",
         "763.27",
         "Lawyer",
         "Fishing",
         "TRUE"
        ],
        [
         "amxda257",
         "David Benson",
         "davidbenson257@slingacademy.com",
         "444 Derek Summit Lisaborough, WA 20685",
         "M",
         "61",
         "07-12-2022 20:15",
         "15-04-2022",
         null,
         "17",
         "111.11",
         "Lawyer",
         "Meditation",
         "TRUE"
        ],
        [
         "amxki513",
         "Kimberly Mora",
         "kimberlymora513@slingacademy.com",
         "7679 Perry Square West Amybury, RI 15144",
         "F",
         "34",
         "07-12-2022 20:15",
         "19-05-2019",
         null,
         "10",
         "208.46",
         "Farmer",
         "Collecting",
         "FALSE"
        ],
        [
         "amxer904",
         "Erik Macias",
         "erikmacias904@wingacademy.com",
         "568 Christopher Tunnel Toddburgh, DE 86966",
         "M",
         "25",
         "07-12-2022 20:15",
         "18-04-2020",
         null,
         "8",
         "439.53",
         "Accountant",
         "Fishing",
         "FALSE"
        ],
        [
         "amxja681",
         "James Johnson",
         "jamesjohnson681@wingacademy.com",
         "19870 Sean Parkway North Jamesfurt, NC 28950",
         "M",
         "67",
         "07-08-2022 20:15",
         "17-02-2019",
         null,
         "5",
         "394.95",
         "Security Guard",
         "Watching movies",
         "FALSE"
        ],
        [
         "amxde324",
         "Derek Peterson",
         "derekpeterson324@wingacademy.com",
         "70830 Jonathan Pine Wilcoxburgh, MI 38265",
         "M",
         "36",
         "07-12-2022 20:15",
         "15-12-2020",
         null,
         "2",
         "153.8",
         "Architect",
         "Photography",
         "TRUE"
        ],
        [
         "amxdi438",
         "Diane Henson",
         "dianehenson438@wingacademy.com",
         "86382 Baker Ports Apt. 074 Cookfurt, NM 54313",
         "F",
         "74",
         "07-12-2022 20:15",
         "21-03-2020",
         null,
         "19",
         "62.52",
         "Butcher",
         "Playing musical instruments",
         "FALSE"
        ],
        [
         "amxco721",
         "Cody Lyons",
         "codylyons721@wingacademy.com",
         "60971 Carrillo Square Suite 141 New Kimberlybury, AS 02128",
         "M",
         "47",
         "07-12-2022 20:15",
         "25-11-2019",
         null,
         "14",
         "43.17",
         "Baker",
         "Hunting",
         "FALSE"
        ],
        [
         "amxma249",
         "Margaret Hardy",
         "margarethardy249@wingacademy.com",
         "2900 Sandra Villages Apt. 985 Phillipsstad, NH 19830",
         "F",
         "25",
         "07-12-2022 20:15",
         "17-07-2021",
         null,
         "9",
         "455.27",
         "Barber",
         "Other",
         "FALSE"
        ],
        [
         "amxar881",
         "Arthur Hayes",
         "arthurhayes881@wingacademy.com",
         "353 Elizabeth Forest Deannachester, NM 66952",
         "M",
         "75",
         "07-15-2022  20:15:39",
         "01-04-2021",
         null,
         "6",
         "749.78",
         "Chef",
         "Sewing",
         "FALSE"
        ],
        [
         "amxra702",
         "Raymond Taylor",
         "raymondtaylor702@wingacademy.com",
         "07867 John Mills Apt. 985 Tinaville, ID 59142",
         "M",
         "36",
         "07-12-2022 20:15",
         "24-09-2021",
         null,
         "6",
         "125.18",
         "Butcher",
         "Playing musical instruments",
         "FALSE"
        ],
        [
         "amxti476",
         "Tina Moore",
         "tinamoore476@wingacademy.com",
         "50984 Shelly Pass Port Nicholas, SC 48629",
         "F",
         "34",
         "07-12-2022 20:15",
         "15-07-2020",
         null,
         "17",
         "888.53",
         "Chef",
         "Running",
         "FALSE"
        ],
        [
         "amxky170",
         "Kylie White",
         "kyliewhite170@wingacademy.com",
         "5004 Christine Falls Suite 217 Jasonburgh, NJ 75688",
         "F",
         "63",
         "07-12-2022 20:15",
         "03-02-2020",
         null,
         "6",
         "872.18",
         "Janitor",
         "Reading",
         "TRUE"
        ],
        [
         "amxjo648",
         "Jonathan Manning",
         "jonathanmanning648@wingacademy.com",
         "1501 Gregory Glens Suite 940 Stephensstad, GU 55206",
         "M",
         "30",
         "07-12-2022 20:15",
         "21-01-2022",
         null,
         "0",
         "178.54",
         "Librarian",
         "Playing sports",
         "FALSE"
        ],
        [
         "amxan256",
         "Angela Bryant",
         "angelabryant256@wingacademy.com",
         "01454 Christopher Turnpike North Ryanstad, MI 36226",
         "F",
         "23",
         "07-12-2022 20:15",
         "11-09-2019",
         null,
         "3",
         "525.2",
         "Politician",
         "Cycling",
         "FALSE"
        ]
       ],
       "datasetInfos": [],
       "dbfsResultPath": null,
       "isJsonSchema": true,
       "metadata": {},
       "overflow": false,
       "plotOptions": {
        "customPlotOptions": {},
        "displayType": "table",
        "pivotAggregation": null,
        "pivotColumns": null,
        "xColumns": null,
        "yColumns": null
       },
       "removedWidgets": [],
       "schema": [
        {
         "metadata": "{}",
         "name": "Customer Id",
         "type": "\"string\""
        },
        {
         "metadata": "{}",
         "name": "Name",
         "type": "\"string\""
        },
        {
         "metadata": "{}",
         "name": "Email Id",
         "type": "\"string\""
        },
        {
         "metadata": "{}",
         "name": "address",
         "type": "\"string\""
        },
        {
         "metadata": "{}",
         "name": "gender",
         "type": "\"string\""
        },
        {
         "metadata": "{}",
         "name": "age",
         "type": "\"string\""
        },
        {
         "metadata": "{}",
         "name": "Joining Date",
         "type": "\"string\""
        },
        {
         "metadata": "{}",
         "name": "registered",
         "type": "\"string\""
        },
        {
         "metadata": "{}",
         "name": "order ID",
         "type": "\"string\""
        },
        {
         "metadata": "{}",
         "name": "orders",
         "type": "\"string\""
        },
        {
         "metadata": "{}",
         "name": "spent",
         "type": "\"string\""
        },
        {
         "metadata": "{}",
         "name": "job",
         "type": "\"string\""
        },
        {
         "metadata": "{}",
         "name": "hobbies",
         "type": "\"string\""
        },
        {
         "metadata": "{}",
         "name": "is_married",
         "type": "\"string\""
        }
       ],
       "type": "table"
      }
     },
     "output_type": "display_data"
    }
   ],
   "source": [
    "df.withColumn(\"gender\", expr(\"CASE WHEN gender = 'male' THEN 'M' \" +\"WHEN gender = 'female' THEN 'F' ELSE 'unknown' END\")).display()"
   ]
  },
  {
   "cell_type": "code",
   "execution_count": 0,
   "metadata": {
    "application/vnd.databricks.v1+cell": {
     "cellMetadata": {
      "byteLimit": 2048000,
      "rowLimit": 10000
     },
     "inputWidgets": {},
     "nuid": "830dcfae-8004-41eb-963d-cfef1ab0c21d",
     "showTitle": false,
     "title": ""
    }
   },
   "outputs": [
    {
     "output_type": "display_data",
     "data": {
      "text/html": [
       "<style scoped>\n",
       "  .table-result-container {\n",
       "    max-height: 300px;\n",
       "    overflow: auto;\n",
       "  }\n",
       "  table, th, td {\n",
       "    border: 1px solid black;\n",
       "    border-collapse: collapse;\n",
       "  }\n",
       "  th, td {\n",
       "    padding: 5px;\n",
       "  }\n",
       "  th {\n",
       "    text-align: left;\n",
       "  }\n",
       "</style><div class='table-result-container'><table class='table-result'><thead style='background-color: white'><tr><th>Customer Id</th><th>Name</th><th>Email Id</th><th>address</th><th>gender</th><th>age</th><th>Joining_Date</th><th>registered</th><th>order ID</th><th>orders</th><th>spent</th><th>job</th><th>hobbies</th><th>is_married</th></tr></thead><tbody><tr><td>amxjo131</td><td>Joseph Rice</td><td>josephrice131@slingacademy.com</td><td>91773 Miller Shoal Diaztown, FL 38841</td><td>male</td><td>43</td><td>07-12-2022 20:15</td><td>05-05-2019</td><td>null</td><td>7</td><td>568.29</td><td>Artist</td><td>Playing sports</td><td>FALSE</td></tr><tr><td>amxga386</td><td>Gary Moore</td><td>garymoore386@slingacademy.com</td><td>6450 John Lodge Territon, KY 95945</td><td>male</td><td>71</td><td>07-12-2021 20:15</td><td>20-05-2020</td><td>null</td><td>11</td><td>568.92</td><td>Artist</td><td>Swimming</td><td>TRUE</td></tr><tr><td>amxj944</td><td>John Walker</td><td>johnwalker944@slingacademy.com</td><td>27265 Murray Island Kevinfort, PA 63231</td><td>male</td><td>44</td><td>07-12-2022 20:15</td><td>04-04-2020</td><td>null</td><td>11</td><td>497.12</td><td>Clerk</td><td>Painting</td><td>FALSE</td></tr><tr><td>amxer176</td><td>Eric Carter</td><td>ericcarter176@slingacademy.com</td><td>USNS Knight FPO AA 76532</td><td>male</td><td>38</td><td>07-12-2022 20:15</td><td>30-01-2019</td><td>null</td><td>17</td><td>834.6</td><td>Butcher</td><td>Playing musical instruments</td><td>FALSE</td></tr><tr><td>amxwi427</td><td>William Jackson</td><td>williamjackson427@slingacademy.com</td><td>170 Jackson Loaf Kristenland, AS 48876</td><td>male</td><td>58</td><td>10-12-2022 20:15</td><td>01-07-2022</td><td>null</td><td>14</td><td>151.59</td><td>Engineer</td><td>Reading</td><td>FALSE</td></tr><tr><td>amxni228</td><td>Nicole Jones</td><td>nicolejones228@slingacademy.com</td><td>14354 Baker Harbor Apt. 017 Ericville, HI 11192</td><td>female</td><td>33</td><td>07-12-2022 20:15</td><td>07-08-2021</td><td>null</td><td>19</td><td>33.17</td><td>Unemployed</td><td>Running</td><td>TRUE</td></tr><tr><td>amxda980</td><td>David Davis</td><td>daviddavis980@slingacademy.com</td><td>021 Katherine Mall Jameston, DC 24685</td><td>male</td><td>59</td><td>07-12-2022 20:15</td><td>16-06-2022</td><td>null</td><td>9</td><td>970.96</td><td>Doctor</td><td>Playing sports</td><td>FALSE</td></tr><tr><td>amxja889</td><td>Jason Montgomery</td><td>jasonmontgomery889@slingacademy.com</td><td>14657 Scott Loop Apt. 735 Port Ashley, NH 34470</td><td>male</td><td>58</td><td>07-12-2023 20:15</td><td>13-11-2021</td><td>null</td><td>12</td><td>676.2</td><td>Waitress</td><td>Collecting</td><td>FALSE</td></tr><tr><td>amxke695</td><td>Kent Weaver</td><td>kentweaver695@slingacademy.com</td><td>6644 Mitchell Burg Victorhaven, KS 66356</td><td>male</td><td>61</td><td>07-01-2022 20:15</td><td>11-06-2023</td><td>null</td><td>1</td><td>674.37</td><td>Clerk</td><td>Hiking</td><td>FALSE</td></tr><tr><td>amxda573</td><td>Darrell Dillon</td><td>darrelldillon573@slingacademy.com</td><td>PSC 7267, Box 9911 APO AE 49343</td><td>male</td><td>50</td><td>07-0-2022 20:15</td><td>13-09-2022</td><td>null</td><td>12</td><td>750.72</td><td>Dentist</td><td>Watching movies</td><td>FALSE</td></tr><tr><td>amxja322</td><td>Jacqueline Wang</td><td>jacquelinewang322@slingacademy.com</td><td>16963 Stewart Curve Suite 27 South Cameron, ND 25136</td><td>female</td><td>22</td><td>07-12-2022 20:15</td><td>08-02-2023</td><td>null</td><td>12</td><td>962.47</td><td>Housewife</td><td>Collecting</td><td>FALSE</td></tr><tr><td>amxjo185</td><td>Jodi Gonzalez</td><td>jodigonzalez185@slingacademy.com</td><td>378 Johnson Oval South Stacie, RI 76332</td><td>female</td><td>69</td><td>07-12-2022 20:15</td><td>25-06-2021</td><td>null</td><td>12</td><td>68.67</td><td>Baker</td><td>Photography</td><td>FALSE</td></tr><tr><td>amxom769</td><td>Omar Martin</td><td>omarmartin769@slingacademy.com</td><td>Unit 9103 Box 4771 DPO AA 16592</td><td>male</td><td>28</td><td>07-12-2022 20:15</td><td>28-05-2023</td><td>null</td><td>3</td><td>162.58</td><td>Doctor</td><td>Gardening</td><td>TRUE</td></tr><tr><td>amxni473</td><td>Nicole Lara</td><td>nicolelara473@slingacademy.com</td><td>9822 Lisa Courts Johnhaven, IL 80438</td><td>female</td><td>77</td><td>07-01-2022 20:15</td><td>03-03-2023</td><td>null</td><td>17</td><td>309.81</td><td>Janitor</td><td>Hiking</td><td>TRUE</td></tr><tr><td>amxja753</td><td>Jason Brown</td><td>jasonbrown753@slingacademy.com</td><td>7310 Romero Summit East Scotttown, DC 53183</td><td>male</td><td>63</td><td>07-14-2022  20:15:39</td><td>05-12-2022</td><td>null</td><td>13</td><td>763.27</td><td>Lawyer</td><td>Fishing</td><td>TRUE</td></tr><tr><td>amxda257</td><td>David Benson</td><td>davidbenson257@slingacademy.com</td><td>444 Derek Summit Lisaborough, WA 20685</td><td>male</td><td>61</td><td>07-12-2022 20:15</td><td>15-04-2022</td><td>null</td><td>17</td><td>111.11</td><td>Lawyer</td><td>Meditation</td><td>TRUE</td></tr><tr><td>amxki513</td><td>Kimberly Mora</td><td>kimberlymora513@slingacademy.com</td><td>7679 Perry Square West Amybury, RI 15144</td><td>female</td><td>34</td><td>07-12-2022 20:15</td><td>19-05-2019</td><td>null</td><td>10</td><td>208.46</td><td>Farmer</td><td>Collecting</td><td>FALSE</td></tr><tr><td>amxer904</td><td>Erik Macias</td><td>erikmacias904@wingacademy.com</td><td>568 Christopher Tunnel Toddburgh, DE 86966</td><td>male</td><td>25</td><td>07-12-2022 20:15</td><td>18-04-2020</td><td>null</td><td>8</td><td>439.53</td><td>Accountant</td><td>Fishing</td><td>FALSE</td></tr><tr><td>amxja681</td><td>James Johnson</td><td>jamesjohnson681@wingacademy.com</td><td>19870 Sean Parkway North Jamesfurt, NC 28950</td><td>male</td><td>67</td><td>07-08-2022 20:15</td><td>17-02-2019</td><td>null</td><td>5</td><td>394.95</td><td>Security Guard</td><td>Watching movies</td><td>FALSE</td></tr><tr><td>amxde324</td><td>Derek Peterson</td><td>derekpeterson324@wingacademy.com</td><td>70830 Jonathan Pine Wilcoxburgh, MI 38265</td><td>male</td><td>36</td><td>07-12-2022 20:15</td><td>15-12-2020</td><td>null</td><td>2</td><td>153.8</td><td>Architect</td><td>Photography</td><td>TRUE</td></tr><tr><td>amxdi438</td><td>Diane Henson</td><td>dianehenson438@wingacademy.com</td><td>86382 Baker Ports Apt. 074 Cookfurt, NM 54313</td><td>female</td><td>74</td><td>07-12-2022 20:15</td><td>21-03-2020</td><td>null</td><td>19</td><td>62.52</td><td>Butcher</td><td>Playing musical instruments</td><td>FALSE</td></tr><tr><td>amxco721</td><td>Cody Lyons</td><td>codylyons721@wingacademy.com</td><td>60971 Carrillo Square Suite 141 New Kimberlybury, AS 02128</td><td>male</td><td>47</td><td>07-12-2022 20:15</td><td>25-11-2019</td><td>null</td><td>14</td><td>43.17</td><td>Baker</td><td>Hunting</td><td>FALSE</td></tr><tr><td>amxma249</td><td>Margaret Hardy</td><td>margarethardy249@wingacademy.com</td><td>2900 Sandra Villages Apt. 985 Phillipsstad, NH 19830</td><td>female</td><td>25</td><td>07-12-2022 20:15</td><td>17-07-2021</td><td>null</td><td>9</td><td>455.27</td><td>Barber</td><td>Other</td><td>FALSE</td></tr><tr><td>amxar881</td><td>Arthur Hayes</td><td>arthurhayes881@wingacademy.com</td><td>353 Elizabeth Forest Deannachester, NM 66952</td><td>male</td><td>75</td><td>07-15-2022  20:15:39</td><td>01-04-2021</td><td>null</td><td>6</td><td>749.78</td><td>Chef</td><td>Sewing</td><td>FALSE</td></tr><tr><td>amxra702</td><td>Raymond Taylor</td><td>raymondtaylor702@wingacademy.com</td><td>07867 John Mills Apt. 985 Tinaville, ID 59142</td><td>male</td><td>36</td><td>07-12-2022 20:15</td><td>24-09-2021</td><td>null</td><td>6</td><td>125.18</td><td>Butcher</td><td>Playing musical instruments</td><td>FALSE</td></tr><tr><td>amxti476</td><td>Tina Moore</td><td>tinamoore476@wingacademy.com</td><td>50984 Shelly Pass Port Nicholas, SC 48629</td><td>female</td><td>34</td><td>07-12-2022 20:15</td><td>15-07-2020</td><td>null</td><td>17</td><td>888.53</td><td>Chef</td><td>Running</td><td>FALSE</td></tr><tr><td>amxky170</td><td>Kylie White</td><td>kyliewhite170@wingacademy.com</td><td>5004 Christine Falls Suite 217 Jasonburgh, NJ 75688</td><td>female</td><td>63</td><td>07-12-2022 20:15</td><td>03-02-2020</td><td>null</td><td>6</td><td>872.18</td><td>Janitor</td><td>Reading</td><td>TRUE</td></tr><tr><td>amxjo648</td><td>Jonathan Manning</td><td>jonathanmanning648@wingacademy.com</td><td>1501 Gregory Glens Suite 940 Stephensstad, GU 55206</td><td>male</td><td>30</td><td>07-12-2022 20:15</td><td>21-01-2022</td><td>null</td><td>0</td><td>178.54</td><td>Librarian</td><td>Playing sports</td><td>FALSE</td></tr><tr><td>amxan256</td><td>Angela Bryant</td><td>angelabryant256@wingacademy.com</td><td>01454 Christopher Turnpike North Ryanstad, MI 36226</td><td>female</td><td>23</td><td>07-12-2022 20:15</td><td>11-09-2019</td><td>null</td><td>3</td><td>525.2</td><td>Politician</td><td>Cycling</td><td>FALSE</td></tr></tbody></table></div>"
      ]
     },
     "metadata": {
      "application/vnd.databricks.v1+output": {
       "addedWidgets": {},
       "aggData": [],
       "aggError": "",
       "aggOverflow": false,
       "aggSchema": [],
       "aggSeriesLimitReached": false,
       "aggType": "",
       "arguments": {},
       "columnCustomDisplayInfos": {},
       "data": [
        [
         "amxjo131",
         "Joseph Rice",
         "josephrice131@slingacademy.com",
         "91773 Miller Shoal Diaztown, FL 38841",
         "male",
         "43",
         "07-12-2022 20:15",
         "05-05-2019",
         null,
         "7",
         "568.29",
         "Artist",
         "Playing sports",
         "FALSE"
        ],
        [
         "amxga386",
         "Gary Moore",
         "garymoore386@slingacademy.com",
         "6450 John Lodge Territon, KY 95945",
         "male",
         "71",
         "07-12-2021 20:15",
         "20-05-2020",
         null,
         "11",
         "568.92",
         "Artist",
         "Swimming",
         "TRUE"
        ],
        [
         "amxj944",
         "John Walker",
         "johnwalker944@slingacademy.com",
         "27265 Murray Island Kevinfort, PA 63231",
         "male",
         "44",
         "07-12-2022 20:15",
         "04-04-2020",
         null,
         "11",
         "497.12",
         "Clerk",
         "Painting",
         "FALSE"
        ],
        [
         "amxer176",
         "Eric Carter",
         "ericcarter176@slingacademy.com",
         "USNS Knight FPO AA 76532",
         "male",
         "38",
         "07-12-2022 20:15",
         "30-01-2019",
         null,
         "17",
         "834.6",
         "Butcher",
         "Playing musical instruments",
         "FALSE"
        ],
        [
         "amxwi427",
         "William Jackson",
         "williamjackson427@slingacademy.com",
         "170 Jackson Loaf Kristenland, AS 48876",
         "male",
         "58",
         "10-12-2022 20:15",
         "01-07-2022",
         null,
         "14",
         "151.59",
         "Engineer",
         "Reading",
         "FALSE"
        ],
        [
         "amxni228",
         "Nicole Jones",
         "nicolejones228@slingacademy.com",
         "14354 Baker Harbor Apt. 017 Ericville, HI 11192",
         "female",
         "33",
         "07-12-2022 20:15",
         "07-08-2021",
         null,
         "19",
         "33.17",
         "Unemployed",
         "Running",
         "TRUE"
        ],
        [
         "amxda980",
         "David Davis",
         "daviddavis980@slingacademy.com",
         "021 Katherine Mall Jameston, DC 24685",
         "male",
         "59",
         "07-12-2022 20:15",
         "16-06-2022",
         null,
         "9",
         "970.96",
         "Doctor",
         "Playing sports",
         "FALSE"
        ],
        [
         "amxja889",
         "Jason Montgomery",
         "jasonmontgomery889@slingacademy.com",
         "14657 Scott Loop Apt. 735 Port Ashley, NH 34470",
         "male",
         "58",
         "07-12-2023 20:15",
         "13-11-2021",
         null,
         "12",
         "676.2",
         "Waitress",
         "Collecting",
         "FALSE"
        ],
        [
         "amxke695",
         "Kent Weaver",
         "kentweaver695@slingacademy.com",
         "6644 Mitchell Burg Victorhaven, KS 66356",
         "male",
         "61",
         "07-01-2022 20:15",
         "11-06-2023",
         null,
         "1",
         "674.37",
         "Clerk",
         "Hiking",
         "FALSE"
        ],
        [
         "amxda573",
         "Darrell Dillon",
         "darrelldillon573@slingacademy.com",
         "PSC 7267, Box 9911 APO AE 49343",
         "male",
         "50",
         "07-0-2022 20:15",
         "13-09-2022",
         null,
         "12",
         "750.72",
         "Dentist",
         "Watching movies",
         "FALSE"
        ],
        [
         "amxja322",
         "Jacqueline Wang",
         "jacquelinewang322@slingacademy.com",
         "16963 Stewart Curve Suite 27 South Cameron, ND 25136",
         "female",
         "22",
         "07-12-2022 20:15",
         "08-02-2023",
         null,
         "12",
         "962.47",
         "Housewife",
         "Collecting",
         "FALSE"
        ],
        [
         "amxjo185",
         "Jodi Gonzalez",
         "jodigonzalez185@slingacademy.com",
         "378 Johnson Oval South Stacie, RI 76332",
         "female",
         "69",
         "07-12-2022 20:15",
         "25-06-2021",
         null,
         "12",
         "68.67",
         "Baker",
         "Photography",
         "FALSE"
        ],
        [
         "amxom769",
         "Omar Martin",
         "omarmartin769@slingacademy.com",
         "Unit 9103 Box 4771 DPO AA 16592",
         "male",
         "28",
         "07-12-2022 20:15",
         "28-05-2023",
         null,
         "3",
         "162.58",
         "Doctor",
         "Gardening",
         "TRUE"
        ],
        [
         "amxni473",
         "Nicole Lara",
         "nicolelara473@slingacademy.com",
         "9822 Lisa Courts Johnhaven, IL 80438",
         "female",
         "77",
         "07-01-2022 20:15",
         "03-03-2023",
         null,
         "17",
         "309.81",
         "Janitor",
         "Hiking",
         "TRUE"
        ],
        [
         "amxja753",
         "Jason Brown",
         "jasonbrown753@slingacademy.com",
         "7310 Romero Summit East Scotttown, DC 53183",
         "male",
         "63",
         "07-14-2022  20:15:39",
         "05-12-2022",
         null,
         "13",
         "763.27",
         "Lawyer",
         "Fishing",
         "TRUE"
        ],
        [
         "amxda257",
         "David Benson",
         "davidbenson257@slingacademy.com",
         "444 Derek Summit Lisaborough, WA 20685",
         "male",
         "61",
         "07-12-2022 20:15",
         "15-04-2022",
         null,
         "17",
         "111.11",
         "Lawyer",
         "Meditation",
         "TRUE"
        ],
        [
         "amxki513",
         "Kimberly Mora",
         "kimberlymora513@slingacademy.com",
         "7679 Perry Square West Amybury, RI 15144",
         "female",
         "34",
         "07-12-2022 20:15",
         "19-05-2019",
         null,
         "10",
         "208.46",
         "Farmer",
         "Collecting",
         "FALSE"
        ],
        [
         "amxer904",
         "Erik Macias",
         "erikmacias904@wingacademy.com",
         "568 Christopher Tunnel Toddburgh, DE 86966",
         "male",
         "25",
         "07-12-2022 20:15",
         "18-04-2020",
         null,
         "8",
         "439.53",
         "Accountant",
         "Fishing",
         "FALSE"
        ],
        [
         "amxja681",
         "James Johnson",
         "jamesjohnson681@wingacademy.com",
         "19870 Sean Parkway North Jamesfurt, NC 28950",
         "male",
         "67",
         "07-08-2022 20:15",
         "17-02-2019",
         null,
         "5",
         "394.95",
         "Security Guard",
         "Watching movies",
         "FALSE"
        ],
        [
         "amxde324",
         "Derek Peterson",
         "derekpeterson324@wingacademy.com",
         "70830 Jonathan Pine Wilcoxburgh, MI 38265",
         "male",
         "36",
         "07-12-2022 20:15",
         "15-12-2020",
         null,
         "2",
         "153.8",
         "Architect",
         "Photography",
         "TRUE"
        ],
        [
         "amxdi438",
         "Diane Henson",
         "dianehenson438@wingacademy.com",
         "86382 Baker Ports Apt. 074 Cookfurt, NM 54313",
         "female",
         "74",
         "07-12-2022 20:15",
         "21-03-2020",
         null,
         "19",
         "62.52",
         "Butcher",
         "Playing musical instruments",
         "FALSE"
        ],
        [
         "amxco721",
         "Cody Lyons",
         "codylyons721@wingacademy.com",
         "60971 Carrillo Square Suite 141 New Kimberlybury, AS 02128",
         "male",
         "47",
         "07-12-2022 20:15",
         "25-11-2019",
         null,
         "14",
         "43.17",
         "Baker",
         "Hunting",
         "FALSE"
        ],
        [
         "amxma249",
         "Margaret Hardy",
         "margarethardy249@wingacademy.com",
         "2900 Sandra Villages Apt. 985 Phillipsstad, NH 19830",
         "female",
         "25",
         "07-12-2022 20:15",
         "17-07-2021",
         null,
         "9",
         "455.27",
         "Barber",
         "Other",
         "FALSE"
        ],
        [
         "amxar881",
         "Arthur Hayes",
         "arthurhayes881@wingacademy.com",
         "353 Elizabeth Forest Deannachester, NM 66952",
         "male",
         "75",
         "07-15-2022  20:15:39",
         "01-04-2021",
         null,
         "6",
         "749.78",
         "Chef",
         "Sewing",
         "FALSE"
        ],
        [
         "amxra702",
         "Raymond Taylor",
         "raymondtaylor702@wingacademy.com",
         "07867 John Mills Apt. 985 Tinaville, ID 59142",
         "male",
         "36",
         "07-12-2022 20:15",
         "24-09-2021",
         null,
         "6",
         "125.18",
         "Butcher",
         "Playing musical instruments",
         "FALSE"
        ],
        [
         "amxti476",
         "Tina Moore",
         "tinamoore476@wingacademy.com",
         "50984 Shelly Pass Port Nicholas, SC 48629",
         "female",
         "34",
         "07-12-2022 20:15",
         "15-07-2020",
         null,
         "17",
         "888.53",
         "Chef",
         "Running",
         "FALSE"
        ],
        [
         "amxky170",
         "Kylie White",
         "kyliewhite170@wingacademy.com",
         "5004 Christine Falls Suite 217 Jasonburgh, NJ 75688",
         "female",
         "63",
         "07-12-2022 20:15",
         "03-02-2020",
         null,
         "6",
         "872.18",
         "Janitor",
         "Reading",
         "TRUE"
        ],
        [
         "amxjo648",
         "Jonathan Manning",
         "jonathanmanning648@wingacademy.com",
         "1501 Gregory Glens Suite 940 Stephensstad, GU 55206",
         "male",
         "30",
         "07-12-2022 20:15",
         "21-01-2022",
         null,
         "0",
         "178.54",
         "Librarian",
         "Playing sports",
         "FALSE"
        ],
        [
         "amxan256",
         "Angela Bryant",
         "angelabryant256@wingacademy.com",
         "01454 Christopher Turnpike North Ryanstad, MI 36226",
         "female",
         "23",
         "07-12-2022 20:15",
         "11-09-2019",
         null,
         "3",
         "525.2",
         "Politician",
         "Cycling",
         "FALSE"
        ]
       ],
       "datasetInfos": [],
       "dbfsResultPath": null,
       "isJsonSchema": true,
       "metadata": {},
       "overflow": false,
       "plotOptions": {
        "customPlotOptions": {},
        "displayType": "table",
        "pivotAggregation": null,
        "pivotColumns": null,
        "xColumns": null,
        "yColumns": null
       },
       "removedWidgets": [],
       "schema": [
        {
         "metadata": "{}",
         "name": "Customer Id",
         "type": "\"string\""
        },
        {
         "metadata": "{}",
         "name": "Name",
         "type": "\"string\""
        },
        {
         "metadata": "{}",
         "name": "Email Id",
         "type": "\"string\""
        },
        {
         "metadata": "{}",
         "name": "address",
         "type": "\"string\""
        },
        {
         "metadata": "{}",
         "name": "gender",
         "type": "\"string\""
        },
        {
         "metadata": "{}",
         "name": "age",
         "type": "\"string\""
        },
        {
         "metadata": "{}",
         "name": "Joining_Date",
         "type": "\"string\""
        },
        {
         "metadata": "{}",
         "name": "registered",
         "type": "\"string\""
        },
        {
         "metadata": "{}",
         "name": "order ID",
         "type": "\"string\""
        },
        {
         "metadata": "{}",
         "name": "orders",
         "type": "\"string\""
        },
        {
         "metadata": "{}",
         "name": "spent",
         "type": "\"string\""
        },
        {
         "metadata": "{}",
         "name": "job",
         "type": "\"string\""
        },
        {
         "metadata": "{}",
         "name": "hobbies",
         "type": "\"string\""
        },
        {
         "metadata": "{}",
         "name": "is_married",
         "type": "\"string\""
        }
       ],
       "type": "table"
      }
     },
     "output_type": "display_data"
    }
   ],
   "source": [
    "df2=df.withColumnRenamed('Joining Date','Joining_Date')\n",
    "display(df2)"
   ]
  },
  {
   "cell_type": "code",
   "execution_count": 0,
   "metadata": {
    "application/vnd.databricks.v1+cell": {
     "cellMetadata": {
      "byteLimit": 2048000,
      "rowLimit": 10000
     },
     "inputWidgets": {},
     "nuid": "ecfeef0d-378b-4b4a-b6c8-986c47efec5b",
     "showTitle": false,
     "title": ""
    }
   },
   "outputs": [
    {
     "output_type": "display_data",
     "data": {
      "text/html": [
       "<style scoped>\n",
       "  .table-result-container {\n",
       "    max-height: 300px;\n",
       "    overflow: auto;\n",
       "  }\n",
       "  table, th, td {\n",
       "    border: 1px solid black;\n",
       "    border-collapse: collapse;\n",
       "  }\n",
       "  th, td {\n",
       "    padding: 5px;\n",
       "  }\n",
       "  th {\n",
       "    text-align: left;\n",
       "  }\n",
       "</style><div class='table-result-container'><table class='table-result'><thead style='background-color: white'><tr><th>Customer Id</th><th>Name</th><th>Email Id</th><th>address</th><th>gender</th><th>age</th><th>Joining Date</th><th>registered</th><th>order ID</th><th>orders</th><th>spent</th><th>job</th><th>hobbies</th><th>is_married</th><th>fname</th><th>lname</th></tr></thead><tbody><tr><td>amxjo131</td><td>Joseph Rice</td><td>josephrice131@slingacademy.com</td><td>91773 Miller Shoal Diaztown, FL 38841</td><td>male</td><td>43</td><td>07-12-2022 20:15</td><td>05-05-2019</td><td>null</td><td>7</td><td>568.29</td><td>Artist</td><td>Playing sports</td><td>FALSE</td><td>Joseph</td><td>Rice</td></tr><tr><td>amxga386</td><td>Gary Moore</td><td>garymoore386@slingacademy.com</td><td>6450 John Lodge Territon, KY 95945</td><td>male</td><td>71</td><td>07-12-2021 20:15</td><td>20-05-2020</td><td>null</td><td>11</td><td>568.92</td><td>Artist</td><td>Swimming</td><td>TRUE</td><td>Gary</td><td>Moore</td></tr><tr><td>amxj944</td><td>John Walker</td><td>johnwalker944@slingacademy.com</td><td>27265 Murray Island Kevinfort, PA 63231</td><td>male</td><td>44</td><td>07-12-2022 20:15</td><td>04-04-2020</td><td>null</td><td>11</td><td>497.12</td><td>Clerk</td><td>Painting</td><td>FALSE</td><td>John</td><td>Walker</td></tr><tr><td>amxer176</td><td>Eric Carter</td><td>ericcarter176@slingacademy.com</td><td>USNS Knight FPO AA 76532</td><td>male</td><td>38</td><td>07-12-2022 20:15</td><td>30-01-2019</td><td>null</td><td>17</td><td>834.6</td><td>Butcher</td><td>Playing musical instruments</td><td>FALSE</td><td>Eric</td><td>Carter</td></tr><tr><td>amxwi427</td><td>William Jackson</td><td>williamjackson427@slingacademy.com</td><td>170 Jackson Loaf Kristenland, AS 48876</td><td>male</td><td>58</td><td>10-12-2022 20:15</td><td>01-07-2022</td><td>null</td><td>14</td><td>151.59</td><td>Engineer</td><td>Reading</td><td>FALSE</td><td>William</td><td>Jackson</td></tr><tr><td>amxni228</td><td>Nicole Jones</td><td>nicolejones228@slingacademy.com</td><td>14354 Baker Harbor Apt. 017 Ericville, HI 11192</td><td>female</td><td>33</td><td>07-12-2022 20:15</td><td>07-08-2021</td><td>null</td><td>19</td><td>33.17</td><td>Unemployed</td><td>Running</td><td>TRUE</td><td>Nicole</td><td>Jones</td></tr><tr><td>amxda980</td><td>David Davis</td><td>daviddavis980@slingacademy.com</td><td>021 Katherine Mall Jameston, DC 24685</td><td>male</td><td>59</td><td>07-12-2022 20:15</td><td>16-06-2022</td><td>null</td><td>9</td><td>970.96</td><td>Doctor</td><td>Playing sports</td><td>FALSE</td><td>David</td><td>Davis</td></tr><tr><td>amxja889</td><td>Jason Montgomery</td><td>jasonmontgomery889@slingacademy.com</td><td>14657 Scott Loop Apt. 735 Port Ashley, NH 34470</td><td>male</td><td>58</td><td>07-12-2023 20:15</td><td>13-11-2021</td><td>null</td><td>12</td><td>676.2</td><td>Waitress</td><td>Collecting</td><td>FALSE</td><td>Jason</td><td>Montgomery</td></tr><tr><td>amxke695</td><td>Kent Weaver</td><td>kentweaver695@slingacademy.com</td><td>6644 Mitchell Burg Victorhaven, KS 66356</td><td>male</td><td>61</td><td>07-01-2022 20:15</td><td>11-06-2023</td><td>null</td><td>1</td><td>674.37</td><td>Clerk</td><td>Hiking</td><td>FALSE</td><td>Kent</td><td>Weaver</td></tr><tr><td>amxda573</td><td>Darrell Dillon</td><td>darrelldillon573@slingacademy.com</td><td>PSC 7267, Box 9911 APO AE 49343</td><td>male</td><td>50</td><td>07-0-2022 20:15</td><td>13-09-2022</td><td>null</td><td>12</td><td>750.72</td><td>Dentist</td><td>Watching movies</td><td>FALSE</td><td>Darrell</td><td>Dillon</td></tr><tr><td>amxja322</td><td>Jacqueline Wang</td><td>jacquelinewang322@slingacademy.com</td><td>16963 Stewart Curve Suite 27 South Cameron, ND 25136</td><td>female</td><td>22</td><td>07-12-2022 20:15</td><td>08-02-2023</td><td>null</td><td>12</td><td>962.47</td><td>Housewife</td><td>Collecting</td><td>FALSE</td><td>Jacqueline</td><td>Wang</td></tr><tr><td>amxjo185</td><td>Jodi Gonzalez</td><td>jodigonzalez185@slingacademy.com</td><td>378 Johnson Oval South Stacie, RI 76332</td><td>female</td><td>69</td><td>07-12-2022 20:15</td><td>25-06-2021</td><td>null</td><td>12</td><td>68.67</td><td>Baker</td><td>Photography</td><td>FALSE</td><td>Jodi</td><td>Gonzalez</td></tr><tr><td>amxom769</td><td>Omar Martin</td><td>omarmartin769@slingacademy.com</td><td>Unit 9103 Box 4771 DPO AA 16592</td><td>male</td><td>28</td><td>07-12-2022 20:15</td><td>28-05-2023</td><td>null</td><td>3</td><td>162.58</td><td>Doctor</td><td>Gardening</td><td>TRUE</td><td>Omar</td><td>Martin</td></tr><tr><td>amxni473</td><td>Nicole Lara</td><td>nicolelara473@slingacademy.com</td><td>9822 Lisa Courts Johnhaven, IL 80438</td><td>female</td><td>77</td><td>07-01-2022 20:15</td><td>03-03-2023</td><td>null</td><td>17</td><td>309.81</td><td>Janitor</td><td>Hiking</td><td>TRUE</td><td>Nicole</td><td>Lara</td></tr><tr><td>amxja753</td><td>Jason Brown</td><td>jasonbrown753@slingacademy.com</td><td>7310 Romero Summit East Scotttown, DC 53183</td><td>male</td><td>63</td><td>07-14-2022  20:15:39</td><td>05-12-2022</td><td>null</td><td>13</td><td>763.27</td><td>Lawyer</td><td>Fishing</td><td>TRUE</td><td>Jason</td><td>Brown</td></tr><tr><td>amxda257</td><td>David Benson</td><td>davidbenson257@slingacademy.com</td><td>444 Derek Summit Lisaborough, WA 20685</td><td>male</td><td>61</td><td>07-12-2022 20:15</td><td>15-04-2022</td><td>null</td><td>17</td><td>111.11</td><td>Lawyer</td><td>Meditation</td><td>TRUE</td><td>David</td><td>Benson</td></tr><tr><td>amxki513</td><td>Kimberly Mora</td><td>kimberlymora513@slingacademy.com</td><td>7679 Perry Square West Amybury, RI 15144</td><td>female</td><td>34</td><td>07-12-2022 20:15</td><td>19-05-2019</td><td>null</td><td>10</td><td>208.46</td><td>Farmer</td><td>Collecting</td><td>FALSE</td><td>Kimberly</td><td>Mora</td></tr><tr><td>amxer904</td><td>Erik Macias</td><td>erikmacias904@wingacademy.com</td><td>568 Christopher Tunnel Toddburgh, DE 86966</td><td>male</td><td>25</td><td>07-12-2022 20:15</td><td>18-04-2020</td><td>null</td><td>8</td><td>439.53</td><td>Accountant</td><td>Fishing</td><td>FALSE</td><td>Erik</td><td>Macias</td></tr><tr><td>amxja681</td><td>James Johnson</td><td>jamesjohnson681@wingacademy.com</td><td>19870 Sean Parkway North Jamesfurt, NC 28950</td><td>male</td><td>67</td><td>07-08-2022 20:15</td><td>17-02-2019</td><td>null</td><td>5</td><td>394.95</td><td>Security Guard</td><td>Watching movies</td><td>FALSE</td><td>James</td><td>Johnson</td></tr><tr><td>amxde324</td><td>Derek Peterson</td><td>derekpeterson324@wingacademy.com</td><td>70830 Jonathan Pine Wilcoxburgh, MI 38265</td><td>male</td><td>36</td><td>07-12-2022 20:15</td><td>15-12-2020</td><td>null</td><td>2</td><td>153.8</td><td>Architect</td><td>Photography</td><td>TRUE</td><td>Derek</td><td>Peterson</td></tr><tr><td>amxdi438</td><td>Diane Henson</td><td>dianehenson438@wingacademy.com</td><td>86382 Baker Ports Apt. 074 Cookfurt, NM 54313</td><td>female</td><td>74</td><td>07-12-2022 20:15</td><td>21-03-2020</td><td>null</td><td>19</td><td>62.52</td><td>Butcher</td><td>Playing musical instruments</td><td>FALSE</td><td>Diane</td><td>Henson</td></tr><tr><td>amxco721</td><td>Cody Lyons</td><td>codylyons721@wingacademy.com</td><td>60971 Carrillo Square Suite 141 New Kimberlybury, AS 02128</td><td>male</td><td>47</td><td>07-12-2022 20:15</td><td>25-11-2019</td><td>null</td><td>14</td><td>43.17</td><td>Baker</td><td>Hunting</td><td>FALSE</td><td>Cody</td><td>Lyons</td></tr><tr><td>amxma249</td><td>Margaret Hardy</td><td>margarethardy249@wingacademy.com</td><td>2900 Sandra Villages Apt. 985 Phillipsstad, NH 19830</td><td>female</td><td>25</td><td>07-12-2022 20:15</td><td>17-07-2021</td><td>null</td><td>9</td><td>455.27</td><td>Barber</td><td>Other</td><td>FALSE</td><td>Margaret</td><td>Hardy</td></tr><tr><td>amxar881</td><td>Arthur Hayes</td><td>arthurhayes881@wingacademy.com</td><td>353 Elizabeth Forest Deannachester, NM 66952</td><td>male</td><td>75</td><td>07-15-2022  20:15:39</td><td>01-04-2021</td><td>null</td><td>6</td><td>749.78</td><td>Chef</td><td>Sewing</td><td>FALSE</td><td>Arthur</td><td>Hayes</td></tr><tr><td>amxra702</td><td>Raymond Taylor</td><td>raymondtaylor702@wingacademy.com</td><td>07867 John Mills Apt. 985 Tinaville, ID 59142</td><td>male</td><td>36</td><td>07-12-2022 20:15</td><td>24-09-2021</td><td>null</td><td>6</td><td>125.18</td><td>Butcher</td><td>Playing musical instruments</td><td>FALSE</td><td>Raymond</td><td>Taylor</td></tr><tr><td>amxti476</td><td>Tina Moore</td><td>tinamoore476@wingacademy.com</td><td>50984 Shelly Pass Port Nicholas, SC 48629</td><td>female</td><td>34</td><td>07-12-2022 20:15</td><td>15-07-2020</td><td>null</td><td>17</td><td>888.53</td><td>Chef</td><td>Running</td><td>FALSE</td><td>Tina</td><td>Moore</td></tr><tr><td>amxky170</td><td>Kylie White</td><td>kyliewhite170@wingacademy.com</td><td>5004 Christine Falls Suite 217 Jasonburgh, NJ 75688</td><td>female</td><td>63</td><td>07-12-2022 20:15</td><td>03-02-2020</td><td>null</td><td>6</td><td>872.18</td><td>Janitor</td><td>Reading</td><td>TRUE</td><td>Kylie</td><td>White</td></tr><tr><td>amxjo648</td><td>Jonathan Manning</td><td>jonathanmanning648@wingacademy.com</td><td>1501 Gregory Glens Suite 940 Stephensstad, GU 55206</td><td>male</td><td>30</td><td>07-12-2022 20:15</td><td>21-01-2022</td><td>null</td><td>0</td><td>178.54</td><td>Librarian</td><td>Playing sports</td><td>FALSE</td><td>Jonathan</td><td>Manning</td></tr><tr><td>amxan256</td><td>Angela Bryant</td><td>angelabryant256@wingacademy.com</td><td>01454 Christopher Turnpike North Ryanstad, MI 36226</td><td>female</td><td>23</td><td>07-12-2022 20:15</td><td>11-09-2019</td><td>null</td><td>3</td><td>525.2</td><td>Politician</td><td>Cycling</td><td>FALSE</td><td>Angela</td><td>Bryant</td></tr></tbody></table></div>"
      ]
     },
     "metadata": {
      "application/vnd.databricks.v1+output": {
       "addedWidgets": {},
       "aggData": [],
       "aggError": "",
       "aggOverflow": false,
       "aggSchema": [],
       "aggSeriesLimitReached": false,
       "aggType": "",
       "arguments": {},
       "columnCustomDisplayInfos": {},
       "data": [
        [
         "amxjo131",
         "Joseph Rice",
         "josephrice131@slingacademy.com",
         "91773 Miller Shoal Diaztown, FL 38841",
         "male",
         "43",
         "07-12-2022 20:15",
         "05-05-2019",
         null,
         "7",
         "568.29",
         "Artist",
         "Playing sports",
         "FALSE",
         "Joseph",
         "Rice"
        ],
        [
         "amxga386",
         "Gary Moore",
         "garymoore386@slingacademy.com",
         "6450 John Lodge Territon, KY 95945",
         "male",
         "71",
         "07-12-2021 20:15",
         "20-05-2020",
         null,
         "11",
         "568.92",
         "Artist",
         "Swimming",
         "TRUE",
         "Gary",
         "Moore"
        ],
        [
         "amxj944",
         "John Walker",
         "johnwalker944@slingacademy.com",
         "27265 Murray Island Kevinfort, PA 63231",
         "male",
         "44",
         "07-12-2022 20:15",
         "04-04-2020",
         null,
         "11",
         "497.12",
         "Clerk",
         "Painting",
         "FALSE",
         "John",
         "Walker"
        ],
        [
         "amxer176",
         "Eric Carter",
         "ericcarter176@slingacademy.com",
         "USNS Knight FPO AA 76532",
         "male",
         "38",
         "07-12-2022 20:15",
         "30-01-2019",
         null,
         "17",
         "834.6",
         "Butcher",
         "Playing musical instruments",
         "FALSE",
         "Eric",
         "Carter"
        ],
        [
         "amxwi427",
         "William Jackson",
         "williamjackson427@slingacademy.com",
         "170 Jackson Loaf Kristenland, AS 48876",
         "male",
         "58",
         "10-12-2022 20:15",
         "01-07-2022",
         null,
         "14",
         "151.59",
         "Engineer",
         "Reading",
         "FALSE",
         "William",
         "Jackson"
        ],
        [
         "amxni228",
         "Nicole Jones",
         "nicolejones228@slingacademy.com",
         "14354 Baker Harbor Apt. 017 Ericville, HI 11192",
         "female",
         "33",
         "07-12-2022 20:15",
         "07-08-2021",
         null,
         "19",
         "33.17",
         "Unemployed",
         "Running",
         "TRUE",
         "Nicole",
         "Jones"
        ],
        [
         "amxda980",
         "David Davis",
         "daviddavis980@slingacademy.com",
         "021 Katherine Mall Jameston, DC 24685",
         "male",
         "59",
         "07-12-2022 20:15",
         "16-06-2022",
         null,
         "9",
         "970.96",
         "Doctor",
         "Playing sports",
         "FALSE",
         "David",
         "Davis"
        ],
        [
         "amxja889",
         "Jason Montgomery",
         "jasonmontgomery889@slingacademy.com",
         "14657 Scott Loop Apt. 735 Port Ashley, NH 34470",
         "male",
         "58",
         "07-12-2023 20:15",
         "13-11-2021",
         null,
         "12",
         "676.2",
         "Waitress",
         "Collecting",
         "FALSE",
         "Jason",
         "Montgomery"
        ],
        [
         "amxke695",
         "Kent Weaver",
         "kentweaver695@slingacademy.com",
         "6644 Mitchell Burg Victorhaven, KS 66356",
         "male",
         "61",
         "07-01-2022 20:15",
         "11-06-2023",
         null,
         "1",
         "674.37",
         "Clerk",
         "Hiking",
         "FALSE",
         "Kent",
         "Weaver"
        ],
        [
         "amxda573",
         "Darrell Dillon",
         "darrelldillon573@slingacademy.com",
         "PSC 7267, Box 9911 APO AE 49343",
         "male",
         "50",
         "07-0-2022 20:15",
         "13-09-2022",
         null,
         "12",
         "750.72",
         "Dentist",
         "Watching movies",
         "FALSE",
         "Darrell",
         "Dillon"
        ],
        [
         "amxja322",
         "Jacqueline Wang",
         "jacquelinewang322@slingacademy.com",
         "16963 Stewart Curve Suite 27 South Cameron, ND 25136",
         "female",
         "22",
         "07-12-2022 20:15",
         "08-02-2023",
         null,
         "12",
         "962.47",
         "Housewife",
         "Collecting",
         "FALSE",
         "Jacqueline",
         "Wang"
        ],
        [
         "amxjo185",
         "Jodi Gonzalez",
         "jodigonzalez185@slingacademy.com",
         "378 Johnson Oval South Stacie, RI 76332",
         "female",
         "69",
         "07-12-2022 20:15",
         "25-06-2021",
         null,
         "12",
         "68.67",
         "Baker",
         "Photography",
         "FALSE",
         "Jodi",
         "Gonzalez"
        ],
        [
         "amxom769",
         "Omar Martin",
         "omarmartin769@slingacademy.com",
         "Unit 9103 Box 4771 DPO AA 16592",
         "male",
         "28",
         "07-12-2022 20:15",
         "28-05-2023",
         null,
         "3",
         "162.58",
         "Doctor",
         "Gardening",
         "TRUE",
         "Omar",
         "Martin"
        ],
        [
         "amxni473",
         "Nicole Lara",
         "nicolelara473@slingacademy.com",
         "9822 Lisa Courts Johnhaven, IL 80438",
         "female",
         "77",
         "07-01-2022 20:15",
         "03-03-2023",
         null,
         "17",
         "309.81",
         "Janitor",
         "Hiking",
         "TRUE",
         "Nicole",
         "Lara"
        ],
        [
         "amxja753",
         "Jason Brown",
         "jasonbrown753@slingacademy.com",
         "7310 Romero Summit East Scotttown, DC 53183",
         "male",
         "63",
         "07-14-2022  20:15:39",
         "05-12-2022",
         null,
         "13",
         "763.27",
         "Lawyer",
         "Fishing",
         "TRUE",
         "Jason",
         "Brown"
        ],
        [
         "amxda257",
         "David Benson",
         "davidbenson257@slingacademy.com",
         "444 Derek Summit Lisaborough, WA 20685",
         "male",
         "61",
         "07-12-2022 20:15",
         "15-04-2022",
         null,
         "17",
         "111.11",
         "Lawyer",
         "Meditation",
         "TRUE",
         "David",
         "Benson"
        ],
        [
         "amxki513",
         "Kimberly Mora",
         "kimberlymora513@slingacademy.com",
         "7679 Perry Square West Amybury, RI 15144",
         "female",
         "34",
         "07-12-2022 20:15",
         "19-05-2019",
         null,
         "10",
         "208.46",
         "Farmer",
         "Collecting",
         "FALSE",
         "Kimberly",
         "Mora"
        ],
        [
         "amxer904",
         "Erik Macias",
         "erikmacias904@wingacademy.com",
         "568 Christopher Tunnel Toddburgh, DE 86966",
         "male",
         "25",
         "07-12-2022 20:15",
         "18-04-2020",
         null,
         "8",
         "439.53",
         "Accountant",
         "Fishing",
         "FALSE",
         "Erik",
         "Macias"
        ],
        [
         "amxja681",
         "James Johnson",
         "jamesjohnson681@wingacademy.com",
         "19870 Sean Parkway North Jamesfurt, NC 28950",
         "male",
         "67",
         "07-08-2022 20:15",
         "17-02-2019",
         null,
         "5",
         "394.95",
         "Security Guard",
         "Watching movies",
         "FALSE",
         "James",
         "Johnson"
        ],
        [
         "amxde324",
         "Derek Peterson",
         "derekpeterson324@wingacademy.com",
         "70830 Jonathan Pine Wilcoxburgh, MI 38265",
         "male",
         "36",
         "07-12-2022 20:15",
         "15-12-2020",
         null,
         "2",
         "153.8",
         "Architect",
         "Photography",
         "TRUE",
         "Derek",
         "Peterson"
        ],
        [
         "amxdi438",
         "Diane Henson",
         "dianehenson438@wingacademy.com",
         "86382 Baker Ports Apt. 074 Cookfurt, NM 54313",
         "female",
         "74",
         "07-12-2022 20:15",
         "21-03-2020",
         null,
         "19",
         "62.52",
         "Butcher",
         "Playing musical instruments",
         "FALSE",
         "Diane",
         "Henson"
        ],
        [
         "amxco721",
         "Cody Lyons",
         "codylyons721@wingacademy.com",
         "60971 Carrillo Square Suite 141 New Kimberlybury, AS 02128",
         "male",
         "47",
         "07-12-2022 20:15",
         "25-11-2019",
         null,
         "14",
         "43.17",
         "Baker",
         "Hunting",
         "FALSE",
         "Cody",
         "Lyons"
        ],
        [
         "amxma249",
         "Margaret Hardy",
         "margarethardy249@wingacademy.com",
         "2900 Sandra Villages Apt. 985 Phillipsstad, NH 19830",
         "female",
         "25",
         "07-12-2022 20:15",
         "17-07-2021",
         null,
         "9",
         "455.27",
         "Barber",
         "Other",
         "FALSE",
         "Margaret",
         "Hardy"
        ],
        [
         "amxar881",
         "Arthur Hayes",
         "arthurhayes881@wingacademy.com",
         "353 Elizabeth Forest Deannachester, NM 66952",
         "male",
         "75",
         "07-15-2022  20:15:39",
         "01-04-2021",
         null,
         "6",
         "749.78",
         "Chef",
         "Sewing",
         "FALSE",
         "Arthur",
         "Hayes"
        ],
        [
         "amxra702",
         "Raymond Taylor",
         "raymondtaylor702@wingacademy.com",
         "07867 John Mills Apt. 985 Tinaville, ID 59142",
         "male",
         "36",
         "07-12-2022 20:15",
         "24-09-2021",
         null,
         "6",
         "125.18",
         "Butcher",
         "Playing musical instruments",
         "FALSE",
         "Raymond",
         "Taylor"
        ],
        [
         "amxti476",
         "Tina Moore",
         "tinamoore476@wingacademy.com",
         "50984 Shelly Pass Port Nicholas, SC 48629",
         "female",
         "34",
         "07-12-2022 20:15",
         "15-07-2020",
         null,
         "17",
         "888.53",
         "Chef",
         "Running",
         "FALSE",
         "Tina",
         "Moore"
        ],
        [
         "amxky170",
         "Kylie White",
         "kyliewhite170@wingacademy.com",
         "5004 Christine Falls Suite 217 Jasonburgh, NJ 75688",
         "female",
         "63",
         "07-12-2022 20:15",
         "03-02-2020",
         null,
         "6",
         "872.18",
         "Janitor",
         "Reading",
         "TRUE",
         "Kylie",
         "White"
        ],
        [
         "amxjo648",
         "Jonathan Manning",
         "jonathanmanning648@wingacademy.com",
         "1501 Gregory Glens Suite 940 Stephensstad, GU 55206",
         "male",
         "30",
         "07-12-2022 20:15",
         "21-01-2022",
         null,
         "0",
         "178.54",
         "Librarian",
         "Playing sports",
         "FALSE",
         "Jonathan",
         "Manning"
        ],
        [
         "amxan256",
         "Angela Bryant",
         "angelabryant256@wingacademy.com",
         "01454 Christopher Turnpike North Ryanstad, MI 36226",
         "female",
         "23",
         "07-12-2022 20:15",
         "11-09-2019",
         null,
         "3",
         "525.2",
         "Politician",
         "Cycling",
         "FALSE",
         "Angela",
         "Bryant"
        ]
       ],
       "datasetInfos": [],
       "dbfsResultPath": null,
       "isJsonSchema": true,
       "metadata": {},
       "overflow": false,
       "plotOptions": {
        "customPlotOptions": {},
        "displayType": "table",
        "pivotAggregation": null,
        "pivotColumns": null,
        "xColumns": null,
        "yColumns": null
       },
       "removedWidgets": [],
       "schema": [
        {
         "metadata": "{}",
         "name": "Customer Id",
         "type": "\"string\""
        },
        {
         "metadata": "{}",
         "name": "Name",
         "type": "\"string\""
        },
        {
         "metadata": "{}",
         "name": "Email Id",
         "type": "\"string\""
        },
        {
         "metadata": "{}",
         "name": "address",
         "type": "\"string\""
        },
        {
         "metadata": "{}",
         "name": "gender",
         "type": "\"string\""
        },
        {
         "metadata": "{}",
         "name": "age",
         "type": "\"string\""
        },
        {
         "metadata": "{}",
         "name": "Joining Date",
         "type": "\"string\""
        },
        {
         "metadata": "{}",
         "name": "registered",
         "type": "\"string\""
        },
        {
         "metadata": "{}",
         "name": "order ID",
         "type": "\"string\""
        },
        {
         "metadata": "{}",
         "name": "orders",
         "type": "\"string\""
        },
        {
         "metadata": "{}",
         "name": "spent",
         "type": "\"string\""
        },
        {
         "metadata": "{}",
         "name": "job",
         "type": "\"string\""
        },
        {
         "metadata": "{}",
         "name": "hobbies",
         "type": "\"string\""
        },
        {
         "metadata": "{}",
         "name": "is_married",
         "type": "\"string\""
        },
        {
         "metadata": "{}",
         "name": "fname",
         "type": "\"string\""
        },
        {
         "metadata": "{}",
         "name": "lname",
         "type": "\"string\""
        }
       ],
       "type": "table"
      }
     },
     "output_type": "display_data"
    }
   ],
   "source": [
    "df.withColumn('fname',split(col('name'),' ')[0]).withColumn('lname',split(col('name'),' ')[1]).display()"
   ]
  },
  {
   "cell_type": "code",
   "execution_count": 0,
   "metadata": {
    "application/vnd.databricks.v1+cell": {
     "cellMetadata": {
      "byteLimit": 2048000,
      "rowLimit": 10000
     },
     "inputWidgets": {},
     "nuid": "56281755-7af5-4193-8d14-5c258710c9c0",
     "showTitle": false,
     "title": ""
    }
   },
   "outputs": [
    {
     "output_type": "display_data",
     "data": {
      "text/html": [
       "<style scoped>\n",
       "  .table-result-container {\n",
       "    max-height: 300px;\n",
       "    overflow: auto;\n",
       "  }\n",
       "  table, th, td {\n",
       "    border: 1px solid black;\n",
       "    border-collapse: collapse;\n",
       "  }\n",
       "  th, td {\n",
       "    padding: 5px;\n",
       "  }\n",
       "  th {\n",
       "    text-align: left;\n",
       "  }\n",
       "</style><div class='table-result-container'><table class='table-result'><thead style='background-color: white'><tr><th>Customer Id</th><th>Name</th><th>Email Id</th><th>address</th><th>gender</th><th>age</th><th>Joining Date</th><th>registered</th><th>order ID</th><th>orders</th><th>spent</th><th>job</th><th>hobbies</th><th>is_married</th><th>pincode</th></tr></thead><tbody><tr><td>amxjo131</td><td>Joseph Rice</td><td>josephrice131@slingacademy.com</td><td>91773 Miller Shoal Diaztown, FL 38841</td><td>male</td><td>43</td><td>07-12-2022 20:15</td><td>05-05-2019</td><td>null</td><td>7</td><td>568.29</td><td>Artist</td><td>Playing sports</td><td>FALSE</td><td> FL 38841</td></tr><tr><td>amxga386</td><td>Gary Moore</td><td>garymoore386@slingacademy.com</td><td>6450 John Lodge Territon, KY 95945</td><td>male</td><td>71</td><td>07-12-2021 20:15</td><td>20-05-2020</td><td>null</td><td>11</td><td>568.92</td><td>Artist</td><td>Swimming</td><td>TRUE</td><td> KY 95945</td></tr><tr><td>amxj944</td><td>John Walker</td><td>johnwalker944@slingacademy.com</td><td>27265 Murray Island Kevinfort, PA 63231</td><td>male</td><td>44</td><td>07-12-2022 20:15</td><td>04-04-2020</td><td>null</td><td>11</td><td>497.12</td><td>Clerk</td><td>Painting</td><td>FALSE</td><td> PA 63231</td></tr><tr><td>amxer176</td><td>Eric Carter</td><td>ericcarter176@slingacademy.com</td><td>USNS Knight FPO AA 76532</td><td>male</td><td>38</td><td>07-12-2022 20:15</td><td>30-01-2019</td><td>null</td><td>17</td><td>834.6</td><td>Butcher</td><td>Playing musical instruments</td><td>FALSE</td><td>null</td></tr><tr><td>amxwi427</td><td>William Jackson</td><td>williamjackson427@slingacademy.com</td><td>170 Jackson Loaf Kristenland, AS 48876</td><td>male</td><td>58</td><td>10-12-2022 20:15</td><td>01-07-2022</td><td>null</td><td>14</td><td>151.59</td><td>Engineer</td><td>Reading</td><td>FALSE</td><td> AS 48876</td></tr><tr><td>amxni228</td><td>Nicole Jones</td><td>nicolejones228@slingacademy.com</td><td>14354 Baker Harbor Apt. 017 Ericville, HI 11192</td><td>female</td><td>33</td><td>07-12-2022 20:15</td><td>07-08-2021</td><td>null</td><td>19</td><td>33.17</td><td>Unemployed</td><td>Running</td><td>TRUE</td><td> HI 11192</td></tr><tr><td>amxda980</td><td>David Davis</td><td>daviddavis980@slingacademy.com</td><td>021 Katherine Mall Jameston, DC 24685</td><td>male</td><td>59</td><td>07-12-2022 20:15</td><td>16-06-2022</td><td>null</td><td>9</td><td>970.96</td><td>Doctor</td><td>Playing sports</td><td>FALSE</td><td> DC 24685</td></tr><tr><td>amxja889</td><td>Jason Montgomery</td><td>jasonmontgomery889@slingacademy.com</td><td>14657 Scott Loop Apt. 735 Port Ashley, NH 34470</td><td>male</td><td>58</td><td>07-12-2023 20:15</td><td>13-11-2021</td><td>null</td><td>12</td><td>676.2</td><td>Waitress</td><td>Collecting</td><td>FALSE</td><td> NH 34470</td></tr><tr><td>amxke695</td><td>Kent Weaver</td><td>kentweaver695@slingacademy.com</td><td>6644 Mitchell Burg Victorhaven, KS 66356</td><td>male</td><td>61</td><td>07-01-2022 20:15</td><td>11-06-2023</td><td>null</td><td>1</td><td>674.37</td><td>Clerk</td><td>Hiking</td><td>FALSE</td><td> KS 66356</td></tr><tr><td>amxda573</td><td>Darrell Dillon</td><td>darrelldillon573@slingacademy.com</td><td>PSC 7267, Box 9911 APO AE 49343</td><td>male</td><td>50</td><td>07-0-2022 20:15</td><td>13-09-2022</td><td>null</td><td>12</td><td>750.72</td><td>Dentist</td><td>Watching movies</td><td>FALSE</td><td> Box 9911 APO AE 49343</td></tr><tr><td>amxja322</td><td>Jacqueline Wang</td><td>jacquelinewang322@slingacademy.com</td><td>16963 Stewart Curve Suite 27 South Cameron, ND 25136</td><td>female</td><td>22</td><td>07-12-2022 20:15</td><td>08-02-2023</td><td>null</td><td>12</td><td>962.47</td><td>Housewife</td><td>Collecting</td><td>FALSE</td><td> ND 25136</td></tr><tr><td>amxjo185</td><td>Jodi Gonzalez</td><td>jodigonzalez185@slingacademy.com</td><td>378 Johnson Oval South Stacie, RI 76332</td><td>female</td><td>69</td><td>07-12-2022 20:15</td><td>25-06-2021</td><td>null</td><td>12</td><td>68.67</td><td>Baker</td><td>Photography</td><td>FALSE</td><td> RI 76332</td></tr><tr><td>amxom769</td><td>Omar Martin</td><td>omarmartin769@slingacademy.com</td><td>Unit 9103 Box 4771 DPO AA 16592</td><td>male</td><td>28</td><td>07-12-2022 20:15</td><td>28-05-2023</td><td>null</td><td>3</td><td>162.58</td><td>Doctor</td><td>Gardening</td><td>TRUE</td><td>null</td></tr><tr><td>amxni473</td><td>Nicole Lara</td><td>nicolelara473@slingacademy.com</td><td>9822 Lisa Courts Johnhaven, IL 80438</td><td>female</td><td>77</td><td>07-01-2022 20:15</td><td>03-03-2023</td><td>null</td><td>17</td><td>309.81</td><td>Janitor</td><td>Hiking</td><td>TRUE</td><td> IL 80438</td></tr><tr><td>amxja753</td><td>Jason Brown</td><td>jasonbrown753@slingacademy.com</td><td>7310 Romero Summit East Scotttown, DC 53183</td><td>male</td><td>63</td><td>07-14-2022  20:15:39</td><td>05-12-2022</td><td>null</td><td>13</td><td>763.27</td><td>Lawyer</td><td>Fishing</td><td>TRUE</td><td> DC 53183</td></tr><tr><td>amxda257</td><td>David Benson</td><td>davidbenson257@slingacademy.com</td><td>444 Derek Summit Lisaborough, WA 20685</td><td>male</td><td>61</td><td>07-12-2022 20:15</td><td>15-04-2022</td><td>null</td><td>17</td><td>111.11</td><td>Lawyer</td><td>Meditation</td><td>TRUE</td><td> WA 20685</td></tr><tr><td>amxki513</td><td>Kimberly Mora</td><td>kimberlymora513@slingacademy.com</td><td>7679 Perry Square West Amybury, RI 15144</td><td>female</td><td>34</td><td>07-12-2022 20:15</td><td>19-05-2019</td><td>null</td><td>10</td><td>208.46</td><td>Farmer</td><td>Collecting</td><td>FALSE</td><td> RI 15144</td></tr><tr><td>amxer904</td><td>Erik Macias</td><td>erikmacias904@wingacademy.com</td><td>568 Christopher Tunnel Toddburgh, DE 86966</td><td>male</td><td>25</td><td>07-12-2022 20:15</td><td>18-04-2020</td><td>null</td><td>8</td><td>439.53</td><td>Accountant</td><td>Fishing</td><td>FALSE</td><td> DE 86966</td></tr><tr><td>amxja681</td><td>James Johnson</td><td>jamesjohnson681@wingacademy.com</td><td>19870 Sean Parkway North Jamesfurt, NC 28950</td><td>male</td><td>67</td><td>07-08-2022 20:15</td><td>17-02-2019</td><td>null</td><td>5</td><td>394.95</td><td>Security Guard</td><td>Watching movies</td><td>FALSE</td><td> NC 28950</td></tr><tr><td>amxde324</td><td>Derek Peterson</td><td>derekpeterson324@wingacademy.com</td><td>70830 Jonathan Pine Wilcoxburgh, MI 38265</td><td>male</td><td>36</td><td>07-12-2022 20:15</td><td>15-12-2020</td><td>null</td><td>2</td><td>153.8</td><td>Architect</td><td>Photography</td><td>TRUE</td><td> MI 38265</td></tr><tr><td>amxdi438</td><td>Diane Henson</td><td>dianehenson438@wingacademy.com</td><td>86382 Baker Ports Apt. 074 Cookfurt, NM 54313</td><td>female</td><td>74</td><td>07-12-2022 20:15</td><td>21-03-2020</td><td>null</td><td>19</td><td>62.52</td><td>Butcher</td><td>Playing musical instruments</td><td>FALSE</td><td> NM 54313</td></tr><tr><td>amxco721</td><td>Cody Lyons</td><td>codylyons721@wingacademy.com</td><td>60971 Carrillo Square Suite 141 New Kimberlybury, AS 02128</td><td>male</td><td>47</td><td>07-12-2022 20:15</td><td>25-11-2019</td><td>null</td><td>14</td><td>43.17</td><td>Baker</td><td>Hunting</td><td>FALSE</td><td> AS 02128</td></tr><tr><td>amxma249</td><td>Margaret Hardy</td><td>margarethardy249@wingacademy.com</td><td>2900 Sandra Villages Apt. 985 Phillipsstad, NH 19830</td><td>female</td><td>25</td><td>07-12-2022 20:15</td><td>17-07-2021</td><td>null</td><td>9</td><td>455.27</td><td>Barber</td><td>Other</td><td>FALSE</td><td> NH 19830</td></tr><tr><td>amxar881</td><td>Arthur Hayes</td><td>arthurhayes881@wingacademy.com</td><td>353 Elizabeth Forest Deannachester, NM 66952</td><td>male</td><td>75</td><td>07-15-2022  20:15:39</td><td>01-04-2021</td><td>null</td><td>6</td><td>749.78</td><td>Chef</td><td>Sewing</td><td>FALSE</td><td> NM 66952</td></tr><tr><td>amxra702</td><td>Raymond Taylor</td><td>raymondtaylor702@wingacademy.com</td><td>07867 John Mills Apt. 985 Tinaville, ID 59142</td><td>male</td><td>36</td><td>07-12-2022 20:15</td><td>24-09-2021</td><td>null</td><td>6</td><td>125.18</td><td>Butcher</td><td>Playing musical instruments</td><td>FALSE</td><td> ID 59142</td></tr><tr><td>amxti476</td><td>Tina Moore</td><td>tinamoore476@wingacademy.com</td><td>50984 Shelly Pass Port Nicholas, SC 48629</td><td>female</td><td>34</td><td>07-12-2022 20:15</td><td>15-07-2020</td><td>null</td><td>17</td><td>888.53</td><td>Chef</td><td>Running</td><td>FALSE</td><td> SC 48629</td></tr><tr><td>amxky170</td><td>Kylie White</td><td>kyliewhite170@wingacademy.com</td><td>5004 Christine Falls Suite 217 Jasonburgh, NJ 75688</td><td>female</td><td>63</td><td>07-12-2022 20:15</td><td>03-02-2020</td><td>null</td><td>6</td><td>872.18</td><td>Janitor</td><td>Reading</td><td>TRUE</td><td> NJ 75688</td></tr><tr><td>amxjo648</td><td>Jonathan Manning</td><td>jonathanmanning648@wingacademy.com</td><td>1501 Gregory Glens Suite 940 Stephensstad, GU 55206</td><td>male</td><td>30</td><td>07-12-2022 20:15</td><td>21-01-2022</td><td>null</td><td>0</td><td>178.54</td><td>Librarian</td><td>Playing sports</td><td>FALSE</td><td> GU 55206</td></tr><tr><td>amxan256</td><td>Angela Bryant</td><td>angelabryant256@wingacademy.com</td><td>01454 Christopher Turnpike North Ryanstad, MI 36226</td><td>female</td><td>23</td><td>07-12-2022 20:15</td><td>11-09-2019</td><td>null</td><td>3</td><td>525.2</td><td>Politician</td><td>Cycling</td><td>FALSE</td><td> MI 36226</td></tr></tbody></table></div>"
      ]
     },
     "metadata": {
      "application/vnd.databricks.v1+output": {
       "addedWidgets": {},
       "aggData": [],
       "aggError": "",
       "aggOverflow": false,
       "aggSchema": [],
       "aggSeriesLimitReached": false,
       "aggType": "",
       "arguments": {},
       "columnCustomDisplayInfos": {},
       "data": [
        [
         "amxjo131",
         "Joseph Rice",
         "josephrice131@slingacademy.com",
         "91773 Miller Shoal Diaztown, FL 38841",
         "male",
         "43",
         "07-12-2022 20:15",
         "05-05-2019",
         null,
         "7",
         "568.29",
         "Artist",
         "Playing sports",
         "FALSE",
         " FL 38841"
        ],
        [
         "amxga386",
         "Gary Moore",
         "garymoore386@slingacademy.com",
         "6450 John Lodge Territon, KY 95945",
         "male",
         "71",
         "07-12-2021 20:15",
         "20-05-2020",
         null,
         "11",
         "568.92",
         "Artist",
         "Swimming",
         "TRUE",
         " KY 95945"
        ],
        [
         "amxj944",
         "John Walker",
         "johnwalker944@slingacademy.com",
         "27265 Murray Island Kevinfort, PA 63231",
         "male",
         "44",
         "07-12-2022 20:15",
         "04-04-2020",
         null,
         "11",
         "497.12",
         "Clerk",
         "Painting",
         "FALSE",
         " PA 63231"
        ],
        [
         "amxer176",
         "Eric Carter",
         "ericcarter176@slingacademy.com",
         "USNS Knight FPO AA 76532",
         "male",
         "38",
         "07-12-2022 20:15",
         "30-01-2019",
         null,
         "17",
         "834.6",
         "Butcher",
         "Playing musical instruments",
         "FALSE",
         null
        ],
        [
         "amxwi427",
         "William Jackson",
         "williamjackson427@slingacademy.com",
         "170 Jackson Loaf Kristenland, AS 48876",
         "male",
         "58",
         "10-12-2022 20:15",
         "01-07-2022",
         null,
         "14",
         "151.59",
         "Engineer",
         "Reading",
         "FALSE",
         " AS 48876"
        ],
        [
         "amxni228",
         "Nicole Jones",
         "nicolejones228@slingacademy.com",
         "14354 Baker Harbor Apt. 017 Ericville, HI 11192",
         "female",
         "33",
         "07-12-2022 20:15",
         "07-08-2021",
         null,
         "19",
         "33.17",
         "Unemployed",
         "Running",
         "TRUE",
         " HI 11192"
        ],
        [
         "amxda980",
         "David Davis",
         "daviddavis980@slingacademy.com",
         "021 Katherine Mall Jameston, DC 24685",
         "male",
         "59",
         "07-12-2022 20:15",
         "16-06-2022",
         null,
         "9",
         "970.96",
         "Doctor",
         "Playing sports",
         "FALSE",
         " DC 24685"
        ],
        [
         "amxja889",
         "Jason Montgomery",
         "jasonmontgomery889@slingacademy.com",
         "14657 Scott Loop Apt. 735 Port Ashley, NH 34470",
         "male",
         "58",
         "07-12-2023 20:15",
         "13-11-2021",
         null,
         "12",
         "676.2",
         "Waitress",
         "Collecting",
         "FALSE",
         " NH 34470"
        ],
        [
         "amxke695",
         "Kent Weaver",
         "kentweaver695@slingacademy.com",
         "6644 Mitchell Burg Victorhaven, KS 66356",
         "male",
         "61",
         "07-01-2022 20:15",
         "11-06-2023",
         null,
         "1",
         "674.37",
         "Clerk",
         "Hiking",
         "FALSE",
         " KS 66356"
        ],
        [
         "amxda573",
         "Darrell Dillon",
         "darrelldillon573@slingacademy.com",
         "PSC 7267, Box 9911 APO AE 49343",
         "male",
         "50",
         "07-0-2022 20:15",
         "13-09-2022",
         null,
         "12",
         "750.72",
         "Dentist",
         "Watching movies",
         "FALSE",
         " Box 9911 APO AE 49343"
        ],
        [
         "amxja322",
         "Jacqueline Wang",
         "jacquelinewang322@slingacademy.com",
         "16963 Stewart Curve Suite 27 South Cameron, ND 25136",
         "female",
         "22",
         "07-12-2022 20:15",
         "08-02-2023",
         null,
         "12",
         "962.47",
         "Housewife",
         "Collecting",
         "FALSE",
         " ND 25136"
        ],
        [
         "amxjo185",
         "Jodi Gonzalez",
         "jodigonzalez185@slingacademy.com",
         "378 Johnson Oval South Stacie, RI 76332",
         "female",
         "69",
         "07-12-2022 20:15",
         "25-06-2021",
         null,
         "12",
         "68.67",
         "Baker",
         "Photography",
         "FALSE",
         " RI 76332"
        ],
        [
         "amxom769",
         "Omar Martin",
         "omarmartin769@slingacademy.com",
         "Unit 9103 Box 4771 DPO AA 16592",
         "male",
         "28",
         "07-12-2022 20:15",
         "28-05-2023",
         null,
         "3",
         "162.58",
         "Doctor",
         "Gardening",
         "TRUE",
         null
        ],
        [
         "amxni473",
         "Nicole Lara",
         "nicolelara473@slingacademy.com",
         "9822 Lisa Courts Johnhaven, IL 80438",
         "female",
         "77",
         "07-01-2022 20:15",
         "03-03-2023",
         null,
         "17",
         "309.81",
         "Janitor",
         "Hiking",
         "TRUE",
         " IL 80438"
        ],
        [
         "amxja753",
         "Jason Brown",
         "jasonbrown753@slingacademy.com",
         "7310 Romero Summit East Scotttown, DC 53183",
         "male",
         "63",
         "07-14-2022  20:15:39",
         "05-12-2022",
         null,
         "13",
         "763.27",
         "Lawyer",
         "Fishing",
         "TRUE",
         " DC 53183"
        ],
        [
         "amxda257",
         "David Benson",
         "davidbenson257@slingacademy.com",
         "444 Derek Summit Lisaborough, WA 20685",
         "male",
         "61",
         "07-12-2022 20:15",
         "15-04-2022",
         null,
         "17",
         "111.11",
         "Lawyer",
         "Meditation",
         "TRUE",
         " WA 20685"
        ],
        [
         "amxki513",
         "Kimberly Mora",
         "kimberlymora513@slingacademy.com",
         "7679 Perry Square West Amybury, RI 15144",
         "female",
         "34",
         "07-12-2022 20:15",
         "19-05-2019",
         null,
         "10",
         "208.46",
         "Farmer",
         "Collecting",
         "FALSE",
         " RI 15144"
        ],
        [
         "amxer904",
         "Erik Macias",
         "erikmacias904@wingacademy.com",
         "568 Christopher Tunnel Toddburgh, DE 86966",
         "male",
         "25",
         "07-12-2022 20:15",
         "18-04-2020",
         null,
         "8",
         "439.53",
         "Accountant",
         "Fishing",
         "FALSE",
         " DE 86966"
        ],
        [
         "amxja681",
         "James Johnson",
         "jamesjohnson681@wingacademy.com",
         "19870 Sean Parkway North Jamesfurt, NC 28950",
         "male",
         "67",
         "07-08-2022 20:15",
         "17-02-2019",
         null,
         "5",
         "394.95",
         "Security Guard",
         "Watching movies",
         "FALSE",
         " NC 28950"
        ],
        [
         "amxde324",
         "Derek Peterson",
         "derekpeterson324@wingacademy.com",
         "70830 Jonathan Pine Wilcoxburgh, MI 38265",
         "male",
         "36",
         "07-12-2022 20:15",
         "15-12-2020",
         null,
         "2",
         "153.8",
         "Architect",
         "Photography",
         "TRUE",
         " MI 38265"
        ],
        [
         "amxdi438",
         "Diane Henson",
         "dianehenson438@wingacademy.com",
         "86382 Baker Ports Apt. 074 Cookfurt, NM 54313",
         "female",
         "74",
         "07-12-2022 20:15",
         "21-03-2020",
         null,
         "19",
         "62.52",
         "Butcher",
         "Playing musical instruments",
         "FALSE",
         " NM 54313"
        ],
        [
         "amxco721",
         "Cody Lyons",
         "codylyons721@wingacademy.com",
         "60971 Carrillo Square Suite 141 New Kimberlybury, AS 02128",
         "male",
         "47",
         "07-12-2022 20:15",
         "25-11-2019",
         null,
         "14",
         "43.17",
         "Baker",
         "Hunting",
         "FALSE",
         " AS 02128"
        ],
        [
         "amxma249",
         "Margaret Hardy",
         "margarethardy249@wingacademy.com",
         "2900 Sandra Villages Apt. 985 Phillipsstad, NH 19830",
         "female",
         "25",
         "07-12-2022 20:15",
         "17-07-2021",
         null,
         "9",
         "455.27",
         "Barber",
         "Other",
         "FALSE",
         " NH 19830"
        ],
        [
         "amxar881",
         "Arthur Hayes",
         "arthurhayes881@wingacademy.com",
         "353 Elizabeth Forest Deannachester, NM 66952",
         "male",
         "75",
         "07-15-2022  20:15:39",
         "01-04-2021",
         null,
         "6",
         "749.78",
         "Chef",
         "Sewing",
         "FALSE",
         " NM 66952"
        ],
        [
         "amxra702",
         "Raymond Taylor",
         "raymondtaylor702@wingacademy.com",
         "07867 John Mills Apt. 985 Tinaville, ID 59142",
         "male",
         "36",
         "07-12-2022 20:15",
         "24-09-2021",
         null,
         "6",
         "125.18",
         "Butcher",
         "Playing musical instruments",
         "FALSE",
         " ID 59142"
        ],
        [
         "amxti476",
         "Tina Moore",
         "tinamoore476@wingacademy.com",
         "50984 Shelly Pass Port Nicholas, SC 48629",
         "female",
         "34",
         "07-12-2022 20:15",
         "15-07-2020",
         null,
         "17",
         "888.53",
         "Chef",
         "Running",
         "FALSE",
         " SC 48629"
        ],
        [
         "amxky170",
         "Kylie White",
         "kyliewhite170@wingacademy.com",
         "5004 Christine Falls Suite 217 Jasonburgh, NJ 75688",
         "female",
         "63",
         "07-12-2022 20:15",
         "03-02-2020",
         null,
         "6",
         "872.18",
         "Janitor",
         "Reading",
         "TRUE",
         " NJ 75688"
        ],
        [
         "amxjo648",
         "Jonathan Manning",
         "jonathanmanning648@wingacademy.com",
         "1501 Gregory Glens Suite 940 Stephensstad, GU 55206",
         "male",
         "30",
         "07-12-2022 20:15",
         "21-01-2022",
         null,
         "0",
         "178.54",
         "Librarian",
         "Playing sports",
         "FALSE",
         " GU 55206"
        ],
        [
         "amxan256",
         "Angela Bryant",
         "angelabryant256@wingacademy.com",
         "01454 Christopher Turnpike North Ryanstad, MI 36226",
         "female",
         "23",
         "07-12-2022 20:15",
         "11-09-2019",
         null,
         "3",
         "525.2",
         "Politician",
         "Cycling",
         "FALSE",
         " MI 36226"
        ]
       ],
       "datasetInfos": [],
       "dbfsResultPath": null,
       "isJsonSchema": true,
       "metadata": {},
       "overflow": false,
       "plotOptions": {
        "customPlotOptions": {},
        "displayType": "table",
        "pivotAggregation": null,
        "pivotColumns": null,
        "xColumns": null,
        "yColumns": null
       },
       "removedWidgets": [],
       "schema": [
        {
         "metadata": "{}",
         "name": "Customer Id",
         "type": "\"string\""
        },
        {
         "metadata": "{}",
         "name": "Name",
         "type": "\"string\""
        },
        {
         "metadata": "{}",
         "name": "Email Id",
         "type": "\"string\""
        },
        {
         "metadata": "{}",
         "name": "address",
         "type": "\"string\""
        },
        {
         "metadata": "{}",
         "name": "gender",
         "type": "\"string\""
        },
        {
         "metadata": "{}",
         "name": "age",
         "type": "\"string\""
        },
        {
         "metadata": "{}",
         "name": "Joining Date",
         "type": "\"string\""
        },
        {
         "metadata": "{}",
         "name": "registered",
         "type": "\"string\""
        },
        {
         "metadata": "{}",
         "name": "order ID",
         "type": "\"string\""
        },
        {
         "metadata": "{}",
         "name": "orders",
         "type": "\"string\""
        },
        {
         "metadata": "{}",
         "name": "spent",
         "type": "\"string\""
        },
        {
         "metadata": "{}",
         "name": "job",
         "type": "\"string\""
        },
        {
         "metadata": "{}",
         "name": "hobbies",
         "type": "\"string\""
        },
        {
         "metadata": "{}",
         "name": "is_married",
         "type": "\"string\""
        },
        {
         "metadata": "{}",
         "name": "pincode",
         "type": "\"string\""
        }
       ],
       "type": "table"
      }
     },
     "output_type": "display_data"
    }
   ],
   "source": [
    "df.withColumn('pincode',split(col('address'),',')[1]).display()"
   ]
  },
  {
   "cell_type": "code",
   "execution_count": 0,
   "metadata": {
    "application/vnd.databricks.v1+cell": {
     "cellMetadata": {
      "byteLimit": 2048000,
      "rowLimit": 10000
     },
     "inputWidgets": {},
     "nuid": "8540a70a-e5c6-4858-9617-988dffe445a9",
     "showTitle": false,
     "title": ""
    }
   },
   "outputs": [
    {
     "output_type": "display_data",
     "data": {
      "text/html": [
       "<style scoped>\n",
       "  .table-result-container {\n",
       "    max-height: 300px;\n",
       "    overflow: auto;\n",
       "  }\n",
       "  table, th, td {\n",
       "    border: 1px solid black;\n",
       "    border-collapse: collapse;\n",
       "  }\n",
       "  th, td {\n",
       "    padding: 5px;\n",
       "  }\n",
       "  th {\n",
       "    text-align: left;\n",
       "  }\n",
       "</style><div class='table-result-container'><table class='table-result'><thead style='background-color: white'><tr><th>split(address, ,, -1) AS pincode[1]</th></tr></thead><tbody><tr><td> FL 38841</td></tr><tr><td> KY 95945</td></tr><tr><td> PA 63231</td></tr><tr><td>null</td></tr><tr><td> AS 48876</td></tr><tr><td> HI 11192</td></tr><tr><td> DC 24685</td></tr><tr><td> NH 34470</td></tr><tr><td> KS 66356</td></tr><tr><td> Box 9911 APO AE 49343</td></tr><tr><td> ND 25136</td></tr><tr><td> RI 76332</td></tr><tr><td>null</td></tr><tr><td> IL 80438</td></tr><tr><td> DC 53183</td></tr><tr><td> WA 20685</td></tr><tr><td> RI 15144</td></tr><tr><td> DE 86966</td></tr><tr><td> NC 28950</td></tr><tr><td> MI 38265</td></tr><tr><td> NM 54313</td></tr><tr><td> AS 02128</td></tr><tr><td> NH 19830</td></tr><tr><td> NM 66952</td></tr><tr><td> ID 59142</td></tr><tr><td> SC 48629</td></tr><tr><td> NJ 75688</td></tr><tr><td> GU 55206</td></tr><tr><td> MI 36226</td></tr></tbody></table></div>"
      ]
     },
     "metadata": {
      "application/vnd.databricks.v1+output": {
       "addedWidgets": {},
       "aggData": [],
       "aggError": "",
       "aggOverflow": false,
       "aggSchema": [],
       "aggSeriesLimitReached": false,
       "aggType": "",
       "arguments": {},
       "columnCustomDisplayInfos": {},
       "data": [
        [
         " FL 38841"
        ],
        [
         " KY 95945"
        ],
        [
         " PA 63231"
        ],
        [
         null
        ],
        [
         " AS 48876"
        ],
        [
         " HI 11192"
        ],
        [
         " DC 24685"
        ],
        [
         " NH 34470"
        ],
        [
         " KS 66356"
        ],
        [
         " Box 9911 APO AE 49343"
        ],
        [
         " ND 25136"
        ],
        [
         " RI 76332"
        ],
        [
         null
        ],
        [
         " IL 80438"
        ],
        [
         " DC 53183"
        ],
        [
         " WA 20685"
        ],
        [
         " RI 15144"
        ],
        [
         " DE 86966"
        ],
        [
         " NC 28950"
        ],
        [
         " MI 38265"
        ],
        [
         " NM 54313"
        ],
        [
         " AS 02128"
        ],
        [
         " NH 19830"
        ],
        [
         " NM 66952"
        ],
        [
         " ID 59142"
        ],
        [
         " SC 48629"
        ],
        [
         " NJ 75688"
        ],
        [
         " GU 55206"
        ],
        [
         " MI 36226"
        ]
       ],
       "datasetInfos": [],
       "dbfsResultPath": null,
       "isJsonSchema": true,
       "metadata": {},
       "overflow": false,
       "plotOptions": {
        "customPlotOptions": {},
        "displayType": "table",
        "pivotAggregation": null,
        "pivotColumns": null,
        "xColumns": null,
        "yColumns": null
       },
       "removedWidgets": [],
       "schema": [
        {
         "metadata": "{\"__autoGeneratedAlias\":\"true\"}",
         "name": "split(address, ,, -1) AS pincode[1]",
         "type": "\"string\""
        }
       ],
       "type": "table"
      }
     },
     "output_type": "display_data"
    }
   ],
   "source": [
    "df.select(split(col('address'),',').alias('pincode')[1]).display()"
   ]
  },
  {
   "cell_type": "code",
   "execution_count": 0,
   "metadata": {
    "application/vnd.databricks.v1+cell": {
     "cellMetadata": {
      "byteLimit": 2048000,
      "rowLimit": 10000
     },
     "inputWidgets": {},
     "nuid": "e17234e1-f84e-496b-b264-b92051e985af",
     "showTitle": false,
     "title": ""
    }
   },
   "outputs": [
    {
     "output_type": "display_data",
     "data": {
      "text/html": [
       "<style scoped>\n",
       "  .table-result-container {\n",
       "    max-height: 300px;\n",
       "    overflow: auto;\n",
       "  }\n",
       "  table, th, td {\n",
       "    border: 1px solid black;\n",
       "    border-collapse: collapse;\n",
       "  }\n",
       "  th, td {\n",
       "    padding: 5px;\n",
       "  }\n",
       "  th {\n",
       "    text-align: left;\n",
       "  }\n",
       "</style><div class='table-result-container'><table class='table-result'><thead style='background-color: white'><tr><th>fname</th></tr></thead><tbody><tr><td>List(Joseph, Rice)</td></tr><tr><td>List(Gary, Moore)</td></tr><tr><td>List(John, Walker)</td></tr><tr><td>List(Eric, Carter)</td></tr><tr><td>List(William, Jackson)</td></tr><tr><td>List(Nicole, Jones)</td></tr><tr><td>List(David, Davis)</td></tr><tr><td>List(Jason, Montgomery)</td></tr><tr><td>List(Kent, Weaver)</td></tr><tr><td>List(Darrell, Dillon)</td></tr><tr><td>List(Jacqueline, Wang)</td></tr><tr><td>List(Jodi, Gonzalez)</td></tr><tr><td>List(Omar, Martin)</td></tr><tr><td>List(Nicole, Lara)</td></tr><tr><td>List(Jason, Brown)</td></tr><tr><td>List(David, Benson)</td></tr><tr><td>List(Kimberly, Mora)</td></tr><tr><td>List(Erik, Macias)</td></tr><tr><td>List(James, Johnson)</td></tr><tr><td>List(Derek, Peterson)</td></tr><tr><td>List(Diane, Henson)</td></tr><tr><td>List(Cody, Lyons)</td></tr><tr><td>List(Margaret, Hardy)</td></tr><tr><td>List(Arthur, Hayes)</td></tr><tr><td>List(Raymond, Taylor)</td></tr><tr><td>List(Tina, Moore)</td></tr><tr><td>List(Kylie, White)</td></tr><tr><td>List(Jonathan, Manning)</td></tr><tr><td>List(Angela, Bryant)</td></tr></tbody></table></div>"
      ]
     },
     "metadata": {
      "application/vnd.databricks.v1+output": {
       "addedWidgets": {},
       "aggData": [],
       "aggError": "",
       "aggOverflow": false,
       "aggSchema": [],
       "aggSeriesLimitReached": false,
       "aggType": "",
       "arguments": {},
       "columnCustomDisplayInfos": {},
       "data": [
        [
         [
          "Joseph",
          "Rice"
         ]
        ],
        [
         [
          "Gary",
          "Moore"
         ]
        ],
        [
         [
          "John",
          "Walker"
         ]
        ],
        [
         [
          "Eric",
          "Carter"
         ]
        ],
        [
         [
          "William",
          "Jackson"
         ]
        ],
        [
         [
          "Nicole",
          "Jones"
         ]
        ],
        [
         [
          "David",
          "Davis"
         ]
        ],
        [
         [
          "Jason",
          "Montgomery"
         ]
        ],
        [
         [
          "Kent",
          "Weaver"
         ]
        ],
        [
         [
          "Darrell",
          "Dillon"
         ]
        ],
        [
         [
          "Jacqueline",
          "Wang"
         ]
        ],
        [
         [
          "Jodi",
          "Gonzalez"
         ]
        ],
        [
         [
          "Omar",
          "Martin"
         ]
        ],
        [
         [
          "Nicole",
          "Lara"
         ]
        ],
        [
         [
          "Jason",
          "Brown"
         ]
        ],
        [
         [
          "David",
          "Benson"
         ]
        ],
        [
         [
          "Kimberly",
          "Mora"
         ]
        ],
        [
         [
          "Erik",
          "Macias"
         ]
        ],
        [
         [
          "James",
          "Johnson"
         ]
        ],
        [
         [
          "Derek",
          "Peterson"
         ]
        ],
        [
         [
          "Diane",
          "Henson"
         ]
        ],
        [
         [
          "Cody",
          "Lyons"
         ]
        ],
        [
         [
          "Margaret",
          "Hardy"
         ]
        ],
        [
         [
          "Arthur",
          "Hayes"
         ]
        ],
        [
         [
          "Raymond",
          "Taylor"
         ]
        ],
        [
         [
          "Tina",
          "Moore"
         ]
        ],
        [
         [
          "Kylie",
          "White"
         ]
        ],
        [
         [
          "Jonathan",
          "Manning"
         ]
        ],
        [
         [
          "Angela",
          "Bryant"
         ]
        ]
       ],
       "datasetInfos": [],
       "dbfsResultPath": null,
       "isJsonSchema": true,
       "metadata": {},
       "overflow": false,
       "plotOptions": {
        "customPlotOptions": {},
        "displayType": "table",
        "pivotAggregation": null,
        "pivotColumns": null,
        "xColumns": null,
        "yColumns": null
       },
       "removedWidgets": [],
       "schema": [
        {
         "metadata": "{}",
         "name": "fname",
         "type": "{\"type\":\"array\",\"elementType\":\"string\",\"containsNull\":false}"
        }
       ],
       "type": "table"
      }
     },
     "output_type": "display_data"
    }
   ],
   "source": [
    "df.select(split(col('name'),' ').alias('fname')).display()"
   ]
  },
  {
   "cell_type": "code",
   "execution_count": 0,
   "metadata": {
    "application/vnd.databricks.v1+cell": {
     "cellMetadata": {
      "byteLimit": 2048000,
      "rowLimit": 10000
     },
     "inputWidgets": {},
     "nuid": "6b30e366-dbd4-4ed7-a77e-76b9829786b6",
     "showTitle": false,
     "title": ""
    }
   },
   "outputs": [
    {
     "output_type": "display_data",
     "data": {
      "text/html": [
       "<style scoped>\n",
       "  .table-result-container {\n",
       "    max-height: 300px;\n",
       "    overflow: auto;\n",
       "  }\n",
       "  table, th, td {\n",
       "    border: 1px solid black;\n",
       "    border-collapse: collapse;\n",
       "  }\n",
       "  th, td {\n",
       "    padding: 5px;\n",
       "  }\n",
       "  th {\n",
       "    text-align: left;\n",
       "  }\n",
       "</style><div class='table-result-container'><table class='table-result'><thead style='background-color: white'><tr><th>Customer Id</th><th>Name</th><th>Email Id</th><th>address</th><th>gender</th><th>age</th><th>Joining Date</th><th>registered</th><th>order ID</th><th>orders</th><th>spent</th><th>job</th><th>hobbies</th><th>is_married</th></tr></thead><tbody><tr><td>amxjo131</td><td>Joseph Rice</td><td>josephrice131@slingacademy.com</td><td>91773 Miller Shoal Diaztown, FL 38841</td><td>male</td><td>43</td><td>07-12-2022 20:15</td><td>05052019</td><td>null</td><td>7</td><td>568.29</td><td>Artist</td><td>Playing sports</td><td>FALSE</td></tr><tr><td>amxga386</td><td>Gary Moore</td><td>garymoore386@slingacademy.com</td><td>6450 John Lodge Territon, KY 95945</td><td>male</td><td>71</td><td>07-12-2021 20:15</td><td>20052020</td><td>null</td><td>11</td><td>568.92</td><td>Artist</td><td>Swimming</td><td>TRUE</td></tr><tr><td>amxj944</td><td>John Walker</td><td>johnwalker944@slingacademy.com</td><td>27265 Murray Island Kevinfort, PA 63231</td><td>male</td><td>44</td><td>07-12-2022 20:15</td><td>04042020</td><td>null</td><td>11</td><td>497.12</td><td>Clerk</td><td>Painting</td><td>FALSE</td></tr><tr><td>amxer176</td><td>Eric Carter</td><td>ericcarter176@slingacademy.com</td><td>USNS Knight FPO AA 76532</td><td>male</td><td>38</td><td>07-12-2022 20:15</td><td>30012019</td><td>null</td><td>17</td><td>834.6</td><td>Butcher</td><td>Playing musical instruments</td><td>FALSE</td></tr><tr><td>amxwi427</td><td>William Jackson</td><td>williamjackson427@slingacademy.com</td><td>170 Jackson Loaf Kristenland, AS 48876</td><td>male</td><td>58</td><td>10-12-2022 20:15</td><td>01072022</td><td>null</td><td>14</td><td>151.59</td><td>Engineer</td><td>Reading</td><td>FALSE</td></tr><tr><td>amxni228</td><td>Nicole Jones</td><td>nicolejones228@slingacademy.com</td><td>14354 Baker Harbor Apt. 017 Ericville, HI 11192</td><td>female</td><td>33</td><td>07-12-2022 20:15</td><td>07082021</td><td>null</td><td>19</td><td>33.17</td><td>Unemployed</td><td>Running</td><td>TRUE</td></tr><tr><td>amxda980</td><td>David Davis</td><td>daviddavis980@slingacademy.com</td><td>021 Katherine Mall Jameston, DC 24685</td><td>male</td><td>59</td><td>07-12-2022 20:15</td><td>16062022</td><td>null</td><td>9</td><td>970.96</td><td>Doctor</td><td>Playing sports</td><td>FALSE</td></tr><tr><td>amxja889</td><td>Jason Montgomery</td><td>jasonmontgomery889@slingacademy.com</td><td>14657 Scott Loop Apt. 735 Port Ashley, NH 34470</td><td>male</td><td>58</td><td>07-12-2023 20:15</td><td>13112021</td><td>null</td><td>12</td><td>676.2</td><td>Waitress</td><td>Collecting</td><td>FALSE</td></tr><tr><td>amxke695</td><td>Kent Weaver</td><td>kentweaver695@slingacademy.com</td><td>6644 Mitchell Burg Victorhaven, KS 66356</td><td>male</td><td>61</td><td>07-01-2022 20:15</td><td>11062023</td><td>null</td><td>1</td><td>674.37</td><td>Clerk</td><td>Hiking</td><td>FALSE</td></tr><tr><td>amxda573</td><td>Darrell Dillon</td><td>darrelldillon573@slingacademy.com</td><td>PSC 7267, Box 9911 APO AE 49343</td><td>male</td><td>50</td><td>07-0-2022 20:15</td><td>13092022</td><td>null</td><td>12</td><td>750.72</td><td>Dentist</td><td>Watching movies</td><td>FALSE</td></tr><tr><td>amxja322</td><td>Jacqueline Wang</td><td>jacquelinewang322@slingacademy.com</td><td>16963 Stewart Curve Suite 27 South Cameron, ND 25136</td><td>female</td><td>22</td><td>07-12-2022 20:15</td><td>08022023</td><td>null</td><td>12</td><td>962.47</td><td>Housewife</td><td>Collecting</td><td>FALSE</td></tr><tr><td>amxjo185</td><td>Jodi Gonzalez</td><td>jodigonzalez185@slingacademy.com</td><td>378 Johnson Oval South Stacie, RI 76332</td><td>female</td><td>69</td><td>07-12-2022 20:15</td><td>25062021</td><td>null</td><td>12</td><td>68.67</td><td>Baker</td><td>Photography</td><td>FALSE</td></tr><tr><td>amxom769</td><td>Omar Martin</td><td>omarmartin769@slingacademy.com</td><td>Unit 9103 Box 4771 DPO AA 16592</td><td>male</td><td>28</td><td>07-12-2022 20:15</td><td>28052023</td><td>null</td><td>3</td><td>162.58</td><td>Doctor</td><td>Gardening</td><td>TRUE</td></tr><tr><td>amxni473</td><td>Nicole Lara</td><td>nicolelara473@slingacademy.com</td><td>9822 Lisa Courts Johnhaven, IL 80438</td><td>female</td><td>77</td><td>07-01-2022 20:15</td><td>03032023</td><td>null</td><td>17</td><td>309.81</td><td>Janitor</td><td>Hiking</td><td>TRUE</td></tr><tr><td>amxja753</td><td>Jason Brown</td><td>jasonbrown753@slingacademy.com</td><td>7310 Romero Summit East Scotttown, DC 53183</td><td>male</td><td>63</td><td>07-14-2022  20:15:39</td><td>05122022</td><td>null</td><td>13</td><td>763.27</td><td>Lawyer</td><td>Fishing</td><td>TRUE</td></tr><tr><td>amxda257</td><td>David Benson</td><td>davidbenson257@slingacademy.com</td><td>444 Derek Summit Lisaborough, WA 20685</td><td>male</td><td>61</td><td>07-12-2022 20:15</td><td>15042022</td><td>null</td><td>17</td><td>111.11</td><td>Lawyer</td><td>Meditation</td><td>TRUE</td></tr><tr><td>amxki513</td><td>Kimberly Mora</td><td>kimberlymora513@slingacademy.com</td><td>7679 Perry Square West Amybury, RI 15144</td><td>female</td><td>34</td><td>07-12-2022 20:15</td><td>19052019</td><td>null</td><td>10</td><td>208.46</td><td>Farmer</td><td>Collecting</td><td>FALSE</td></tr><tr><td>amxer904</td><td>Erik Macias</td><td>erikmacias904@wingacademy.com</td><td>568 Christopher Tunnel Toddburgh, DE 86966</td><td>male</td><td>25</td><td>07-12-2022 20:15</td><td>18042020</td><td>null</td><td>8</td><td>439.53</td><td>Accountant</td><td>Fishing</td><td>FALSE</td></tr><tr><td>amxja681</td><td>James Johnson</td><td>jamesjohnson681@wingacademy.com</td><td>19870 Sean Parkway North Jamesfurt, NC 28950</td><td>male</td><td>67</td><td>07-08-2022 20:15</td><td>17022019</td><td>null</td><td>5</td><td>394.95</td><td>Security Guard</td><td>Watching movies</td><td>FALSE</td></tr><tr><td>amxde324</td><td>Derek Peterson</td><td>derekpeterson324@wingacademy.com</td><td>70830 Jonathan Pine Wilcoxburgh, MI 38265</td><td>male</td><td>36</td><td>07-12-2022 20:15</td><td>15122020</td><td>null</td><td>2</td><td>153.8</td><td>Architect</td><td>Photography</td><td>TRUE</td></tr><tr><td>amxdi438</td><td>Diane Henson</td><td>dianehenson438@wingacademy.com</td><td>86382 Baker Ports Apt. 074 Cookfurt, NM 54313</td><td>female</td><td>74</td><td>07-12-2022 20:15</td><td>21032020</td><td>null</td><td>19</td><td>62.52</td><td>Butcher</td><td>Playing musical instruments</td><td>FALSE</td></tr><tr><td>amxco721</td><td>Cody Lyons</td><td>codylyons721@wingacademy.com</td><td>60971 Carrillo Square Suite 141 New Kimberlybury, AS 02128</td><td>male</td><td>47</td><td>07-12-2022 20:15</td><td>25112019</td><td>null</td><td>14</td><td>43.17</td><td>Baker</td><td>Hunting</td><td>FALSE</td></tr><tr><td>amxma249</td><td>Margaret Hardy</td><td>margarethardy249@wingacademy.com</td><td>2900 Sandra Villages Apt. 985 Phillipsstad, NH 19830</td><td>female</td><td>25</td><td>07-12-2022 20:15</td><td>17072021</td><td>null</td><td>9</td><td>455.27</td><td>Barber</td><td>Other</td><td>FALSE</td></tr><tr><td>amxar881</td><td>Arthur Hayes</td><td>arthurhayes881@wingacademy.com</td><td>353 Elizabeth Forest Deannachester, NM 66952</td><td>male</td><td>75</td><td>07-15-2022  20:15:39</td><td>01042021</td><td>null</td><td>6</td><td>749.78</td><td>Chef</td><td>Sewing</td><td>FALSE</td></tr><tr><td>amxra702</td><td>Raymond Taylor</td><td>raymondtaylor702@wingacademy.com</td><td>07867 John Mills Apt. 985 Tinaville, ID 59142</td><td>male</td><td>36</td><td>07-12-2022 20:15</td><td>24092021</td><td>null</td><td>6</td><td>125.18</td><td>Butcher</td><td>Playing musical instruments</td><td>FALSE</td></tr><tr><td>amxti476</td><td>Tina Moore</td><td>tinamoore476@wingacademy.com</td><td>50984 Shelly Pass Port Nicholas, SC 48629</td><td>female</td><td>34</td><td>07-12-2022 20:15</td><td>15072020</td><td>null</td><td>17</td><td>888.53</td><td>Chef</td><td>Running</td><td>FALSE</td></tr><tr><td>amxky170</td><td>Kylie White</td><td>kyliewhite170@wingacademy.com</td><td>5004 Christine Falls Suite 217 Jasonburgh, NJ 75688</td><td>female</td><td>63</td><td>07-12-2022 20:15</td><td>03022020</td><td>null</td><td>6</td><td>872.18</td><td>Janitor</td><td>Reading</td><td>TRUE</td></tr><tr><td>amxjo648</td><td>Jonathan Manning</td><td>jonathanmanning648@wingacademy.com</td><td>1501 Gregory Glens Suite 940 Stephensstad, GU 55206</td><td>male</td><td>30</td><td>07-12-2022 20:15</td><td>21012022</td><td>null</td><td>0</td><td>178.54</td><td>Librarian</td><td>Playing sports</td><td>FALSE</td></tr><tr><td>amxan256</td><td>Angela Bryant</td><td>angelabryant256@wingacademy.com</td><td>01454 Christopher Turnpike North Ryanstad, MI 36226</td><td>female</td><td>23</td><td>07-12-2022 20:15</td><td>11092019</td><td>null</td><td>3</td><td>525.2</td><td>Politician</td><td>Cycling</td><td>FALSE</td></tr></tbody></table></div>"
      ]
     },
     "metadata": {
      "application/vnd.databricks.v1+output": {
       "addedWidgets": {},
       "aggData": [],
       "aggError": "",
       "aggOverflow": false,
       "aggSchema": [],
       "aggSeriesLimitReached": false,
       "aggType": "",
       "arguments": {},
       "columnCustomDisplayInfos": {},
       "data": [
        [
         "amxjo131",
         "Joseph Rice",
         "josephrice131@slingacademy.com",
         "91773 Miller Shoal Diaztown, FL 38841",
         "male",
         "43",
         "07-12-2022 20:15",
         "05052019",
         null,
         "7",
         "568.29",
         "Artist",
         "Playing sports",
         "FALSE"
        ],
        [
         "amxga386",
         "Gary Moore",
         "garymoore386@slingacademy.com",
         "6450 John Lodge Territon, KY 95945",
         "male",
         "71",
         "07-12-2021 20:15",
         "20052020",
         null,
         "11",
         "568.92",
         "Artist",
         "Swimming",
         "TRUE"
        ],
        [
         "amxj944",
         "John Walker",
         "johnwalker944@slingacademy.com",
         "27265 Murray Island Kevinfort, PA 63231",
         "male",
         "44",
         "07-12-2022 20:15",
         "04042020",
         null,
         "11",
         "497.12",
         "Clerk",
         "Painting",
         "FALSE"
        ],
        [
         "amxer176",
         "Eric Carter",
         "ericcarter176@slingacademy.com",
         "USNS Knight FPO AA 76532",
         "male",
         "38",
         "07-12-2022 20:15",
         "30012019",
         null,
         "17",
         "834.6",
         "Butcher",
         "Playing musical instruments",
         "FALSE"
        ],
        [
         "amxwi427",
         "William Jackson",
         "williamjackson427@slingacademy.com",
         "170 Jackson Loaf Kristenland, AS 48876",
         "male",
         "58",
         "10-12-2022 20:15",
         "01072022",
         null,
         "14",
         "151.59",
         "Engineer",
         "Reading",
         "FALSE"
        ],
        [
         "amxni228",
         "Nicole Jones",
         "nicolejones228@slingacademy.com",
         "14354 Baker Harbor Apt. 017 Ericville, HI 11192",
         "female",
         "33",
         "07-12-2022 20:15",
         "07082021",
         null,
         "19",
         "33.17",
         "Unemployed",
         "Running",
         "TRUE"
        ],
        [
         "amxda980",
         "David Davis",
         "daviddavis980@slingacademy.com",
         "021 Katherine Mall Jameston, DC 24685",
         "male",
         "59",
         "07-12-2022 20:15",
         "16062022",
         null,
         "9",
         "970.96",
         "Doctor",
         "Playing sports",
         "FALSE"
        ],
        [
         "amxja889",
         "Jason Montgomery",
         "jasonmontgomery889@slingacademy.com",
         "14657 Scott Loop Apt. 735 Port Ashley, NH 34470",
         "male",
         "58",
         "07-12-2023 20:15",
         "13112021",
         null,
         "12",
         "676.2",
         "Waitress",
         "Collecting",
         "FALSE"
        ],
        [
         "amxke695",
         "Kent Weaver",
         "kentweaver695@slingacademy.com",
         "6644 Mitchell Burg Victorhaven, KS 66356",
         "male",
         "61",
         "07-01-2022 20:15",
         "11062023",
         null,
         "1",
         "674.37",
         "Clerk",
         "Hiking",
         "FALSE"
        ],
        [
         "amxda573",
         "Darrell Dillon",
         "darrelldillon573@slingacademy.com",
         "PSC 7267, Box 9911 APO AE 49343",
         "male",
         "50",
         "07-0-2022 20:15",
         "13092022",
         null,
         "12",
         "750.72",
         "Dentist",
         "Watching movies",
         "FALSE"
        ],
        [
         "amxja322",
         "Jacqueline Wang",
         "jacquelinewang322@slingacademy.com",
         "16963 Stewart Curve Suite 27 South Cameron, ND 25136",
         "female",
         "22",
         "07-12-2022 20:15",
         "08022023",
         null,
         "12",
         "962.47",
         "Housewife",
         "Collecting",
         "FALSE"
        ],
        [
         "amxjo185",
         "Jodi Gonzalez",
         "jodigonzalez185@slingacademy.com",
         "378 Johnson Oval South Stacie, RI 76332",
         "female",
         "69",
         "07-12-2022 20:15",
         "25062021",
         null,
         "12",
         "68.67",
         "Baker",
         "Photography",
         "FALSE"
        ],
        [
         "amxom769",
         "Omar Martin",
         "omarmartin769@slingacademy.com",
         "Unit 9103 Box 4771 DPO AA 16592",
         "male",
         "28",
         "07-12-2022 20:15",
         "28052023",
         null,
         "3",
         "162.58",
         "Doctor",
         "Gardening",
         "TRUE"
        ],
        [
         "amxni473",
         "Nicole Lara",
         "nicolelara473@slingacademy.com",
         "9822 Lisa Courts Johnhaven, IL 80438",
         "female",
         "77",
         "07-01-2022 20:15",
         "03032023",
         null,
         "17",
         "309.81",
         "Janitor",
         "Hiking",
         "TRUE"
        ],
        [
         "amxja753",
         "Jason Brown",
         "jasonbrown753@slingacademy.com",
         "7310 Romero Summit East Scotttown, DC 53183",
         "male",
         "63",
         "07-14-2022  20:15:39",
         "05122022",
         null,
         "13",
         "763.27",
         "Lawyer",
         "Fishing",
         "TRUE"
        ],
        [
         "amxda257",
         "David Benson",
         "davidbenson257@slingacademy.com",
         "444 Derek Summit Lisaborough, WA 20685",
         "male",
         "61",
         "07-12-2022 20:15",
         "15042022",
         null,
         "17",
         "111.11",
         "Lawyer",
         "Meditation",
         "TRUE"
        ],
        [
         "amxki513",
         "Kimberly Mora",
         "kimberlymora513@slingacademy.com",
         "7679 Perry Square West Amybury, RI 15144",
         "female",
         "34",
         "07-12-2022 20:15",
         "19052019",
         null,
         "10",
         "208.46",
         "Farmer",
         "Collecting",
         "FALSE"
        ],
        [
         "amxer904",
         "Erik Macias",
         "erikmacias904@wingacademy.com",
         "568 Christopher Tunnel Toddburgh, DE 86966",
         "male",
         "25",
         "07-12-2022 20:15",
         "18042020",
         null,
         "8",
         "439.53",
         "Accountant",
         "Fishing",
         "FALSE"
        ],
        [
         "amxja681",
         "James Johnson",
         "jamesjohnson681@wingacademy.com",
         "19870 Sean Parkway North Jamesfurt, NC 28950",
         "male",
         "67",
         "07-08-2022 20:15",
         "17022019",
         null,
         "5",
         "394.95",
         "Security Guard",
         "Watching movies",
         "FALSE"
        ],
        [
         "amxde324",
         "Derek Peterson",
         "derekpeterson324@wingacademy.com",
         "70830 Jonathan Pine Wilcoxburgh, MI 38265",
         "male",
         "36",
         "07-12-2022 20:15",
         "15122020",
         null,
         "2",
         "153.8",
         "Architect",
         "Photography",
         "TRUE"
        ],
        [
         "amxdi438",
         "Diane Henson",
         "dianehenson438@wingacademy.com",
         "86382 Baker Ports Apt. 074 Cookfurt, NM 54313",
         "female",
         "74",
         "07-12-2022 20:15",
         "21032020",
         null,
         "19",
         "62.52",
         "Butcher",
         "Playing musical instruments",
         "FALSE"
        ],
        [
         "amxco721",
         "Cody Lyons",
         "codylyons721@wingacademy.com",
         "60971 Carrillo Square Suite 141 New Kimberlybury, AS 02128",
         "male",
         "47",
         "07-12-2022 20:15",
         "25112019",
         null,
         "14",
         "43.17",
         "Baker",
         "Hunting",
         "FALSE"
        ],
        [
         "amxma249",
         "Margaret Hardy",
         "margarethardy249@wingacademy.com",
         "2900 Sandra Villages Apt. 985 Phillipsstad, NH 19830",
         "female",
         "25",
         "07-12-2022 20:15",
         "17072021",
         null,
         "9",
         "455.27",
         "Barber",
         "Other",
         "FALSE"
        ],
        [
         "amxar881",
         "Arthur Hayes",
         "arthurhayes881@wingacademy.com",
         "353 Elizabeth Forest Deannachester, NM 66952",
         "male",
         "75",
         "07-15-2022  20:15:39",
         "01042021",
         null,
         "6",
         "749.78",
         "Chef",
         "Sewing",
         "FALSE"
        ],
        [
         "amxra702",
         "Raymond Taylor",
         "raymondtaylor702@wingacademy.com",
         "07867 John Mills Apt. 985 Tinaville, ID 59142",
         "male",
         "36",
         "07-12-2022 20:15",
         "24092021",
         null,
         "6",
         "125.18",
         "Butcher",
         "Playing musical instruments",
         "FALSE"
        ],
        [
         "amxti476",
         "Tina Moore",
         "tinamoore476@wingacademy.com",
         "50984 Shelly Pass Port Nicholas, SC 48629",
         "female",
         "34",
         "07-12-2022 20:15",
         "15072020",
         null,
         "17",
         "888.53",
         "Chef",
         "Running",
         "FALSE"
        ],
        [
         "amxky170",
         "Kylie White",
         "kyliewhite170@wingacademy.com",
         "5004 Christine Falls Suite 217 Jasonburgh, NJ 75688",
         "female",
         "63",
         "07-12-2022 20:15",
         "03022020",
         null,
         "6",
         "872.18",
         "Janitor",
         "Reading",
         "TRUE"
        ],
        [
         "amxjo648",
         "Jonathan Manning",
         "jonathanmanning648@wingacademy.com",
         "1501 Gregory Glens Suite 940 Stephensstad, GU 55206",
         "male",
         "30",
         "07-12-2022 20:15",
         "21012022",
         null,
         "0",
         "178.54",
         "Librarian",
         "Playing sports",
         "FALSE"
        ],
        [
         "amxan256",
         "Angela Bryant",
         "angelabryant256@wingacademy.com",
         "01454 Christopher Turnpike North Ryanstad, MI 36226",
         "female",
         "23",
         "07-12-2022 20:15",
         "11092019",
         null,
         "3",
         "525.2",
         "Politician",
         "Cycling",
         "FALSE"
        ]
       ],
       "datasetInfos": [],
       "dbfsResultPath": null,
       "isJsonSchema": true,
       "metadata": {},
       "overflow": false,
       "plotOptions": {
        "customPlotOptions": {},
        "displayType": "table",
        "pivotAggregation": null,
        "pivotColumns": null,
        "xColumns": null,
        "yColumns": null
       },
       "removedWidgets": [],
       "schema": [
        {
         "metadata": "{}",
         "name": "Customer Id",
         "type": "\"string\""
        },
        {
         "metadata": "{}",
         "name": "Name",
         "type": "\"string\""
        },
        {
         "metadata": "{}",
         "name": "Email Id",
         "type": "\"string\""
        },
        {
         "metadata": "{}",
         "name": "address",
         "type": "\"string\""
        },
        {
         "metadata": "{}",
         "name": "gender",
         "type": "\"string\""
        },
        {
         "metadata": "{}",
         "name": "age",
         "type": "\"string\""
        },
        {
         "metadata": "{}",
         "name": "Joining Date",
         "type": "\"string\""
        },
        {
         "metadata": "{}",
         "name": "registered",
         "type": "\"string\""
        },
        {
         "metadata": "{}",
         "name": "order ID",
         "type": "\"string\""
        },
        {
         "metadata": "{}",
         "name": "orders",
         "type": "\"string\""
        },
        {
         "metadata": "{}",
         "name": "spent",
         "type": "\"string\""
        },
        {
         "metadata": "{}",
         "name": "job",
         "type": "\"string\""
        },
        {
         "metadata": "{}",
         "name": "hobbies",
         "type": "\"string\""
        },
        {
         "metadata": "{}",
         "name": "is_married",
         "type": "\"string\""
        }
       ],
       "type": "table"
      }
     },
     "output_type": "display_data"
    }
   ],
   "source": [
    "rpdf=df.withColumn('registered',regexp_replace('registered','-',''))\n",
    "display(rpdf)"
   ]
  },
  {
   "cell_type": "code",
   "execution_count": 0,
   "metadata": {
    "application/vnd.databricks.v1+cell": {
     "cellMetadata": {
      "byteLimit": 2048000,
      "rowLimit": 10000
     },
     "inputWidgets": {},
     "nuid": "71d041e9-274a-498e-82bb-af757878ee05",
     "showTitle": false,
     "title": ""
    }
   },
   "outputs": [
    {
     "output_type": "display_data",
     "data": {
      "text/html": [
       "<style scoped>\n",
       "  .table-result-container {\n",
       "    max-height: 300px;\n",
       "    overflow: auto;\n",
       "  }\n",
       "  table, th, td {\n",
       "    border: 1px solid black;\n",
       "    border-collapse: collapse;\n",
       "  }\n",
       "  th, td {\n",
       "    padding: 5px;\n",
       "  }\n",
       "  th {\n",
       "    text-align: left;\n",
       "  }\n",
       "</style><div class='table-result-container'><table class='table-result'><thead style='background-color: white'><tr><th>Customer Id</th><th>Name</th><th>Email Id</th><th>address</th><th>gender</th><th>age</th><th>Joining Date</th><th>registered</th><th>order ID</th><th>orders</th><th>spent</th><th>job</th><th>hobbies</th><th>is_married</th><th>year</th><th>month</th><th>day</th></tr></thead><tbody><tr><td>amxjo131</td><td>Joseph Rice</td><td>josephrice131@slingacademy.com</td><td>91773 Miller Shoal Diaztown, FL 38841</td><td>male</td><td>43</td><td>07-12-2022 20:15</td><td>05052019</td><td>null</td><td>7</td><td>568.29</td><td>Artist</td><td>Playing sports</td><td>FALSE</td><td>2019</td><td>05</td><td>05</td></tr><tr><td>amxga386</td><td>Gary Moore</td><td>garymoore386@slingacademy.com</td><td>6450 John Lodge Territon, KY 95945</td><td>male</td><td>71</td><td>07-12-2021 20:15</td><td>20052020</td><td>null</td><td>11</td><td>568.92</td><td>Artist</td><td>Swimming</td><td>TRUE</td><td>2020</td><td>05</td><td>20</td></tr><tr><td>amxj944</td><td>John Walker</td><td>johnwalker944@slingacademy.com</td><td>27265 Murray Island Kevinfort, PA 63231</td><td>male</td><td>44</td><td>07-12-2022 20:15</td><td>04042020</td><td>null</td><td>11</td><td>497.12</td><td>Clerk</td><td>Painting</td><td>FALSE</td><td>2020</td><td>04</td><td>04</td></tr><tr><td>amxer176</td><td>Eric Carter</td><td>ericcarter176@slingacademy.com</td><td>USNS Knight FPO AA 76532</td><td>male</td><td>38</td><td>07-12-2022 20:15</td><td>30012019</td><td>null</td><td>17</td><td>834.6</td><td>Butcher</td><td>Playing musical instruments</td><td>FALSE</td><td>2019</td><td>01</td><td>30</td></tr><tr><td>amxwi427</td><td>William Jackson</td><td>williamjackson427@slingacademy.com</td><td>170 Jackson Loaf Kristenland, AS 48876</td><td>male</td><td>58</td><td>10-12-2022 20:15</td><td>01072022</td><td>null</td><td>14</td><td>151.59</td><td>Engineer</td><td>Reading</td><td>FALSE</td><td>2022</td><td>07</td><td>01</td></tr><tr><td>amxni228</td><td>Nicole Jones</td><td>nicolejones228@slingacademy.com</td><td>14354 Baker Harbor Apt. 017 Ericville, HI 11192</td><td>female</td><td>33</td><td>07-12-2022 20:15</td><td>07082021</td><td>null</td><td>19</td><td>33.17</td><td>Unemployed</td><td>Running</td><td>TRUE</td><td>2021</td><td>08</td><td>07</td></tr><tr><td>amxda980</td><td>David Davis</td><td>daviddavis980@slingacademy.com</td><td>021 Katherine Mall Jameston, DC 24685</td><td>male</td><td>59</td><td>07-12-2022 20:15</td><td>16062022</td><td>null</td><td>9</td><td>970.96</td><td>Doctor</td><td>Playing sports</td><td>FALSE</td><td>2022</td><td>06</td><td>16</td></tr><tr><td>amxja889</td><td>Jason Montgomery</td><td>jasonmontgomery889@slingacademy.com</td><td>14657 Scott Loop Apt. 735 Port Ashley, NH 34470</td><td>male</td><td>58</td><td>07-12-2023 20:15</td><td>13112021</td><td>null</td><td>12</td><td>676.2</td><td>Waitress</td><td>Collecting</td><td>FALSE</td><td>2021</td><td>11</td><td>13</td></tr><tr><td>amxke695</td><td>Kent Weaver</td><td>kentweaver695@slingacademy.com</td><td>6644 Mitchell Burg Victorhaven, KS 66356</td><td>male</td><td>61</td><td>07-01-2022 20:15</td><td>11062023</td><td>null</td><td>1</td><td>674.37</td><td>Clerk</td><td>Hiking</td><td>FALSE</td><td>2023</td><td>06</td><td>11</td></tr><tr><td>amxda573</td><td>Darrell Dillon</td><td>darrelldillon573@slingacademy.com</td><td>PSC 7267, Box 9911 APO AE 49343</td><td>male</td><td>50</td><td>07-0-2022 20:15</td><td>13092022</td><td>null</td><td>12</td><td>750.72</td><td>Dentist</td><td>Watching movies</td><td>FALSE</td><td>2022</td><td>09</td><td>13</td></tr><tr><td>amxja322</td><td>Jacqueline Wang</td><td>jacquelinewang322@slingacademy.com</td><td>16963 Stewart Curve Suite 27 South Cameron, ND 25136</td><td>female</td><td>22</td><td>07-12-2022 20:15</td><td>08022023</td><td>null</td><td>12</td><td>962.47</td><td>Housewife</td><td>Collecting</td><td>FALSE</td><td>2023</td><td>02</td><td>08</td></tr><tr><td>amxjo185</td><td>Jodi Gonzalez</td><td>jodigonzalez185@slingacademy.com</td><td>378 Johnson Oval South Stacie, RI 76332</td><td>female</td><td>69</td><td>07-12-2022 20:15</td><td>25062021</td><td>null</td><td>12</td><td>68.67</td><td>Baker</td><td>Photography</td><td>FALSE</td><td>2021</td><td>06</td><td>25</td></tr><tr><td>amxom769</td><td>Omar Martin</td><td>omarmartin769@slingacademy.com</td><td>Unit 9103 Box 4771 DPO AA 16592</td><td>male</td><td>28</td><td>07-12-2022 20:15</td><td>28052023</td><td>null</td><td>3</td><td>162.58</td><td>Doctor</td><td>Gardening</td><td>TRUE</td><td>2023</td><td>05</td><td>28</td></tr><tr><td>amxni473</td><td>Nicole Lara</td><td>nicolelara473@slingacademy.com</td><td>9822 Lisa Courts Johnhaven, IL 80438</td><td>female</td><td>77</td><td>07-01-2022 20:15</td><td>03032023</td><td>null</td><td>17</td><td>309.81</td><td>Janitor</td><td>Hiking</td><td>TRUE</td><td>2023</td><td>03</td><td>03</td></tr><tr><td>amxja753</td><td>Jason Brown</td><td>jasonbrown753@slingacademy.com</td><td>7310 Romero Summit East Scotttown, DC 53183</td><td>male</td><td>63</td><td>07-14-2022  20:15:39</td><td>05122022</td><td>null</td><td>13</td><td>763.27</td><td>Lawyer</td><td>Fishing</td><td>TRUE</td><td>2022</td><td>12</td><td>05</td></tr><tr><td>amxda257</td><td>David Benson</td><td>davidbenson257@slingacademy.com</td><td>444 Derek Summit Lisaborough, WA 20685</td><td>male</td><td>61</td><td>07-12-2022 20:15</td><td>15042022</td><td>null</td><td>17</td><td>111.11</td><td>Lawyer</td><td>Meditation</td><td>TRUE</td><td>2022</td><td>04</td><td>15</td></tr><tr><td>amxki513</td><td>Kimberly Mora</td><td>kimberlymora513@slingacademy.com</td><td>7679 Perry Square West Amybury, RI 15144</td><td>female</td><td>34</td><td>07-12-2022 20:15</td><td>19052019</td><td>null</td><td>10</td><td>208.46</td><td>Farmer</td><td>Collecting</td><td>FALSE</td><td>2019</td><td>05</td><td>19</td></tr><tr><td>amxer904</td><td>Erik Macias</td><td>erikmacias904@wingacademy.com</td><td>568 Christopher Tunnel Toddburgh, DE 86966</td><td>male</td><td>25</td><td>07-12-2022 20:15</td><td>18042020</td><td>null</td><td>8</td><td>439.53</td><td>Accountant</td><td>Fishing</td><td>FALSE</td><td>2020</td><td>04</td><td>18</td></tr><tr><td>amxja681</td><td>James Johnson</td><td>jamesjohnson681@wingacademy.com</td><td>19870 Sean Parkway North Jamesfurt, NC 28950</td><td>male</td><td>67</td><td>07-08-2022 20:15</td><td>17022019</td><td>null</td><td>5</td><td>394.95</td><td>Security Guard</td><td>Watching movies</td><td>FALSE</td><td>2019</td><td>02</td><td>17</td></tr><tr><td>amxde324</td><td>Derek Peterson</td><td>derekpeterson324@wingacademy.com</td><td>70830 Jonathan Pine Wilcoxburgh, MI 38265</td><td>male</td><td>36</td><td>07-12-2022 20:15</td><td>15122020</td><td>null</td><td>2</td><td>153.8</td><td>Architect</td><td>Photography</td><td>TRUE</td><td>2020</td><td>12</td><td>15</td></tr><tr><td>amxdi438</td><td>Diane Henson</td><td>dianehenson438@wingacademy.com</td><td>86382 Baker Ports Apt. 074 Cookfurt, NM 54313</td><td>female</td><td>74</td><td>07-12-2022 20:15</td><td>21032020</td><td>null</td><td>19</td><td>62.52</td><td>Butcher</td><td>Playing musical instruments</td><td>FALSE</td><td>2020</td><td>03</td><td>21</td></tr><tr><td>amxco721</td><td>Cody Lyons</td><td>codylyons721@wingacademy.com</td><td>60971 Carrillo Square Suite 141 New Kimberlybury, AS 02128</td><td>male</td><td>47</td><td>07-12-2022 20:15</td><td>25112019</td><td>null</td><td>14</td><td>43.17</td><td>Baker</td><td>Hunting</td><td>FALSE</td><td>2019</td><td>11</td><td>25</td></tr><tr><td>amxma249</td><td>Margaret Hardy</td><td>margarethardy249@wingacademy.com</td><td>2900 Sandra Villages Apt. 985 Phillipsstad, NH 19830</td><td>female</td><td>25</td><td>07-12-2022 20:15</td><td>17072021</td><td>null</td><td>9</td><td>455.27</td><td>Barber</td><td>Other</td><td>FALSE</td><td>2021</td><td>07</td><td>17</td></tr><tr><td>amxar881</td><td>Arthur Hayes</td><td>arthurhayes881@wingacademy.com</td><td>353 Elizabeth Forest Deannachester, NM 66952</td><td>male</td><td>75</td><td>07-15-2022  20:15:39</td><td>01042021</td><td>null</td><td>6</td><td>749.78</td><td>Chef</td><td>Sewing</td><td>FALSE</td><td>2021</td><td>04</td><td>01</td></tr><tr><td>amxra702</td><td>Raymond Taylor</td><td>raymondtaylor702@wingacademy.com</td><td>07867 John Mills Apt. 985 Tinaville, ID 59142</td><td>male</td><td>36</td><td>07-12-2022 20:15</td><td>24092021</td><td>null</td><td>6</td><td>125.18</td><td>Butcher</td><td>Playing musical instruments</td><td>FALSE</td><td>2021</td><td>09</td><td>24</td></tr><tr><td>amxti476</td><td>Tina Moore</td><td>tinamoore476@wingacademy.com</td><td>50984 Shelly Pass Port Nicholas, SC 48629</td><td>female</td><td>34</td><td>07-12-2022 20:15</td><td>15072020</td><td>null</td><td>17</td><td>888.53</td><td>Chef</td><td>Running</td><td>FALSE</td><td>2020</td><td>07</td><td>15</td></tr><tr><td>amxky170</td><td>Kylie White</td><td>kyliewhite170@wingacademy.com</td><td>5004 Christine Falls Suite 217 Jasonburgh, NJ 75688</td><td>female</td><td>63</td><td>07-12-2022 20:15</td><td>03022020</td><td>null</td><td>6</td><td>872.18</td><td>Janitor</td><td>Reading</td><td>TRUE</td><td>2020</td><td>02</td><td>03</td></tr><tr><td>amxjo648</td><td>Jonathan Manning</td><td>jonathanmanning648@wingacademy.com</td><td>1501 Gregory Glens Suite 940 Stephensstad, GU 55206</td><td>male</td><td>30</td><td>07-12-2022 20:15</td><td>21012022</td><td>null</td><td>0</td><td>178.54</td><td>Librarian</td><td>Playing sports</td><td>FALSE</td><td>2022</td><td>01</td><td>21</td></tr><tr><td>amxan256</td><td>Angela Bryant</td><td>angelabryant256@wingacademy.com</td><td>01454 Christopher Turnpike North Ryanstad, MI 36226</td><td>female</td><td>23</td><td>07-12-2022 20:15</td><td>11092019</td><td>null</td><td>3</td><td>525.2</td><td>Politician</td><td>Cycling</td><td>FALSE</td><td>2019</td><td>09</td><td>11</td></tr></tbody></table></div>"
      ]
     },
     "metadata": {
      "application/vnd.databricks.v1+output": {
       "addedWidgets": {},
       "aggData": [],
       "aggError": "",
       "aggOverflow": false,
       "aggSchema": [],
       "aggSeriesLimitReached": false,
       "aggType": "",
       "arguments": {},
       "columnCustomDisplayInfos": {},
       "data": [
        [
         "amxjo131",
         "Joseph Rice",
         "josephrice131@slingacademy.com",
         "91773 Miller Shoal Diaztown, FL 38841",
         "male",
         "43",
         "07-12-2022 20:15",
         "05052019",
         null,
         "7",
         "568.29",
         "Artist",
         "Playing sports",
         "FALSE",
         "2019",
         "05",
         "05"
        ],
        [
         "amxga386",
         "Gary Moore",
         "garymoore386@slingacademy.com",
         "6450 John Lodge Territon, KY 95945",
         "male",
         "71",
         "07-12-2021 20:15",
         "20052020",
         null,
         "11",
         "568.92",
         "Artist",
         "Swimming",
         "TRUE",
         "2020",
         "05",
         "20"
        ],
        [
         "amxj944",
         "John Walker",
         "johnwalker944@slingacademy.com",
         "27265 Murray Island Kevinfort, PA 63231",
         "male",
         "44",
         "07-12-2022 20:15",
         "04042020",
         null,
         "11",
         "497.12",
         "Clerk",
         "Painting",
         "FALSE",
         "2020",
         "04",
         "04"
        ],
        [
         "amxer176",
         "Eric Carter",
         "ericcarter176@slingacademy.com",
         "USNS Knight FPO AA 76532",
         "male",
         "38",
         "07-12-2022 20:15",
         "30012019",
         null,
         "17",
         "834.6",
         "Butcher",
         "Playing musical instruments",
         "FALSE",
         "2019",
         "01",
         "30"
        ],
        [
         "amxwi427",
         "William Jackson",
         "williamjackson427@slingacademy.com",
         "170 Jackson Loaf Kristenland, AS 48876",
         "male",
         "58",
         "10-12-2022 20:15",
         "01072022",
         null,
         "14",
         "151.59",
         "Engineer",
         "Reading",
         "FALSE",
         "2022",
         "07",
         "01"
        ],
        [
         "amxni228",
         "Nicole Jones",
         "nicolejones228@slingacademy.com",
         "14354 Baker Harbor Apt. 017 Ericville, HI 11192",
         "female",
         "33",
         "07-12-2022 20:15",
         "07082021",
         null,
         "19",
         "33.17",
         "Unemployed",
         "Running",
         "TRUE",
         "2021",
         "08",
         "07"
        ],
        [
         "amxda980",
         "David Davis",
         "daviddavis980@slingacademy.com",
         "021 Katherine Mall Jameston, DC 24685",
         "male",
         "59",
         "07-12-2022 20:15",
         "16062022",
         null,
         "9",
         "970.96",
         "Doctor",
         "Playing sports",
         "FALSE",
         "2022",
         "06",
         "16"
        ],
        [
         "amxja889",
         "Jason Montgomery",
         "jasonmontgomery889@slingacademy.com",
         "14657 Scott Loop Apt. 735 Port Ashley, NH 34470",
         "male",
         "58",
         "07-12-2023 20:15",
         "13112021",
         null,
         "12",
         "676.2",
         "Waitress",
         "Collecting",
         "FALSE",
         "2021",
         "11",
         "13"
        ],
        [
         "amxke695",
         "Kent Weaver",
         "kentweaver695@slingacademy.com",
         "6644 Mitchell Burg Victorhaven, KS 66356",
         "male",
         "61",
         "07-01-2022 20:15",
         "11062023",
         null,
         "1",
         "674.37",
         "Clerk",
         "Hiking",
         "FALSE",
         "2023",
         "06",
         "11"
        ],
        [
         "amxda573",
         "Darrell Dillon",
         "darrelldillon573@slingacademy.com",
         "PSC 7267, Box 9911 APO AE 49343",
         "male",
         "50",
         "07-0-2022 20:15",
         "13092022",
         null,
         "12",
         "750.72",
         "Dentist",
         "Watching movies",
         "FALSE",
         "2022",
         "09",
         "13"
        ],
        [
         "amxja322",
         "Jacqueline Wang",
         "jacquelinewang322@slingacademy.com",
         "16963 Stewart Curve Suite 27 South Cameron, ND 25136",
         "female",
         "22",
         "07-12-2022 20:15",
         "08022023",
         null,
         "12",
         "962.47",
         "Housewife",
         "Collecting",
         "FALSE",
         "2023",
         "02",
         "08"
        ],
        [
         "amxjo185",
         "Jodi Gonzalez",
         "jodigonzalez185@slingacademy.com",
         "378 Johnson Oval South Stacie, RI 76332",
         "female",
         "69",
         "07-12-2022 20:15",
         "25062021",
         null,
         "12",
         "68.67",
         "Baker",
         "Photography",
         "FALSE",
         "2021",
         "06",
         "25"
        ],
        [
         "amxom769",
         "Omar Martin",
         "omarmartin769@slingacademy.com",
         "Unit 9103 Box 4771 DPO AA 16592",
         "male",
         "28",
         "07-12-2022 20:15",
         "28052023",
         null,
         "3",
         "162.58",
         "Doctor",
         "Gardening",
         "TRUE",
         "2023",
         "05",
         "28"
        ],
        [
         "amxni473",
         "Nicole Lara",
         "nicolelara473@slingacademy.com",
         "9822 Lisa Courts Johnhaven, IL 80438",
         "female",
         "77",
         "07-01-2022 20:15",
         "03032023",
         null,
         "17",
         "309.81",
         "Janitor",
         "Hiking",
         "TRUE",
         "2023",
         "03",
         "03"
        ],
        [
         "amxja753",
         "Jason Brown",
         "jasonbrown753@slingacademy.com",
         "7310 Romero Summit East Scotttown, DC 53183",
         "male",
         "63",
         "07-14-2022  20:15:39",
         "05122022",
         null,
         "13",
         "763.27",
         "Lawyer",
         "Fishing",
         "TRUE",
         "2022",
         "12",
         "05"
        ],
        [
         "amxda257",
         "David Benson",
         "davidbenson257@slingacademy.com",
         "444 Derek Summit Lisaborough, WA 20685",
         "male",
         "61",
         "07-12-2022 20:15",
         "15042022",
         null,
         "17",
         "111.11",
         "Lawyer",
         "Meditation",
         "TRUE",
         "2022",
         "04",
         "15"
        ],
        [
         "amxki513",
         "Kimberly Mora",
         "kimberlymora513@slingacademy.com",
         "7679 Perry Square West Amybury, RI 15144",
         "female",
         "34",
         "07-12-2022 20:15",
         "19052019",
         null,
         "10",
         "208.46",
         "Farmer",
         "Collecting",
         "FALSE",
         "2019",
         "05",
         "19"
        ],
        [
         "amxer904",
         "Erik Macias",
         "erikmacias904@wingacademy.com",
         "568 Christopher Tunnel Toddburgh, DE 86966",
         "male",
         "25",
         "07-12-2022 20:15",
         "18042020",
         null,
         "8",
         "439.53",
         "Accountant",
         "Fishing",
         "FALSE",
         "2020",
         "04",
         "18"
        ],
        [
         "amxja681",
         "James Johnson",
         "jamesjohnson681@wingacademy.com",
         "19870 Sean Parkway North Jamesfurt, NC 28950",
         "male",
         "67",
         "07-08-2022 20:15",
         "17022019",
         null,
         "5",
         "394.95",
         "Security Guard",
         "Watching movies",
         "FALSE",
         "2019",
         "02",
         "17"
        ],
        [
         "amxde324",
         "Derek Peterson",
         "derekpeterson324@wingacademy.com",
         "70830 Jonathan Pine Wilcoxburgh, MI 38265",
         "male",
         "36",
         "07-12-2022 20:15",
         "15122020",
         null,
         "2",
         "153.8",
         "Architect",
         "Photography",
         "TRUE",
         "2020",
         "12",
         "15"
        ],
        [
         "amxdi438",
         "Diane Henson",
         "dianehenson438@wingacademy.com",
         "86382 Baker Ports Apt. 074 Cookfurt, NM 54313",
         "female",
         "74",
         "07-12-2022 20:15",
         "21032020",
         null,
         "19",
         "62.52",
         "Butcher",
         "Playing musical instruments",
         "FALSE",
         "2020",
         "03",
         "21"
        ],
        [
         "amxco721",
         "Cody Lyons",
         "codylyons721@wingacademy.com",
         "60971 Carrillo Square Suite 141 New Kimberlybury, AS 02128",
         "male",
         "47",
         "07-12-2022 20:15",
         "25112019",
         null,
         "14",
         "43.17",
         "Baker",
         "Hunting",
         "FALSE",
         "2019",
         "11",
         "25"
        ],
        [
         "amxma249",
         "Margaret Hardy",
         "margarethardy249@wingacademy.com",
         "2900 Sandra Villages Apt. 985 Phillipsstad, NH 19830",
         "female",
         "25",
         "07-12-2022 20:15",
         "17072021",
         null,
         "9",
         "455.27",
         "Barber",
         "Other",
         "FALSE",
         "2021",
         "07",
         "17"
        ],
        [
         "amxar881",
         "Arthur Hayes",
         "arthurhayes881@wingacademy.com",
         "353 Elizabeth Forest Deannachester, NM 66952",
         "male",
         "75",
         "07-15-2022  20:15:39",
         "01042021",
         null,
         "6",
         "749.78",
         "Chef",
         "Sewing",
         "FALSE",
         "2021",
         "04",
         "01"
        ],
        [
         "amxra702",
         "Raymond Taylor",
         "raymondtaylor702@wingacademy.com",
         "07867 John Mills Apt. 985 Tinaville, ID 59142",
         "male",
         "36",
         "07-12-2022 20:15",
         "24092021",
         null,
         "6",
         "125.18",
         "Butcher",
         "Playing musical instruments",
         "FALSE",
         "2021",
         "09",
         "24"
        ],
        [
         "amxti476",
         "Tina Moore",
         "tinamoore476@wingacademy.com",
         "50984 Shelly Pass Port Nicholas, SC 48629",
         "female",
         "34",
         "07-12-2022 20:15",
         "15072020",
         null,
         "17",
         "888.53",
         "Chef",
         "Running",
         "FALSE",
         "2020",
         "07",
         "15"
        ],
        [
         "amxky170",
         "Kylie White",
         "kyliewhite170@wingacademy.com",
         "5004 Christine Falls Suite 217 Jasonburgh, NJ 75688",
         "female",
         "63",
         "07-12-2022 20:15",
         "03022020",
         null,
         "6",
         "872.18",
         "Janitor",
         "Reading",
         "TRUE",
         "2020",
         "02",
         "03"
        ],
        [
         "amxjo648",
         "Jonathan Manning",
         "jonathanmanning648@wingacademy.com",
         "1501 Gregory Glens Suite 940 Stephensstad, GU 55206",
         "male",
         "30",
         "07-12-2022 20:15",
         "21012022",
         null,
         "0",
         "178.54",
         "Librarian",
         "Playing sports",
         "FALSE",
         "2022",
         "01",
         "21"
        ],
        [
         "amxan256",
         "Angela Bryant",
         "angelabryant256@wingacademy.com",
         "01454 Christopher Turnpike North Ryanstad, MI 36226",
         "female",
         "23",
         "07-12-2022 20:15",
         "11092019",
         null,
         "3",
         "525.2",
         "Politician",
         "Cycling",
         "FALSE",
         "2019",
         "09",
         "11"
        ]
       ],
       "datasetInfos": [],
       "dbfsResultPath": null,
       "isJsonSchema": true,
       "metadata": {},
       "overflow": false,
       "plotOptions": {
        "customPlotOptions": {},
        "displayType": "table",
        "pivotAggregation": null,
        "pivotColumns": null,
        "xColumns": null,
        "yColumns": null
       },
       "removedWidgets": [],
       "schema": [
        {
         "metadata": "{}",
         "name": "Customer Id",
         "type": "\"string\""
        },
        {
         "metadata": "{}",
         "name": "Name",
         "type": "\"string\""
        },
        {
         "metadata": "{}",
         "name": "Email Id",
         "type": "\"string\""
        },
        {
         "metadata": "{}",
         "name": "address",
         "type": "\"string\""
        },
        {
         "metadata": "{}",
         "name": "gender",
         "type": "\"string\""
        },
        {
         "metadata": "{}",
         "name": "age",
         "type": "\"string\""
        },
        {
         "metadata": "{}",
         "name": "Joining Date",
         "type": "\"string\""
        },
        {
         "metadata": "{}",
         "name": "registered",
         "type": "\"string\""
        },
        {
         "metadata": "{}",
         "name": "order ID",
         "type": "\"string\""
        },
        {
         "metadata": "{}",
         "name": "orders",
         "type": "\"string\""
        },
        {
         "metadata": "{}",
         "name": "spent",
         "type": "\"string\""
        },
        {
         "metadata": "{}",
         "name": "job",
         "type": "\"string\""
        },
        {
         "metadata": "{}",
         "name": "hobbies",
         "type": "\"string\""
        },
        {
         "metadata": "{}",
         "name": "is_married",
         "type": "\"string\""
        },
        {
         "metadata": "{}",
         "name": "year",
         "type": "\"string\""
        },
        {
         "metadata": "{}",
         "name": "month",
         "type": "\"string\""
        },
        {
         "metadata": "{}",
         "name": "day",
         "type": "\"string\""
        }
       ],
       "type": "table"
      }
     },
     "output_type": "display_data"
    }
   ],
   "source": [
    "subdf=rpdf.withColumn('year',substring('registered',5,4)).withColumn('month',substring('registered',3,2)).withColumn('day',substring('registered',1,2))\n",
    "display(subdf)d"
   ]
  },
  {
   "cell_type": "code",
   "execution_count": 0,
   "metadata": {
    "application/vnd.databricks.v1+cell": {
     "cellMetadata": {
      "byteLimit": 2048000,
      "rowLimit": 10000
     },
     "inputWidgets": {},
     "nuid": "d3ebde5c-0418-4bea-844c-27248ff5c1a6",
     "showTitle": false,
     "title": ""
    }
   },
   "outputs": [
    {
     "output_type": "display_data",
     "data": {
      "text/html": [
       "<style scoped>\n",
       "  .table-result-container {\n",
       "    max-height: 300px;\n",
       "    overflow: auto;\n",
       "  }\n",
       "  table, th, td {\n",
       "    border: 1px solid black;\n",
       "    border-collapse: collapse;\n",
       "  }\n",
       "  th, td {\n",
       "    padding: 5px;\n",
       "  }\n",
       "  th {\n",
       "    text-align: left;\n",
       "  }\n",
       "</style><div class='table-result-container'><table class='table-result'><thead style='background-color: white'><tr><th>Customer Id</th><th>Name</th><th>Email Id</th><th>address</th><th>gender</th><th>age</th><th>Joining Date</th><th>registered</th><th>order ID</th><th>orders</th><th>spent</th><th>job</th><th>hobbies</th><th>is_married</th><th>names</th><th>mail</th></tr></thead><tbody><tr><td>amxjo131</td><td>Joseph Rice</td><td>josephrice131@slingacademy.com</td><td>91773 Miller Shoal Diaztown, FL 38841</td><td>male</td><td>43</td><td>07-12-2022 20:15</td><td>05-05-2019</td><td>null</td><td>7</td><td>568.29</td><td>Artist</td><td>Playing sports</td><td>FALSE</td><td>josephrice131</td><td>slingacademy.com</td></tr><tr><td>amxga386</td><td>Gary Moore</td><td>garymoore386@slingacademy.com</td><td>6450 John Lodge Territon, KY 95945</td><td>male</td><td>71</td><td>07-12-2021 20:15</td><td>20-05-2020</td><td>null</td><td>11</td><td>568.92</td><td>Artist</td><td>Swimming</td><td>TRUE</td><td>garymoore386</td><td>slingacademy.com</td></tr><tr><td>amxj944</td><td>John Walker</td><td>johnwalker944@slingacademy.com</td><td>27265 Murray Island Kevinfort, PA 63231</td><td>male</td><td>44</td><td>07-12-2022 20:15</td><td>04-04-2020</td><td>null</td><td>11</td><td>497.12</td><td>Clerk</td><td>Painting</td><td>FALSE</td><td>johnwalker944</td><td>slingacademy.com</td></tr><tr><td>amxer176</td><td>Eric Carter</td><td>ericcarter176@slingacademy.com</td><td>USNS Knight FPO AA 76532</td><td>male</td><td>38</td><td>07-12-2022 20:15</td><td>30-01-2019</td><td>null</td><td>17</td><td>834.6</td><td>Butcher</td><td>Playing musical instruments</td><td>FALSE</td><td>ericcarter176</td><td>slingacademy.com</td></tr><tr><td>amxwi427</td><td>William Jackson</td><td>williamjackson427@slingacademy.com</td><td>170 Jackson Loaf Kristenland, AS 48876</td><td>male</td><td>58</td><td>10-12-2022 20:15</td><td>01-07-2022</td><td>null</td><td>14</td><td>151.59</td><td>Engineer</td><td>Reading</td><td>FALSE</td><td>williamjackson427</td><td>slingacademy.com</td></tr><tr><td>amxni228</td><td>Nicole Jones</td><td>nicolejones228@slingacademy.com</td><td>14354 Baker Harbor Apt. 017 Ericville, HI 11192</td><td>female</td><td>33</td><td>07-12-2022 20:15</td><td>07-08-2021</td><td>null</td><td>19</td><td>33.17</td><td>Unemployed</td><td>Running</td><td>TRUE</td><td>nicolejones228</td><td>slingacademy.com</td></tr><tr><td>amxda980</td><td>David Davis</td><td>daviddavis980@slingacademy.com</td><td>021 Katherine Mall Jameston, DC 24685</td><td>male</td><td>59</td><td>07-12-2022 20:15</td><td>16-06-2022</td><td>null</td><td>9</td><td>970.96</td><td>Doctor</td><td>Playing sports</td><td>FALSE</td><td>daviddavis980</td><td>slingacademy.com</td></tr><tr><td>amxja889</td><td>Jason Montgomery</td><td>jasonmontgomery889@slingacademy.com</td><td>14657 Scott Loop Apt. 735 Port Ashley, NH 34470</td><td>male</td><td>58</td><td>07-12-2023 20:15</td><td>13-11-2021</td><td>null</td><td>12</td><td>676.2</td><td>Waitress</td><td>Collecting</td><td>FALSE</td><td>jasonmontgomery889</td><td>slingacademy.com</td></tr><tr><td>amxke695</td><td>Kent Weaver</td><td>kentweaver695@slingacademy.com</td><td>6644 Mitchell Burg Victorhaven, KS 66356</td><td>male</td><td>61</td><td>07-01-2022 20:15</td><td>11-06-2023</td><td>null</td><td>1</td><td>674.37</td><td>Clerk</td><td>Hiking</td><td>FALSE</td><td>kentweaver695</td><td>slingacademy.com</td></tr><tr><td>amxda573</td><td>Darrell Dillon</td><td>darrelldillon573@slingacademy.com</td><td>PSC 7267, Box 9911 APO AE 49343</td><td>male</td><td>50</td><td>07-0-2022 20:15</td><td>13-09-2022</td><td>null</td><td>12</td><td>750.72</td><td>Dentist</td><td>Watching movies</td><td>FALSE</td><td>darrelldillon573</td><td>slingacademy.com</td></tr><tr><td>amxja322</td><td>Jacqueline Wang</td><td>jacquelinewang322@slingacademy.com</td><td>16963 Stewart Curve Suite 27 South Cameron, ND 25136</td><td>female</td><td>22</td><td>07-12-2022 20:15</td><td>08-02-2023</td><td>null</td><td>12</td><td>962.47</td><td>Housewife</td><td>Collecting</td><td>FALSE</td><td>jacquelinewang322</td><td>slingacademy.com</td></tr><tr><td>amxjo185</td><td>Jodi Gonzalez</td><td>jodigonzalez185@slingacademy.com</td><td>378 Johnson Oval South Stacie, RI 76332</td><td>female</td><td>69</td><td>07-12-2022 20:15</td><td>25-06-2021</td><td>null</td><td>12</td><td>68.67</td><td>Baker</td><td>Photography</td><td>FALSE</td><td>jodigonzalez185</td><td>slingacademy.com</td></tr><tr><td>amxom769</td><td>Omar Martin</td><td>omarmartin769@slingacademy.com</td><td>Unit 9103 Box 4771 DPO AA 16592</td><td>male</td><td>28</td><td>07-12-2022 20:15</td><td>28-05-2023</td><td>null</td><td>3</td><td>162.58</td><td>Doctor</td><td>Gardening</td><td>TRUE</td><td>omarmartin769</td><td>slingacademy.com</td></tr><tr><td>amxni473</td><td>Nicole Lara</td><td>nicolelara473@slingacademy.com</td><td>9822 Lisa Courts Johnhaven, IL 80438</td><td>female</td><td>77</td><td>07-01-2022 20:15</td><td>03-03-2023</td><td>null</td><td>17</td><td>309.81</td><td>Janitor</td><td>Hiking</td><td>TRUE</td><td>nicolelara473</td><td>slingacademy.com</td></tr><tr><td>amxja753</td><td>Jason Brown</td><td>jasonbrown753@slingacademy.com</td><td>7310 Romero Summit East Scotttown, DC 53183</td><td>male</td><td>63</td><td>07-14-2022  20:15:39</td><td>05-12-2022</td><td>null</td><td>13</td><td>763.27</td><td>Lawyer</td><td>Fishing</td><td>TRUE</td><td>jasonbrown753</td><td>slingacademy.com</td></tr><tr><td>amxda257</td><td>David Benson</td><td>davidbenson257@slingacademy.com</td><td>444 Derek Summit Lisaborough, WA 20685</td><td>male</td><td>61</td><td>07-12-2022 20:15</td><td>15-04-2022</td><td>null</td><td>17</td><td>111.11</td><td>Lawyer</td><td>Meditation</td><td>TRUE</td><td>davidbenson257</td><td>slingacademy.com</td></tr><tr><td>amxki513</td><td>Kimberly Mora</td><td>kimberlymora513@slingacademy.com</td><td>7679 Perry Square West Amybury, RI 15144</td><td>female</td><td>34</td><td>07-12-2022 20:15</td><td>19-05-2019</td><td>null</td><td>10</td><td>208.46</td><td>Farmer</td><td>Collecting</td><td>FALSE</td><td>kimberlymora513</td><td>slingacademy.com</td></tr><tr><td>amxer904</td><td>Erik Macias</td><td>erikmacias904@wingacademy.com</td><td>568 Christopher Tunnel Toddburgh, DE 86966</td><td>male</td><td>25</td><td>07-12-2022 20:15</td><td>18-04-2020</td><td>null</td><td>8</td><td>439.53</td><td>Accountant</td><td>Fishing</td><td>FALSE</td><td>erikmacias904</td><td>wingacademy.com</td></tr><tr><td>amxja681</td><td>James Johnson</td><td>jamesjohnson681@wingacademy.com</td><td>19870 Sean Parkway North Jamesfurt, NC 28950</td><td>male</td><td>67</td><td>07-08-2022 20:15</td><td>17-02-2019</td><td>null</td><td>5</td><td>394.95</td><td>Security Guard</td><td>Watching movies</td><td>FALSE</td><td>jamesjohnson681</td><td>wingacademy.com</td></tr><tr><td>amxde324</td><td>Derek Peterson</td><td>derekpeterson324@wingacademy.com</td><td>70830 Jonathan Pine Wilcoxburgh, MI 38265</td><td>male</td><td>36</td><td>07-12-2022 20:15</td><td>15-12-2020</td><td>null</td><td>2</td><td>153.8</td><td>Architect</td><td>Photography</td><td>TRUE</td><td>derekpeterson324</td><td>wingacademy.com</td></tr><tr><td>amxdi438</td><td>Diane Henson</td><td>dianehenson438@wingacademy.com</td><td>86382 Baker Ports Apt. 074 Cookfurt, NM 54313</td><td>female</td><td>74</td><td>07-12-2022 20:15</td><td>21-03-2020</td><td>null</td><td>19</td><td>62.52</td><td>Butcher</td><td>Playing musical instruments</td><td>FALSE</td><td>dianehenson438</td><td>wingacademy.com</td></tr><tr><td>amxco721</td><td>Cody Lyons</td><td>codylyons721@wingacademy.com</td><td>60971 Carrillo Square Suite 141 New Kimberlybury, AS 02128</td><td>male</td><td>47</td><td>07-12-2022 20:15</td><td>25-11-2019</td><td>null</td><td>14</td><td>43.17</td><td>Baker</td><td>Hunting</td><td>FALSE</td><td>codylyons721</td><td>wingacademy.com</td></tr><tr><td>amxma249</td><td>Margaret Hardy</td><td>margarethardy249@wingacademy.com</td><td>2900 Sandra Villages Apt. 985 Phillipsstad, NH 19830</td><td>female</td><td>25</td><td>07-12-2022 20:15</td><td>17-07-2021</td><td>null</td><td>9</td><td>455.27</td><td>Barber</td><td>Other</td><td>FALSE</td><td>margarethardy249</td><td>wingacademy.com</td></tr><tr><td>amxar881</td><td>Arthur Hayes</td><td>arthurhayes881@wingacademy.com</td><td>353 Elizabeth Forest Deannachester, NM 66952</td><td>male</td><td>75</td><td>07-15-2022  20:15:39</td><td>01-04-2021</td><td>null</td><td>6</td><td>749.78</td><td>Chef</td><td>Sewing</td><td>FALSE</td><td>arthurhayes881</td><td>wingacademy.com</td></tr><tr><td>amxra702</td><td>Raymond Taylor</td><td>raymondtaylor702@wingacademy.com</td><td>07867 John Mills Apt. 985 Tinaville, ID 59142</td><td>male</td><td>36</td><td>07-12-2022 20:15</td><td>24-09-2021</td><td>null</td><td>6</td><td>125.18</td><td>Butcher</td><td>Playing musical instruments</td><td>FALSE</td><td>raymondtaylor702</td><td>wingacademy.com</td></tr><tr><td>amxti476</td><td>Tina Moore</td><td>tinamoore476@wingacademy.com</td><td>50984 Shelly Pass Port Nicholas, SC 48629</td><td>female</td><td>34</td><td>07-12-2022 20:15</td><td>15-07-2020</td><td>null</td><td>17</td><td>888.53</td><td>Chef</td><td>Running</td><td>FALSE</td><td>tinamoore476</td><td>wingacademy.com</td></tr><tr><td>amxky170</td><td>Kylie White</td><td>kyliewhite170@wingacademy.com</td><td>5004 Christine Falls Suite 217 Jasonburgh, NJ 75688</td><td>female</td><td>63</td><td>07-12-2022 20:15</td><td>03-02-2020</td><td>null</td><td>6</td><td>872.18</td><td>Janitor</td><td>Reading</td><td>TRUE</td><td>kyliewhite170</td><td>wingacademy.com</td></tr><tr><td>amxjo648</td><td>Jonathan Manning</td><td>jonathanmanning648@wingacademy.com</td><td>1501 Gregory Glens Suite 940 Stephensstad, GU 55206</td><td>male</td><td>30</td><td>07-12-2022 20:15</td><td>21-01-2022</td><td>null</td><td>0</td><td>178.54</td><td>Librarian</td><td>Playing sports</td><td>FALSE</td><td>jonathanmanning648</td><td>wingacademy.com</td></tr><tr><td>amxan256</td><td>Angela Bryant</td><td>angelabryant256@wingacademy.com</td><td>01454 Christopher Turnpike North Ryanstad, MI 36226</td><td>female</td><td>23</td><td>07-12-2022 20:15</td><td>11-09-2019</td><td>null</td><td>3</td><td>525.2</td><td>Politician</td><td>Cycling</td><td>FALSE</td><td>angelabryant256</td><td>wingacademy.com</td></tr></tbody></table></div>"
      ]
     },
     "metadata": {
      "application/vnd.databricks.v1+output": {
       "addedWidgets": {},
       "aggData": [],
       "aggError": "",
       "aggOverflow": false,
       "aggSchema": [],
       "aggSeriesLimitReached": false,
       "aggType": "",
       "arguments": {},
       "columnCustomDisplayInfos": {},
       "data": [
        [
         "amxjo131",
         "Joseph Rice",
         "josephrice131@slingacademy.com",
         "91773 Miller Shoal Diaztown, FL 38841",
         "male",
         "43",
         "07-12-2022 20:15",
         "05-05-2019",
         null,
         "7",
         "568.29",
         "Artist",
         "Playing sports",
         "FALSE",
         "josephrice131",
         "slingacademy.com"
        ],
        [
         "amxga386",
         "Gary Moore",
         "garymoore386@slingacademy.com",
         "6450 John Lodge Territon, KY 95945",
         "male",
         "71",
         "07-12-2021 20:15",
         "20-05-2020",
         null,
         "11",
         "568.92",
         "Artist",
         "Swimming",
         "TRUE",
         "garymoore386",
         "slingacademy.com"
        ],
        [
         "amxj944",
         "John Walker",
         "johnwalker944@slingacademy.com",
         "27265 Murray Island Kevinfort, PA 63231",
         "male",
         "44",
         "07-12-2022 20:15",
         "04-04-2020",
         null,
         "11",
         "497.12",
         "Clerk",
         "Painting",
         "FALSE",
         "johnwalker944",
         "slingacademy.com"
        ],
        [
         "amxer176",
         "Eric Carter",
         "ericcarter176@slingacademy.com",
         "USNS Knight FPO AA 76532",
         "male",
         "38",
         "07-12-2022 20:15",
         "30-01-2019",
         null,
         "17",
         "834.6",
         "Butcher",
         "Playing musical instruments",
         "FALSE",
         "ericcarter176",
         "slingacademy.com"
        ],
        [
         "amxwi427",
         "William Jackson",
         "williamjackson427@slingacademy.com",
         "170 Jackson Loaf Kristenland, AS 48876",
         "male",
         "58",
         "10-12-2022 20:15",
         "01-07-2022",
         null,
         "14",
         "151.59",
         "Engineer",
         "Reading",
         "FALSE",
         "williamjackson427",
         "slingacademy.com"
        ],
        [
         "amxni228",
         "Nicole Jones",
         "nicolejones228@slingacademy.com",
         "14354 Baker Harbor Apt. 017 Ericville, HI 11192",
         "female",
         "33",
         "07-12-2022 20:15",
         "07-08-2021",
         null,
         "19",
         "33.17",
         "Unemployed",
         "Running",
         "TRUE",
         "nicolejones228",
         "slingacademy.com"
        ],
        [
         "amxda980",
         "David Davis",
         "daviddavis980@slingacademy.com",
         "021 Katherine Mall Jameston, DC 24685",
         "male",
         "59",
         "07-12-2022 20:15",
         "16-06-2022",
         null,
         "9",
         "970.96",
         "Doctor",
         "Playing sports",
         "FALSE",
         "daviddavis980",
         "slingacademy.com"
        ],
        [
         "amxja889",
         "Jason Montgomery",
         "jasonmontgomery889@slingacademy.com",
         "14657 Scott Loop Apt. 735 Port Ashley, NH 34470",
         "male",
         "58",
         "07-12-2023 20:15",
         "13-11-2021",
         null,
         "12",
         "676.2",
         "Waitress",
         "Collecting",
         "FALSE",
         "jasonmontgomery889",
         "slingacademy.com"
        ],
        [
         "amxke695",
         "Kent Weaver",
         "kentweaver695@slingacademy.com",
         "6644 Mitchell Burg Victorhaven, KS 66356",
         "male",
         "61",
         "07-01-2022 20:15",
         "11-06-2023",
         null,
         "1",
         "674.37",
         "Clerk",
         "Hiking",
         "FALSE",
         "kentweaver695",
         "slingacademy.com"
        ],
        [
         "amxda573",
         "Darrell Dillon",
         "darrelldillon573@slingacademy.com",
         "PSC 7267, Box 9911 APO AE 49343",
         "male",
         "50",
         "07-0-2022 20:15",
         "13-09-2022",
         null,
         "12",
         "750.72",
         "Dentist",
         "Watching movies",
         "FALSE",
         "darrelldillon573",
         "slingacademy.com"
        ],
        [
         "amxja322",
         "Jacqueline Wang",
         "jacquelinewang322@slingacademy.com",
         "16963 Stewart Curve Suite 27 South Cameron, ND 25136",
         "female",
         "22",
         "07-12-2022 20:15",
         "08-02-2023",
         null,
         "12",
         "962.47",
         "Housewife",
         "Collecting",
         "FALSE",
         "jacquelinewang322",
         "slingacademy.com"
        ],
        [
         "amxjo185",
         "Jodi Gonzalez",
         "jodigonzalez185@slingacademy.com",
         "378 Johnson Oval South Stacie, RI 76332",
         "female",
         "69",
         "07-12-2022 20:15",
         "25-06-2021",
         null,
         "12",
         "68.67",
         "Baker",
         "Photography",
         "FALSE",
         "jodigonzalez185",
         "slingacademy.com"
        ],
        [
         "amxom769",
         "Omar Martin",
         "omarmartin769@slingacademy.com",
         "Unit 9103 Box 4771 DPO AA 16592",
         "male",
         "28",
         "07-12-2022 20:15",
         "28-05-2023",
         null,
         "3",
         "162.58",
         "Doctor",
         "Gardening",
         "TRUE",
         "omarmartin769",
         "slingacademy.com"
        ],
        [
         "amxni473",
         "Nicole Lara",
         "nicolelara473@slingacademy.com",
         "9822 Lisa Courts Johnhaven, IL 80438",
         "female",
         "77",
         "07-01-2022 20:15",
         "03-03-2023",
         null,
         "17",
         "309.81",
         "Janitor",
         "Hiking",
         "TRUE",
         "nicolelara473",
         "slingacademy.com"
        ],
        [
         "amxja753",
         "Jason Brown",
         "jasonbrown753@slingacademy.com",
         "7310 Romero Summit East Scotttown, DC 53183",
         "male",
         "63",
         "07-14-2022  20:15:39",
         "05-12-2022",
         null,
         "13",
         "763.27",
         "Lawyer",
         "Fishing",
         "TRUE",
         "jasonbrown753",
         "slingacademy.com"
        ],
        [
         "amxda257",
         "David Benson",
         "davidbenson257@slingacademy.com",
         "444 Derek Summit Lisaborough, WA 20685",
         "male",
         "61",
         "07-12-2022 20:15",
         "15-04-2022",
         null,
         "17",
         "111.11",
         "Lawyer",
         "Meditation",
         "TRUE",
         "davidbenson257",
         "slingacademy.com"
        ],
        [
         "amxki513",
         "Kimberly Mora",
         "kimberlymora513@slingacademy.com",
         "7679 Perry Square West Amybury, RI 15144",
         "female",
         "34",
         "07-12-2022 20:15",
         "19-05-2019",
         null,
         "10",
         "208.46",
         "Farmer",
         "Collecting",
         "FALSE",
         "kimberlymora513",
         "slingacademy.com"
        ],
        [
         "amxer904",
         "Erik Macias",
         "erikmacias904@wingacademy.com",
         "568 Christopher Tunnel Toddburgh, DE 86966",
         "male",
         "25",
         "07-12-2022 20:15",
         "18-04-2020",
         null,
         "8",
         "439.53",
         "Accountant",
         "Fishing",
         "FALSE",
         "erikmacias904",
         "wingacademy.com"
        ],
        [
         "amxja681",
         "James Johnson",
         "jamesjohnson681@wingacademy.com",
         "19870 Sean Parkway North Jamesfurt, NC 28950",
         "male",
         "67",
         "07-08-2022 20:15",
         "17-02-2019",
         null,
         "5",
         "394.95",
         "Security Guard",
         "Watching movies",
         "FALSE",
         "jamesjohnson681",
         "wingacademy.com"
        ],
        [
         "amxde324",
         "Derek Peterson",
         "derekpeterson324@wingacademy.com",
         "70830 Jonathan Pine Wilcoxburgh, MI 38265",
         "male",
         "36",
         "07-12-2022 20:15",
         "15-12-2020",
         null,
         "2",
         "153.8",
         "Architect",
         "Photography",
         "TRUE",
         "derekpeterson324",
         "wingacademy.com"
        ],
        [
         "amxdi438",
         "Diane Henson",
         "dianehenson438@wingacademy.com",
         "86382 Baker Ports Apt. 074 Cookfurt, NM 54313",
         "female",
         "74",
         "07-12-2022 20:15",
         "21-03-2020",
         null,
         "19",
         "62.52",
         "Butcher",
         "Playing musical instruments",
         "FALSE",
         "dianehenson438",
         "wingacademy.com"
        ],
        [
         "amxco721",
         "Cody Lyons",
         "codylyons721@wingacademy.com",
         "60971 Carrillo Square Suite 141 New Kimberlybury, AS 02128",
         "male",
         "47",
         "07-12-2022 20:15",
         "25-11-2019",
         null,
         "14",
         "43.17",
         "Baker",
         "Hunting",
         "FALSE",
         "codylyons721",
         "wingacademy.com"
        ],
        [
         "amxma249",
         "Margaret Hardy",
         "margarethardy249@wingacademy.com",
         "2900 Sandra Villages Apt. 985 Phillipsstad, NH 19830",
         "female",
         "25",
         "07-12-2022 20:15",
         "17-07-2021",
         null,
         "9",
         "455.27",
         "Barber",
         "Other",
         "FALSE",
         "margarethardy249",
         "wingacademy.com"
        ],
        [
         "amxar881",
         "Arthur Hayes",
         "arthurhayes881@wingacademy.com",
         "353 Elizabeth Forest Deannachester, NM 66952",
         "male",
         "75",
         "07-15-2022  20:15:39",
         "01-04-2021",
         null,
         "6",
         "749.78",
         "Chef",
         "Sewing",
         "FALSE",
         "arthurhayes881",
         "wingacademy.com"
        ],
        [
         "amxra702",
         "Raymond Taylor",
         "raymondtaylor702@wingacademy.com",
         "07867 John Mills Apt. 985 Tinaville, ID 59142",
         "male",
         "36",
         "07-12-2022 20:15",
         "24-09-2021",
         null,
         "6",
         "125.18",
         "Butcher",
         "Playing musical instruments",
         "FALSE",
         "raymondtaylor702",
         "wingacademy.com"
        ],
        [
         "amxti476",
         "Tina Moore",
         "tinamoore476@wingacademy.com",
         "50984 Shelly Pass Port Nicholas, SC 48629",
         "female",
         "34",
         "07-12-2022 20:15",
         "15-07-2020",
         null,
         "17",
         "888.53",
         "Chef",
         "Running",
         "FALSE",
         "tinamoore476",
         "wingacademy.com"
        ],
        [
         "amxky170",
         "Kylie White",
         "kyliewhite170@wingacademy.com",
         "5004 Christine Falls Suite 217 Jasonburgh, NJ 75688",
         "female",
         "63",
         "07-12-2022 20:15",
         "03-02-2020",
         null,
         "6",
         "872.18",
         "Janitor",
         "Reading",
         "TRUE",
         "kyliewhite170",
         "wingacademy.com"
        ],
        [
         "amxjo648",
         "Jonathan Manning",
         "jonathanmanning648@wingacademy.com",
         "1501 Gregory Glens Suite 940 Stephensstad, GU 55206",
         "male",
         "30",
         "07-12-2022 20:15",
         "21-01-2022",
         null,
         "0",
         "178.54",
         "Librarian",
         "Playing sports",
         "FALSE",
         "jonathanmanning648",
         "wingacademy.com"
        ],
        [
         "amxan256",
         "Angela Bryant",
         "angelabryant256@wingacademy.com",
         "01454 Christopher Turnpike North Ryanstad, MI 36226",
         "female",
         "23",
         "07-12-2022 20:15",
         "11-09-2019",
         null,
         "3",
         "525.2",
         "Politician",
         "Cycling",
         "FALSE",
         "angelabryant256",
         "wingacademy.com"
        ]
       ],
       "datasetInfos": [],
       "dbfsResultPath": null,
       "isJsonSchema": true,
       "metadata": {},
       "overflow": false,
       "plotOptions": {
        "customPlotOptions": {},
        "displayType": "table",
        "pivotAggregation": null,
        "pivotColumns": null,
        "xColumns": null,
        "yColumns": null
       },
       "removedWidgets": [],
       "schema": [
        {
         "metadata": "{}",
         "name": "Customer Id",
         "type": "\"string\""
        },
        {
         "metadata": "{}",
         "name": "Name",
         "type": "\"string\""
        },
        {
         "metadata": "{}",
         "name": "Email Id",
         "type": "\"string\""
        },
        {
         "metadata": "{}",
         "name": "address",
         "type": "\"string\""
        },
        {
         "metadata": "{}",
         "name": "gender",
         "type": "\"string\""
        },
        {
         "metadata": "{}",
         "name": "age",
         "type": "\"string\""
        },
        {
         "metadata": "{}",
         "name": "Joining Date",
         "type": "\"string\""
        },
        {
         "metadata": "{}",
         "name": "registered",
         "type": "\"string\""
        },
        {
         "metadata": "{}",
         "name": "order ID",
         "type": "\"string\""
        },
        {
         "metadata": "{}",
         "name": "orders",
         "type": "\"string\""
        },
        {
         "metadata": "{}",
         "name": "spent",
         "type": "\"string\""
        },
        {
         "metadata": "{}",
         "name": "job",
         "type": "\"string\""
        },
        {
         "metadata": "{}",
         "name": "hobbies",
         "type": "\"string\""
        },
        {
         "metadata": "{}",
         "name": "is_married",
         "type": "\"string\""
        },
        {
         "metadata": "{}",
         "name": "names",
         "type": "\"string\""
        },
        {
         "metadata": "{}",
         "name": "mail",
         "type": "\"string\""
        }
       ],
       "type": "table"
      }
     },
     "output_type": "display_data"
    }
   ],
   "source": [
    "df.withColumn('names',split(col('Email Id'),'@')[0]).withColumn('mail',split(col('Email Id'),'@')[1]).display()"
   ]
  },
  {
   "cell_type": "code",
   "execution_count": 0,
   "metadata": {
    "application/vnd.databricks.v1+cell": {
     "cellMetadata": {
      "byteLimit": 2048000,
      "rowLimit": 10000
     },
     "inputWidgets": {},
     "nuid": "1d5cfa5c-58e1-41b2-8827-37d5c26b6adc",
     "showTitle": false,
     "title": ""
    }
   },
   "outputs": [
    {
     "output_type": "display_data",
     "data": {
      "text/html": [
       "<style scoped>\n",
       "  .table-result-container {\n",
       "    max-height: 300px;\n",
       "    overflow: auto;\n",
       "  }\n",
       "  table, th, td {\n",
       "    border: 1px solid black;\n",
       "    border-collapse: collapse;\n",
       "  }\n",
       "  th, td {\n",
       "    padding: 5px;\n",
       "  }\n",
       "  th {\n",
       "    text-align: left;\n",
       "  }\n",
       "</style><div class='table-result-container'><table class='table-result'><thead style='background-color: white'><tr><th>Customer Id</th><th>Name</th><th>Email Id</th><th>address</th><th>gender</th><th>age</th><th>Joining_Date</th><th>registered</th><th>order ID</th><th>orders</th><th>spent</th><th>job</th><th>hobbies</th><th>is_married</th><th>Date</th></tr></thead><tbody><tr><td>amxjo131</td><td>Joseph Rice</td><td>josephrice131@slingacademy.com</td><td>91773 Miller Shoal Diaztown, FL 38841</td><td>male</td><td>43</td><td>07-12-2022 20:15</td><td>05-05-2019</td><td>null</td><td>7</td><td>568.29</td><td>Artist</td><td>Playing sports</td><td>FALSE</td><td>null</td></tr><tr><td>amxga386</td><td>Gary Moore</td><td>garymoore386@slingacademy.com</td><td>6450 John Lodge Territon, KY 95945</td><td>male</td><td>71</td><td>07-12-2021 20:15</td><td>20-05-2020</td><td>null</td><td>11</td><td>568.92</td><td>Artist</td><td>Swimming</td><td>TRUE</td><td>null</td></tr><tr><td>amxj944</td><td>John Walker</td><td>johnwalker944@slingacademy.com</td><td>27265 Murray Island Kevinfort, PA 63231</td><td>male</td><td>44</td><td>07-12-2022 20:15</td><td>04-04-2020</td><td>null</td><td>11</td><td>497.12</td><td>Clerk</td><td>Painting</td><td>FALSE</td><td>null</td></tr><tr><td>amxer176</td><td>Eric Carter</td><td>ericcarter176@slingacademy.com</td><td>USNS Knight FPO AA 76532</td><td>male</td><td>38</td><td>07-12-2022 20:15</td><td>30-01-2019</td><td>null</td><td>17</td><td>834.6</td><td>Butcher</td><td>Playing musical instruments</td><td>FALSE</td><td>null</td></tr><tr><td>amxwi427</td><td>William Jackson</td><td>williamjackson427@slingacademy.com</td><td>170 Jackson Loaf Kristenland, AS 48876</td><td>male</td><td>58</td><td>10-12-2022 20:15</td><td>01-07-2022</td><td>null</td><td>14</td><td>151.59</td><td>Engineer</td><td>Reading</td><td>FALSE</td><td>null</td></tr><tr><td>amxni228</td><td>Nicole Jones</td><td>nicolejones228@slingacademy.com</td><td>14354 Baker Harbor Apt. 017 Ericville, HI 11192</td><td>female</td><td>33</td><td>07-12-2022 20:15</td><td>07-08-2021</td><td>null</td><td>19</td><td>33.17</td><td>Unemployed</td><td>Running</td><td>TRUE</td><td>null</td></tr><tr><td>amxda980</td><td>David Davis</td><td>daviddavis980@slingacademy.com</td><td>021 Katherine Mall Jameston, DC 24685</td><td>male</td><td>59</td><td>07-12-2022 20:15</td><td>16-06-2022</td><td>null</td><td>9</td><td>970.96</td><td>Doctor</td><td>Playing sports</td><td>FALSE</td><td>null</td></tr><tr><td>amxja889</td><td>Jason Montgomery</td><td>jasonmontgomery889@slingacademy.com</td><td>14657 Scott Loop Apt. 735 Port Ashley, NH 34470</td><td>male</td><td>58</td><td>07-12-2023 20:15</td><td>13-11-2021</td><td>null</td><td>12</td><td>676.2</td><td>Waitress</td><td>Collecting</td><td>FALSE</td><td>null</td></tr><tr><td>amxke695</td><td>Kent Weaver</td><td>kentweaver695@slingacademy.com</td><td>6644 Mitchell Burg Victorhaven, KS 66356</td><td>male</td><td>61</td><td>07-01-2022 20:15</td><td>11-06-2023</td><td>null</td><td>1</td><td>674.37</td><td>Clerk</td><td>Hiking</td><td>FALSE</td><td>null</td></tr><tr><td>amxda573</td><td>Darrell Dillon</td><td>darrelldillon573@slingacademy.com</td><td>PSC 7267, Box 9911 APO AE 49343</td><td>male</td><td>50</td><td>07-0-2022 20:15</td><td>13-09-2022</td><td>null</td><td>12</td><td>750.72</td><td>Dentist</td><td>Watching movies</td><td>FALSE</td><td>null</td></tr><tr><td>amxja322</td><td>Jacqueline Wang</td><td>jacquelinewang322@slingacademy.com</td><td>16963 Stewart Curve Suite 27 South Cameron, ND 25136</td><td>female</td><td>22</td><td>07-12-2022 20:15</td><td>08-02-2023</td><td>null</td><td>12</td><td>962.47</td><td>Housewife</td><td>Collecting</td><td>FALSE</td><td>null</td></tr><tr><td>amxjo185</td><td>Jodi Gonzalez</td><td>jodigonzalez185@slingacademy.com</td><td>378 Johnson Oval South Stacie, RI 76332</td><td>female</td><td>69</td><td>07-12-2022 20:15</td><td>25-06-2021</td><td>null</td><td>12</td><td>68.67</td><td>Baker</td><td>Photography</td><td>FALSE</td><td>null</td></tr><tr><td>amxom769</td><td>Omar Martin</td><td>omarmartin769@slingacademy.com</td><td>Unit 9103 Box 4771 DPO AA 16592</td><td>male</td><td>28</td><td>07-12-2022 20:15</td><td>28-05-2023</td><td>null</td><td>3</td><td>162.58</td><td>Doctor</td><td>Gardening</td><td>TRUE</td><td>null</td></tr><tr><td>amxni473</td><td>Nicole Lara</td><td>nicolelara473@slingacademy.com</td><td>9822 Lisa Courts Johnhaven, IL 80438</td><td>female</td><td>77</td><td>07-01-2022 20:15</td><td>03-03-2023</td><td>null</td><td>17</td><td>309.81</td><td>Janitor</td><td>Hiking</td><td>TRUE</td><td>null</td></tr><tr><td>amxja753</td><td>Jason Brown</td><td>jasonbrown753@slingacademy.com</td><td>7310 Romero Summit East Scotttown, DC 53183</td><td>male</td><td>63</td><td>07-14-2022  20:15:39</td><td>05-12-2022</td><td>null</td><td>13</td><td>763.27</td><td>Lawyer</td><td>Fishing</td><td>TRUE</td><td>null</td></tr><tr><td>amxda257</td><td>David Benson</td><td>davidbenson257@slingacademy.com</td><td>444 Derek Summit Lisaborough, WA 20685</td><td>male</td><td>61</td><td>07-12-2022 20:15</td><td>15-04-2022</td><td>null</td><td>17</td><td>111.11</td><td>Lawyer</td><td>Meditation</td><td>TRUE</td><td>null</td></tr><tr><td>amxki513</td><td>Kimberly Mora</td><td>kimberlymora513@slingacademy.com</td><td>7679 Perry Square West Amybury, RI 15144</td><td>female</td><td>34</td><td>07-12-2022 20:15</td><td>19-05-2019</td><td>null</td><td>10</td><td>208.46</td><td>Farmer</td><td>Collecting</td><td>FALSE</td><td>null</td></tr><tr><td>amxer904</td><td>Erik Macias</td><td>erikmacias904@wingacademy.com</td><td>568 Christopher Tunnel Toddburgh, DE 86966</td><td>male</td><td>25</td><td>07-12-2022 20:15</td><td>18-04-2020</td><td>null</td><td>8</td><td>439.53</td><td>Accountant</td><td>Fishing</td><td>FALSE</td><td>null</td></tr><tr><td>amxja681</td><td>James Johnson</td><td>jamesjohnson681@wingacademy.com</td><td>19870 Sean Parkway North Jamesfurt, NC 28950</td><td>male</td><td>67</td><td>07-08-2022 20:15</td><td>17-02-2019</td><td>null</td><td>5</td><td>394.95</td><td>Security Guard</td><td>Watching movies</td><td>FALSE</td><td>null</td></tr><tr><td>amxde324</td><td>Derek Peterson</td><td>derekpeterson324@wingacademy.com</td><td>70830 Jonathan Pine Wilcoxburgh, MI 38265</td><td>male</td><td>36</td><td>07-12-2022 20:15</td><td>15-12-2020</td><td>null</td><td>2</td><td>153.8</td><td>Architect</td><td>Photography</td><td>TRUE</td><td>null</td></tr><tr><td>amxdi438</td><td>Diane Henson</td><td>dianehenson438@wingacademy.com</td><td>86382 Baker Ports Apt. 074 Cookfurt, NM 54313</td><td>female</td><td>74</td><td>07-12-2022 20:15</td><td>21-03-2020</td><td>null</td><td>19</td><td>62.52</td><td>Butcher</td><td>Playing musical instruments</td><td>FALSE</td><td>null</td></tr><tr><td>amxco721</td><td>Cody Lyons</td><td>codylyons721@wingacademy.com</td><td>60971 Carrillo Square Suite 141 New Kimberlybury, AS 02128</td><td>male</td><td>47</td><td>07-12-2022 20:15</td><td>25-11-2019</td><td>null</td><td>14</td><td>43.17</td><td>Baker</td><td>Hunting</td><td>FALSE</td><td>null</td></tr><tr><td>amxma249</td><td>Margaret Hardy</td><td>margarethardy249@wingacademy.com</td><td>2900 Sandra Villages Apt. 985 Phillipsstad, NH 19830</td><td>female</td><td>25</td><td>07-12-2022 20:15</td><td>17-07-2021</td><td>null</td><td>9</td><td>455.27</td><td>Barber</td><td>Other</td><td>FALSE</td><td>null</td></tr><tr><td>amxar881</td><td>Arthur Hayes</td><td>arthurhayes881@wingacademy.com</td><td>353 Elizabeth Forest Deannachester, NM 66952</td><td>male</td><td>75</td><td>07-15-2022  20:15:39</td><td>01-04-2021</td><td>null</td><td>6</td><td>749.78</td><td>Chef</td><td>Sewing</td><td>FALSE</td><td>null</td></tr><tr><td>amxra702</td><td>Raymond Taylor</td><td>raymondtaylor702@wingacademy.com</td><td>07867 John Mills Apt. 985 Tinaville, ID 59142</td><td>male</td><td>36</td><td>07-12-2022 20:15</td><td>24-09-2021</td><td>null</td><td>6</td><td>125.18</td><td>Butcher</td><td>Playing musical instruments</td><td>FALSE</td><td>null</td></tr><tr><td>amxti476</td><td>Tina Moore</td><td>tinamoore476@wingacademy.com</td><td>50984 Shelly Pass Port Nicholas, SC 48629</td><td>female</td><td>34</td><td>07-12-2022 20:15</td><td>15-07-2020</td><td>null</td><td>17</td><td>888.53</td><td>Chef</td><td>Running</td><td>FALSE</td><td>null</td></tr><tr><td>amxky170</td><td>Kylie White</td><td>kyliewhite170@wingacademy.com</td><td>5004 Christine Falls Suite 217 Jasonburgh, NJ 75688</td><td>female</td><td>63</td><td>07-12-2022 20:15</td><td>03-02-2020</td><td>null</td><td>6</td><td>872.18</td><td>Janitor</td><td>Reading</td><td>TRUE</td><td>null</td></tr><tr><td>amxjo648</td><td>Jonathan Manning</td><td>jonathanmanning648@wingacademy.com</td><td>1501 Gregory Glens Suite 940 Stephensstad, GU 55206</td><td>male</td><td>30</td><td>07-12-2022 20:15</td><td>21-01-2022</td><td>null</td><td>0</td><td>178.54</td><td>Librarian</td><td>Playing sports</td><td>FALSE</td><td>null</td></tr><tr><td>amxan256</td><td>Angela Bryant</td><td>angelabryant256@wingacademy.com</td><td>01454 Christopher Turnpike North Ryanstad, MI 36226</td><td>female</td><td>23</td><td>07-12-2022 20:15</td><td>11-09-2019</td><td>null</td><td>3</td><td>525.2</td><td>Politician</td><td>Cycling</td><td>FALSE</td><td>null</td></tr></tbody></table></div>"
      ]
     },
     "metadata": {
      "application/vnd.databricks.v1+output": {
       "addedWidgets": {},
       "aggData": [],
       "aggError": "",
       "aggOverflow": false,
       "aggSchema": [],
       "aggSeriesLimitReached": false,
       "aggType": "",
       "arguments": {},
       "columnCustomDisplayInfos": {},
       "data": [
        [
         "amxjo131",
         "Joseph Rice",
         "josephrice131@slingacademy.com",
         "91773 Miller Shoal Diaztown, FL 38841",
         "male",
         "43",
         "07-12-2022 20:15",
         "05-05-2019",
         null,
         "7",
         "568.29",
         "Artist",
         "Playing sports",
         "FALSE",
         null
        ],
        [
         "amxga386",
         "Gary Moore",
         "garymoore386@slingacademy.com",
         "6450 John Lodge Territon, KY 95945",
         "male",
         "71",
         "07-12-2021 20:15",
         "20-05-2020",
         null,
         "11",
         "568.92",
         "Artist",
         "Swimming",
         "TRUE",
         null
        ],
        [
         "amxj944",
         "John Walker",
         "johnwalker944@slingacademy.com",
         "27265 Murray Island Kevinfort, PA 63231",
         "male",
         "44",
         "07-12-2022 20:15",
         "04-04-2020",
         null,
         "11",
         "497.12",
         "Clerk",
         "Painting",
         "FALSE",
         null
        ],
        [
         "amxer176",
         "Eric Carter",
         "ericcarter176@slingacademy.com",
         "USNS Knight FPO AA 76532",
         "male",
         "38",
         "07-12-2022 20:15",
         "30-01-2019",
         null,
         "17",
         "834.6",
         "Butcher",
         "Playing musical instruments",
         "FALSE",
         null
        ],
        [
         "amxwi427",
         "William Jackson",
         "williamjackson427@slingacademy.com",
         "170 Jackson Loaf Kristenland, AS 48876",
         "male",
         "58",
         "10-12-2022 20:15",
         "01-07-2022",
         null,
         "14",
         "151.59",
         "Engineer",
         "Reading",
         "FALSE",
         null
        ],
        [
         "amxni228",
         "Nicole Jones",
         "nicolejones228@slingacademy.com",
         "14354 Baker Harbor Apt. 017 Ericville, HI 11192",
         "female",
         "33",
         "07-12-2022 20:15",
         "07-08-2021",
         null,
         "19",
         "33.17",
         "Unemployed",
         "Running",
         "TRUE",
         null
        ],
        [
         "amxda980",
         "David Davis",
         "daviddavis980@slingacademy.com",
         "021 Katherine Mall Jameston, DC 24685",
         "male",
         "59",
         "07-12-2022 20:15",
         "16-06-2022",
         null,
         "9",
         "970.96",
         "Doctor",
         "Playing sports",
         "FALSE",
         null
        ],
        [
         "amxja889",
         "Jason Montgomery",
         "jasonmontgomery889@slingacademy.com",
         "14657 Scott Loop Apt. 735 Port Ashley, NH 34470",
         "male",
         "58",
         "07-12-2023 20:15",
         "13-11-2021",
         null,
         "12",
         "676.2",
         "Waitress",
         "Collecting",
         "FALSE",
         null
        ],
        [
         "amxke695",
         "Kent Weaver",
         "kentweaver695@slingacademy.com",
         "6644 Mitchell Burg Victorhaven, KS 66356",
         "male",
         "61",
         "07-01-2022 20:15",
         "11-06-2023",
         null,
         "1",
         "674.37",
         "Clerk",
         "Hiking",
         "FALSE",
         null
        ],
        [
         "amxda573",
         "Darrell Dillon",
         "darrelldillon573@slingacademy.com",
         "PSC 7267, Box 9911 APO AE 49343",
         "male",
         "50",
         "07-0-2022 20:15",
         "13-09-2022",
         null,
         "12",
         "750.72",
         "Dentist",
         "Watching movies",
         "FALSE",
         null
        ],
        [
         "amxja322",
         "Jacqueline Wang",
         "jacquelinewang322@slingacademy.com",
         "16963 Stewart Curve Suite 27 South Cameron, ND 25136",
         "female",
         "22",
         "07-12-2022 20:15",
         "08-02-2023",
         null,
         "12",
         "962.47",
         "Housewife",
         "Collecting",
         "FALSE",
         null
        ],
        [
         "amxjo185",
         "Jodi Gonzalez",
         "jodigonzalez185@slingacademy.com",
         "378 Johnson Oval South Stacie, RI 76332",
         "female",
         "69",
         "07-12-2022 20:15",
         "25-06-2021",
         null,
         "12",
         "68.67",
         "Baker",
         "Photography",
         "FALSE",
         null
        ],
        [
         "amxom769",
         "Omar Martin",
         "omarmartin769@slingacademy.com",
         "Unit 9103 Box 4771 DPO AA 16592",
         "male",
         "28",
         "07-12-2022 20:15",
         "28-05-2023",
         null,
         "3",
         "162.58",
         "Doctor",
         "Gardening",
         "TRUE",
         null
        ],
        [
         "amxni473",
         "Nicole Lara",
         "nicolelara473@slingacademy.com",
         "9822 Lisa Courts Johnhaven, IL 80438",
         "female",
         "77",
         "07-01-2022 20:15",
         "03-03-2023",
         null,
         "17",
         "309.81",
         "Janitor",
         "Hiking",
         "TRUE",
         null
        ],
        [
         "amxja753",
         "Jason Brown",
         "jasonbrown753@slingacademy.com",
         "7310 Romero Summit East Scotttown, DC 53183",
         "male",
         "63",
         "07-14-2022  20:15:39",
         "05-12-2022",
         null,
         "13",
         "763.27",
         "Lawyer",
         "Fishing",
         "TRUE",
         null
        ],
        [
         "amxda257",
         "David Benson",
         "davidbenson257@slingacademy.com",
         "444 Derek Summit Lisaborough, WA 20685",
         "male",
         "61",
         "07-12-2022 20:15",
         "15-04-2022",
         null,
         "17",
         "111.11",
         "Lawyer",
         "Meditation",
         "TRUE",
         null
        ],
        [
         "amxki513",
         "Kimberly Mora",
         "kimberlymora513@slingacademy.com",
         "7679 Perry Square West Amybury, RI 15144",
         "female",
         "34",
         "07-12-2022 20:15",
         "19-05-2019",
         null,
         "10",
         "208.46",
         "Farmer",
         "Collecting",
         "FALSE",
         null
        ],
        [
         "amxer904",
         "Erik Macias",
         "erikmacias904@wingacademy.com",
         "568 Christopher Tunnel Toddburgh, DE 86966",
         "male",
         "25",
         "07-12-2022 20:15",
         "18-04-2020",
         null,
         "8",
         "439.53",
         "Accountant",
         "Fishing",
         "FALSE",
         null
        ],
        [
         "amxja681",
         "James Johnson",
         "jamesjohnson681@wingacademy.com",
         "19870 Sean Parkway North Jamesfurt, NC 28950",
         "male",
         "67",
         "07-08-2022 20:15",
         "17-02-2019",
         null,
         "5",
         "394.95",
         "Security Guard",
         "Watching movies",
         "FALSE",
         null
        ],
        [
         "amxde324",
         "Derek Peterson",
         "derekpeterson324@wingacademy.com",
         "70830 Jonathan Pine Wilcoxburgh, MI 38265",
         "male",
         "36",
         "07-12-2022 20:15",
         "15-12-2020",
         null,
         "2",
         "153.8",
         "Architect",
         "Photography",
         "TRUE",
         null
        ],
        [
         "amxdi438",
         "Diane Henson",
         "dianehenson438@wingacademy.com",
         "86382 Baker Ports Apt. 074 Cookfurt, NM 54313",
         "female",
         "74",
         "07-12-2022 20:15",
         "21-03-2020",
         null,
         "19",
         "62.52",
         "Butcher",
         "Playing musical instruments",
         "FALSE",
         null
        ],
        [
         "amxco721",
         "Cody Lyons",
         "codylyons721@wingacademy.com",
         "60971 Carrillo Square Suite 141 New Kimberlybury, AS 02128",
         "male",
         "47",
         "07-12-2022 20:15",
         "25-11-2019",
         null,
         "14",
         "43.17",
         "Baker",
         "Hunting",
         "FALSE",
         null
        ],
        [
         "amxma249",
         "Margaret Hardy",
         "margarethardy249@wingacademy.com",
         "2900 Sandra Villages Apt. 985 Phillipsstad, NH 19830",
         "female",
         "25",
         "07-12-2022 20:15",
         "17-07-2021",
         null,
         "9",
         "455.27",
         "Barber",
         "Other",
         "FALSE",
         null
        ],
        [
         "amxar881",
         "Arthur Hayes",
         "arthurhayes881@wingacademy.com",
         "353 Elizabeth Forest Deannachester, NM 66952",
         "male",
         "75",
         "07-15-2022  20:15:39",
         "01-04-2021",
         null,
         "6",
         "749.78",
         "Chef",
         "Sewing",
         "FALSE",
         null
        ],
        [
         "amxra702",
         "Raymond Taylor",
         "raymondtaylor702@wingacademy.com",
         "07867 John Mills Apt. 985 Tinaville, ID 59142",
         "male",
         "36",
         "07-12-2022 20:15",
         "24-09-2021",
         null,
         "6",
         "125.18",
         "Butcher",
         "Playing musical instruments",
         "FALSE",
         null
        ],
        [
         "amxti476",
         "Tina Moore",
         "tinamoore476@wingacademy.com",
         "50984 Shelly Pass Port Nicholas, SC 48629",
         "female",
         "34",
         "07-12-2022 20:15",
         "15-07-2020",
         null,
         "17",
         "888.53",
         "Chef",
         "Running",
         "FALSE",
         null
        ],
        [
         "amxky170",
         "Kylie White",
         "kyliewhite170@wingacademy.com",
         "5004 Christine Falls Suite 217 Jasonburgh, NJ 75688",
         "female",
         "63",
         "07-12-2022 20:15",
         "03-02-2020",
         null,
         "6",
         "872.18",
         "Janitor",
         "Reading",
         "TRUE",
         null
        ],
        [
         "amxjo648",
         "Jonathan Manning",
         "jonathanmanning648@wingacademy.com",
         "1501 Gregory Glens Suite 940 Stephensstad, GU 55206",
         "male",
         "30",
         "07-12-2022 20:15",
         "21-01-2022",
         null,
         "0",
         "178.54",
         "Librarian",
         "Playing sports",
         "FALSE",
         null
        ],
        [
         "amxan256",
         "Angela Bryant",
         "angelabryant256@wingacademy.com",
         "01454 Christopher Turnpike North Ryanstad, MI 36226",
         "female",
         "23",
         "07-12-2022 20:15",
         "11-09-2019",
         null,
         "3",
         "525.2",
         "Politician",
         "Cycling",
         "FALSE",
         null
        ]
       ],
       "datasetInfos": [],
       "dbfsResultPath": null,
       "isJsonSchema": true,
       "metadata": {},
       "overflow": false,
       "plotOptions": {
        "customPlotOptions": {},
        "displayType": "table",
        "pivotAggregation": null,
        "pivotColumns": null,
        "xColumns": null,
        "yColumns": null
       },
       "removedWidgets": [],
       "schema": [
        {
         "metadata": "{}",
         "name": "Customer Id",
         "type": "\"string\""
        },
        {
         "metadata": "{}",
         "name": "Name",
         "type": "\"string\""
        },
        {
         "metadata": "{}",
         "name": "Email Id",
         "type": "\"string\""
        },
        {
         "metadata": "{}",
         "name": "address",
         "type": "\"string\""
        },
        {
         "metadata": "{}",
         "name": "gender",
         "type": "\"string\""
        },
        {
         "metadata": "{}",
         "name": "age",
         "type": "\"string\""
        },
        {
         "metadata": "{}",
         "name": "Joining_Date",
         "type": "\"string\""
        },
        {
         "metadata": "{}",
         "name": "registered",
         "type": "\"string\""
        },
        {
         "metadata": "{}",
         "name": "order ID",
         "type": "\"string\""
        },
        {
         "metadata": "{}",
         "name": "orders",
         "type": "\"string\""
        },
        {
         "metadata": "{}",
         "name": "spent",
         "type": "\"string\""
        },
        {
         "metadata": "{}",
         "name": "job",
         "type": "\"string\""
        },
        {
         "metadata": "{}",
         "name": "hobbies",
         "type": "\"string\""
        },
        {
         "metadata": "{}",
         "name": "is_married",
         "type": "\"string\""
        },
        {
         "metadata": "{}",
         "name": "Date",
         "type": "\"date\""
        }
       ],
       "type": "table"
      }
     },
     "output_type": "display_data"
    }
   ],
   "source": [
    "df2.withColumn('Date',to_date('Joining_Date')).display()"
   ]
  },
  {
   "cell_type": "code",
   "execution_count": 0,
   "metadata": {
    "application/vnd.databricks.v1+cell": {
     "cellMetadata": {
      "byteLimit": 2048000,
      "rowLimit": 10000
     },
     "inputWidgets": {},
     "nuid": "183f7f9d-a450-49ba-89f2-834eed7b73f3",
     "showTitle": false,
     "title": ""
    }
   },
   "outputs": [
    {
     "output_type": "stream",
     "name": "stdout",
     "output_type": "stream",
     "text": [
      "root\n |-- Customer Id: string (nullable = true)\n |-- Name: string (nullable = true)\n |-- Email Id: string (nullable = true)\n |-- address: string (nullable = true)\n |-- gender: string (nullable = true)\n |-- age: string (nullable = true)\n |-- Joining Date: string (nullable = true)\n |-- registered: string (nullable = true)\n |-- order ID: string (nullable = true)\n |-- orders: string (nullable = true)\n |-- spent: string (nullable = true)\n |-- job: string (nullable = true)\n |-- hobbies: string (nullable = true)\n |-- is_married: string (nullable = true)\n\n"
     ]
    }
   ],
   "source": [
    "df.printSchema()"
   ]
  },
  {
   "cell_type": "code",
   "execution_count": 0,
   "metadata": {
    "application/vnd.databricks.v1+cell": {
     "cellMetadata": {
      "byteLimit": 2048000,
      "rowLimit": 10000
     },
     "inputWidgets": {},
     "nuid": "7ec24fba-fdcc-4895-bb2b-74ef9456a329",
     "showTitle": false,
     "title": ""
    }
   },
   "outputs": [
    {
     "output_type": "display_data",
     "data": {
      "text/html": [
       "<style scoped>\n",
       "  .table-result-container {\n",
       "    max-height: 300px;\n",
       "    overflow: auto;\n",
       "  }\n",
       "  table, th, td {\n",
       "    border: 1px solid black;\n",
       "    border-collapse: collapse;\n",
       "  }\n",
       "  th, td {\n",
       "    padding: 5px;\n",
       "  }\n",
       "  th {\n",
       "    text-align: left;\n",
       "  }\n",
       "</style><div class='table-result-container'><table class='table-result'><thead style='background-color: white'><tr><th>Customer Id</th><th>Name</th><th>Email Id</th><th>address</th><th>gender</th><th>age</th><th>Joining_Date</th><th>registered</th><th>order ID</th><th>orders</th><th>spent</th><th>job</th><th>hobbies</th><th>is_married</th></tr></thead><tbody><tr><td>amxjo131</td><td>Joseph Rice</td><td>josephrice131@slingacademy.com</td><td>91773 Miller Shoal Diaztown, FL 38841</td><td>male</td><td>43</td><td>null</td><td>05-05-2019</td><td>null</td><td>7</td><td>568.29</td><td>Artist</td><td>Playing sports</td><td>FALSE</td></tr><tr><td>amxga386</td><td>Gary Moore</td><td>garymoore386@slingacademy.com</td><td>6450 John Lodge Territon, KY 95945</td><td>male</td><td>71</td><td>null</td><td>20-05-2020</td><td>null</td><td>11</td><td>568.92</td><td>Artist</td><td>Swimming</td><td>TRUE</td></tr><tr><td>amxj944</td><td>John Walker</td><td>johnwalker944@slingacademy.com</td><td>27265 Murray Island Kevinfort, PA 63231</td><td>male</td><td>44</td><td>null</td><td>04-04-2020</td><td>null</td><td>11</td><td>497.12</td><td>Clerk</td><td>Painting</td><td>FALSE</td></tr><tr><td>amxer176</td><td>Eric Carter</td><td>ericcarter176@slingacademy.com</td><td>USNS Knight FPO AA 76532</td><td>male</td><td>38</td><td>null</td><td>30-01-2019</td><td>null</td><td>17</td><td>834.6</td><td>Butcher</td><td>Playing musical instruments</td><td>FALSE</td></tr><tr><td>amxwi427</td><td>William Jackson</td><td>williamjackson427@slingacademy.com</td><td>170 Jackson Loaf Kristenland, AS 48876</td><td>male</td><td>58</td><td>null</td><td>01-07-2022</td><td>null</td><td>14</td><td>151.59</td><td>Engineer</td><td>Reading</td><td>FALSE</td></tr><tr><td>amxni228</td><td>Nicole Jones</td><td>nicolejones228@slingacademy.com</td><td>14354 Baker Harbor Apt. 017 Ericville, HI 11192</td><td>female</td><td>33</td><td>null</td><td>07-08-2021</td><td>null</td><td>19</td><td>33.17</td><td>Unemployed</td><td>Running</td><td>TRUE</td></tr><tr><td>amxda980</td><td>David Davis</td><td>daviddavis980@slingacademy.com</td><td>021 Katherine Mall Jameston, DC 24685</td><td>male</td><td>59</td><td>null</td><td>16-06-2022</td><td>null</td><td>9</td><td>970.96</td><td>Doctor</td><td>Playing sports</td><td>FALSE</td></tr><tr><td>amxja889</td><td>Jason Montgomery</td><td>jasonmontgomery889@slingacademy.com</td><td>14657 Scott Loop Apt. 735 Port Ashley, NH 34470</td><td>male</td><td>58</td><td>null</td><td>13-11-2021</td><td>null</td><td>12</td><td>676.2</td><td>Waitress</td><td>Collecting</td><td>FALSE</td></tr><tr><td>amxke695</td><td>Kent Weaver</td><td>kentweaver695@slingacademy.com</td><td>6644 Mitchell Burg Victorhaven, KS 66356</td><td>male</td><td>61</td><td>null</td><td>11-06-2023</td><td>null</td><td>1</td><td>674.37</td><td>Clerk</td><td>Hiking</td><td>FALSE</td></tr><tr><td>amxda573</td><td>Darrell Dillon</td><td>darrelldillon573@slingacademy.com</td><td>PSC 7267, Box 9911 APO AE 49343</td><td>male</td><td>50</td><td>null</td><td>13-09-2022</td><td>null</td><td>12</td><td>750.72</td><td>Dentist</td><td>Watching movies</td><td>FALSE</td></tr><tr><td>amxja322</td><td>Jacqueline Wang</td><td>jacquelinewang322@slingacademy.com</td><td>16963 Stewart Curve Suite 27 South Cameron, ND 25136</td><td>female</td><td>22</td><td>null</td><td>08-02-2023</td><td>null</td><td>12</td><td>962.47</td><td>Housewife</td><td>Collecting</td><td>FALSE</td></tr><tr><td>amxjo185</td><td>Jodi Gonzalez</td><td>jodigonzalez185@slingacademy.com</td><td>378 Johnson Oval South Stacie, RI 76332</td><td>female</td><td>69</td><td>null</td><td>25-06-2021</td><td>null</td><td>12</td><td>68.67</td><td>Baker</td><td>Photography</td><td>FALSE</td></tr><tr><td>amxom769</td><td>Omar Martin</td><td>omarmartin769@slingacademy.com</td><td>Unit 9103 Box 4771 DPO AA 16592</td><td>male</td><td>28</td><td>null</td><td>28-05-2023</td><td>null</td><td>3</td><td>162.58</td><td>Doctor</td><td>Gardening</td><td>TRUE</td></tr><tr><td>amxni473</td><td>Nicole Lara</td><td>nicolelara473@slingacademy.com</td><td>9822 Lisa Courts Johnhaven, IL 80438</td><td>female</td><td>77</td><td>null</td><td>03-03-2023</td><td>null</td><td>17</td><td>309.81</td><td>Janitor</td><td>Hiking</td><td>TRUE</td></tr><tr><td>amxja753</td><td>Jason Brown</td><td>jasonbrown753@slingacademy.com</td><td>7310 Romero Summit East Scotttown, DC 53183</td><td>male</td><td>63</td><td>null</td><td>05-12-2022</td><td>null</td><td>13</td><td>763.27</td><td>Lawyer</td><td>Fishing</td><td>TRUE</td></tr><tr><td>amxda257</td><td>David Benson</td><td>davidbenson257@slingacademy.com</td><td>444 Derek Summit Lisaborough, WA 20685</td><td>male</td><td>61</td><td>null</td><td>15-04-2022</td><td>null</td><td>17</td><td>111.11</td><td>Lawyer</td><td>Meditation</td><td>TRUE</td></tr><tr><td>amxki513</td><td>Kimberly Mora</td><td>kimberlymora513@slingacademy.com</td><td>7679 Perry Square West Amybury, RI 15144</td><td>female</td><td>34</td><td>null</td><td>19-05-2019</td><td>null</td><td>10</td><td>208.46</td><td>Farmer</td><td>Collecting</td><td>FALSE</td></tr><tr><td>amxer904</td><td>Erik Macias</td><td>erikmacias904@wingacademy.com</td><td>568 Christopher Tunnel Toddburgh, DE 86966</td><td>male</td><td>25</td><td>null</td><td>18-04-2020</td><td>null</td><td>8</td><td>439.53</td><td>Accountant</td><td>Fishing</td><td>FALSE</td></tr><tr><td>amxja681</td><td>James Johnson</td><td>jamesjohnson681@wingacademy.com</td><td>19870 Sean Parkway North Jamesfurt, NC 28950</td><td>male</td><td>67</td><td>null</td><td>17-02-2019</td><td>null</td><td>5</td><td>394.95</td><td>Security Guard</td><td>Watching movies</td><td>FALSE</td></tr><tr><td>amxde324</td><td>Derek Peterson</td><td>derekpeterson324@wingacademy.com</td><td>70830 Jonathan Pine Wilcoxburgh, MI 38265</td><td>male</td><td>36</td><td>null</td><td>15-12-2020</td><td>null</td><td>2</td><td>153.8</td><td>Architect</td><td>Photography</td><td>TRUE</td></tr><tr><td>amxdi438</td><td>Diane Henson</td><td>dianehenson438@wingacademy.com</td><td>86382 Baker Ports Apt. 074 Cookfurt, NM 54313</td><td>female</td><td>74</td><td>null</td><td>21-03-2020</td><td>null</td><td>19</td><td>62.52</td><td>Butcher</td><td>Playing musical instruments</td><td>FALSE</td></tr><tr><td>amxco721</td><td>Cody Lyons</td><td>codylyons721@wingacademy.com</td><td>60971 Carrillo Square Suite 141 New Kimberlybury, AS 02128</td><td>male</td><td>47</td><td>null</td><td>25-11-2019</td><td>null</td><td>14</td><td>43.17</td><td>Baker</td><td>Hunting</td><td>FALSE</td></tr><tr><td>amxma249</td><td>Margaret Hardy</td><td>margarethardy249@wingacademy.com</td><td>2900 Sandra Villages Apt. 985 Phillipsstad, NH 19830</td><td>female</td><td>25</td><td>null</td><td>17-07-2021</td><td>null</td><td>9</td><td>455.27</td><td>Barber</td><td>Other</td><td>FALSE</td></tr><tr><td>amxar881</td><td>Arthur Hayes</td><td>arthurhayes881@wingacademy.com</td><td>353 Elizabeth Forest Deannachester, NM 66952</td><td>male</td><td>75</td><td>null</td><td>01-04-2021</td><td>null</td><td>6</td><td>749.78</td><td>Chef</td><td>Sewing</td><td>FALSE</td></tr><tr><td>amxra702</td><td>Raymond Taylor</td><td>raymondtaylor702@wingacademy.com</td><td>07867 John Mills Apt. 985 Tinaville, ID 59142</td><td>male</td><td>36</td><td>null</td><td>24-09-2021</td><td>null</td><td>6</td><td>125.18</td><td>Butcher</td><td>Playing musical instruments</td><td>FALSE</td></tr><tr><td>amxti476</td><td>Tina Moore</td><td>tinamoore476@wingacademy.com</td><td>50984 Shelly Pass Port Nicholas, SC 48629</td><td>female</td><td>34</td><td>null</td><td>15-07-2020</td><td>null</td><td>17</td><td>888.53</td><td>Chef</td><td>Running</td><td>FALSE</td></tr><tr><td>amxky170</td><td>Kylie White</td><td>kyliewhite170@wingacademy.com</td><td>5004 Christine Falls Suite 217 Jasonburgh, NJ 75688</td><td>female</td><td>63</td><td>null</td><td>03-02-2020</td><td>null</td><td>6</td><td>872.18</td><td>Janitor</td><td>Reading</td><td>TRUE</td></tr><tr><td>amxjo648</td><td>Jonathan Manning</td><td>jonathanmanning648@wingacademy.com</td><td>1501 Gregory Glens Suite 940 Stephensstad, GU 55206</td><td>male</td><td>30</td><td>null</td><td>21-01-2022</td><td>null</td><td>0</td><td>178.54</td><td>Librarian</td><td>Playing sports</td><td>FALSE</td></tr><tr><td>amxan256</td><td>Angela Bryant</td><td>angelabryant256@wingacademy.com</td><td>01454 Christopher Turnpike North Ryanstad, MI 36226</td><td>female</td><td>23</td><td>null</td><td>11-09-2019</td><td>null</td><td>3</td><td>525.2</td><td>Politician</td><td>Cycling</td><td>FALSE</td></tr></tbody></table></div>"
      ]
     },
     "metadata": {
      "application/vnd.databricks.v1+output": {
       "addedWidgets": {},
       "aggData": [],
       "aggError": "",
       "aggOverflow": false,
       "aggSchema": [],
       "aggSeriesLimitReached": false,
       "aggType": "",
       "arguments": {},
       "columnCustomDisplayInfos": {},
       "data": [
        [
         "amxjo131",
         "Joseph Rice",
         "josephrice131@slingacademy.com",
         "91773 Miller Shoal Diaztown, FL 38841",
         "male",
         "43",
         null,
         "05-05-2019",
         null,
         "7",
         "568.29",
         "Artist",
         "Playing sports",
         "FALSE"
        ],
        [
         "amxga386",
         "Gary Moore",
         "garymoore386@slingacademy.com",
         "6450 John Lodge Territon, KY 95945",
         "male",
         "71",
         null,
         "20-05-2020",
         null,
         "11",
         "568.92",
         "Artist",
         "Swimming",
         "TRUE"
        ],
        [
         "amxj944",
         "John Walker",
         "johnwalker944@slingacademy.com",
         "27265 Murray Island Kevinfort, PA 63231",
         "male",
         "44",
         null,
         "04-04-2020",
         null,
         "11",
         "497.12",
         "Clerk",
         "Painting",
         "FALSE"
        ],
        [
         "amxer176",
         "Eric Carter",
         "ericcarter176@slingacademy.com",
         "USNS Knight FPO AA 76532",
         "male",
         "38",
         null,
         "30-01-2019",
         null,
         "17",
         "834.6",
         "Butcher",
         "Playing musical instruments",
         "FALSE"
        ],
        [
         "amxwi427",
         "William Jackson",
         "williamjackson427@slingacademy.com",
         "170 Jackson Loaf Kristenland, AS 48876",
         "male",
         "58",
         null,
         "01-07-2022",
         null,
         "14",
         "151.59",
         "Engineer",
         "Reading",
         "FALSE"
        ],
        [
         "amxni228",
         "Nicole Jones",
         "nicolejones228@slingacademy.com",
         "14354 Baker Harbor Apt. 017 Ericville, HI 11192",
         "female",
         "33",
         null,
         "07-08-2021",
         null,
         "19",
         "33.17",
         "Unemployed",
         "Running",
         "TRUE"
        ],
        [
         "amxda980",
         "David Davis",
         "daviddavis980@slingacademy.com",
         "021 Katherine Mall Jameston, DC 24685",
         "male",
         "59",
         null,
         "16-06-2022",
         null,
         "9",
         "970.96",
         "Doctor",
         "Playing sports",
         "FALSE"
        ],
        [
         "amxja889",
         "Jason Montgomery",
         "jasonmontgomery889@slingacademy.com",
         "14657 Scott Loop Apt. 735 Port Ashley, NH 34470",
         "male",
         "58",
         null,
         "13-11-2021",
         null,
         "12",
         "676.2",
         "Waitress",
         "Collecting",
         "FALSE"
        ],
        [
         "amxke695",
         "Kent Weaver",
         "kentweaver695@slingacademy.com",
         "6644 Mitchell Burg Victorhaven, KS 66356",
         "male",
         "61",
         null,
         "11-06-2023",
         null,
         "1",
         "674.37",
         "Clerk",
         "Hiking",
         "FALSE"
        ],
        [
         "amxda573",
         "Darrell Dillon",
         "darrelldillon573@slingacademy.com",
         "PSC 7267, Box 9911 APO AE 49343",
         "male",
         "50",
         null,
         "13-09-2022",
         null,
         "12",
         "750.72",
         "Dentist",
         "Watching movies",
         "FALSE"
        ],
        [
         "amxja322",
         "Jacqueline Wang",
         "jacquelinewang322@slingacademy.com",
         "16963 Stewart Curve Suite 27 South Cameron, ND 25136",
         "female",
         "22",
         null,
         "08-02-2023",
         null,
         "12",
         "962.47",
         "Housewife",
         "Collecting",
         "FALSE"
        ],
        [
         "amxjo185",
         "Jodi Gonzalez",
         "jodigonzalez185@slingacademy.com",
         "378 Johnson Oval South Stacie, RI 76332",
         "female",
         "69",
         null,
         "25-06-2021",
         null,
         "12",
         "68.67",
         "Baker",
         "Photography",
         "FALSE"
        ],
        [
         "amxom769",
         "Omar Martin",
         "omarmartin769@slingacademy.com",
         "Unit 9103 Box 4771 DPO AA 16592",
         "male",
         "28",
         null,
         "28-05-2023",
         null,
         "3",
         "162.58",
         "Doctor",
         "Gardening",
         "TRUE"
        ],
        [
         "amxni473",
         "Nicole Lara",
         "nicolelara473@slingacademy.com",
         "9822 Lisa Courts Johnhaven, IL 80438",
         "female",
         "77",
         null,
         "03-03-2023",
         null,
         "17",
         "309.81",
         "Janitor",
         "Hiking",
         "TRUE"
        ],
        [
         "amxja753",
         "Jason Brown",
         "jasonbrown753@slingacademy.com",
         "7310 Romero Summit East Scotttown, DC 53183",
         "male",
         "63",
         null,
         "05-12-2022",
         null,
         "13",
         "763.27",
         "Lawyer",
         "Fishing",
         "TRUE"
        ],
        [
         "amxda257",
         "David Benson",
         "davidbenson257@slingacademy.com",
         "444 Derek Summit Lisaborough, WA 20685",
         "male",
         "61",
         null,
         "15-04-2022",
         null,
         "17",
         "111.11",
         "Lawyer",
         "Meditation",
         "TRUE"
        ],
        [
         "amxki513",
         "Kimberly Mora",
         "kimberlymora513@slingacademy.com",
         "7679 Perry Square West Amybury, RI 15144",
         "female",
         "34",
         null,
         "19-05-2019",
         null,
         "10",
         "208.46",
         "Farmer",
         "Collecting",
         "FALSE"
        ],
        [
         "amxer904",
         "Erik Macias",
         "erikmacias904@wingacademy.com",
         "568 Christopher Tunnel Toddburgh, DE 86966",
         "male",
         "25",
         null,
         "18-04-2020",
         null,
         "8",
         "439.53",
         "Accountant",
         "Fishing",
         "FALSE"
        ],
        [
         "amxja681",
         "James Johnson",
         "jamesjohnson681@wingacademy.com",
         "19870 Sean Parkway North Jamesfurt, NC 28950",
         "male",
         "67",
         null,
         "17-02-2019",
         null,
         "5",
         "394.95",
         "Security Guard",
         "Watching movies",
         "FALSE"
        ],
        [
         "amxde324",
         "Derek Peterson",
         "derekpeterson324@wingacademy.com",
         "70830 Jonathan Pine Wilcoxburgh, MI 38265",
         "male",
         "36",
         null,
         "15-12-2020",
         null,
         "2",
         "153.8",
         "Architect",
         "Photography",
         "TRUE"
        ],
        [
         "amxdi438",
         "Diane Henson",
         "dianehenson438@wingacademy.com",
         "86382 Baker Ports Apt. 074 Cookfurt, NM 54313",
         "female",
         "74",
         null,
         "21-03-2020",
         null,
         "19",
         "62.52",
         "Butcher",
         "Playing musical instruments",
         "FALSE"
        ],
        [
         "amxco721",
         "Cody Lyons",
         "codylyons721@wingacademy.com",
         "60971 Carrillo Square Suite 141 New Kimberlybury, AS 02128",
         "male",
         "47",
         null,
         "25-11-2019",
         null,
         "14",
         "43.17",
         "Baker",
         "Hunting",
         "FALSE"
        ],
        [
         "amxma249",
         "Margaret Hardy",
         "margarethardy249@wingacademy.com",
         "2900 Sandra Villages Apt. 985 Phillipsstad, NH 19830",
         "female",
         "25",
         null,
         "17-07-2021",
         null,
         "9",
         "455.27",
         "Barber",
         "Other",
         "FALSE"
        ],
        [
         "amxar881",
         "Arthur Hayes",
         "arthurhayes881@wingacademy.com",
         "353 Elizabeth Forest Deannachester, NM 66952",
         "male",
         "75",
         null,
         "01-04-2021",
         null,
         "6",
         "749.78",
         "Chef",
         "Sewing",
         "FALSE"
        ],
        [
         "amxra702",
         "Raymond Taylor",
         "raymondtaylor702@wingacademy.com",
         "07867 John Mills Apt. 985 Tinaville, ID 59142",
         "male",
         "36",
         null,
         "24-09-2021",
         null,
         "6",
         "125.18",
         "Butcher",
         "Playing musical instruments",
         "FALSE"
        ],
        [
         "amxti476",
         "Tina Moore",
         "tinamoore476@wingacademy.com",
         "50984 Shelly Pass Port Nicholas, SC 48629",
         "female",
         "34",
         null,
         "15-07-2020",
         null,
         "17",
         "888.53",
         "Chef",
         "Running",
         "FALSE"
        ],
        [
         "amxky170",
         "Kylie White",
         "kyliewhite170@wingacademy.com",
         "5004 Christine Falls Suite 217 Jasonburgh, NJ 75688",
         "female",
         "63",
         null,
         "03-02-2020",
         null,
         "6",
         "872.18",
         "Janitor",
         "Reading",
         "TRUE"
        ],
        [
         "amxjo648",
         "Jonathan Manning",
         "jonathanmanning648@wingacademy.com",
         "1501 Gregory Glens Suite 940 Stephensstad, GU 55206",
         "male",
         "30",
         null,
         "21-01-2022",
         null,
         "0",
         "178.54",
         "Librarian",
         "Playing sports",
         "FALSE"
        ],
        [
         "amxan256",
         "Angela Bryant",
         "angelabryant256@wingacademy.com",
         "01454 Christopher Turnpike North Ryanstad, MI 36226",
         "female",
         "23",
         null,
         "11-09-2019",
         null,
         "3",
         "525.2",
         "Politician",
         "Cycling",
         "FALSE"
        ]
       ],
       "datasetInfos": [],
       "dbfsResultPath": null,
       "isJsonSchema": true,
       "metadata": {},
       "overflow": false,
       "plotOptions": {
        "customPlotOptions": {},
        "displayType": "table",
        "pivotAggregation": null,
        "pivotColumns": null,
        "xColumns": null,
        "yColumns": null
       },
       "removedWidgets": [],
       "schema": [
        {
         "metadata": "{}",
         "name": "Customer Id",
         "type": "\"string\""
        },
        {
         "metadata": "{}",
         "name": "Name",
         "type": "\"string\""
        },
        {
         "metadata": "{}",
         "name": "Email Id",
         "type": "\"string\""
        },
        {
         "metadata": "{}",
         "name": "address",
         "type": "\"string\""
        },
        {
         "metadata": "{}",
         "name": "gender",
         "type": "\"string\""
        },
        {
         "metadata": "{}",
         "name": "age",
         "type": "\"string\""
        },
        {
         "metadata": "{}",
         "name": "Joining_Date",
         "type": "\"long\""
        },
        {
         "metadata": "{}",
         "name": "registered",
         "type": "\"string\""
        },
        {
         "metadata": "{}",
         "name": "order ID",
         "type": "\"string\""
        },
        {
         "metadata": "{}",
         "name": "orders",
         "type": "\"string\""
        },
        {
         "metadata": "{}",
         "name": "spent",
         "type": "\"string\""
        },
        {
         "metadata": "{}",
         "name": "job",
         "type": "\"string\""
        },
        {
         "metadata": "{}",
         "name": "hobbies",
         "type": "\"string\""
        },
        {
         "metadata": "{}",
         "name": "is_married",
         "type": "\"string\""
        }
       ],
       "type": "table"
      }
     },
     "output_type": "display_data"
    }
   ],
   "source": [
    "df2.withColumn('Joining_Date',unix_timestamp(col('Joining_Date'),'yyyy-MM-dd')).display()"
   ]
  },
  {
   "cell_type": "code",
   "execution_count": 0,
   "metadata": {
    "application/vnd.databricks.v1+cell": {
     "cellMetadata": {
      "byteLimit": 2048000,
      "rowLimit": 10000
     },
     "inputWidgets": {},
     "nuid": "cd05410e-1a33-45d0-be8f-fde7dc952e92",
     "showTitle": false,
     "title": ""
    }
   },
   "outputs": [
    {
     "output_type": "display_data",
     "data": {
      "text/html": [
       "<style scoped>\n",
       "  .ansiout {\n",
       "    display: block;\n",
       "    unicode-bidi: embed;\n",
       "    white-space: pre-wrap;\n",
       "    word-wrap: break-word;\n",
       "    word-break: break-all;\n",
       "    font-family: \"Menlo\", \"Monaco\", \"Consolas\", \"Ubuntu Mono\", \"Source Code Pro\", monospace;\n",
       "    font-size: 13px;\n",
       "    color: #555;\n",
       "    margin-left: 4px;\n",
       "    line-height: 19px;\n",
       "  }\n",
       "</style>\n",
       "org.apache.spark.SparkException: Job aborted due to stage failure: Task 0 in stage 102.0 failed 1 times, most recent failure: Lost task 0.0 in stage 102.0 (TID 94) (ip-10-172-219-91.us-west-2.compute.internal executor driver): org.apache.spark.SparkUpgradeException: [INCONSISTENT_BEHAVIOR_CROSS_VERSION.PARSE_DATETIME_BY_NEW_PARSER] You may get a different result due to the upgrading to Spark >= 3.0:\n",
       "Fail to parse '07-14-2022  20:15:39' in the new parser. You can set \"spark.sql.legacy.timeParserPolicy\" to \"LEGACY\" to restore the behavior before Spark 3.0, or set to \"CORRECTED\" and treat it as an invalid datetime string.\n",
       "\tat org.apache.spark.sql.errors.QueryExecutionErrors$.failToParseDateTimeInNewParserError(QueryExecutionErrors.scala:1512)\n",
       "\tat org.apache.spark.sql.catalyst.util.DateTimeFormatterHelper$$anonfun$checkParsedDiff$1.applyOrElse(DateTimeFormatterHelper.scala:148)\n",
       "\tat org.apache.spark.sql.catalyst.util.DateTimeFormatterHelper$$anonfun$checkParsedDiff$1.applyOrElse(DateTimeFormatterHelper.scala:141)\n",
       "\tat scala.runtime.AbstractPartialFunction.apply(AbstractPartialFunction.scala:38)\n",
       "\tat org.apache.spark.sql.catalyst.util.Iso8601TimestampFormatter.parse(TimestampFormatter.scala:176)\n",
       "\tat org.apache.spark.sql.catalyst.expressions.GeneratedClass$GeneratedIteratorForCodegenStage1.processNext(Unknown Source)\n",
       "\tat org.apache.spark.sql.execution.BufferedRowIterator.hasNext(BufferedRowIterator.java:43)\n",
       "\tat org.apache.spark.sql.execution.WholeStageCodegenExec$$anon$1.hasNext(WholeStageCodegenExec.scala:761)\n",
       "\tat org.apache.spark.sql.execution.collect.UnsafeRowBatchUtils$.encodeUnsafeRows(UnsafeRowBatchUtils.scala:82)\n",
       "\tat org.apache.spark.sql.execution.collect.Collector.$anonfun$processFunc$1(Collector.scala:208)\n",
       "\tat org.apache.spark.scheduler.ResultTask.$anonfun$runTask$3(ResultTask.scala:75)\n",
       "\tat com.databricks.spark.util.ExecutorFrameProfiler$.record(ExecutorFrameProfiler.scala:110)\n",
       "\tat org.apache.spark.scheduler.ResultTask.$anonfun$runTask$1(ResultTask.scala:75)\n",
       "\tat com.databricks.spark.util.ExecutorFrameProfiler$.record(ExecutorFrameProfiler.scala:110)\n",
       "\tat org.apache.spark.scheduler.ResultTask.runTask(ResultTask.scala:55)\n",
       "\tat org.apache.spark.scheduler.Task.doRunTask(Task.scala:179)\n",
       "\tat org.apache.spark.scheduler.Task.$anonfun$run$5(Task.scala:142)\n",
       "\tat com.databricks.unity.EmptyHandle$.runWithAndClose(UCSHandle.scala:125)\n",
       "\tat org.apache.spark.scheduler.Task.$anonfun$run$1(Task.scala:142)\n",
       "\tat com.databricks.spark.util.ExecutorFrameProfiler$.record(ExecutorFrameProfiler.scala:110)\n",
       "\tat org.apache.spark.scheduler.Task.run(Task.scala:97)\n",
       "\tat org.apache.spark.executor.Executor$TaskRunner.$anonfun$run$13(Executor.scala:904)\n",
       "\tat org.apache.spark.util.Utils$.tryWithSafeFinally(Utils.scala:1740)\n",
       "\tat org.apache.spark.executor.Executor$TaskRunner.$anonfun$run$4(Executor.scala:907)\n",
       "\tat scala.runtime.java8.JFunction0$mcV$sp.apply(JFunction0$mcV$sp.java:23)\n",
       "\tat com.databricks.spark.util.ExecutorFrameProfiler$.record(ExecutorFrameProfiler.scala:110)\n",
       "\tat org.apache.spark.executor.Executor$TaskRunner.run(Executor.scala:761)\n",
       "\tat java.util.concurrent.ThreadPoolExecutor.runWorker(ThreadPoolExecutor.java:1149)\n",
       "\tat java.util.concurrent.ThreadPoolExecutor$Worker.run(ThreadPoolExecutor.java:624)\n",
       "\tat java.lang.Thread.run(Thread.java:750)\n",
       "Caused by: java.time.format.DateTimeParseException: Text '07-14-2022  20:15:39' could not be parsed at index 11\n",
       "\tat java.time.format.DateTimeFormatter.parseResolved0(DateTimeFormatter.java:1949)\n",
       "\tat java.time.format.DateTimeFormatter.parse(DateTimeFormatter.java:1777)\n",
       "\tat org.apache.spark.sql.catalyst.util.Iso8601TimestampFormatter.parse(TimestampFormatter.scala:168)\n",
       "\t... 25 more\n",
       "\n",
       "Driver stacktrace:\n",
       "\tat org.apache.spark.scheduler.DAGScheduler.failJobAndIndependentStages(DAGScheduler.scala:3396)\n",
       "\tat org.apache.spark.scheduler.DAGScheduler.$anonfun$abortStage$2(DAGScheduler.scala:3327)\n",
       "\tat org.apache.spark.scheduler.DAGScheduler.$anonfun$abortStage$2$adapted(DAGScheduler.scala:3316)\n",
       "\tat scala.collection.mutable.ResizableArray.foreach(ResizableArray.scala:62)\n",
       "\tat scala.collection.mutable.ResizableArray.foreach$(ResizableArray.scala:55)\n",
       "\tat scala.collection.mutable.ArrayBuffer.foreach(ArrayBuffer.scala:49)\n",
       "\tat org.apache.spark.scheduler.DAGScheduler.abortStage(DAGScheduler.scala:3316)\n",
       "\tat org.apache.spark.scheduler.DAGScheduler.$anonfun$handleTaskSetFailed$1(DAGScheduler.scala:1433)\n",
       "\tat org.apache.spark.scheduler.DAGScheduler.$anonfun$handleTaskSetFailed$1$adapted(DAGScheduler.scala:1433)\n",
       "\tat scala.Option.foreach(Option.scala:407)\n",
       "\tat org.apache.spark.scheduler.DAGScheduler.handleTaskSetFailed(DAGScheduler.scala:1433)\n",
       "\tat org.apache.spark.scheduler.DAGSchedulerEventProcessLoop.doOnReceive(DAGScheduler.scala:3609)\n",
       "\tat org.apache.spark.scheduler.DAGSchedulerEventProcessLoop.onReceive(DAGScheduler.scala:3547)\n",
       "\tat org.apache.spark.scheduler.DAGSchedulerEventProcessLoop.onReceive(DAGScheduler.scala:3535)\n",
       "\tat org.apache.spark.util.EventLoop$$anon$1.run(EventLoop.scala:51)\n",
       "\tat org.apache.spark.scheduler.DAGScheduler.$anonfun$runJob$1(DAGScheduler.scala:1182)\n",
       "\tat scala.runtime.java8.JFunction0$mcV$sp.apply(JFunction0$mcV$sp.java:23)\n",
       "\tat com.databricks.spark.util.FrameProfiler$.record(FrameProfiler.scala:80)\n",
       "\tat org.apache.spark.scheduler.DAGScheduler.runJob(DAGScheduler.scala:1170)\n",
       "\tat org.apache.spark.SparkContext.runJobInternal(SparkContext.scala:2750)\n",
       "\tat org.apache.spark.sql.execution.collect.Collector.$anonfun$runSparkJobs$1(Collector.scala:349)\n",
       "\tat scala.runtime.java8.JFunction0$mcV$sp.apply(JFunction0$mcV$sp.java:23)\n",
       "\tat com.databricks.spark.util.FrameProfiler$.record(FrameProfiler.scala:80)\n",
       "\tat org.apache.spark.sql.execution.collect.Collector.runSparkJobs(Collector.scala:293)\n",
       "\tat org.apache.spark.sql.execution.collect.Collector.collect(Collector.scala:377)\n",
       "\tat org.apache.spark.sql.execution.collect.Collector$.collect(Collector.scala:128)\n",
       "\tat org.apache.spark.sql.execution.collect.Collector$.collect(Collector.scala:135)\n",
       "\tat org.apache.spark.sql.execution.qrc.InternalRowFormat$.collect(cachedSparkResults.scala:122)\n",
       "\tat org.apache.spark.sql.execution.qrc.InternalRowFormat$.collect(cachedSparkResults.scala:110)\n",
       "\tat org.apache.spark.sql.execution.qrc.InternalRowFormat$.collect(cachedSparkResults.scala:92)\n",
       "\tat org.apache.spark.sql.execution.qrc.ResultCacheManager.$anonfun$computeResult$1(ResultCacheManager.scala:537)\n",
       "\tat com.databricks.spark.util.FrameProfiler$.record(FrameProfiler.scala:80)\n",
       "\tat org.apache.spark.sql.execution.qrc.ResultCacheManager.collectResult$1(ResultCacheManager.scala:529)\n",
       "\tat org.apache.spark.sql.execution.qrc.ResultCacheManager.computeResult(ResultCacheManager.scala:549)\n",
       "\tat org.apache.spark.sql.execution.qrc.ResultCacheManager.$anonfun$getOrComputeResultInternal$1(ResultCacheManager.scala:402)\n",
       "\tat scala.Option.getOrElse(Option.scala:189)\n",
       "\tat org.apache.spark.sql.execution.qrc.ResultCacheManager.getOrComputeResultInternal(ResultCacheManager.scala:395)\n",
       "\tat org.apache.spark.sql.execution.qrc.ResultCacheManager.getOrComputeResult(ResultCacheManager.scala:289)\n",
       "\tat org.apache.spark.sql.execution.SparkPlan.$anonfun$executeCollectResult$1(SparkPlan.scala:506)\n",
       "\tat com.databricks.spark.util.FrameProfiler$.record(FrameProfiler.scala:80)\n",
       "\tat org.apache.spark.sql.execution.SparkPlan.executeCollectResult(SparkPlan.scala:503)\n",
       "\tat org.apache.spark.sql.Dataset.collectResult(Dataset.scala:3458)\n",
       "\tat org.apache.spark.sql.Dataset.$anonfun$collectResult$1(Dataset.scala:3449)\n",
       "\tat org.apache.spark.sql.Dataset.$anonfun$withAction$3(Dataset.scala:4373)\n",
       "\tat org.apache.spark.sql.execution.QueryExecution$.withInternalError(QueryExecution.scala:819)\n",
       "\tat org.apache.spark.sql.Dataset.$anonfun$withAction$2(Dataset.scala:4371)\n",
       "\tat org.apache.spark.sql.execution.SQLExecution$.$anonfun$withCustomExecutionEnv$8(SQLExecution.scala:233)\n",
       "\tat org.apache.spark.sql.execution.SQLExecution$.withSQLConfPropagated(SQLExecution.scala:417)\n",
       "\tat org.apache.spark.sql.execution.SQLExecution$.$anonfun$withCustomExecutionEnv$1(SQLExecution.scala:178)\n",
       "\tat org.apache.spark.sql.SparkSession.withActive(SparkSession.scala:1038)\n",
       "\tat org.apache.spark.sql.execution.SQLExecution$.withCustomExecutionEnv(SQLExecution.scala:128)\n",
       "\tat org.apache.spark.sql.execution.SQLExecution$.withNewExecutionId(SQLExecution.scala:367)\n",
       "\tat org.apache.spark.sql.Dataset.withAction(Dataset.scala:4371)\n",
       "\tat org.apache.spark.sql.Dataset.collectResult(Dataset.scala:3448)\n",
       "\tat com.databricks.backend.daemon.driver.OutputAggregator$.withOutputAggregation0(OutputAggregator.scala:267)\n",
       "\tat com.databricks.backend.daemon.driver.OutputAggregator$.withOutputAggregation(OutputAggregator.scala:101)\n",
       "\tat com.databricks.backend.daemon.driver.PythonDriverLocalBase.generateTableResult(PythonDriverLocalBase.scala:723)\n",
       "\tat com.databricks.backend.daemon.driver.JupyterDriverLocal.computeListResultsItem(JupyterDriverLocal.scala:863)\n",
       "\tat com.databricks.backend.daemon.driver.JupyterDriverLocal$JupyterEntryPoint.addCustomDisplayData(JupyterDriverLocal.scala:268)\n",
       "\tat sun.reflect.GeneratedMethodAccessor829.invoke(Unknown Source)\n",
       "\tat sun.reflect.DelegatingMethodAccessorImpl.invoke(DelegatingMethodAccessorImpl.java:43)\n",
       "\tat java.lang.reflect.Method.invoke(Method.java:498)\n",
       "\tat py4j.reflection.MethodInvoker.invoke(MethodInvoker.java:244)\n",
       "\tat py4j.reflection.ReflectionEngine.invoke(ReflectionEngine.java:380)\n",
       "\tat py4j.Gateway.invoke(Gateway.java:306)\n",
       "\tat py4j.commands.AbstractCommand.invokeMethod(AbstractCommand.java:132)\n",
       "\tat py4j.commands.CallCommand.execute(CallCommand.java:79)\n",
       "\tat py4j.ClientServerConnection.waitForCommands(ClientServerConnection.java:195)\n",
       "\tat py4j.ClientServerConnection.run(ClientServerConnection.java:115)\n",
       "\tat java.lang.Thread.run(Thread.java:750)\n",
       "Caused by: org.apache.spark.SparkUpgradeException: [INCONSISTENT_BEHAVIOR_CROSS_VERSION.PARSE_DATETIME_BY_NEW_PARSER] You may get a different result due to the upgrading to Spark >= 3.0:\n",
       "Fail to parse '07-14-2022  20:15:39' in the new parser. You can set \"spark.sql.legacy.timeParserPolicy\" to \"LEGACY\" to restore the behavior before Spark 3.0, or set to \"CORRECTED\" and treat it as an invalid datetime string.\n",
       "\tat org.apache.spark.sql.errors.QueryExecutionErrors$.failToParseDateTimeInNewParserError(QueryExecutionErrors.scala:1512)\n",
       "\tat org.apache.spark.sql.catalyst.util.DateTimeFormatterHelper$$anonfun$checkParsedDiff$1.applyOrElse(DateTimeFormatterHelper.scala:148)\n",
       "\tat org.apache.spark.sql.catalyst.util.DateTimeFormatterHelper$$anonfun$checkParsedDiff$1.applyOrElse(DateTimeFormatterHelper.scala:141)\n",
       "\tat scala.runtime.AbstractPartialFunction.apply(AbstractPartialFunction.scala:38)\n",
       "\tat org.apache.spark.sql.catalyst.util.Iso8601TimestampFormatter.parse(TimestampFormatter.scala:176)\n",
       "\tat org.apache.spark.sql.catalyst.expressions.GeneratedClass$GeneratedIteratorForCodegenStage1.processNext(Unknown Source)\n",
       "\tat org.apache.spark.sql.execution.BufferedRowIterator.hasNext(BufferedRowIterator.java:43)\n",
       "\tat org.apache.spark.sql.execution.WholeStageCodegenExec$$anon$1.hasNext(WholeStageCodegenExec.scala:761)\n",
       "\tat org.apache.spark.sql.execution.collect.UnsafeRowBatchUtils$.encodeUnsafeRows(UnsafeRowBatchUtils.scala:82)\n",
       "\tat org.apache.spark.sql.execution.collect.Collector.$anonfun$processFunc$1(Collector.scala:208)\n",
       "\tat org.apache.spark.scheduler.ResultTask.$anonfun$runTask$3(ResultTask.scala:75)\n",
       "\tat com.databricks.spark.util.ExecutorFrameProfiler$.record(ExecutorFrameProfiler.scala:110)\n",
       "\tat org.apache.spark.scheduler.ResultTask.$anonfun$runTask$1(ResultTask.scala:75)\n",
       "\tat com.databricks.spark.util.ExecutorFrameProfiler$.record(ExecutorFrameProfiler.scala:110)\n",
       "\tat org.apache.spark.scheduler.ResultTask.runTask(ResultTask.scala:55)\n",
       "\tat org.apache.spark.scheduler.Task.doRunTask(Task.scala:179)\n",
       "\tat org.apache.spark.scheduler.Task.$anonfun$run$5(Task.scala:142)\n",
       "\tat com.databricks.unity.EmptyHandle$.runWithAndClose(UCSHandle.scala:125)\n",
       "\tat org.apache.spark.scheduler.Task.$anonfun$run$1(Task.scala:142)\n",
       "\tat com.databricks.spark.util.ExecutorFrameProfiler$.record(ExecutorFrameProfiler.scala:110)\n",
       "\tat org.apache.spark.scheduler.Task.run(Task.scala:97)\n",
       "\tat org.apache.spark.executor.Executor$TaskRunner.$anonfun$run$13(Executor.scala:904)\n",
       "\tat org.apache.spark.util.Utils$.tryWithSafeFinally(Utils.scala:1740)\n",
       "\tat org.apache.spark.executor.Executor$TaskRunner.$anonfun$run$4(Executor.scala:907)\n",
       "\tat scala.runtime.java8.JFunction0$mcV$sp.apply(JFunction0$mcV$sp.java:23)\n",
       "\tat com.databricks.spark.util.ExecutorFrameProfiler$.record(ExecutorFrameProfiler.scala:110)\n",
       "\tat org.apache.spark.executor.Executor$TaskRunner.run(Executor.scala:761)\n",
       "\tat java.util.concurrent.ThreadPoolExecutor.runWorker(ThreadPoolExecutor.java:1149)\n",
       "\tat java.util.concurrent.ThreadPoolExecutor$Worker.run(ThreadPoolExecutor.java:624)\n",
       "\t... 1 more\n",
       "Caused by: java.time.format.DateTimeParseException: Text '07-14-2022  20:15:39' could not be parsed at index 11\n",
       "\tat java.time.format.DateTimeFormatter.parseResolved0(DateTimeFormatter.java:1949)\n",
       "\tat java.time.format.DateTimeFormatter.parse(DateTimeFormatter.java:1777)\n",
       "\tat org.apache.spark.sql.catalyst.util.Iso8601TimestampFormatter.parse(TimestampFormatter.scala:168)\n",
       "\t... 25 more"
      ]
     },
     "metadata": {
      "application/vnd.databricks.v1+output": {
       "arguments": {},
       "data": "org.apache.spark.SparkException: Job aborted due to stage failure: Task 0 in stage 102.0 failed 1 times, most recent failure: Lost task 0.0 in stage 102.0 (TID 94) (ip-10-172-219-91.us-west-2.compute.internal executor driver): org.apache.spark.SparkUpgradeException: [INCONSISTENT_BEHAVIOR_CROSS_VERSION.PARSE_DATETIME_BY_NEW_PARSER] You may get a different result due to the upgrading to Spark >= 3.0:\nFail to parse '07-14-2022  20:15:39' in the new parser. You can set \"spark.sql.legacy.timeParserPolicy\" to \"LEGACY\" to restore the behavior before Spark 3.0, or set to \"CORRECTED\" and treat it as an invalid datetime string.\n\tat org.apache.spark.sql.errors.QueryExecutionErrors$.failToParseDateTimeInNewParserError(QueryExecutionErrors.scala:1512)\n\tat org.apache.spark.sql.catalyst.util.DateTimeFormatterHelper$$anonfun$checkParsedDiff$1.applyOrElse(DateTimeFormatterHelper.scala:148)\n\tat org.apache.spark.sql.catalyst.util.DateTimeFormatterHelper$$anonfun$checkParsedDiff$1.applyOrElse(DateTimeFormatterHelper.scala:141)\n\tat scala.runtime.AbstractPartialFunction.apply(AbstractPartialFunction.scala:38)\n\tat org.apache.spark.sql.catalyst.util.Iso8601TimestampFormatter.parse(TimestampFormatter.scala:176)\n\tat org.apache.spark.sql.catalyst.expressions.GeneratedClass$GeneratedIteratorForCodegenStage1.processNext(Unknown Source)\n\tat org.apache.spark.sql.execution.BufferedRowIterator.hasNext(BufferedRowIterator.java:43)\n\tat org.apache.spark.sql.execution.WholeStageCodegenExec$$anon$1.hasNext(WholeStageCodegenExec.scala:761)\n\tat org.apache.spark.sql.execution.collect.UnsafeRowBatchUtils$.encodeUnsafeRows(UnsafeRowBatchUtils.scala:82)\n\tat org.apache.spark.sql.execution.collect.Collector.$anonfun$processFunc$1(Collector.scala:208)\n\tat org.apache.spark.scheduler.ResultTask.$anonfun$runTask$3(ResultTask.scala:75)\n\tat com.databricks.spark.util.ExecutorFrameProfiler$.record(ExecutorFrameProfiler.scala:110)\n\tat org.apache.spark.scheduler.ResultTask.$anonfun$runTask$1(ResultTask.scala:75)\n\tat com.databricks.spark.util.ExecutorFrameProfiler$.record(ExecutorFrameProfiler.scala:110)\n\tat org.apache.spark.scheduler.ResultTask.runTask(ResultTask.scala:55)\n\tat org.apache.spark.scheduler.Task.doRunTask(Task.scala:179)\n\tat org.apache.spark.scheduler.Task.$anonfun$run$5(Task.scala:142)\n\tat com.databricks.unity.EmptyHandle$.runWithAndClose(UCSHandle.scala:125)\n\tat org.apache.spark.scheduler.Task.$anonfun$run$1(Task.scala:142)\n\tat com.databricks.spark.util.ExecutorFrameProfiler$.record(ExecutorFrameProfiler.scala:110)\n\tat org.apache.spark.scheduler.Task.run(Task.scala:97)\n\tat org.apache.spark.executor.Executor$TaskRunner.$anonfun$run$13(Executor.scala:904)\n\tat org.apache.spark.util.Utils$.tryWithSafeFinally(Utils.scala:1740)\n\tat org.apache.spark.executor.Executor$TaskRunner.$anonfun$run$4(Executor.scala:907)\n\tat scala.runtime.java8.JFunction0$mcV$sp.apply(JFunction0$mcV$sp.java:23)\n\tat com.databricks.spark.util.ExecutorFrameProfiler$.record(ExecutorFrameProfiler.scala:110)\n\tat org.apache.spark.executor.Executor$TaskRunner.run(Executor.scala:761)\n\tat java.util.concurrent.ThreadPoolExecutor.runWorker(ThreadPoolExecutor.java:1149)\n\tat java.util.concurrent.ThreadPoolExecutor$Worker.run(ThreadPoolExecutor.java:624)\n\tat java.lang.Thread.run(Thread.java:750)\nCaused by: java.time.format.DateTimeParseException: Text '07-14-2022  20:15:39' could not be parsed at index 11\n\tat java.time.format.DateTimeFormatter.parseResolved0(DateTimeFormatter.java:1949)\n\tat java.time.format.DateTimeFormatter.parse(DateTimeFormatter.java:1777)\n\tat org.apache.spark.sql.catalyst.util.Iso8601TimestampFormatter.parse(TimestampFormatter.scala:168)\n\t... 25 more\n\nDriver stacktrace:\n\tat org.apache.spark.scheduler.DAGScheduler.failJobAndIndependentStages(DAGScheduler.scala:3396)\n\tat org.apache.spark.scheduler.DAGScheduler.$anonfun$abortStage$2(DAGScheduler.scala:3327)\n\tat org.apache.spark.scheduler.DAGScheduler.$anonfun$abortStage$2$adapted(DAGScheduler.scala:3316)\n\tat scala.collection.mutable.ResizableArray.foreach(ResizableArray.scala:62)\n\tat scala.collection.mutable.ResizableArray.foreach$(ResizableArray.scala:55)\n\tat scala.collection.mutable.ArrayBuffer.foreach(ArrayBuffer.scala:49)\n\tat org.apache.spark.scheduler.DAGScheduler.abortStage(DAGScheduler.scala:3316)\n\tat org.apache.spark.scheduler.DAGScheduler.$anonfun$handleTaskSetFailed$1(DAGScheduler.scala:1433)\n\tat org.apache.spark.scheduler.DAGScheduler.$anonfun$handleTaskSetFailed$1$adapted(DAGScheduler.scala:1433)\n\tat scala.Option.foreach(Option.scala:407)\n\tat org.apache.spark.scheduler.DAGScheduler.handleTaskSetFailed(DAGScheduler.scala:1433)\n\tat org.apache.spark.scheduler.DAGSchedulerEventProcessLoop.doOnReceive(DAGScheduler.scala:3609)\n\tat org.apache.spark.scheduler.DAGSchedulerEventProcessLoop.onReceive(DAGScheduler.scala:3547)\n\tat org.apache.spark.scheduler.DAGSchedulerEventProcessLoop.onReceive(DAGScheduler.scala:3535)\n\tat org.apache.spark.util.EventLoop$$anon$1.run(EventLoop.scala:51)\n\tat org.apache.spark.scheduler.DAGScheduler.$anonfun$runJob$1(DAGScheduler.scala:1182)\n\tat scala.runtime.java8.JFunction0$mcV$sp.apply(JFunction0$mcV$sp.java:23)\n\tat com.databricks.spark.util.FrameProfiler$.record(FrameProfiler.scala:80)\n\tat org.apache.spark.scheduler.DAGScheduler.runJob(DAGScheduler.scala:1170)\n\tat org.apache.spark.SparkContext.runJobInternal(SparkContext.scala:2750)\n\tat org.apache.spark.sql.execution.collect.Collector.$anonfun$runSparkJobs$1(Collector.scala:349)\n\tat scala.runtime.java8.JFunction0$mcV$sp.apply(JFunction0$mcV$sp.java:23)\n\tat com.databricks.spark.util.FrameProfiler$.record(FrameProfiler.scala:80)\n\tat org.apache.spark.sql.execution.collect.Collector.runSparkJobs(Collector.scala:293)\n\tat org.apache.spark.sql.execution.collect.Collector.collect(Collector.scala:377)\n\tat org.apache.spark.sql.execution.collect.Collector$.collect(Collector.scala:128)\n\tat org.apache.spark.sql.execution.collect.Collector$.collect(Collector.scala:135)\n\tat org.apache.spark.sql.execution.qrc.InternalRowFormat$.collect(cachedSparkResults.scala:122)\n\tat org.apache.spark.sql.execution.qrc.InternalRowFormat$.collect(cachedSparkResults.scala:110)\n\tat org.apache.spark.sql.execution.qrc.InternalRowFormat$.collect(cachedSparkResults.scala:92)\n\tat org.apache.spark.sql.execution.qrc.ResultCacheManager.$anonfun$computeResult$1(ResultCacheManager.scala:537)\n\tat com.databricks.spark.util.FrameProfiler$.record(FrameProfiler.scala:80)\n\tat org.apache.spark.sql.execution.qrc.ResultCacheManager.collectResult$1(ResultCacheManager.scala:529)\n\tat org.apache.spark.sql.execution.qrc.ResultCacheManager.computeResult(ResultCacheManager.scala:549)\n\tat org.apache.spark.sql.execution.qrc.ResultCacheManager.$anonfun$getOrComputeResultInternal$1(ResultCacheManager.scala:402)\n\tat scala.Option.getOrElse(Option.scala:189)\n\tat org.apache.spark.sql.execution.qrc.ResultCacheManager.getOrComputeResultInternal(ResultCacheManager.scala:395)\n\tat org.apache.spark.sql.execution.qrc.ResultCacheManager.getOrComputeResult(ResultCacheManager.scala:289)\n\tat org.apache.spark.sql.execution.SparkPlan.$anonfun$executeCollectResult$1(SparkPlan.scala:506)\n\tat com.databricks.spark.util.FrameProfiler$.record(FrameProfiler.scala:80)\n\tat org.apache.spark.sql.execution.SparkPlan.executeCollectResult(SparkPlan.scala:503)\n\tat org.apache.spark.sql.Dataset.collectResult(Dataset.scala:3458)\n\tat org.apache.spark.sql.Dataset.$anonfun$collectResult$1(Dataset.scala:3449)\n\tat org.apache.spark.sql.Dataset.$anonfun$withAction$3(Dataset.scala:4373)\n\tat org.apache.spark.sql.execution.QueryExecution$.withInternalError(QueryExecution.scala:819)\n\tat org.apache.spark.sql.Dataset.$anonfun$withAction$2(Dataset.scala:4371)\n\tat org.apache.spark.sql.execution.SQLExecution$.$anonfun$withCustomExecutionEnv$8(SQLExecution.scala:233)\n\tat org.apache.spark.sql.execution.SQLExecution$.withSQLConfPropagated(SQLExecution.scala:417)\n\tat org.apache.spark.sql.execution.SQLExecution$.$anonfun$withCustomExecutionEnv$1(SQLExecution.scala:178)\n\tat org.apache.spark.sql.SparkSession.withActive(SparkSession.scala:1038)\n\tat org.apache.spark.sql.execution.SQLExecution$.withCustomExecutionEnv(SQLExecution.scala:128)\n\tat org.apache.spark.sql.execution.SQLExecution$.withNewExecutionId(SQLExecution.scala:367)\n\tat org.apache.spark.sql.Dataset.withAction(Dataset.scala:4371)\n\tat org.apache.spark.sql.Dataset.collectResult(Dataset.scala:3448)\n\tat com.databricks.backend.daemon.driver.OutputAggregator$.withOutputAggregation0(OutputAggregator.scala:267)\n\tat com.databricks.backend.daemon.driver.OutputAggregator$.withOutputAggregation(OutputAggregator.scala:101)\n\tat com.databricks.backend.daemon.driver.PythonDriverLocalBase.generateTableResult(PythonDriverLocalBase.scala:723)\n\tat com.databricks.backend.daemon.driver.JupyterDriverLocal.computeListResultsItem(JupyterDriverLocal.scala:863)\n\tat com.databricks.backend.daemon.driver.JupyterDriverLocal$JupyterEntryPoint.addCustomDisplayData(JupyterDriverLocal.scala:268)\n\tat sun.reflect.GeneratedMethodAccessor829.invoke(Unknown Source)\n\tat sun.reflect.DelegatingMethodAccessorImpl.invoke(DelegatingMethodAccessorImpl.java:43)\n\tat java.lang.reflect.Method.invoke(Method.java:498)\n\tat py4j.reflection.MethodInvoker.invoke(MethodInvoker.java:244)\n\tat py4j.reflection.ReflectionEngine.invoke(ReflectionEngine.java:380)\n\tat py4j.Gateway.invoke(Gateway.java:306)\n\tat py4j.commands.AbstractCommand.invokeMethod(AbstractCommand.java:132)\n\tat py4j.commands.CallCommand.execute(CallCommand.java:79)\n\tat py4j.ClientServerConnection.waitForCommands(ClientServerConnection.java:195)\n\tat py4j.ClientServerConnection.run(ClientServerConnection.java:115)\n\tat java.lang.Thread.run(Thread.java:750)\nCaused by: org.apache.spark.SparkUpgradeException: [INCONSISTENT_BEHAVIOR_CROSS_VERSION.PARSE_DATETIME_BY_NEW_PARSER] You may get a different result due to the upgrading to Spark >= 3.0:\nFail to parse '07-14-2022  20:15:39' in the new parser. You can set \"spark.sql.legacy.timeParserPolicy\" to \"LEGACY\" to restore the behavior before Spark 3.0, or set to \"CORRECTED\" and treat it as an invalid datetime string.\n\tat org.apache.spark.sql.errors.QueryExecutionErrors$.failToParseDateTimeInNewParserError(QueryExecutionErrors.scala:1512)\n\tat org.apache.spark.sql.catalyst.util.DateTimeFormatterHelper$$anonfun$checkParsedDiff$1.applyOrElse(DateTimeFormatterHelper.scala:148)\n\tat org.apache.spark.sql.catalyst.util.DateTimeFormatterHelper$$anonfun$checkParsedDiff$1.applyOrElse(DateTimeFormatterHelper.scala:141)\n\tat scala.runtime.AbstractPartialFunction.apply(AbstractPartialFunction.scala:38)\n\tat org.apache.spark.sql.catalyst.util.Iso8601TimestampFormatter.parse(TimestampFormatter.scala:176)\n\tat org.apache.spark.sql.catalyst.expressions.GeneratedClass$GeneratedIteratorForCodegenStage1.processNext(Unknown Source)\n\tat org.apache.spark.sql.execution.BufferedRowIterator.hasNext(BufferedRowIterator.java:43)\n\tat org.apache.spark.sql.execution.WholeStageCodegenExec$$anon$1.hasNext(WholeStageCodegenExec.scala:761)\n\tat org.apache.spark.sql.execution.collect.UnsafeRowBatchUtils$.encodeUnsafeRows(UnsafeRowBatchUtils.scala:82)\n\tat org.apache.spark.sql.execution.collect.Collector.$anonfun$processFunc$1(Collector.scala:208)\n\tat org.apache.spark.scheduler.ResultTask.$anonfun$runTask$3(ResultTask.scala:75)\n\tat com.databricks.spark.util.ExecutorFrameProfiler$.record(ExecutorFrameProfiler.scala:110)\n\tat org.apache.spark.scheduler.ResultTask.$anonfun$runTask$1(ResultTask.scala:75)\n\tat com.databricks.spark.util.ExecutorFrameProfiler$.record(ExecutorFrameProfiler.scala:110)\n\tat org.apache.spark.scheduler.ResultTask.runTask(ResultTask.scala:55)\n\tat org.apache.spark.scheduler.Task.doRunTask(Task.scala:179)\n\tat org.apache.spark.scheduler.Task.$anonfun$run$5(Task.scala:142)\n\tat com.databricks.unity.EmptyHandle$.runWithAndClose(UCSHandle.scala:125)\n\tat org.apache.spark.scheduler.Task.$anonfun$run$1(Task.scala:142)\n\tat com.databricks.spark.util.ExecutorFrameProfiler$.record(ExecutorFrameProfiler.scala:110)\n\tat org.apache.spark.scheduler.Task.run(Task.scala:97)\n\tat org.apache.spark.executor.Executor$TaskRunner.$anonfun$run$13(Executor.scala:904)\n\tat org.apache.spark.util.Utils$.tryWithSafeFinally(Utils.scala:1740)\n\tat org.apache.spark.executor.Executor$TaskRunner.$anonfun$run$4(Executor.scala:907)\n\tat scala.runtime.java8.JFunction0$mcV$sp.apply(JFunction0$mcV$sp.java:23)\n\tat com.databricks.spark.util.ExecutorFrameProfiler$.record(ExecutorFrameProfiler.scala:110)\n\tat org.apache.spark.executor.Executor$TaskRunner.run(Executor.scala:761)\n\tat java.util.concurrent.ThreadPoolExecutor.runWorker(ThreadPoolExecutor.java:1149)\n\tat java.util.concurrent.ThreadPoolExecutor$Worker.run(ThreadPoolExecutor.java:624)\n\t... 1 more\nCaused by: java.time.format.DateTimeParseException: Text '07-14-2022  20:15:39' could not be parsed at index 11\n\tat java.time.format.DateTimeFormatter.parseResolved0(DateTimeFormatter.java:1949)\n\tat java.time.format.DateTimeFormatter.parse(DateTimeFormatter.java:1777)\n\tat org.apache.spark.sql.catalyst.util.Iso8601TimestampFormatter.parse(TimestampFormatter.scala:168)\n\t... 25 more\n",
       "errorSummary": "SparkUpgradeException: [INCONSISTENT_BEHAVIOR_CROSS_VERSION.PARSE_DATETIME_BY_NEW_PARSER] You may get a different result due to the upgrading to Spark >= 3.0:\nCaused by: DateTimeParseException: Text '07-14-2022  20:15:39' could not be parsed at index 11",
       "errorTraceType": "html",
       "metadata": {},
       "type": "ipynbError"
      }
     },
     "output_type": "display_data"
    }
   ],
   "source": [
    "df2.withColumn('Joining_Date', date_format(from_unixtime(unix_timestamp('Joining_Date', 'MM-dd-yyyy HH:mm')), 'yyyy-MM-dd')).display()"
   ]
  },
  {
   "cell_type": "code",
   "execution_count": 0,
   "metadata": {
    "application/vnd.databricks.v1+cell": {
     "cellMetadata": {
      "byteLimit": 2048000,
      "rowLimit": 10000
     },
     "inputWidgets": {},
     "nuid": "1e966670-8177-47bf-b598-ca48f8fd61d5",
     "showTitle": false,
     "title": ""
    }
   },
   "outputs": [],
   "source": [
    "df1  = df2.withColumn('date',split(col('Joining_Date'),' ').getItem(0)).withColumn(\"date1\", to_date(col(\"date\"),'dd-MM-yyyy'))"
   ]
  },
  {
   "cell_type": "code",
   "execution_count": 0,
   "metadata": {
    "application/vnd.databricks.v1+cell": {
     "cellMetadata": {
      "byteLimit": 2048000,
      "rowLimit": 10000
     },
     "inputWidgets": {},
     "nuid": "0ea7012f-5fbc-45dd-96d8-fea34ff8f528",
     "showTitle": false,
     "title": ""
    }
   },
   "outputs": [
    {
     "output_type": "display_data",
     "data": {
      "text/html": [
       "<style scoped>\n",
       "  .table-result-container {\n",
       "    max-height: 300px;\n",
       "    overflow: auto;\n",
       "  }\n",
       "  table, th, td {\n",
       "    border: 1px solid black;\n",
       "    border-collapse: collapse;\n",
       "  }\n",
       "  th, td {\n",
       "    padding: 5px;\n",
       "  }\n",
       "  th {\n",
       "    text-align: left;\n",
       "  }\n",
       "</style><div class='table-result-container'><table class='table-result'><thead style='background-color: white'><tr><th>Customer Id</th><th>Name</th><th>Email Id</th><th>address</th><th>gender</th><th>age</th><th>Joining_Date</th><th>registered</th><th>order ID</th><th>orders</th><th>spent</th><th>job</th><th>hobbies</th><th>is_married</th><th>date</th><th>date1</th></tr></thead><tbody><tr><td>amxjo131</td><td>Joseph Rice</td><td>josephrice131@slingacademy.com</td><td>91773 Miller Shoal Diaztown, FL 38841</td><td>male</td><td>43</td><td>07-12-2022 20:15</td><td>05-05-2019</td><td>null</td><td>7</td><td>568.29</td><td>Artist</td><td>Playing sports</td><td>FALSE</td><td>07-12-2022</td><td>2022-12-07</td></tr><tr><td>amxga386</td><td>Gary Moore</td><td>garymoore386@slingacademy.com</td><td>6450 John Lodge Territon, KY 95945</td><td>male</td><td>71</td><td>07-12-2021 20:15</td><td>20-05-2020</td><td>null</td><td>11</td><td>568.92</td><td>Artist</td><td>Swimming</td><td>TRUE</td><td>07-12-2021</td><td>2021-12-07</td></tr><tr><td>amxj944</td><td>John Walker</td><td>johnwalker944@slingacademy.com</td><td>27265 Murray Island Kevinfort, PA 63231</td><td>male</td><td>44</td><td>07-12-2022 20:15</td><td>04-04-2020</td><td>null</td><td>11</td><td>497.12</td><td>Clerk</td><td>Painting</td><td>FALSE</td><td>07-12-2022</td><td>2022-12-07</td></tr><tr><td>amxer176</td><td>Eric Carter</td><td>ericcarter176@slingacademy.com</td><td>USNS Knight FPO AA 76532</td><td>male</td><td>38</td><td>07-12-2022 20:15</td><td>30-01-2019</td><td>null</td><td>17</td><td>834.6</td><td>Butcher</td><td>Playing musical instruments</td><td>FALSE</td><td>07-12-2022</td><td>2022-12-07</td></tr><tr><td>amxwi427</td><td>William Jackson</td><td>williamjackson427@slingacademy.com</td><td>170 Jackson Loaf Kristenland, AS 48876</td><td>male</td><td>58</td><td>10-12-2022 20:15</td><td>01-07-2022</td><td>null</td><td>14</td><td>151.59</td><td>Engineer</td><td>Reading</td><td>FALSE</td><td>10-12-2022</td><td>2022-12-10</td></tr><tr><td>amxni228</td><td>Nicole Jones</td><td>nicolejones228@slingacademy.com</td><td>14354 Baker Harbor Apt. 017 Ericville, HI 11192</td><td>female</td><td>33</td><td>07-12-2022 20:15</td><td>07-08-2021</td><td>null</td><td>19</td><td>33.17</td><td>Unemployed</td><td>Running</td><td>TRUE</td><td>07-12-2022</td><td>2022-12-07</td></tr><tr><td>amxda980</td><td>David Davis</td><td>daviddavis980@slingacademy.com</td><td>021 Katherine Mall Jameston, DC 24685</td><td>male</td><td>59</td><td>07-12-2022 20:15</td><td>16-06-2022</td><td>null</td><td>9</td><td>970.96</td><td>Doctor</td><td>Playing sports</td><td>FALSE</td><td>07-12-2022</td><td>2022-12-07</td></tr><tr><td>amxja889</td><td>Jason Montgomery</td><td>jasonmontgomery889@slingacademy.com</td><td>14657 Scott Loop Apt. 735 Port Ashley, NH 34470</td><td>male</td><td>58</td><td>07-12-2023 20:15</td><td>13-11-2021</td><td>null</td><td>12</td><td>676.2</td><td>Waitress</td><td>Collecting</td><td>FALSE</td><td>07-12-2023</td><td>2023-12-07</td></tr><tr><td>amxke695</td><td>Kent Weaver</td><td>kentweaver695@slingacademy.com</td><td>6644 Mitchell Burg Victorhaven, KS 66356</td><td>male</td><td>61</td><td>07-01-2022 20:15</td><td>11-06-2023</td><td>null</td><td>1</td><td>674.37</td><td>Clerk</td><td>Hiking</td><td>FALSE</td><td>07-01-2022</td><td>2022-01-07</td></tr><tr><td>amxda573</td><td>Darrell Dillon</td><td>darrelldillon573@slingacademy.com</td><td>PSC 7267, Box 9911 APO AE 49343</td><td>male</td><td>50</td><td>07-0-2022 20:15</td><td>13-09-2022</td><td>null</td><td>12</td><td>750.72</td><td>Dentist</td><td>Watching movies</td><td>FALSE</td><td>07-0-2022</td><td>null</td></tr><tr><td>amxja322</td><td>Jacqueline Wang</td><td>jacquelinewang322@slingacademy.com</td><td>16963 Stewart Curve Suite 27 South Cameron, ND 25136</td><td>female</td><td>22</td><td>07-12-2022 20:15</td><td>08-02-2023</td><td>null</td><td>12</td><td>962.47</td><td>Housewife</td><td>Collecting</td><td>FALSE</td><td>07-12-2022</td><td>2022-12-07</td></tr><tr><td>amxjo185</td><td>Jodi Gonzalez</td><td>jodigonzalez185@slingacademy.com</td><td>378 Johnson Oval South Stacie, RI 76332</td><td>female</td><td>69</td><td>07-12-2022 20:15</td><td>25-06-2021</td><td>null</td><td>12</td><td>68.67</td><td>Baker</td><td>Photography</td><td>FALSE</td><td>07-12-2022</td><td>2022-12-07</td></tr><tr><td>amxom769</td><td>Omar Martin</td><td>omarmartin769@slingacademy.com</td><td>Unit 9103 Box 4771 DPO AA 16592</td><td>male</td><td>28</td><td>07-12-2022 20:15</td><td>28-05-2023</td><td>null</td><td>3</td><td>162.58</td><td>Doctor</td><td>Gardening</td><td>TRUE</td><td>07-12-2022</td><td>2022-12-07</td></tr><tr><td>amxni473</td><td>Nicole Lara</td><td>nicolelara473@slingacademy.com</td><td>9822 Lisa Courts Johnhaven, IL 80438</td><td>female</td><td>77</td><td>07-01-2022 20:15</td><td>03-03-2023</td><td>null</td><td>17</td><td>309.81</td><td>Janitor</td><td>Hiking</td><td>TRUE</td><td>07-01-2022</td><td>2022-01-07</td></tr><tr><td>amxja753</td><td>Jason Brown</td><td>jasonbrown753@slingacademy.com</td><td>7310 Romero Summit East Scotttown, DC 53183</td><td>male</td><td>63</td><td>07-14-2022  20:15:39</td><td>05-12-2022</td><td>null</td><td>13</td><td>763.27</td><td>Lawyer</td><td>Fishing</td><td>TRUE</td><td>07-14-2022</td><td>null</td></tr><tr><td>amxda257</td><td>David Benson</td><td>davidbenson257@slingacademy.com</td><td>444 Derek Summit Lisaborough, WA 20685</td><td>male</td><td>61</td><td>07-12-2022 20:15</td><td>15-04-2022</td><td>null</td><td>17</td><td>111.11</td><td>Lawyer</td><td>Meditation</td><td>TRUE</td><td>07-12-2022</td><td>2022-12-07</td></tr><tr><td>amxki513</td><td>Kimberly Mora</td><td>kimberlymora513@slingacademy.com</td><td>7679 Perry Square West Amybury, RI 15144</td><td>female</td><td>34</td><td>07-12-2022 20:15</td><td>19-05-2019</td><td>null</td><td>10</td><td>208.46</td><td>Farmer</td><td>Collecting</td><td>FALSE</td><td>07-12-2022</td><td>2022-12-07</td></tr><tr><td>amxer904</td><td>Erik Macias</td><td>erikmacias904@wingacademy.com</td><td>568 Christopher Tunnel Toddburgh, DE 86966</td><td>male</td><td>25</td><td>07-12-2022 20:15</td><td>18-04-2020</td><td>null</td><td>8</td><td>439.53</td><td>Accountant</td><td>Fishing</td><td>FALSE</td><td>07-12-2022</td><td>2022-12-07</td></tr><tr><td>amxja681</td><td>James Johnson</td><td>jamesjohnson681@wingacademy.com</td><td>19870 Sean Parkway North Jamesfurt, NC 28950</td><td>male</td><td>67</td><td>07-08-2022 20:15</td><td>17-02-2019</td><td>null</td><td>5</td><td>394.95</td><td>Security Guard</td><td>Watching movies</td><td>FALSE</td><td>07-08-2022</td><td>2022-08-07</td></tr><tr><td>amxde324</td><td>Derek Peterson</td><td>derekpeterson324@wingacademy.com</td><td>70830 Jonathan Pine Wilcoxburgh, MI 38265</td><td>male</td><td>36</td><td>07-12-2022 20:15</td><td>15-12-2020</td><td>null</td><td>2</td><td>153.8</td><td>Architect</td><td>Photography</td><td>TRUE</td><td>07-12-2022</td><td>2022-12-07</td></tr><tr><td>amxdi438</td><td>Diane Henson</td><td>dianehenson438@wingacademy.com</td><td>86382 Baker Ports Apt. 074 Cookfurt, NM 54313</td><td>female</td><td>74</td><td>07-12-2022 20:15</td><td>21-03-2020</td><td>null</td><td>19</td><td>62.52</td><td>Butcher</td><td>Playing musical instruments</td><td>FALSE</td><td>07-12-2022</td><td>2022-12-07</td></tr><tr><td>amxco721</td><td>Cody Lyons</td><td>codylyons721@wingacademy.com</td><td>60971 Carrillo Square Suite 141 New Kimberlybury, AS 02128</td><td>male</td><td>47</td><td>07-12-2022 20:15</td><td>25-11-2019</td><td>null</td><td>14</td><td>43.17</td><td>Baker</td><td>Hunting</td><td>FALSE</td><td>07-12-2022</td><td>2022-12-07</td></tr><tr><td>amxma249</td><td>Margaret Hardy</td><td>margarethardy249@wingacademy.com</td><td>2900 Sandra Villages Apt. 985 Phillipsstad, NH 19830</td><td>female</td><td>25</td><td>07-12-2022 20:15</td><td>17-07-2021</td><td>null</td><td>9</td><td>455.27</td><td>Barber</td><td>Other</td><td>FALSE</td><td>07-12-2022</td><td>2022-12-07</td></tr><tr><td>amxar881</td><td>Arthur Hayes</td><td>arthurhayes881@wingacademy.com</td><td>353 Elizabeth Forest Deannachester, NM 66952</td><td>male</td><td>75</td><td>07-15-2022  20:15:39</td><td>01-04-2021</td><td>null</td><td>6</td><td>749.78</td><td>Chef</td><td>Sewing</td><td>FALSE</td><td>07-15-2022</td><td>null</td></tr><tr><td>amxra702</td><td>Raymond Taylor</td><td>raymondtaylor702@wingacademy.com</td><td>07867 John Mills Apt. 985 Tinaville, ID 59142</td><td>male</td><td>36</td><td>07-12-2022 20:15</td><td>24-09-2021</td><td>null</td><td>6</td><td>125.18</td><td>Butcher</td><td>Playing musical instruments</td><td>FALSE</td><td>07-12-2022</td><td>2022-12-07</td></tr><tr><td>amxti476</td><td>Tina Moore</td><td>tinamoore476@wingacademy.com</td><td>50984 Shelly Pass Port Nicholas, SC 48629</td><td>female</td><td>34</td><td>07-12-2022 20:15</td><td>15-07-2020</td><td>null</td><td>17</td><td>888.53</td><td>Chef</td><td>Running</td><td>FALSE</td><td>07-12-2022</td><td>2022-12-07</td></tr><tr><td>amxky170</td><td>Kylie White</td><td>kyliewhite170@wingacademy.com</td><td>5004 Christine Falls Suite 217 Jasonburgh, NJ 75688</td><td>female</td><td>63</td><td>07-12-2022 20:15</td><td>03-02-2020</td><td>null</td><td>6</td><td>872.18</td><td>Janitor</td><td>Reading</td><td>TRUE</td><td>07-12-2022</td><td>2022-12-07</td></tr><tr><td>amxjo648</td><td>Jonathan Manning</td><td>jonathanmanning648@wingacademy.com</td><td>1501 Gregory Glens Suite 940 Stephensstad, GU 55206</td><td>male</td><td>30</td><td>07-12-2022 20:15</td><td>21-01-2022</td><td>null</td><td>0</td><td>178.54</td><td>Librarian</td><td>Playing sports</td><td>FALSE</td><td>07-12-2022</td><td>2022-12-07</td></tr><tr><td>amxan256</td><td>Angela Bryant</td><td>angelabryant256@wingacademy.com</td><td>01454 Christopher Turnpike North Ryanstad, MI 36226</td><td>female</td><td>23</td><td>07-12-2022 20:15</td><td>11-09-2019</td><td>null</td><td>3</td><td>525.2</td><td>Politician</td><td>Cycling</td><td>FALSE</td><td>07-12-2022</td><td>2022-12-07</td></tr></tbody></table></div>"
      ]
     },
     "metadata": {
      "application/vnd.databricks.v1+output": {
       "addedWidgets": {},
       "aggData": [],
       "aggError": "",
       "aggOverflow": false,
       "aggSchema": [],
       "aggSeriesLimitReached": false,
       "aggType": "",
       "arguments": {},
       "columnCustomDisplayInfos": {},
       "data": [
        [
         "amxjo131",
         "Joseph Rice",
         "josephrice131@slingacademy.com",
         "91773 Miller Shoal Diaztown, FL 38841",
         "male",
         "43",
         "07-12-2022 20:15",
         "05-05-2019",
         null,
         "7",
         "568.29",
         "Artist",
         "Playing sports",
         "FALSE",
         "07-12-2022",
         "2022-12-07"
        ],
        [
         "amxga386",
         "Gary Moore",
         "garymoore386@slingacademy.com",
         "6450 John Lodge Territon, KY 95945",
         "male",
         "71",
         "07-12-2021 20:15",
         "20-05-2020",
         null,
         "11",
         "568.92",
         "Artist",
         "Swimming",
         "TRUE",
         "07-12-2021",
         "2021-12-07"
        ],
        [
         "amxj944",
         "John Walker",
         "johnwalker944@slingacademy.com",
         "27265 Murray Island Kevinfort, PA 63231",
         "male",
         "44",
         "07-12-2022 20:15",
         "04-04-2020",
         null,
         "11",
         "497.12",
         "Clerk",
         "Painting",
         "FALSE",
         "07-12-2022",
         "2022-12-07"
        ],
        [
         "amxer176",
         "Eric Carter",
         "ericcarter176@slingacademy.com",
         "USNS Knight FPO AA 76532",
         "male",
         "38",
         "07-12-2022 20:15",
         "30-01-2019",
         null,
         "17",
         "834.6",
         "Butcher",
         "Playing musical instruments",
         "FALSE",
         "07-12-2022",
         "2022-12-07"
        ],
        [
         "amxwi427",
         "William Jackson",
         "williamjackson427@slingacademy.com",
         "170 Jackson Loaf Kristenland, AS 48876",
         "male",
         "58",
         "10-12-2022 20:15",
         "01-07-2022",
         null,
         "14",
         "151.59",
         "Engineer",
         "Reading",
         "FALSE",
         "10-12-2022",
         "2022-12-10"
        ],
        [
         "amxni228",
         "Nicole Jones",
         "nicolejones228@slingacademy.com",
         "14354 Baker Harbor Apt. 017 Ericville, HI 11192",
         "female",
         "33",
         "07-12-2022 20:15",
         "07-08-2021",
         null,
         "19",
         "33.17",
         "Unemployed",
         "Running",
         "TRUE",
         "07-12-2022",
         "2022-12-07"
        ],
        [
         "amxda980",
         "David Davis",
         "daviddavis980@slingacademy.com",
         "021 Katherine Mall Jameston, DC 24685",
         "male",
         "59",
         "07-12-2022 20:15",
         "16-06-2022",
         null,
         "9",
         "970.96",
         "Doctor",
         "Playing sports",
         "FALSE",
         "07-12-2022",
         "2022-12-07"
        ],
        [
         "amxja889",
         "Jason Montgomery",
         "jasonmontgomery889@slingacademy.com",
         "14657 Scott Loop Apt. 735 Port Ashley, NH 34470",
         "male",
         "58",
         "07-12-2023 20:15",
         "13-11-2021",
         null,
         "12",
         "676.2",
         "Waitress",
         "Collecting",
         "FALSE",
         "07-12-2023",
         "2023-12-07"
        ],
        [
         "amxke695",
         "Kent Weaver",
         "kentweaver695@slingacademy.com",
         "6644 Mitchell Burg Victorhaven, KS 66356",
         "male",
         "61",
         "07-01-2022 20:15",
         "11-06-2023",
         null,
         "1",
         "674.37",
         "Clerk",
         "Hiking",
         "FALSE",
         "07-01-2022",
         "2022-01-07"
        ],
        [
         "amxda573",
         "Darrell Dillon",
         "darrelldillon573@slingacademy.com",
         "PSC 7267, Box 9911 APO AE 49343",
         "male",
         "50",
         "07-0-2022 20:15",
         "13-09-2022",
         null,
         "12",
         "750.72",
         "Dentist",
         "Watching movies",
         "FALSE",
         "07-0-2022",
         null
        ],
        [
         "amxja322",
         "Jacqueline Wang",
         "jacquelinewang322@slingacademy.com",
         "16963 Stewart Curve Suite 27 South Cameron, ND 25136",
         "female",
         "22",
         "07-12-2022 20:15",
         "08-02-2023",
         null,
         "12",
         "962.47",
         "Housewife",
         "Collecting",
         "FALSE",
         "07-12-2022",
         "2022-12-07"
        ],
        [
         "amxjo185",
         "Jodi Gonzalez",
         "jodigonzalez185@slingacademy.com",
         "378 Johnson Oval South Stacie, RI 76332",
         "female",
         "69",
         "07-12-2022 20:15",
         "25-06-2021",
         null,
         "12",
         "68.67",
         "Baker",
         "Photography",
         "FALSE",
         "07-12-2022",
         "2022-12-07"
        ],
        [
         "amxom769",
         "Omar Martin",
         "omarmartin769@slingacademy.com",
         "Unit 9103 Box 4771 DPO AA 16592",
         "male",
         "28",
         "07-12-2022 20:15",
         "28-05-2023",
         null,
         "3",
         "162.58",
         "Doctor",
         "Gardening",
         "TRUE",
         "07-12-2022",
         "2022-12-07"
        ],
        [
         "amxni473",
         "Nicole Lara",
         "nicolelara473@slingacademy.com",
         "9822 Lisa Courts Johnhaven, IL 80438",
         "female",
         "77",
         "07-01-2022 20:15",
         "03-03-2023",
         null,
         "17",
         "309.81",
         "Janitor",
         "Hiking",
         "TRUE",
         "07-01-2022",
         "2022-01-07"
        ],
        [
         "amxja753",
         "Jason Brown",
         "jasonbrown753@slingacademy.com",
         "7310 Romero Summit East Scotttown, DC 53183",
         "male",
         "63",
         "07-14-2022  20:15:39",
         "05-12-2022",
         null,
         "13",
         "763.27",
         "Lawyer",
         "Fishing",
         "TRUE",
         "07-14-2022",
         null
        ],
        [
         "amxda257",
         "David Benson",
         "davidbenson257@slingacademy.com",
         "444 Derek Summit Lisaborough, WA 20685",
         "male",
         "61",
         "07-12-2022 20:15",
         "15-04-2022",
         null,
         "17",
         "111.11",
         "Lawyer",
         "Meditation",
         "TRUE",
         "07-12-2022",
         "2022-12-07"
        ],
        [
         "amxki513",
         "Kimberly Mora",
         "kimberlymora513@slingacademy.com",
         "7679 Perry Square West Amybury, RI 15144",
         "female",
         "34",
         "07-12-2022 20:15",
         "19-05-2019",
         null,
         "10",
         "208.46",
         "Farmer",
         "Collecting",
         "FALSE",
         "07-12-2022",
         "2022-12-07"
        ],
        [
         "amxer904",
         "Erik Macias",
         "erikmacias904@wingacademy.com",
         "568 Christopher Tunnel Toddburgh, DE 86966",
         "male",
         "25",
         "07-12-2022 20:15",
         "18-04-2020",
         null,
         "8",
         "439.53",
         "Accountant",
         "Fishing",
         "FALSE",
         "07-12-2022",
         "2022-12-07"
        ],
        [
         "amxja681",
         "James Johnson",
         "jamesjohnson681@wingacademy.com",
         "19870 Sean Parkway North Jamesfurt, NC 28950",
         "male",
         "67",
         "07-08-2022 20:15",
         "17-02-2019",
         null,
         "5",
         "394.95",
         "Security Guard",
         "Watching movies",
         "FALSE",
         "07-08-2022",
         "2022-08-07"
        ],
        [
         "amxde324",
         "Derek Peterson",
         "derekpeterson324@wingacademy.com",
         "70830 Jonathan Pine Wilcoxburgh, MI 38265",
         "male",
         "36",
         "07-12-2022 20:15",
         "15-12-2020",
         null,
         "2",
         "153.8",
         "Architect",
         "Photography",
         "TRUE",
         "07-12-2022",
         "2022-12-07"
        ],
        [
         "amxdi438",
         "Diane Henson",
         "dianehenson438@wingacademy.com",
         "86382 Baker Ports Apt. 074 Cookfurt, NM 54313",
         "female",
         "74",
         "07-12-2022 20:15",
         "21-03-2020",
         null,
         "19",
         "62.52",
         "Butcher",
         "Playing musical instruments",
         "FALSE",
         "07-12-2022",
         "2022-12-07"
        ],
        [
         "amxco721",
         "Cody Lyons",
         "codylyons721@wingacademy.com",
         "60971 Carrillo Square Suite 141 New Kimberlybury, AS 02128",
         "male",
         "47",
         "07-12-2022 20:15",
         "25-11-2019",
         null,
         "14",
         "43.17",
         "Baker",
         "Hunting",
         "FALSE",
         "07-12-2022",
         "2022-12-07"
        ],
        [
         "amxma249",
         "Margaret Hardy",
         "margarethardy249@wingacademy.com",
         "2900 Sandra Villages Apt. 985 Phillipsstad, NH 19830",
         "female",
         "25",
         "07-12-2022 20:15",
         "17-07-2021",
         null,
         "9",
         "455.27",
         "Barber",
         "Other",
         "FALSE",
         "07-12-2022",
         "2022-12-07"
        ],
        [
         "amxar881",
         "Arthur Hayes",
         "arthurhayes881@wingacademy.com",
         "353 Elizabeth Forest Deannachester, NM 66952",
         "male",
         "75",
         "07-15-2022  20:15:39",
         "01-04-2021",
         null,
         "6",
         "749.78",
         "Chef",
         "Sewing",
         "FALSE",
         "07-15-2022",
         null
        ],
        [
         "amxra702",
         "Raymond Taylor",
         "raymondtaylor702@wingacademy.com",
         "07867 John Mills Apt. 985 Tinaville, ID 59142",
         "male",
         "36",
         "07-12-2022 20:15",
         "24-09-2021",
         null,
         "6",
         "125.18",
         "Butcher",
         "Playing musical instruments",
         "FALSE",
         "07-12-2022",
         "2022-12-07"
        ],
        [
         "amxti476",
         "Tina Moore",
         "tinamoore476@wingacademy.com",
         "50984 Shelly Pass Port Nicholas, SC 48629",
         "female",
         "34",
         "07-12-2022 20:15",
         "15-07-2020",
         null,
         "17",
         "888.53",
         "Chef",
         "Running",
         "FALSE",
         "07-12-2022",
         "2022-12-07"
        ],
        [
         "amxky170",
         "Kylie White",
         "kyliewhite170@wingacademy.com",
         "5004 Christine Falls Suite 217 Jasonburgh, NJ 75688",
         "female",
         "63",
         "07-12-2022 20:15",
         "03-02-2020",
         null,
         "6",
         "872.18",
         "Janitor",
         "Reading",
         "TRUE",
         "07-12-2022",
         "2022-12-07"
        ],
        [
         "amxjo648",
         "Jonathan Manning",
         "jonathanmanning648@wingacademy.com",
         "1501 Gregory Glens Suite 940 Stephensstad, GU 55206",
         "male",
         "30",
         "07-12-2022 20:15",
         "21-01-2022",
         null,
         "0",
         "178.54",
         "Librarian",
         "Playing sports",
         "FALSE",
         "07-12-2022",
         "2022-12-07"
        ],
        [
         "amxan256",
         "Angela Bryant",
         "angelabryant256@wingacademy.com",
         "01454 Christopher Turnpike North Ryanstad, MI 36226",
         "female",
         "23",
         "07-12-2022 20:15",
         "11-09-2019",
         null,
         "3",
         "525.2",
         "Politician",
         "Cycling",
         "FALSE",
         "07-12-2022",
         "2022-12-07"
        ]
       ],
       "datasetInfos": [],
       "dbfsResultPath": null,
       "isJsonSchema": true,
       "metadata": {},
       "overflow": false,
       "plotOptions": {
        "customPlotOptions": {},
        "displayType": "table",
        "pivotAggregation": null,
        "pivotColumns": null,
        "xColumns": null,
        "yColumns": null
       },
       "removedWidgets": [],
       "schema": [
        {
         "metadata": "{}",
         "name": "Customer Id",
         "type": "\"string\""
        },
        {
         "metadata": "{}",
         "name": "Name",
         "type": "\"string\""
        },
        {
         "metadata": "{}",
         "name": "Email Id",
         "type": "\"string\""
        },
        {
         "metadata": "{}",
         "name": "address",
         "type": "\"string\""
        },
        {
         "metadata": "{}",
         "name": "gender",
         "type": "\"string\""
        },
        {
         "metadata": "{}",
         "name": "age",
         "type": "\"string\""
        },
        {
         "metadata": "{}",
         "name": "Joining_Date",
         "type": "\"string\""
        },
        {
         "metadata": "{}",
         "name": "registered",
         "type": "\"string\""
        },
        {
         "metadata": "{}",
         "name": "order ID",
         "type": "\"string\""
        },
        {
         "metadata": "{}",
         "name": "orders",
         "type": "\"string\""
        },
        {
         "metadata": "{}",
         "name": "spent",
         "type": "\"string\""
        },
        {
         "metadata": "{}",
         "name": "job",
         "type": "\"string\""
        },
        {
         "metadata": "{}",
         "name": "hobbies",
         "type": "\"string\""
        },
        {
         "metadata": "{}",
         "name": "is_married",
         "type": "\"string\""
        },
        {
         "metadata": "{}",
         "name": "date",
         "type": "\"string\""
        },
        {
         "metadata": "{}",
         "name": "date1",
         "type": "\"date\""
        }
       ],
       "type": "table"
      }
     },
     "output_type": "display_data"
    }
   ],
   "source": [
    "df1.display()"
   ]
  },
  {
   "cell_type": "code",
   "execution_count": 0,
   "metadata": {
    "application/vnd.databricks.v1+cell": {
     "cellMetadata": {
      "byteLimit": 2048000,
      "rowLimit": 10000
     },
     "inputWidgets": {},
     "nuid": "9b7c8f7d-7350-41ff-82e7-5cf746d7a52b",
     "showTitle": false,
     "title": ""
    }
   },
   "outputs": [
    {
     "output_type": "display_data",
     "data": {
      "text/html": [
       "<style scoped>\n",
       "  .table-result-container {\n",
       "    max-height: 300px;\n",
       "    overflow: auto;\n",
       "  }\n",
       "  table, th, td {\n",
       "    border: 1px solid black;\n",
       "    border-collapse: collapse;\n",
       "  }\n",
       "  th, td {\n",
       "    padding: 5px;\n",
       "  }\n",
       "  th {\n",
       "    text-align: left;\n",
       "  }\n",
       "</style><div class='table-result-container'><table class='table-result'><thead style='background-color: white'><tr><th>Customer Id</th><th>Name</th><th>Email Id</th><th>address</th><th>gender</th><th>age</th><th>Joining_Date</th><th>registered</th><th>order ID</th><th>orders</th><th>spent</th><th>job</th><th>hobbies</th><th>is_married</th><th>date</th><th>date1</th></tr></thead><tbody><tr><td>amxjo131</td><td>Joseph Rice</td><td>josephrice131@slingacademy.com</td><td>91773 Miller Shoal Diaztown, FL 38841</td><td>male</td><td>43</td><td>07-12-2022 20:15</td><td>05-05-2019</td><td>null</td><td>7</td><td>568.29</td><td>Artist</td><td>Playing sports</td><td>FALSE</td><td>2022-12-07</td><td>2022-12-07</td></tr><tr><td>amxga386</td><td>Gary Moore</td><td>garymoore386@slingacademy.com</td><td>6450 John Lodge Territon, KY 95945</td><td>male</td><td>71</td><td>07-12-2021 20:15</td><td>20-05-2020</td><td>null</td><td>11</td><td>568.92</td><td>Artist</td><td>Swimming</td><td>TRUE</td><td>2021-12-07</td><td>2021-12-07</td></tr><tr><td>amxj944</td><td>John Walker</td><td>johnwalker944@slingacademy.com</td><td>27265 Murray Island Kevinfort, PA 63231</td><td>male</td><td>44</td><td>07-12-2022 20:15</td><td>04-04-2020</td><td>null</td><td>11</td><td>497.12</td><td>Clerk</td><td>Painting</td><td>FALSE</td><td>2022-12-07</td><td>2022-12-07</td></tr><tr><td>amxer176</td><td>Eric Carter</td><td>ericcarter176@slingacademy.com</td><td>USNS Knight FPO AA 76532</td><td>male</td><td>38</td><td>07-12-2022 20:15</td><td>30-01-2019</td><td>null</td><td>17</td><td>834.6</td><td>Butcher</td><td>Playing musical instruments</td><td>FALSE</td><td>2022-12-07</td><td>2022-12-07</td></tr><tr><td>amxwi427</td><td>William Jackson</td><td>williamjackson427@slingacademy.com</td><td>170 Jackson Loaf Kristenland, AS 48876</td><td>male</td><td>58</td><td>10-12-2022 20:15</td><td>01-07-2022</td><td>null</td><td>14</td><td>151.59</td><td>Engineer</td><td>Reading</td><td>FALSE</td><td>2022-12-10</td><td>2022-12-10</td></tr><tr><td>amxni228</td><td>Nicole Jones</td><td>nicolejones228@slingacademy.com</td><td>14354 Baker Harbor Apt. 017 Ericville, HI 11192</td><td>female</td><td>33</td><td>07-12-2022 20:15</td><td>07-08-2021</td><td>null</td><td>19</td><td>33.17</td><td>Unemployed</td><td>Running</td><td>TRUE</td><td>2022-12-07</td><td>2022-12-07</td></tr><tr><td>amxda980</td><td>David Davis</td><td>daviddavis980@slingacademy.com</td><td>021 Katherine Mall Jameston, DC 24685</td><td>male</td><td>59</td><td>07-12-2022 20:15</td><td>16-06-2022</td><td>null</td><td>9</td><td>970.96</td><td>Doctor</td><td>Playing sports</td><td>FALSE</td><td>2022-12-07</td><td>2022-12-07</td></tr><tr><td>amxja889</td><td>Jason Montgomery</td><td>jasonmontgomery889@slingacademy.com</td><td>14657 Scott Loop Apt. 735 Port Ashley, NH 34470</td><td>male</td><td>58</td><td>07-12-2023 20:15</td><td>13-11-2021</td><td>null</td><td>12</td><td>676.2</td><td>Waitress</td><td>Collecting</td><td>FALSE</td><td>2023-12-07</td><td>2023-12-07</td></tr><tr><td>amxke695</td><td>Kent Weaver</td><td>kentweaver695@slingacademy.com</td><td>6644 Mitchell Burg Victorhaven, KS 66356</td><td>male</td><td>61</td><td>07-01-2022 20:15</td><td>11-06-2023</td><td>null</td><td>1</td><td>674.37</td><td>Clerk</td><td>Hiking</td><td>FALSE</td><td>2022-01-07</td><td>2022-01-07</td></tr><tr><td>amxda573</td><td>Darrell Dillon</td><td>darrelldillon573@slingacademy.com</td><td>PSC 7267, Box 9911 APO AE 49343</td><td>male</td><td>50</td><td>07-0-2022 20:15</td><td>13-09-2022</td><td>null</td><td>12</td><td>750.72</td><td>Dentist</td><td>Watching movies</td><td>FALSE</td><td>null</td><td>null</td></tr><tr><td>amxja322</td><td>Jacqueline Wang</td><td>jacquelinewang322@slingacademy.com</td><td>16963 Stewart Curve Suite 27 South Cameron, ND 25136</td><td>female</td><td>22</td><td>07-12-2022 20:15</td><td>08-02-2023</td><td>null</td><td>12</td><td>962.47</td><td>Housewife</td><td>Collecting</td><td>FALSE</td><td>2022-12-07</td><td>2022-12-07</td></tr><tr><td>amxjo185</td><td>Jodi Gonzalez</td><td>jodigonzalez185@slingacademy.com</td><td>378 Johnson Oval South Stacie, RI 76332</td><td>female</td><td>69</td><td>07-12-2022 20:15</td><td>25-06-2021</td><td>null</td><td>12</td><td>68.67</td><td>Baker</td><td>Photography</td><td>FALSE</td><td>2022-12-07</td><td>2022-12-07</td></tr><tr><td>amxom769</td><td>Omar Martin</td><td>omarmartin769@slingacademy.com</td><td>Unit 9103 Box 4771 DPO AA 16592</td><td>male</td><td>28</td><td>07-12-2022 20:15</td><td>28-05-2023</td><td>null</td><td>3</td><td>162.58</td><td>Doctor</td><td>Gardening</td><td>TRUE</td><td>2022-12-07</td><td>2022-12-07</td></tr><tr><td>amxni473</td><td>Nicole Lara</td><td>nicolelara473@slingacademy.com</td><td>9822 Lisa Courts Johnhaven, IL 80438</td><td>female</td><td>77</td><td>07-01-2022 20:15</td><td>03-03-2023</td><td>null</td><td>17</td><td>309.81</td><td>Janitor</td><td>Hiking</td><td>TRUE</td><td>2022-01-07</td><td>2022-01-07</td></tr><tr><td>amxja753</td><td>Jason Brown</td><td>jasonbrown753@slingacademy.com</td><td>7310 Romero Summit East Scotttown, DC 53183</td><td>male</td><td>63</td><td>07-14-2022  20:15:39</td><td>05-12-2022</td><td>null</td><td>13</td><td>763.27</td><td>Lawyer</td><td>Fishing</td><td>TRUE</td><td>null</td><td>null</td></tr><tr><td>amxda257</td><td>David Benson</td><td>davidbenson257@slingacademy.com</td><td>444 Derek Summit Lisaborough, WA 20685</td><td>male</td><td>61</td><td>07-12-2022 20:15</td><td>15-04-2022</td><td>null</td><td>17</td><td>111.11</td><td>Lawyer</td><td>Meditation</td><td>TRUE</td><td>2022-12-07</td><td>2022-12-07</td></tr><tr><td>amxki513</td><td>Kimberly Mora</td><td>kimberlymora513@slingacademy.com</td><td>7679 Perry Square West Amybury, RI 15144</td><td>female</td><td>34</td><td>07-12-2022 20:15</td><td>19-05-2019</td><td>null</td><td>10</td><td>208.46</td><td>Farmer</td><td>Collecting</td><td>FALSE</td><td>2022-12-07</td><td>2022-12-07</td></tr><tr><td>amxer904</td><td>Erik Macias</td><td>erikmacias904@wingacademy.com</td><td>568 Christopher Tunnel Toddburgh, DE 86966</td><td>male</td><td>25</td><td>07-12-2022 20:15</td><td>18-04-2020</td><td>null</td><td>8</td><td>439.53</td><td>Accountant</td><td>Fishing</td><td>FALSE</td><td>2022-12-07</td><td>2022-12-07</td></tr><tr><td>amxja681</td><td>James Johnson</td><td>jamesjohnson681@wingacademy.com</td><td>19870 Sean Parkway North Jamesfurt, NC 28950</td><td>male</td><td>67</td><td>07-08-2022 20:15</td><td>17-02-2019</td><td>null</td><td>5</td><td>394.95</td><td>Security Guard</td><td>Watching movies</td><td>FALSE</td><td>2022-08-07</td><td>2022-08-07</td></tr><tr><td>amxde324</td><td>Derek Peterson</td><td>derekpeterson324@wingacademy.com</td><td>70830 Jonathan Pine Wilcoxburgh, MI 38265</td><td>male</td><td>36</td><td>07-12-2022 20:15</td><td>15-12-2020</td><td>null</td><td>2</td><td>153.8</td><td>Architect</td><td>Photography</td><td>TRUE</td><td>2022-12-07</td><td>2022-12-07</td></tr><tr><td>amxdi438</td><td>Diane Henson</td><td>dianehenson438@wingacademy.com</td><td>86382 Baker Ports Apt. 074 Cookfurt, NM 54313</td><td>female</td><td>74</td><td>07-12-2022 20:15</td><td>21-03-2020</td><td>null</td><td>19</td><td>62.52</td><td>Butcher</td><td>Playing musical instruments</td><td>FALSE</td><td>2022-12-07</td><td>2022-12-07</td></tr><tr><td>amxco721</td><td>Cody Lyons</td><td>codylyons721@wingacademy.com</td><td>60971 Carrillo Square Suite 141 New Kimberlybury, AS 02128</td><td>male</td><td>47</td><td>07-12-2022 20:15</td><td>25-11-2019</td><td>null</td><td>14</td><td>43.17</td><td>Baker</td><td>Hunting</td><td>FALSE</td><td>2022-12-07</td><td>2022-12-07</td></tr><tr><td>amxma249</td><td>Margaret Hardy</td><td>margarethardy249@wingacademy.com</td><td>2900 Sandra Villages Apt. 985 Phillipsstad, NH 19830</td><td>female</td><td>25</td><td>07-12-2022 20:15</td><td>17-07-2021</td><td>null</td><td>9</td><td>455.27</td><td>Barber</td><td>Other</td><td>FALSE</td><td>2022-12-07</td><td>2022-12-07</td></tr><tr><td>amxar881</td><td>Arthur Hayes</td><td>arthurhayes881@wingacademy.com</td><td>353 Elizabeth Forest Deannachester, NM 66952</td><td>male</td><td>75</td><td>07-15-2022  20:15:39</td><td>01-04-2021</td><td>null</td><td>6</td><td>749.78</td><td>Chef</td><td>Sewing</td><td>FALSE</td><td>null</td><td>null</td></tr><tr><td>amxra702</td><td>Raymond Taylor</td><td>raymondtaylor702@wingacademy.com</td><td>07867 John Mills Apt. 985 Tinaville, ID 59142</td><td>male</td><td>36</td><td>07-12-2022 20:15</td><td>24-09-2021</td><td>null</td><td>6</td><td>125.18</td><td>Butcher</td><td>Playing musical instruments</td><td>FALSE</td><td>2022-12-07</td><td>2022-12-07</td></tr><tr><td>amxti476</td><td>Tina Moore</td><td>tinamoore476@wingacademy.com</td><td>50984 Shelly Pass Port Nicholas, SC 48629</td><td>female</td><td>34</td><td>07-12-2022 20:15</td><td>15-07-2020</td><td>null</td><td>17</td><td>888.53</td><td>Chef</td><td>Running</td><td>FALSE</td><td>2022-12-07</td><td>2022-12-07</td></tr><tr><td>amxky170</td><td>Kylie White</td><td>kyliewhite170@wingacademy.com</td><td>5004 Christine Falls Suite 217 Jasonburgh, NJ 75688</td><td>female</td><td>63</td><td>07-12-2022 20:15</td><td>03-02-2020</td><td>null</td><td>6</td><td>872.18</td><td>Janitor</td><td>Reading</td><td>TRUE</td><td>2022-12-07</td><td>2022-12-07</td></tr><tr><td>amxjo648</td><td>Jonathan Manning</td><td>jonathanmanning648@wingacademy.com</td><td>1501 Gregory Glens Suite 940 Stephensstad, GU 55206</td><td>male</td><td>30</td><td>07-12-2022 20:15</td><td>21-01-2022</td><td>null</td><td>0</td><td>178.54</td><td>Librarian</td><td>Playing sports</td><td>FALSE</td><td>2022-12-07</td><td>2022-12-07</td></tr><tr><td>amxan256</td><td>Angela Bryant</td><td>angelabryant256@wingacademy.com</td><td>01454 Christopher Turnpike North Ryanstad, MI 36226</td><td>female</td><td>23</td><td>07-12-2022 20:15</td><td>11-09-2019</td><td>null</td><td>3</td><td>525.2</td><td>Politician</td><td>Cycling</td><td>FALSE</td><td>2022-12-07</td><td>2022-12-07</td></tr></tbody></table></div>"
      ]
     },
     "metadata": {
      "application/vnd.databricks.v1+output": {
       "addedWidgets": {},
       "aggData": [],
       "aggError": "",
       "aggOverflow": false,
       "aggSchema": [],
       "aggSeriesLimitReached": false,
       "aggType": "",
       "arguments": {},
       "columnCustomDisplayInfos": {},
       "data": [
        [
         "amxjo131",
         "Joseph Rice",
         "josephrice131@slingacademy.com",
         "91773 Miller Shoal Diaztown, FL 38841",
         "male",
         "43",
         "07-12-2022 20:15",
         "05-05-2019",
         null,
         "7",
         "568.29",
         "Artist",
         "Playing sports",
         "FALSE",
         "2022-12-07",
         "2022-12-07"
        ],
        [
         "amxga386",
         "Gary Moore",
         "garymoore386@slingacademy.com",
         "6450 John Lodge Territon, KY 95945",
         "male",
         "71",
         "07-12-2021 20:15",
         "20-05-2020",
         null,
         "11",
         "568.92",
         "Artist",
         "Swimming",
         "TRUE",
         "2021-12-07",
         "2021-12-07"
        ],
        [
         "amxj944",
         "John Walker",
         "johnwalker944@slingacademy.com",
         "27265 Murray Island Kevinfort, PA 63231",
         "male",
         "44",
         "07-12-2022 20:15",
         "04-04-2020",
         null,
         "11",
         "497.12",
         "Clerk",
         "Painting",
         "FALSE",
         "2022-12-07",
         "2022-12-07"
        ],
        [
         "amxer176",
         "Eric Carter",
         "ericcarter176@slingacademy.com",
         "USNS Knight FPO AA 76532",
         "male",
         "38",
         "07-12-2022 20:15",
         "30-01-2019",
         null,
         "17",
         "834.6",
         "Butcher",
         "Playing musical instruments",
         "FALSE",
         "2022-12-07",
         "2022-12-07"
        ],
        [
         "amxwi427",
         "William Jackson",
         "williamjackson427@slingacademy.com",
         "170 Jackson Loaf Kristenland, AS 48876",
         "male",
         "58",
         "10-12-2022 20:15",
         "01-07-2022",
         null,
         "14",
         "151.59",
         "Engineer",
         "Reading",
         "FALSE",
         "2022-12-10",
         "2022-12-10"
        ],
        [
         "amxni228",
         "Nicole Jones",
         "nicolejones228@slingacademy.com",
         "14354 Baker Harbor Apt. 017 Ericville, HI 11192",
         "female",
         "33",
         "07-12-2022 20:15",
         "07-08-2021",
         null,
         "19",
         "33.17",
         "Unemployed",
         "Running",
         "TRUE",
         "2022-12-07",
         "2022-12-07"
        ],
        [
         "amxda980",
         "David Davis",
         "daviddavis980@slingacademy.com",
         "021 Katherine Mall Jameston, DC 24685",
         "male",
         "59",
         "07-12-2022 20:15",
         "16-06-2022",
         null,
         "9",
         "970.96",
         "Doctor",
         "Playing sports",
         "FALSE",
         "2022-12-07",
         "2022-12-07"
        ],
        [
         "amxja889",
         "Jason Montgomery",
         "jasonmontgomery889@slingacademy.com",
         "14657 Scott Loop Apt. 735 Port Ashley, NH 34470",
         "male",
         "58",
         "07-12-2023 20:15",
         "13-11-2021",
         null,
         "12",
         "676.2",
         "Waitress",
         "Collecting",
         "FALSE",
         "2023-12-07",
         "2023-12-07"
        ],
        [
         "amxke695",
         "Kent Weaver",
         "kentweaver695@slingacademy.com",
         "6644 Mitchell Burg Victorhaven, KS 66356",
         "male",
         "61",
         "07-01-2022 20:15",
         "11-06-2023",
         null,
         "1",
         "674.37",
         "Clerk",
         "Hiking",
         "FALSE",
         "2022-01-07",
         "2022-01-07"
        ],
        [
         "amxda573",
         "Darrell Dillon",
         "darrelldillon573@slingacademy.com",
         "PSC 7267, Box 9911 APO AE 49343",
         "male",
         "50",
         "07-0-2022 20:15",
         "13-09-2022",
         null,
         "12",
         "750.72",
         "Dentist",
         "Watching movies",
         "FALSE",
         null,
         null
        ],
        [
         "amxja322",
         "Jacqueline Wang",
         "jacquelinewang322@slingacademy.com",
         "16963 Stewart Curve Suite 27 South Cameron, ND 25136",
         "female",
         "22",
         "07-12-2022 20:15",
         "08-02-2023",
         null,
         "12",
         "962.47",
         "Housewife",
         "Collecting",
         "FALSE",
         "2022-12-07",
         "2022-12-07"
        ],
        [
         "amxjo185",
         "Jodi Gonzalez",
         "jodigonzalez185@slingacademy.com",
         "378 Johnson Oval South Stacie, RI 76332",
         "female",
         "69",
         "07-12-2022 20:15",
         "25-06-2021",
         null,
         "12",
         "68.67",
         "Baker",
         "Photography",
         "FALSE",
         "2022-12-07",
         "2022-12-07"
        ],
        [
         "amxom769",
         "Omar Martin",
         "omarmartin769@slingacademy.com",
         "Unit 9103 Box 4771 DPO AA 16592",
         "male",
         "28",
         "07-12-2022 20:15",
         "28-05-2023",
         null,
         "3",
         "162.58",
         "Doctor",
         "Gardening",
         "TRUE",
         "2022-12-07",
         "2022-12-07"
        ],
        [
         "amxni473",
         "Nicole Lara",
         "nicolelara473@slingacademy.com",
         "9822 Lisa Courts Johnhaven, IL 80438",
         "female",
         "77",
         "07-01-2022 20:15",
         "03-03-2023",
         null,
         "17",
         "309.81",
         "Janitor",
         "Hiking",
         "TRUE",
         "2022-01-07",
         "2022-01-07"
        ],
        [
         "amxja753",
         "Jason Brown",
         "jasonbrown753@slingacademy.com",
         "7310 Romero Summit East Scotttown, DC 53183",
         "male",
         "63",
         "07-14-2022  20:15:39",
         "05-12-2022",
         null,
         "13",
         "763.27",
         "Lawyer",
         "Fishing",
         "TRUE",
         null,
         null
        ],
        [
         "amxda257",
         "David Benson",
         "davidbenson257@slingacademy.com",
         "444 Derek Summit Lisaborough, WA 20685",
         "male",
         "61",
         "07-12-2022 20:15",
         "15-04-2022",
         null,
         "17",
         "111.11",
         "Lawyer",
         "Meditation",
         "TRUE",
         "2022-12-07",
         "2022-12-07"
        ],
        [
         "amxki513",
         "Kimberly Mora",
         "kimberlymora513@slingacademy.com",
         "7679 Perry Square West Amybury, RI 15144",
         "female",
         "34",
         "07-12-2022 20:15",
         "19-05-2019",
         null,
         "10",
         "208.46",
         "Farmer",
         "Collecting",
         "FALSE",
         "2022-12-07",
         "2022-12-07"
        ],
        [
         "amxer904",
         "Erik Macias",
         "erikmacias904@wingacademy.com",
         "568 Christopher Tunnel Toddburgh, DE 86966",
         "male",
         "25",
         "07-12-2022 20:15",
         "18-04-2020",
         null,
         "8",
         "439.53",
         "Accountant",
         "Fishing",
         "FALSE",
         "2022-12-07",
         "2022-12-07"
        ],
        [
         "amxja681",
         "James Johnson",
         "jamesjohnson681@wingacademy.com",
         "19870 Sean Parkway North Jamesfurt, NC 28950",
         "male",
         "67",
         "07-08-2022 20:15",
         "17-02-2019",
         null,
         "5",
         "394.95",
         "Security Guard",
         "Watching movies",
         "FALSE",
         "2022-08-07",
         "2022-08-07"
        ],
        [
         "amxde324",
         "Derek Peterson",
         "derekpeterson324@wingacademy.com",
         "70830 Jonathan Pine Wilcoxburgh, MI 38265",
         "male",
         "36",
         "07-12-2022 20:15",
         "15-12-2020",
         null,
         "2",
         "153.8",
         "Architect",
         "Photography",
         "TRUE",
         "2022-12-07",
         "2022-12-07"
        ],
        [
         "amxdi438",
         "Diane Henson",
         "dianehenson438@wingacademy.com",
         "86382 Baker Ports Apt. 074 Cookfurt, NM 54313",
         "female",
         "74",
         "07-12-2022 20:15",
         "21-03-2020",
         null,
         "19",
         "62.52",
         "Butcher",
         "Playing musical instruments",
         "FALSE",
         "2022-12-07",
         "2022-12-07"
        ],
        [
         "amxco721",
         "Cody Lyons",
         "codylyons721@wingacademy.com",
         "60971 Carrillo Square Suite 141 New Kimberlybury, AS 02128",
         "male",
         "47",
         "07-12-2022 20:15",
         "25-11-2019",
         null,
         "14",
         "43.17",
         "Baker",
         "Hunting",
         "FALSE",
         "2022-12-07",
         "2022-12-07"
        ],
        [
         "amxma249",
         "Margaret Hardy",
         "margarethardy249@wingacademy.com",
         "2900 Sandra Villages Apt. 985 Phillipsstad, NH 19830",
         "female",
         "25",
         "07-12-2022 20:15",
         "17-07-2021",
         null,
         "9",
         "455.27",
         "Barber",
         "Other",
         "FALSE",
         "2022-12-07",
         "2022-12-07"
        ],
        [
         "amxar881",
         "Arthur Hayes",
         "arthurhayes881@wingacademy.com",
         "353 Elizabeth Forest Deannachester, NM 66952",
         "male",
         "75",
         "07-15-2022  20:15:39",
         "01-04-2021",
         null,
         "6",
         "749.78",
         "Chef",
         "Sewing",
         "FALSE",
         null,
         null
        ],
        [
         "amxra702",
         "Raymond Taylor",
         "raymondtaylor702@wingacademy.com",
         "07867 John Mills Apt. 985 Tinaville, ID 59142",
         "male",
         "36",
         "07-12-2022 20:15",
         "24-09-2021",
         null,
         "6",
         "125.18",
         "Butcher",
         "Playing musical instruments",
         "FALSE",
         "2022-12-07",
         "2022-12-07"
        ],
        [
         "amxti476",
         "Tina Moore",
         "tinamoore476@wingacademy.com",
         "50984 Shelly Pass Port Nicholas, SC 48629",
         "female",
         "34",
         "07-12-2022 20:15",
         "15-07-2020",
         null,
         "17",
         "888.53",
         "Chef",
         "Running",
         "FALSE",
         "2022-12-07",
         "2022-12-07"
        ],
        [
         "amxky170",
         "Kylie White",
         "kyliewhite170@wingacademy.com",
         "5004 Christine Falls Suite 217 Jasonburgh, NJ 75688",
         "female",
         "63",
         "07-12-2022 20:15",
         "03-02-2020",
         null,
         "6",
         "872.18",
         "Janitor",
         "Reading",
         "TRUE",
         "2022-12-07",
         "2022-12-07"
        ],
        [
         "amxjo648",
         "Jonathan Manning",
         "jonathanmanning648@wingacademy.com",
         "1501 Gregory Glens Suite 940 Stephensstad, GU 55206",
         "male",
         "30",
         "07-12-2022 20:15",
         "21-01-2022",
         null,
         "0",
         "178.54",
         "Librarian",
         "Playing sports",
         "FALSE",
         "2022-12-07",
         "2022-12-07"
        ],
        [
         "amxan256",
         "Angela Bryant",
         "angelabryant256@wingacademy.com",
         "01454 Christopher Turnpike North Ryanstad, MI 36226",
         "female",
         "23",
         "07-12-2022 20:15",
         "11-09-2019",
         null,
         "3",
         "525.2",
         "Politician",
         "Cycling",
         "FALSE",
         "2022-12-07",
         "2022-12-07"
        ]
       ],
       "datasetInfos": [],
       "dbfsResultPath": null,
       "isJsonSchema": true,
       "metadata": {},
       "overflow": false,
       "plotOptions": {
        "customPlotOptions": {},
        "displayType": "table",
        "pivotAggregation": null,
        "pivotColumns": null,
        "xColumns": null,
        "yColumns": null
       },
       "removedWidgets": [],
       "schema": [
        {
         "metadata": "{}",
         "name": "Customer Id",
         "type": "\"string\""
        },
        {
         "metadata": "{}",
         "name": "Name",
         "type": "\"string\""
        },
        {
         "metadata": "{}",
         "name": "Email Id",
         "type": "\"string\""
        },
        {
         "metadata": "{}",
         "name": "address",
         "type": "\"string\""
        },
        {
         "metadata": "{}",
         "name": "gender",
         "type": "\"string\""
        },
        {
         "metadata": "{}",
         "name": "age",
         "type": "\"string\""
        },
        {
         "metadata": "{}",
         "name": "Joining_Date",
         "type": "\"string\""
        },
        {
         "metadata": "{}",
         "name": "registered",
         "type": "\"string\""
        },
        {
         "metadata": "{}",
         "name": "order ID",
         "type": "\"string\""
        },
        {
         "metadata": "{}",
         "name": "orders",
         "type": "\"string\""
        },
        {
         "metadata": "{}",
         "name": "spent",
         "type": "\"string\""
        },
        {
         "metadata": "{}",
         "name": "job",
         "type": "\"string\""
        },
        {
         "metadata": "{}",
         "name": "hobbies",
         "type": "\"string\""
        },
        {
         "metadata": "{}",
         "name": "is_married",
         "type": "\"string\""
        },
        {
         "metadata": "{}",
         "name": "date",
         "type": "\"string\""
        },
        {
         "metadata": "{}",
         "name": "date1",
         "type": "\"date\""
        }
       ],
       "type": "table"
      }
     },
     "output_type": "display_data"
    }
   ],
   "source": [
    "df1.withColumn('date',date_format(to_date(col('date'),'dd-MM-yyyy'),'yyyy-MM-dd')).display()"
   ]
  },
  {
   "cell_type": "code",
   "execution_count": 0,
   "metadata": {
    "application/vnd.databricks.v1+cell": {
     "cellMetadata": {
      "byteLimit": 2048000,
      "rowLimit": 10000
     },
     "inputWidgets": {},
     "nuid": "ee637218-0629-4c19-9efc-648b43937052",
     "showTitle": false,
     "title": ""
    }
   },
   "outputs": [
    {
     "output_type": "display_data",
     "data": {
      "text/html": [
       "<style scoped>\n",
       "  .table-result-container {\n",
       "    max-height: 300px;\n",
       "    overflow: auto;\n",
       "  }\n",
       "  table, th, td {\n",
       "    border: 1px solid black;\n",
       "    border-collapse: collapse;\n",
       "  }\n",
       "  th, td {\n",
       "    padding: 5px;\n",
       "  }\n",
       "  th {\n",
       "    text-align: left;\n",
       "  }\n",
       "</style><div class='table-result-container'><table class='table-result'><thead style='background-color: white'><tr><th>Customer Id</th><th>Name</th><th>Email Id</th><th>address</th><th>gender</th><th>age</th><th>Joining Date</th><th>registered</th><th>order ID</th><th>orders</th><th>spent</th><th>job</th><th>hobbies</th><th>is_married</th><th>currentdate</th><th>datediff</th></tr></thead><tbody><tr><td>amxjo131</td><td>Joseph Rice</td><td>josephrice131@slingacademy.com</td><td>91773 Miller Shoal Diaztown, FL 38841</td><td>male</td><td>43</td><td>07-12-2022 20:15</td><td>05-05-2019</td><td>null</td><td>7</td><td>568.29</td><td>Artist</td><td>Playing sports</td><td>FALSE</td><td>2024-01-03</td><td>null</td></tr><tr><td>amxga386</td><td>Gary Moore</td><td>garymoore386@slingacademy.com</td><td>6450 John Lodge Territon, KY 95945</td><td>male</td><td>71</td><td>07-12-2021 20:15</td><td>20-05-2020</td><td>null</td><td>11</td><td>568.92</td><td>Artist</td><td>Swimming</td><td>TRUE</td><td>2024-01-03</td><td>null</td></tr><tr><td>amxj944</td><td>John Walker</td><td>johnwalker944@slingacademy.com</td><td>27265 Murray Island Kevinfort, PA 63231</td><td>male</td><td>44</td><td>07-12-2022 20:15</td><td>04-04-2020</td><td>null</td><td>11</td><td>497.12</td><td>Clerk</td><td>Painting</td><td>FALSE</td><td>2024-01-03</td><td>null</td></tr><tr><td>amxer176</td><td>Eric Carter</td><td>ericcarter176@slingacademy.com</td><td>USNS Knight FPO AA 76532</td><td>male</td><td>38</td><td>07-12-2022 20:15</td><td>30-01-2019</td><td>null</td><td>17</td><td>834.6</td><td>Butcher</td><td>Playing musical instruments</td><td>FALSE</td><td>2024-01-03</td><td>null</td></tr><tr><td>amxwi427</td><td>William Jackson</td><td>williamjackson427@slingacademy.com</td><td>170 Jackson Loaf Kristenland, AS 48876</td><td>male</td><td>58</td><td>10-12-2022 20:15</td><td>01-07-2022</td><td>null</td><td>14</td><td>151.59</td><td>Engineer</td><td>Reading</td><td>FALSE</td><td>2024-01-03</td><td>null</td></tr><tr><td>amxni228</td><td>Nicole Jones</td><td>nicolejones228@slingacademy.com</td><td>14354 Baker Harbor Apt. 017 Ericville, HI 11192</td><td>female</td><td>33</td><td>07-12-2022 20:15</td><td>07-08-2021</td><td>null</td><td>19</td><td>33.17</td><td>Unemployed</td><td>Running</td><td>TRUE</td><td>2024-01-03</td><td>null</td></tr><tr><td>amxda980</td><td>David Davis</td><td>daviddavis980@slingacademy.com</td><td>021 Katherine Mall Jameston, DC 24685</td><td>male</td><td>59</td><td>07-12-2022 20:15</td><td>16-06-2022</td><td>null</td><td>9</td><td>970.96</td><td>Doctor</td><td>Playing sports</td><td>FALSE</td><td>2024-01-03</td><td>null</td></tr><tr><td>amxja889</td><td>Jason Montgomery</td><td>jasonmontgomery889@slingacademy.com</td><td>14657 Scott Loop Apt. 735 Port Ashley, NH 34470</td><td>male</td><td>58</td><td>07-12-2023 20:15</td><td>13-11-2021</td><td>null</td><td>12</td><td>676.2</td><td>Waitress</td><td>Collecting</td><td>FALSE</td><td>2024-01-03</td><td>null</td></tr><tr><td>amxke695</td><td>Kent Weaver</td><td>kentweaver695@slingacademy.com</td><td>6644 Mitchell Burg Victorhaven, KS 66356</td><td>male</td><td>61</td><td>07-01-2022 20:15</td><td>11-06-2023</td><td>null</td><td>1</td><td>674.37</td><td>Clerk</td><td>Hiking</td><td>FALSE</td><td>2024-01-03</td><td>null</td></tr><tr><td>amxda573</td><td>Darrell Dillon</td><td>darrelldillon573@slingacademy.com</td><td>PSC 7267, Box 9911 APO AE 49343</td><td>male</td><td>50</td><td>07-0-2022 20:15</td><td>13-09-2022</td><td>null</td><td>12</td><td>750.72</td><td>Dentist</td><td>Watching movies</td><td>FALSE</td><td>2024-01-03</td><td>null</td></tr><tr><td>amxja322</td><td>Jacqueline Wang</td><td>jacquelinewang322@slingacademy.com</td><td>16963 Stewart Curve Suite 27 South Cameron, ND 25136</td><td>female</td><td>22</td><td>07-12-2022 20:15</td><td>08-02-2023</td><td>null</td><td>12</td><td>962.47</td><td>Housewife</td><td>Collecting</td><td>FALSE</td><td>2024-01-03</td><td>null</td></tr><tr><td>amxjo185</td><td>Jodi Gonzalez</td><td>jodigonzalez185@slingacademy.com</td><td>378 Johnson Oval South Stacie, RI 76332</td><td>female</td><td>69</td><td>07-12-2022 20:15</td><td>25-06-2021</td><td>null</td><td>12</td><td>68.67</td><td>Baker</td><td>Photography</td><td>FALSE</td><td>2024-01-03</td><td>null</td></tr><tr><td>amxom769</td><td>Omar Martin</td><td>omarmartin769@slingacademy.com</td><td>Unit 9103 Box 4771 DPO AA 16592</td><td>male</td><td>28</td><td>07-12-2022 20:15</td><td>28-05-2023</td><td>null</td><td>3</td><td>162.58</td><td>Doctor</td><td>Gardening</td><td>TRUE</td><td>2024-01-03</td><td>null</td></tr><tr><td>amxni473</td><td>Nicole Lara</td><td>nicolelara473@slingacademy.com</td><td>9822 Lisa Courts Johnhaven, IL 80438</td><td>female</td><td>77</td><td>07-01-2022 20:15</td><td>03-03-2023</td><td>null</td><td>17</td><td>309.81</td><td>Janitor</td><td>Hiking</td><td>TRUE</td><td>2024-01-03</td><td>null</td></tr><tr><td>amxja753</td><td>Jason Brown</td><td>jasonbrown753@slingacademy.com</td><td>7310 Romero Summit East Scotttown, DC 53183</td><td>male</td><td>63</td><td>07-14-2022  20:15:39</td><td>05-12-2022</td><td>null</td><td>13</td><td>763.27</td><td>Lawyer</td><td>Fishing</td><td>TRUE</td><td>2024-01-03</td><td>null</td></tr><tr><td>amxda257</td><td>David Benson</td><td>davidbenson257@slingacademy.com</td><td>444 Derek Summit Lisaborough, WA 20685</td><td>male</td><td>61</td><td>07-12-2022 20:15</td><td>15-04-2022</td><td>null</td><td>17</td><td>111.11</td><td>Lawyer</td><td>Meditation</td><td>TRUE</td><td>2024-01-03</td><td>null</td></tr><tr><td>amxki513</td><td>Kimberly Mora</td><td>kimberlymora513@slingacademy.com</td><td>7679 Perry Square West Amybury, RI 15144</td><td>female</td><td>34</td><td>07-12-2022 20:15</td><td>19-05-2019</td><td>null</td><td>10</td><td>208.46</td><td>Farmer</td><td>Collecting</td><td>FALSE</td><td>2024-01-03</td><td>null</td></tr><tr><td>amxer904</td><td>Erik Macias</td><td>erikmacias904@wingacademy.com</td><td>568 Christopher Tunnel Toddburgh, DE 86966</td><td>male</td><td>25</td><td>07-12-2022 20:15</td><td>18-04-2020</td><td>null</td><td>8</td><td>439.53</td><td>Accountant</td><td>Fishing</td><td>FALSE</td><td>2024-01-03</td><td>null</td></tr><tr><td>amxja681</td><td>James Johnson</td><td>jamesjohnson681@wingacademy.com</td><td>19870 Sean Parkway North Jamesfurt, NC 28950</td><td>male</td><td>67</td><td>07-08-2022 20:15</td><td>17-02-2019</td><td>null</td><td>5</td><td>394.95</td><td>Security Guard</td><td>Watching movies</td><td>FALSE</td><td>2024-01-03</td><td>null</td></tr><tr><td>amxde324</td><td>Derek Peterson</td><td>derekpeterson324@wingacademy.com</td><td>70830 Jonathan Pine Wilcoxburgh, MI 38265</td><td>male</td><td>36</td><td>07-12-2022 20:15</td><td>15-12-2020</td><td>null</td><td>2</td><td>153.8</td><td>Architect</td><td>Photography</td><td>TRUE</td><td>2024-01-03</td><td>null</td></tr><tr><td>amxdi438</td><td>Diane Henson</td><td>dianehenson438@wingacademy.com</td><td>86382 Baker Ports Apt. 074 Cookfurt, NM 54313</td><td>female</td><td>74</td><td>07-12-2022 20:15</td><td>21-03-2020</td><td>null</td><td>19</td><td>62.52</td><td>Butcher</td><td>Playing musical instruments</td><td>FALSE</td><td>2024-01-03</td><td>null</td></tr><tr><td>amxco721</td><td>Cody Lyons</td><td>codylyons721@wingacademy.com</td><td>60971 Carrillo Square Suite 141 New Kimberlybury, AS 02128</td><td>male</td><td>47</td><td>07-12-2022 20:15</td><td>25-11-2019</td><td>null</td><td>14</td><td>43.17</td><td>Baker</td><td>Hunting</td><td>FALSE</td><td>2024-01-03</td><td>null</td></tr><tr><td>amxma249</td><td>Margaret Hardy</td><td>margarethardy249@wingacademy.com</td><td>2900 Sandra Villages Apt. 985 Phillipsstad, NH 19830</td><td>female</td><td>25</td><td>07-12-2022 20:15</td><td>17-07-2021</td><td>null</td><td>9</td><td>455.27</td><td>Barber</td><td>Other</td><td>FALSE</td><td>2024-01-03</td><td>null</td></tr><tr><td>amxar881</td><td>Arthur Hayes</td><td>arthurhayes881@wingacademy.com</td><td>353 Elizabeth Forest Deannachester, NM 66952</td><td>male</td><td>75</td><td>07-15-2022  20:15:39</td><td>01-04-2021</td><td>null</td><td>6</td><td>749.78</td><td>Chef</td><td>Sewing</td><td>FALSE</td><td>2024-01-03</td><td>null</td></tr><tr><td>amxra702</td><td>Raymond Taylor</td><td>raymondtaylor702@wingacademy.com</td><td>07867 John Mills Apt. 985 Tinaville, ID 59142</td><td>male</td><td>36</td><td>07-12-2022 20:15</td><td>24-09-2021</td><td>null</td><td>6</td><td>125.18</td><td>Butcher</td><td>Playing musical instruments</td><td>FALSE</td><td>2024-01-03</td><td>null</td></tr><tr><td>amxti476</td><td>Tina Moore</td><td>tinamoore476@wingacademy.com</td><td>50984 Shelly Pass Port Nicholas, SC 48629</td><td>female</td><td>34</td><td>07-12-2022 20:15</td><td>15-07-2020</td><td>null</td><td>17</td><td>888.53</td><td>Chef</td><td>Running</td><td>FALSE</td><td>2024-01-03</td><td>null</td></tr><tr><td>amxky170</td><td>Kylie White</td><td>kyliewhite170@wingacademy.com</td><td>5004 Christine Falls Suite 217 Jasonburgh, NJ 75688</td><td>female</td><td>63</td><td>07-12-2022 20:15</td><td>03-02-2020</td><td>null</td><td>6</td><td>872.18</td><td>Janitor</td><td>Reading</td><td>TRUE</td><td>2024-01-03</td><td>null</td></tr><tr><td>amxjo648</td><td>Jonathan Manning</td><td>jonathanmanning648@wingacademy.com</td><td>1501 Gregory Glens Suite 940 Stephensstad, GU 55206</td><td>male</td><td>30</td><td>07-12-2022 20:15</td><td>21-01-2022</td><td>null</td><td>0</td><td>178.54</td><td>Librarian</td><td>Playing sports</td><td>FALSE</td><td>2024-01-03</td><td>null</td></tr><tr><td>amxan256</td><td>Angela Bryant</td><td>angelabryant256@wingacademy.com</td><td>01454 Christopher Turnpike North Ryanstad, MI 36226</td><td>female</td><td>23</td><td>07-12-2022 20:15</td><td>11-09-2019</td><td>null</td><td>3</td><td>525.2</td><td>Politician</td><td>Cycling</td><td>FALSE</td><td>2024-01-03</td><td>null</td></tr></tbody></table></div>"
      ]
     },
     "metadata": {
      "application/vnd.databricks.v1+output": {
       "addedWidgets": {},
       "aggData": [],
       "aggError": "",
       "aggOverflow": false,
       "aggSchema": [],
       "aggSeriesLimitReached": false,
       "aggType": "",
       "arguments": {},
       "columnCustomDisplayInfos": {},
       "data": [
        [
         "amxjo131",
         "Joseph Rice",
         "josephrice131@slingacademy.com",
         "91773 Miller Shoal Diaztown, FL 38841",
         "male",
         "43",
         "07-12-2022 20:15",
         "05-05-2019",
         null,
         "7",
         "568.29",
         "Artist",
         "Playing sports",
         "FALSE",
         "2024-01-03",
         null
        ],
        [
         "amxga386",
         "Gary Moore",
         "garymoore386@slingacademy.com",
         "6450 John Lodge Territon, KY 95945",
         "male",
         "71",
         "07-12-2021 20:15",
         "20-05-2020",
         null,
         "11",
         "568.92",
         "Artist",
         "Swimming",
         "TRUE",
         "2024-01-03",
         null
        ],
        [
         "amxj944",
         "John Walker",
         "johnwalker944@slingacademy.com",
         "27265 Murray Island Kevinfort, PA 63231",
         "male",
         "44",
         "07-12-2022 20:15",
         "04-04-2020",
         null,
         "11",
         "497.12",
         "Clerk",
         "Painting",
         "FALSE",
         "2024-01-03",
         null
        ],
        [
         "amxer176",
         "Eric Carter",
         "ericcarter176@slingacademy.com",
         "USNS Knight FPO AA 76532",
         "male",
         "38",
         "07-12-2022 20:15",
         "30-01-2019",
         null,
         "17",
         "834.6",
         "Butcher",
         "Playing musical instruments",
         "FALSE",
         "2024-01-03",
         null
        ],
        [
         "amxwi427",
         "William Jackson",
         "williamjackson427@slingacademy.com",
         "170 Jackson Loaf Kristenland, AS 48876",
         "male",
         "58",
         "10-12-2022 20:15",
         "01-07-2022",
         null,
         "14",
         "151.59",
         "Engineer",
         "Reading",
         "FALSE",
         "2024-01-03",
         null
        ],
        [
         "amxni228",
         "Nicole Jones",
         "nicolejones228@slingacademy.com",
         "14354 Baker Harbor Apt. 017 Ericville, HI 11192",
         "female",
         "33",
         "07-12-2022 20:15",
         "07-08-2021",
         null,
         "19",
         "33.17",
         "Unemployed",
         "Running",
         "TRUE",
         "2024-01-03",
         null
        ],
        [
         "amxda980",
         "David Davis",
         "daviddavis980@slingacademy.com",
         "021 Katherine Mall Jameston, DC 24685",
         "male",
         "59",
         "07-12-2022 20:15",
         "16-06-2022",
         null,
         "9",
         "970.96",
         "Doctor",
         "Playing sports",
         "FALSE",
         "2024-01-03",
         null
        ],
        [
         "amxja889",
         "Jason Montgomery",
         "jasonmontgomery889@slingacademy.com",
         "14657 Scott Loop Apt. 735 Port Ashley, NH 34470",
         "male",
         "58",
         "07-12-2023 20:15",
         "13-11-2021",
         null,
         "12",
         "676.2",
         "Waitress",
         "Collecting",
         "FALSE",
         "2024-01-03",
         null
        ],
        [
         "amxke695",
         "Kent Weaver",
         "kentweaver695@slingacademy.com",
         "6644 Mitchell Burg Victorhaven, KS 66356",
         "male",
         "61",
         "07-01-2022 20:15",
         "11-06-2023",
         null,
         "1",
         "674.37",
         "Clerk",
         "Hiking",
         "FALSE",
         "2024-01-03",
         null
        ],
        [
         "amxda573",
         "Darrell Dillon",
         "darrelldillon573@slingacademy.com",
         "PSC 7267, Box 9911 APO AE 49343",
         "male",
         "50",
         "07-0-2022 20:15",
         "13-09-2022",
         null,
         "12",
         "750.72",
         "Dentist",
         "Watching movies",
         "FALSE",
         "2024-01-03",
         null
        ],
        [
         "amxja322",
         "Jacqueline Wang",
         "jacquelinewang322@slingacademy.com",
         "16963 Stewart Curve Suite 27 South Cameron, ND 25136",
         "female",
         "22",
         "07-12-2022 20:15",
         "08-02-2023",
         null,
         "12",
         "962.47",
         "Housewife",
         "Collecting",
         "FALSE",
         "2024-01-03",
         null
        ],
        [
         "amxjo185",
         "Jodi Gonzalez",
         "jodigonzalez185@slingacademy.com",
         "378 Johnson Oval South Stacie, RI 76332",
         "female",
         "69",
         "07-12-2022 20:15",
         "25-06-2021",
         null,
         "12",
         "68.67",
         "Baker",
         "Photography",
         "FALSE",
         "2024-01-03",
         null
        ],
        [
         "amxom769",
         "Omar Martin",
         "omarmartin769@slingacademy.com",
         "Unit 9103 Box 4771 DPO AA 16592",
         "male",
         "28",
         "07-12-2022 20:15",
         "28-05-2023",
         null,
         "3",
         "162.58",
         "Doctor",
         "Gardening",
         "TRUE",
         "2024-01-03",
         null
        ],
        [
         "amxni473",
         "Nicole Lara",
         "nicolelara473@slingacademy.com",
         "9822 Lisa Courts Johnhaven, IL 80438",
         "female",
         "77",
         "07-01-2022 20:15",
         "03-03-2023",
         null,
         "17",
         "309.81",
         "Janitor",
         "Hiking",
         "TRUE",
         "2024-01-03",
         null
        ],
        [
         "amxja753",
         "Jason Brown",
         "jasonbrown753@slingacademy.com",
         "7310 Romero Summit East Scotttown, DC 53183",
         "male",
         "63",
         "07-14-2022  20:15:39",
         "05-12-2022",
         null,
         "13",
         "763.27",
         "Lawyer",
         "Fishing",
         "TRUE",
         "2024-01-03",
         null
        ],
        [
         "amxda257",
         "David Benson",
         "davidbenson257@slingacademy.com",
         "444 Derek Summit Lisaborough, WA 20685",
         "male",
         "61",
         "07-12-2022 20:15",
         "15-04-2022",
         null,
         "17",
         "111.11",
         "Lawyer",
         "Meditation",
         "TRUE",
         "2024-01-03",
         null
        ],
        [
         "amxki513",
         "Kimberly Mora",
         "kimberlymora513@slingacademy.com",
         "7679 Perry Square West Amybury, RI 15144",
         "female",
         "34",
         "07-12-2022 20:15",
         "19-05-2019",
         null,
         "10",
         "208.46",
         "Farmer",
         "Collecting",
         "FALSE",
         "2024-01-03",
         null
        ],
        [
         "amxer904",
         "Erik Macias",
         "erikmacias904@wingacademy.com",
         "568 Christopher Tunnel Toddburgh, DE 86966",
         "male",
         "25",
         "07-12-2022 20:15",
         "18-04-2020",
         null,
         "8",
         "439.53",
         "Accountant",
         "Fishing",
         "FALSE",
         "2024-01-03",
         null
        ],
        [
         "amxja681",
         "James Johnson",
         "jamesjohnson681@wingacademy.com",
         "19870 Sean Parkway North Jamesfurt, NC 28950",
         "male",
         "67",
         "07-08-2022 20:15",
         "17-02-2019",
         null,
         "5",
         "394.95",
         "Security Guard",
         "Watching movies",
         "FALSE",
         "2024-01-03",
         null
        ],
        [
         "amxde324",
         "Derek Peterson",
         "derekpeterson324@wingacademy.com",
         "70830 Jonathan Pine Wilcoxburgh, MI 38265",
         "male",
         "36",
         "07-12-2022 20:15",
         "15-12-2020",
         null,
         "2",
         "153.8",
         "Architect",
         "Photography",
         "TRUE",
         "2024-01-03",
         null
        ],
        [
         "amxdi438",
         "Diane Henson",
         "dianehenson438@wingacademy.com",
         "86382 Baker Ports Apt. 074 Cookfurt, NM 54313",
         "female",
         "74",
         "07-12-2022 20:15",
         "21-03-2020",
         null,
         "19",
         "62.52",
         "Butcher",
         "Playing musical instruments",
         "FALSE",
         "2024-01-03",
         null
        ],
        [
         "amxco721",
         "Cody Lyons",
         "codylyons721@wingacademy.com",
         "60971 Carrillo Square Suite 141 New Kimberlybury, AS 02128",
         "male",
         "47",
         "07-12-2022 20:15",
         "25-11-2019",
         null,
         "14",
         "43.17",
         "Baker",
         "Hunting",
         "FALSE",
         "2024-01-03",
         null
        ],
        [
         "amxma249",
         "Margaret Hardy",
         "margarethardy249@wingacademy.com",
         "2900 Sandra Villages Apt. 985 Phillipsstad, NH 19830",
         "female",
         "25",
         "07-12-2022 20:15",
         "17-07-2021",
         null,
         "9",
         "455.27",
         "Barber",
         "Other",
         "FALSE",
         "2024-01-03",
         null
        ],
        [
         "amxar881",
         "Arthur Hayes",
         "arthurhayes881@wingacademy.com",
         "353 Elizabeth Forest Deannachester, NM 66952",
         "male",
         "75",
         "07-15-2022  20:15:39",
         "01-04-2021",
         null,
         "6",
         "749.78",
         "Chef",
         "Sewing",
         "FALSE",
         "2024-01-03",
         null
        ],
        [
         "amxra702",
         "Raymond Taylor",
         "raymondtaylor702@wingacademy.com",
         "07867 John Mills Apt. 985 Tinaville, ID 59142",
         "male",
         "36",
         "07-12-2022 20:15",
         "24-09-2021",
         null,
         "6",
         "125.18",
         "Butcher",
         "Playing musical instruments",
         "FALSE",
         "2024-01-03",
         null
        ],
        [
         "amxti476",
         "Tina Moore",
         "tinamoore476@wingacademy.com",
         "50984 Shelly Pass Port Nicholas, SC 48629",
         "female",
         "34",
         "07-12-2022 20:15",
         "15-07-2020",
         null,
         "17",
         "888.53",
         "Chef",
         "Running",
         "FALSE",
         "2024-01-03",
         null
        ],
        [
         "amxky170",
         "Kylie White",
         "kyliewhite170@wingacademy.com",
         "5004 Christine Falls Suite 217 Jasonburgh, NJ 75688",
         "female",
         "63",
         "07-12-2022 20:15",
         "03-02-2020",
         null,
         "6",
         "872.18",
         "Janitor",
         "Reading",
         "TRUE",
         "2024-01-03",
         null
        ],
        [
         "amxjo648",
         "Jonathan Manning",
         "jonathanmanning648@wingacademy.com",
         "1501 Gregory Glens Suite 940 Stephensstad, GU 55206",
         "male",
         "30",
         "07-12-2022 20:15",
         "21-01-2022",
         null,
         "0",
         "178.54",
         "Librarian",
         "Playing sports",
         "FALSE",
         "2024-01-03",
         null
        ],
        [
         "amxan256",
         "Angela Bryant",
         "angelabryant256@wingacademy.com",
         "01454 Christopher Turnpike North Ryanstad, MI 36226",
         "female",
         "23",
         "07-12-2022 20:15",
         "11-09-2019",
         null,
         "3",
         "525.2",
         "Politician",
         "Cycling",
         "FALSE",
         "2024-01-03",
         null
        ]
       ],
       "datasetInfos": [],
       "dbfsResultPath": null,
       "isJsonSchema": true,
       "metadata": {},
       "overflow": false,
       "plotOptions": {
        "customPlotOptions": {},
        "displayType": "table",
        "pivotAggregation": null,
        "pivotColumns": null,
        "xColumns": null,
        "yColumns": null
       },
       "removedWidgets": [],
       "schema": [
        {
         "metadata": "{}",
         "name": "Customer Id",
         "type": "\"string\""
        },
        {
         "metadata": "{}",
         "name": "Name",
         "type": "\"string\""
        },
        {
         "metadata": "{}",
         "name": "Email Id",
         "type": "\"string\""
        },
        {
         "metadata": "{}",
         "name": "address",
         "type": "\"string\""
        },
        {
         "metadata": "{}",
         "name": "gender",
         "type": "\"string\""
        },
        {
         "metadata": "{}",
         "name": "age",
         "type": "\"string\""
        },
        {
         "metadata": "{}",
         "name": "Joining Date",
         "type": "\"string\""
        },
        {
         "metadata": "{}",
         "name": "registered",
         "type": "\"string\""
        },
        {
         "metadata": "{}",
         "name": "order ID",
         "type": "\"string\""
        },
        {
         "metadata": "{}",
         "name": "orders",
         "type": "\"string\""
        },
        {
         "metadata": "{}",
         "name": "spent",
         "type": "\"string\""
        },
        {
         "metadata": "{}",
         "name": "job",
         "type": "\"string\""
        },
        {
         "metadata": "{}",
         "name": "hobbies",
         "type": "\"string\""
        },
        {
         "metadata": "{}",
         "name": "is_married",
         "type": "\"string\""
        },
        {
         "metadata": "{}",
         "name": "currentdate",
         "type": "\"date\""
        },
        {
         "metadata": "{}",
         "name": "datediff",
         "type": "\"integer\""
        }
       ],
       "type": "table"
      }
     },
     "output_type": "display_data"
    }
   ],
   "source": [
    "df.withColumn('currentdate',lit(current_date())).withColumn('datediff',datediff('currentdate','registered')).display()"
   ]
  },
  {
   "cell_type": "code",
   "execution_count": 0,
   "metadata": {
    "application/vnd.databricks.v1+cell": {
     "cellMetadata": {
      "byteLimit": 2048000,
      "rowLimit": 10000
     },
     "inputWidgets": {},
     "nuid": "71c9d288-e1de-4553-96e1-bb1f11744342",
     "showTitle": false,
     "title": ""
    }
   },
   "outputs": [
    {
     "output_type": "display_data",
     "data": {
      "text/html": [
       "<style scoped>\n",
       "  .table-result-container {\n",
       "    max-height: 300px;\n",
       "    overflow: auto;\n",
       "  }\n",
       "  table, th, td {\n",
       "    border: 1px solid black;\n",
       "    border-collapse: collapse;\n",
       "  }\n",
       "  th, td {\n",
       "    padding: 5px;\n",
       "  }\n",
       "  th {\n",
       "    text-align: left;\n",
       "  }\n",
       "</style><div class='table-result-container'><table class='table-result'><thead style='background-color: white'><tr><th>Customer Id</th><th>Name</th><th>Email Id</th><th>address</th><th>gender</th><th>age</th><th>Joining Date</th><th>registered</th><th>order ID</th><th>orders</th><th>spent</th><th>job</th><th>hobbies</th><th>is_married</th><th>datesDiff</th></tr></thead><tbody><tr><td>amxjo131</td><td>Joseph Rice</td><td>josephrice131@slingacademy.com</td><td>91773 Miller Shoal Diaztown, FL 38841</td><td>male</td><td>43</td><td>07-12-2022 20:15</td><td>05-05-2019</td><td>null</td><td>7</td><td>568.29</td><td>Artist</td><td>Playing sports</td><td>FALSE</td><td>null</td></tr><tr><td>amxga386</td><td>Gary Moore</td><td>garymoore386@slingacademy.com</td><td>6450 John Lodge Territon, KY 95945</td><td>male</td><td>71</td><td>07-12-2021 20:15</td><td>20-05-2020</td><td>null</td><td>11</td><td>568.92</td><td>Artist</td><td>Swimming</td><td>TRUE</td><td>null</td></tr><tr><td>amxj944</td><td>John Walker</td><td>johnwalker944@slingacademy.com</td><td>27265 Murray Island Kevinfort, PA 63231</td><td>male</td><td>44</td><td>07-12-2022 20:15</td><td>04-04-2020</td><td>null</td><td>11</td><td>497.12</td><td>Clerk</td><td>Painting</td><td>FALSE</td><td>null</td></tr><tr><td>amxer176</td><td>Eric Carter</td><td>ericcarter176@slingacademy.com</td><td>USNS Knight FPO AA 76532</td><td>male</td><td>38</td><td>07-12-2022 20:15</td><td>30-01-2019</td><td>null</td><td>17</td><td>834.6</td><td>Butcher</td><td>Playing musical instruments</td><td>FALSE</td><td>null</td></tr><tr><td>amxwi427</td><td>William Jackson</td><td>williamjackson427@slingacademy.com</td><td>170 Jackson Loaf Kristenland, AS 48876</td><td>male</td><td>58</td><td>10-12-2022 20:15</td><td>01-07-2022</td><td>null</td><td>14</td><td>151.59</td><td>Engineer</td><td>Reading</td><td>FALSE</td><td>null</td></tr><tr><td>amxni228</td><td>Nicole Jones</td><td>nicolejones228@slingacademy.com</td><td>14354 Baker Harbor Apt. 017 Ericville, HI 11192</td><td>female</td><td>33</td><td>07-12-2022 20:15</td><td>07-08-2021</td><td>null</td><td>19</td><td>33.17</td><td>Unemployed</td><td>Running</td><td>TRUE</td><td>null</td></tr><tr><td>amxda980</td><td>David Davis</td><td>daviddavis980@slingacademy.com</td><td>021 Katherine Mall Jameston, DC 24685</td><td>male</td><td>59</td><td>07-12-2022 20:15</td><td>16-06-2022</td><td>null</td><td>9</td><td>970.96</td><td>Doctor</td><td>Playing sports</td><td>FALSE</td><td>null</td></tr><tr><td>amxja889</td><td>Jason Montgomery</td><td>jasonmontgomery889@slingacademy.com</td><td>14657 Scott Loop Apt. 735 Port Ashley, NH 34470</td><td>male</td><td>58</td><td>07-12-2023 20:15</td><td>13-11-2021</td><td>null</td><td>12</td><td>676.2</td><td>Waitress</td><td>Collecting</td><td>FALSE</td><td>null</td></tr><tr><td>amxke695</td><td>Kent Weaver</td><td>kentweaver695@slingacademy.com</td><td>6644 Mitchell Burg Victorhaven, KS 66356</td><td>male</td><td>61</td><td>07-01-2022 20:15</td><td>11-06-2023</td><td>null</td><td>1</td><td>674.37</td><td>Clerk</td><td>Hiking</td><td>FALSE</td><td>null</td></tr><tr><td>amxda573</td><td>Darrell Dillon</td><td>darrelldillon573@slingacademy.com</td><td>PSC 7267, Box 9911 APO AE 49343</td><td>male</td><td>50</td><td>07-0-2022 20:15</td><td>13-09-2022</td><td>null</td><td>12</td><td>750.72</td><td>Dentist</td><td>Watching movies</td><td>FALSE</td><td>null</td></tr><tr><td>amxja322</td><td>Jacqueline Wang</td><td>jacquelinewang322@slingacademy.com</td><td>16963 Stewart Curve Suite 27 South Cameron, ND 25136</td><td>female</td><td>22</td><td>07-12-2022 20:15</td><td>08-02-2023</td><td>null</td><td>12</td><td>962.47</td><td>Housewife</td><td>Collecting</td><td>FALSE</td><td>null</td></tr><tr><td>amxjo185</td><td>Jodi Gonzalez</td><td>jodigonzalez185@slingacademy.com</td><td>378 Johnson Oval South Stacie, RI 76332</td><td>female</td><td>69</td><td>07-12-2022 20:15</td><td>25-06-2021</td><td>null</td><td>12</td><td>68.67</td><td>Baker</td><td>Photography</td><td>FALSE</td><td>null</td></tr><tr><td>amxom769</td><td>Omar Martin</td><td>omarmartin769@slingacademy.com</td><td>Unit 9103 Box 4771 DPO AA 16592</td><td>male</td><td>28</td><td>07-12-2022 20:15</td><td>28-05-2023</td><td>null</td><td>3</td><td>162.58</td><td>Doctor</td><td>Gardening</td><td>TRUE</td><td>null</td></tr><tr><td>amxni473</td><td>Nicole Lara</td><td>nicolelara473@slingacademy.com</td><td>9822 Lisa Courts Johnhaven, IL 80438</td><td>female</td><td>77</td><td>07-01-2022 20:15</td><td>03-03-2023</td><td>null</td><td>17</td><td>309.81</td><td>Janitor</td><td>Hiking</td><td>TRUE</td><td>null</td></tr><tr><td>amxja753</td><td>Jason Brown</td><td>jasonbrown753@slingacademy.com</td><td>7310 Romero Summit East Scotttown, DC 53183</td><td>male</td><td>63</td><td>07-14-2022  20:15:39</td><td>05-12-2022</td><td>null</td><td>13</td><td>763.27</td><td>Lawyer</td><td>Fishing</td><td>TRUE</td><td>null</td></tr><tr><td>amxda257</td><td>David Benson</td><td>davidbenson257@slingacademy.com</td><td>444 Derek Summit Lisaborough, WA 20685</td><td>male</td><td>61</td><td>07-12-2022 20:15</td><td>15-04-2022</td><td>null</td><td>17</td><td>111.11</td><td>Lawyer</td><td>Meditation</td><td>TRUE</td><td>null</td></tr><tr><td>amxki513</td><td>Kimberly Mora</td><td>kimberlymora513@slingacademy.com</td><td>7679 Perry Square West Amybury, RI 15144</td><td>female</td><td>34</td><td>07-12-2022 20:15</td><td>19-05-2019</td><td>null</td><td>10</td><td>208.46</td><td>Farmer</td><td>Collecting</td><td>FALSE</td><td>null</td></tr><tr><td>amxer904</td><td>Erik Macias</td><td>erikmacias904@wingacademy.com</td><td>568 Christopher Tunnel Toddburgh, DE 86966</td><td>male</td><td>25</td><td>07-12-2022 20:15</td><td>18-04-2020</td><td>null</td><td>8</td><td>439.53</td><td>Accountant</td><td>Fishing</td><td>FALSE</td><td>null</td></tr><tr><td>amxja681</td><td>James Johnson</td><td>jamesjohnson681@wingacademy.com</td><td>19870 Sean Parkway North Jamesfurt, NC 28950</td><td>male</td><td>67</td><td>07-08-2022 20:15</td><td>17-02-2019</td><td>null</td><td>5</td><td>394.95</td><td>Security Guard</td><td>Watching movies</td><td>FALSE</td><td>null</td></tr><tr><td>amxde324</td><td>Derek Peterson</td><td>derekpeterson324@wingacademy.com</td><td>70830 Jonathan Pine Wilcoxburgh, MI 38265</td><td>male</td><td>36</td><td>07-12-2022 20:15</td><td>15-12-2020</td><td>null</td><td>2</td><td>153.8</td><td>Architect</td><td>Photography</td><td>TRUE</td><td>null</td></tr><tr><td>amxdi438</td><td>Diane Henson</td><td>dianehenson438@wingacademy.com</td><td>86382 Baker Ports Apt. 074 Cookfurt, NM 54313</td><td>female</td><td>74</td><td>07-12-2022 20:15</td><td>21-03-2020</td><td>null</td><td>19</td><td>62.52</td><td>Butcher</td><td>Playing musical instruments</td><td>FALSE</td><td>null</td></tr><tr><td>amxco721</td><td>Cody Lyons</td><td>codylyons721@wingacademy.com</td><td>60971 Carrillo Square Suite 141 New Kimberlybury, AS 02128</td><td>male</td><td>47</td><td>07-12-2022 20:15</td><td>25-11-2019</td><td>null</td><td>14</td><td>43.17</td><td>Baker</td><td>Hunting</td><td>FALSE</td><td>null</td></tr><tr><td>amxma249</td><td>Margaret Hardy</td><td>margarethardy249@wingacademy.com</td><td>2900 Sandra Villages Apt. 985 Phillipsstad, NH 19830</td><td>female</td><td>25</td><td>07-12-2022 20:15</td><td>17-07-2021</td><td>null</td><td>9</td><td>455.27</td><td>Barber</td><td>Other</td><td>FALSE</td><td>null</td></tr><tr><td>amxar881</td><td>Arthur Hayes</td><td>arthurhayes881@wingacademy.com</td><td>353 Elizabeth Forest Deannachester, NM 66952</td><td>male</td><td>75</td><td>07-15-2022  20:15:39</td><td>01-04-2021</td><td>null</td><td>6</td><td>749.78</td><td>Chef</td><td>Sewing</td><td>FALSE</td><td>null</td></tr><tr><td>amxra702</td><td>Raymond Taylor</td><td>raymondtaylor702@wingacademy.com</td><td>07867 John Mills Apt. 985 Tinaville, ID 59142</td><td>male</td><td>36</td><td>07-12-2022 20:15</td><td>24-09-2021</td><td>null</td><td>6</td><td>125.18</td><td>Butcher</td><td>Playing musical instruments</td><td>FALSE</td><td>null</td></tr><tr><td>amxti476</td><td>Tina Moore</td><td>tinamoore476@wingacademy.com</td><td>50984 Shelly Pass Port Nicholas, SC 48629</td><td>female</td><td>34</td><td>07-12-2022 20:15</td><td>15-07-2020</td><td>null</td><td>17</td><td>888.53</td><td>Chef</td><td>Running</td><td>FALSE</td><td>null</td></tr><tr><td>amxky170</td><td>Kylie White</td><td>kyliewhite170@wingacademy.com</td><td>5004 Christine Falls Suite 217 Jasonburgh, NJ 75688</td><td>female</td><td>63</td><td>07-12-2022 20:15</td><td>03-02-2020</td><td>null</td><td>6</td><td>872.18</td><td>Janitor</td><td>Reading</td><td>TRUE</td><td>null</td></tr><tr><td>amxjo648</td><td>Jonathan Manning</td><td>jonathanmanning648@wingacademy.com</td><td>1501 Gregory Glens Suite 940 Stephensstad, GU 55206</td><td>male</td><td>30</td><td>07-12-2022 20:15</td><td>21-01-2022</td><td>null</td><td>0</td><td>178.54</td><td>Librarian</td><td>Playing sports</td><td>FALSE</td><td>null</td></tr><tr><td>amxan256</td><td>Angela Bryant</td><td>angelabryant256@wingacademy.com</td><td>01454 Christopher Turnpike North Ryanstad, MI 36226</td><td>female</td><td>23</td><td>07-12-2022 20:15</td><td>11-09-2019</td><td>null</td><td>3</td><td>525.2</td><td>Politician</td><td>Cycling</td><td>FALSE</td><td>null</td></tr></tbody></table></div>"
      ]
     },
     "metadata": {
      "application/vnd.databricks.v1+output": {
       "addedWidgets": {},
       "aggData": [],
       "aggError": "",
       "aggOverflow": false,
       "aggSchema": [],
       "aggSeriesLimitReached": false,
       "aggType": "",
       "arguments": {},
       "columnCustomDisplayInfos": {},
       "data": [
        [
         "amxjo131",
         "Joseph Rice",
         "josephrice131@slingacademy.com",
         "91773 Miller Shoal Diaztown, FL 38841",
         "male",
         "43",
         "07-12-2022 20:15",
         "05-05-2019",
         null,
         "7",
         "568.29",
         "Artist",
         "Playing sports",
         "FALSE",
         null
        ],
        [
         "amxga386",
         "Gary Moore",
         "garymoore386@slingacademy.com",
         "6450 John Lodge Territon, KY 95945",
         "male",
         "71",
         "07-12-2021 20:15",
         "20-05-2020",
         null,
         "11",
         "568.92",
         "Artist",
         "Swimming",
         "TRUE",
         null
        ],
        [
         "amxj944",
         "John Walker",
         "johnwalker944@slingacademy.com",
         "27265 Murray Island Kevinfort, PA 63231",
         "male",
         "44",
         "07-12-2022 20:15",
         "04-04-2020",
         null,
         "11",
         "497.12",
         "Clerk",
         "Painting",
         "FALSE",
         null
        ],
        [
         "amxer176",
         "Eric Carter",
         "ericcarter176@slingacademy.com",
         "USNS Knight FPO AA 76532",
         "male",
         "38",
         "07-12-2022 20:15",
         "30-01-2019",
         null,
         "17",
         "834.6",
         "Butcher",
         "Playing musical instruments",
         "FALSE",
         null
        ],
        [
         "amxwi427",
         "William Jackson",
         "williamjackson427@slingacademy.com",
         "170 Jackson Loaf Kristenland, AS 48876",
         "male",
         "58",
         "10-12-2022 20:15",
         "01-07-2022",
         null,
         "14",
         "151.59",
         "Engineer",
         "Reading",
         "FALSE",
         null
        ],
        [
         "amxni228",
         "Nicole Jones",
         "nicolejones228@slingacademy.com",
         "14354 Baker Harbor Apt. 017 Ericville, HI 11192",
         "female",
         "33",
         "07-12-2022 20:15",
         "07-08-2021",
         null,
         "19",
         "33.17",
         "Unemployed",
         "Running",
         "TRUE",
         null
        ],
        [
         "amxda980",
         "David Davis",
         "daviddavis980@slingacademy.com",
         "021 Katherine Mall Jameston, DC 24685",
         "male",
         "59",
         "07-12-2022 20:15",
         "16-06-2022",
         null,
         "9",
         "970.96",
         "Doctor",
         "Playing sports",
         "FALSE",
         null
        ],
        [
         "amxja889",
         "Jason Montgomery",
         "jasonmontgomery889@slingacademy.com",
         "14657 Scott Loop Apt. 735 Port Ashley, NH 34470",
         "male",
         "58",
         "07-12-2023 20:15",
         "13-11-2021",
         null,
         "12",
         "676.2",
         "Waitress",
         "Collecting",
         "FALSE",
         null
        ],
        [
         "amxke695",
         "Kent Weaver",
         "kentweaver695@slingacademy.com",
         "6644 Mitchell Burg Victorhaven, KS 66356",
         "male",
         "61",
         "07-01-2022 20:15",
         "11-06-2023",
         null,
         "1",
         "674.37",
         "Clerk",
         "Hiking",
         "FALSE",
         null
        ],
        [
         "amxda573",
         "Darrell Dillon",
         "darrelldillon573@slingacademy.com",
         "PSC 7267, Box 9911 APO AE 49343",
         "male",
         "50",
         "07-0-2022 20:15",
         "13-09-2022",
         null,
         "12",
         "750.72",
         "Dentist",
         "Watching movies",
         "FALSE",
         null
        ],
        [
         "amxja322",
         "Jacqueline Wang",
         "jacquelinewang322@slingacademy.com",
         "16963 Stewart Curve Suite 27 South Cameron, ND 25136",
         "female",
         "22",
         "07-12-2022 20:15",
         "08-02-2023",
         null,
         "12",
         "962.47",
         "Housewife",
         "Collecting",
         "FALSE",
         null
        ],
        [
         "amxjo185",
         "Jodi Gonzalez",
         "jodigonzalez185@slingacademy.com",
         "378 Johnson Oval South Stacie, RI 76332",
         "female",
         "69",
         "07-12-2022 20:15",
         "25-06-2021",
         null,
         "12",
         "68.67",
         "Baker",
         "Photography",
         "FALSE",
         null
        ],
        [
         "amxom769",
         "Omar Martin",
         "omarmartin769@slingacademy.com",
         "Unit 9103 Box 4771 DPO AA 16592",
         "male",
         "28",
         "07-12-2022 20:15",
         "28-05-2023",
         null,
         "3",
         "162.58",
         "Doctor",
         "Gardening",
         "TRUE",
         null
        ],
        [
         "amxni473",
         "Nicole Lara",
         "nicolelara473@slingacademy.com",
         "9822 Lisa Courts Johnhaven, IL 80438",
         "female",
         "77",
         "07-01-2022 20:15",
         "03-03-2023",
         null,
         "17",
         "309.81",
         "Janitor",
         "Hiking",
         "TRUE",
         null
        ],
        [
         "amxja753",
         "Jason Brown",
         "jasonbrown753@slingacademy.com",
         "7310 Romero Summit East Scotttown, DC 53183",
         "male",
         "63",
         "07-14-2022  20:15:39",
         "05-12-2022",
         null,
         "13",
         "763.27",
         "Lawyer",
         "Fishing",
         "TRUE",
         null
        ],
        [
         "amxda257",
         "David Benson",
         "davidbenson257@slingacademy.com",
         "444 Derek Summit Lisaborough, WA 20685",
         "male",
         "61",
         "07-12-2022 20:15",
         "15-04-2022",
         null,
         "17",
         "111.11",
         "Lawyer",
         "Meditation",
         "TRUE",
         null
        ],
        [
         "amxki513",
         "Kimberly Mora",
         "kimberlymora513@slingacademy.com",
         "7679 Perry Square West Amybury, RI 15144",
         "female",
         "34",
         "07-12-2022 20:15",
         "19-05-2019",
         null,
         "10",
         "208.46",
         "Farmer",
         "Collecting",
         "FALSE",
         null
        ],
        [
         "amxer904",
         "Erik Macias",
         "erikmacias904@wingacademy.com",
         "568 Christopher Tunnel Toddburgh, DE 86966",
         "male",
         "25",
         "07-12-2022 20:15",
         "18-04-2020",
         null,
         "8",
         "439.53",
         "Accountant",
         "Fishing",
         "FALSE",
         null
        ],
        [
         "amxja681",
         "James Johnson",
         "jamesjohnson681@wingacademy.com",
         "19870 Sean Parkway North Jamesfurt, NC 28950",
         "male",
         "67",
         "07-08-2022 20:15",
         "17-02-2019",
         null,
         "5",
         "394.95",
         "Security Guard",
         "Watching movies",
         "FALSE",
         null
        ],
        [
         "amxde324",
         "Derek Peterson",
         "derekpeterson324@wingacademy.com",
         "70830 Jonathan Pine Wilcoxburgh, MI 38265",
         "male",
         "36",
         "07-12-2022 20:15",
         "15-12-2020",
         null,
         "2",
         "153.8",
         "Architect",
         "Photography",
         "TRUE",
         null
        ],
        [
         "amxdi438",
         "Diane Henson",
         "dianehenson438@wingacademy.com",
         "86382 Baker Ports Apt. 074 Cookfurt, NM 54313",
         "female",
         "74",
         "07-12-2022 20:15",
         "21-03-2020",
         null,
         "19",
         "62.52",
         "Butcher",
         "Playing musical instruments",
         "FALSE",
         null
        ],
        [
         "amxco721",
         "Cody Lyons",
         "codylyons721@wingacademy.com",
         "60971 Carrillo Square Suite 141 New Kimberlybury, AS 02128",
         "male",
         "47",
         "07-12-2022 20:15",
         "25-11-2019",
         null,
         "14",
         "43.17",
         "Baker",
         "Hunting",
         "FALSE",
         null
        ],
        [
         "amxma249",
         "Margaret Hardy",
         "margarethardy249@wingacademy.com",
         "2900 Sandra Villages Apt. 985 Phillipsstad, NH 19830",
         "female",
         "25",
         "07-12-2022 20:15",
         "17-07-2021",
         null,
         "9",
         "455.27",
         "Barber",
         "Other",
         "FALSE",
         null
        ],
        [
         "amxar881",
         "Arthur Hayes",
         "arthurhayes881@wingacademy.com",
         "353 Elizabeth Forest Deannachester, NM 66952",
         "male",
         "75",
         "07-15-2022  20:15:39",
         "01-04-2021",
         null,
         "6",
         "749.78",
         "Chef",
         "Sewing",
         "FALSE",
         null
        ],
        [
         "amxra702",
         "Raymond Taylor",
         "raymondtaylor702@wingacademy.com",
         "07867 John Mills Apt. 985 Tinaville, ID 59142",
         "male",
         "36",
         "07-12-2022 20:15",
         "24-09-2021",
         null,
         "6",
         "125.18",
         "Butcher",
         "Playing musical instruments",
         "FALSE",
         null
        ],
        [
         "amxti476",
         "Tina Moore",
         "tinamoore476@wingacademy.com",
         "50984 Shelly Pass Port Nicholas, SC 48629",
         "female",
         "34",
         "07-12-2022 20:15",
         "15-07-2020",
         null,
         "17",
         "888.53",
         "Chef",
         "Running",
         "FALSE",
         null
        ],
        [
         "amxky170",
         "Kylie White",
         "kyliewhite170@wingacademy.com",
         "5004 Christine Falls Suite 217 Jasonburgh, NJ 75688",
         "female",
         "63",
         "07-12-2022 20:15",
         "03-02-2020",
         null,
         "6",
         "872.18",
         "Janitor",
         "Reading",
         "TRUE",
         null
        ],
        [
         "amxjo648",
         "Jonathan Manning",
         "jonathanmanning648@wingacademy.com",
         "1501 Gregory Glens Suite 940 Stephensstad, GU 55206",
         "male",
         "30",
         "07-12-2022 20:15",
         "21-01-2022",
         null,
         "0",
         "178.54",
         "Librarian",
         "Playing sports",
         "FALSE",
         null
        ],
        [
         "amxan256",
         "Angela Bryant",
         "angelabryant256@wingacademy.com",
         "01454 Christopher Turnpike North Ryanstad, MI 36226",
         "female",
         "23",
         "07-12-2022 20:15",
         "11-09-2019",
         null,
         "3",
         "525.2",
         "Politician",
         "Cycling",
         "FALSE",
         null
        ]
       ],
       "datasetInfos": [],
       "dbfsResultPath": null,
       "isJsonSchema": true,
       "metadata": {},
       "overflow": false,
       "plotOptions": {
        "customPlotOptions": {},
        "displayType": "table",
        "pivotAggregation": null,
        "pivotColumns": null,
        "xColumns": null,
        "yColumns": null
       },
       "removedWidgets": [],
       "schema": [
        {
         "metadata": "{}",
         "name": "Customer Id",
         "type": "\"string\""
        },
        {
         "metadata": "{}",
         "name": "Name",
         "type": "\"string\""
        },
        {
         "metadata": "{}",
         "name": "Email Id",
         "type": "\"string\""
        },
        {
         "metadata": "{}",
         "name": "address",
         "type": "\"string\""
        },
        {
         "metadata": "{}",
         "name": "gender",
         "type": "\"string\""
        },
        {
         "metadata": "{}",
         "name": "age",
         "type": "\"string\""
        },
        {
         "metadata": "{}",
         "name": "Joining Date",
         "type": "\"string\""
        },
        {
         "metadata": "{}",
         "name": "registered",
         "type": "\"string\""
        },
        {
         "metadata": "{}",
         "name": "order ID",
         "type": "\"string\""
        },
        {
         "metadata": "{}",
         "name": "orders",
         "type": "\"string\""
        },
        {
         "metadata": "{}",
         "name": "spent",
         "type": "\"string\""
        },
        {
         "metadata": "{}",
         "name": "job",
         "type": "\"string\""
        },
        {
         "metadata": "{}",
         "name": "hobbies",
         "type": "\"string\""
        },
        {
         "metadata": "{}",
         "name": "is_married",
         "type": "\"string\""
        },
        {
         "metadata": "{}",
         "name": "datesDiff",
         "type": "\"integer\""
        }
       ],
       "type": "table"
      }
     },
     "output_type": "display_data"
    }
   ],
   "source": [
    "df.withColumn(\"datesDiff\", datediff(current_date(),col(\"registered\"))).display()"
   ]
  },
  {
   "cell_type": "code",
   "execution_count": 0,
   "metadata": {
    "application/vnd.databricks.v1+cell": {
     "cellMetadata": {
      "byteLimit": 2048000,
      "rowLimit": 10000
     },
     "inputWidgets": {},
     "nuid": "5e697929-b46f-44b4-8bcc-a193a4ece7fc",
     "showTitle": false,
     "title": ""
    }
   },
   "outputs": [
    {
     "output_type": "display_data",
     "data": {
      "text/html": [
       "<style scoped>\n",
       "  .table-result-container {\n",
       "    max-height: 300px;\n",
       "    overflow: auto;\n",
       "  }\n",
       "  table, th, td {\n",
       "    border: 1px solid black;\n",
       "    border-collapse: collapse;\n",
       "  }\n",
       "  th, td {\n",
       "    padding: 5px;\n",
       "  }\n",
       "  th {\n",
       "    text-align: left;\n",
       "  }\n",
       "</style><div class='table-result-container'><table class='table-result'><thead style='background-color: white'><tr><th>Customer Id</th><th>Name</th><th>Email Id</th><th>address</th><th>gender</th><th>age</th><th>Joining Date</th><th>registered</th><th>order ID</th><th>orders</th><th>spent</th><th>job</th><th>hobbies</th><th>is_married</th></tr></thead><tbody><tr><td>amxjo131</td><td>Joseph Rice</td><td>josephrice131@slingacademy.com</td><td>91773 Miller Shoal Diaztown, FL 38841</td><td>male</td><td>43</td><td>07-12-2022 20:15</td><td>05-05-2019</td><td>null</td><td>7</td><td>568</td><td>Artist</td><td>Playing sports</td><td>FALSE</td></tr><tr><td>amxga386</td><td>Gary Moore</td><td>garymoore386@slingacademy.com</td><td>6450 John Lodge Territon, KY 95945</td><td>male</td><td>71</td><td>07-12-2021 20:15</td><td>20-05-2020</td><td>null</td><td>11</td><td>568</td><td>Artist</td><td>Swimming</td><td>TRUE</td></tr><tr><td>amxj944</td><td>John Walker</td><td>johnwalker944@slingacademy.com</td><td>27265 Murray Island Kevinfort, PA 63231</td><td>male</td><td>44</td><td>07-12-2022 20:15</td><td>04-04-2020</td><td>null</td><td>11</td><td>497</td><td>Clerk</td><td>Painting</td><td>FALSE</td></tr><tr><td>amxer176</td><td>Eric Carter</td><td>ericcarter176@slingacademy.com</td><td>USNS Knight FPO AA 76532</td><td>male</td><td>38</td><td>07-12-2022 20:15</td><td>30-01-2019</td><td>null</td><td>17</td><td>834</td><td>Butcher</td><td>Playing musical instruments</td><td>FALSE</td></tr><tr><td>amxwi427</td><td>William Jackson</td><td>williamjackson427@slingacademy.com</td><td>170 Jackson Loaf Kristenland, AS 48876</td><td>male</td><td>58</td><td>10-12-2022 20:15</td><td>01-07-2022</td><td>null</td><td>14</td><td>151</td><td>Engineer</td><td>Reading</td><td>FALSE</td></tr><tr><td>amxni228</td><td>Nicole Jones</td><td>nicolejones228@slingacademy.com</td><td>14354 Baker Harbor Apt. 017 Ericville, HI 11192</td><td>female</td><td>33</td><td>07-12-2022 20:15</td><td>07-08-2021</td><td>null</td><td>19</td><td>33</td><td>Unemployed</td><td>Running</td><td>TRUE</td></tr><tr><td>amxda980</td><td>David Davis</td><td>daviddavis980@slingacademy.com</td><td>021 Katherine Mall Jameston, DC 24685</td><td>male</td><td>59</td><td>07-12-2022 20:15</td><td>16-06-2022</td><td>null</td><td>9</td><td>970</td><td>Doctor</td><td>Playing sports</td><td>FALSE</td></tr><tr><td>amxja889</td><td>Jason Montgomery</td><td>jasonmontgomery889@slingacademy.com</td><td>14657 Scott Loop Apt. 735 Port Ashley, NH 34470</td><td>male</td><td>58</td><td>07-12-2023 20:15</td><td>13-11-2021</td><td>null</td><td>12</td><td>676</td><td>Waitress</td><td>Collecting</td><td>FALSE</td></tr><tr><td>amxke695</td><td>Kent Weaver</td><td>kentweaver695@slingacademy.com</td><td>6644 Mitchell Burg Victorhaven, KS 66356</td><td>male</td><td>61</td><td>07-01-2022 20:15</td><td>11-06-2023</td><td>null</td><td>1</td><td>674</td><td>Clerk</td><td>Hiking</td><td>FALSE</td></tr><tr><td>amxda573</td><td>Darrell Dillon</td><td>darrelldillon573@slingacademy.com</td><td>PSC 7267, Box 9911 APO AE 49343</td><td>male</td><td>50</td><td>07-0-2022 20:15</td><td>13-09-2022</td><td>null</td><td>12</td><td>750</td><td>Dentist</td><td>Watching movies</td><td>FALSE</td></tr><tr><td>amxja322</td><td>Jacqueline Wang</td><td>jacquelinewang322@slingacademy.com</td><td>16963 Stewart Curve Suite 27 South Cameron, ND 25136</td><td>female</td><td>22</td><td>07-12-2022 20:15</td><td>08-02-2023</td><td>null</td><td>12</td><td>962</td><td>Housewife</td><td>Collecting</td><td>FALSE</td></tr><tr><td>amxjo185</td><td>Jodi Gonzalez</td><td>jodigonzalez185@slingacademy.com</td><td>378 Johnson Oval South Stacie, RI 76332</td><td>female</td><td>69</td><td>07-12-2022 20:15</td><td>25-06-2021</td><td>null</td><td>12</td><td>68</td><td>Baker</td><td>Photography</td><td>FALSE</td></tr><tr><td>amxom769</td><td>Omar Martin</td><td>omarmartin769@slingacademy.com</td><td>Unit 9103 Box 4771 DPO AA 16592</td><td>male</td><td>28</td><td>07-12-2022 20:15</td><td>28-05-2023</td><td>null</td><td>3</td><td>162</td><td>Doctor</td><td>Gardening</td><td>TRUE</td></tr><tr><td>amxni473</td><td>Nicole Lara</td><td>nicolelara473@slingacademy.com</td><td>9822 Lisa Courts Johnhaven, IL 80438</td><td>female</td><td>77</td><td>07-01-2022 20:15</td><td>03-03-2023</td><td>null</td><td>17</td><td>309</td><td>Janitor</td><td>Hiking</td><td>TRUE</td></tr><tr><td>amxja753</td><td>Jason Brown</td><td>jasonbrown753@slingacademy.com</td><td>7310 Romero Summit East Scotttown, DC 53183</td><td>male</td><td>63</td><td>07-14-2022  20:15:39</td><td>05-12-2022</td><td>null</td><td>13</td><td>763</td><td>Lawyer</td><td>Fishing</td><td>TRUE</td></tr><tr><td>amxda257</td><td>David Benson</td><td>davidbenson257@slingacademy.com</td><td>444 Derek Summit Lisaborough, WA 20685</td><td>male</td><td>61</td><td>07-12-2022 20:15</td><td>15-04-2022</td><td>null</td><td>17</td><td>111</td><td>Lawyer</td><td>Meditation</td><td>TRUE</td></tr><tr><td>amxki513</td><td>Kimberly Mora</td><td>kimberlymora513@slingacademy.com</td><td>7679 Perry Square West Amybury, RI 15144</td><td>female</td><td>34</td><td>07-12-2022 20:15</td><td>19-05-2019</td><td>null</td><td>10</td><td>208</td><td>Farmer</td><td>Collecting</td><td>FALSE</td></tr><tr><td>amxer904</td><td>Erik Macias</td><td>erikmacias904@wingacademy.com</td><td>568 Christopher Tunnel Toddburgh, DE 86966</td><td>male</td><td>25</td><td>07-12-2022 20:15</td><td>18-04-2020</td><td>null</td><td>8</td><td>439</td><td>Accountant</td><td>Fishing</td><td>FALSE</td></tr><tr><td>amxja681</td><td>James Johnson</td><td>jamesjohnson681@wingacademy.com</td><td>19870 Sean Parkway North Jamesfurt, NC 28950</td><td>male</td><td>67</td><td>07-08-2022 20:15</td><td>17-02-2019</td><td>null</td><td>5</td><td>394</td><td>Security Guard</td><td>Watching movies</td><td>FALSE</td></tr><tr><td>amxde324</td><td>Derek Peterson</td><td>derekpeterson324@wingacademy.com</td><td>70830 Jonathan Pine Wilcoxburgh, MI 38265</td><td>male</td><td>36</td><td>07-12-2022 20:15</td><td>15-12-2020</td><td>null</td><td>2</td><td>153</td><td>Architect</td><td>Photography</td><td>TRUE</td></tr><tr><td>amxdi438</td><td>Diane Henson</td><td>dianehenson438@wingacademy.com</td><td>86382 Baker Ports Apt. 074 Cookfurt, NM 54313</td><td>female</td><td>74</td><td>07-12-2022 20:15</td><td>21-03-2020</td><td>null</td><td>19</td><td>62</td><td>Butcher</td><td>Playing musical instruments</td><td>FALSE</td></tr><tr><td>amxco721</td><td>Cody Lyons</td><td>codylyons721@wingacademy.com</td><td>60971 Carrillo Square Suite 141 New Kimberlybury, AS 02128</td><td>male</td><td>47</td><td>07-12-2022 20:15</td><td>25-11-2019</td><td>null</td><td>14</td><td>43</td><td>Baker</td><td>Hunting</td><td>FALSE</td></tr><tr><td>amxma249</td><td>Margaret Hardy</td><td>margarethardy249@wingacademy.com</td><td>2900 Sandra Villages Apt. 985 Phillipsstad, NH 19830</td><td>female</td><td>25</td><td>07-12-2022 20:15</td><td>17-07-2021</td><td>null</td><td>9</td><td>455</td><td>Barber</td><td>Other</td><td>FALSE</td></tr><tr><td>amxar881</td><td>Arthur Hayes</td><td>arthurhayes881@wingacademy.com</td><td>353 Elizabeth Forest Deannachester, NM 66952</td><td>male</td><td>75</td><td>07-15-2022  20:15:39</td><td>01-04-2021</td><td>null</td><td>6</td><td>749</td><td>Chef</td><td>Sewing</td><td>FALSE</td></tr><tr><td>amxra702</td><td>Raymond Taylor</td><td>raymondtaylor702@wingacademy.com</td><td>07867 John Mills Apt. 985 Tinaville, ID 59142</td><td>male</td><td>36</td><td>07-12-2022 20:15</td><td>24-09-2021</td><td>null</td><td>6</td><td>125</td><td>Butcher</td><td>Playing musical instruments</td><td>FALSE</td></tr><tr><td>amxti476</td><td>Tina Moore</td><td>tinamoore476@wingacademy.com</td><td>50984 Shelly Pass Port Nicholas, SC 48629</td><td>female</td><td>34</td><td>07-12-2022 20:15</td><td>15-07-2020</td><td>null</td><td>17</td><td>888</td><td>Chef</td><td>Running</td><td>FALSE</td></tr><tr><td>amxky170</td><td>Kylie White</td><td>kyliewhite170@wingacademy.com</td><td>5004 Christine Falls Suite 217 Jasonburgh, NJ 75688</td><td>female</td><td>63</td><td>07-12-2022 20:15</td><td>03-02-2020</td><td>null</td><td>6</td><td>872</td><td>Janitor</td><td>Reading</td><td>TRUE</td></tr><tr><td>amxjo648</td><td>Jonathan Manning</td><td>jonathanmanning648@wingacademy.com</td><td>1501 Gregory Glens Suite 940 Stephensstad, GU 55206</td><td>male</td><td>30</td><td>07-12-2022 20:15</td><td>21-01-2022</td><td>null</td><td>0</td><td>178</td><td>Librarian</td><td>Playing sports</td><td>FALSE</td></tr><tr><td>amxan256</td><td>Angela Bryant</td><td>angelabryant256@wingacademy.com</td><td>01454 Christopher Turnpike North Ryanstad, MI 36226</td><td>female</td><td>23</td><td>07-12-2022 20:15</td><td>11-09-2019</td><td>null</td><td>3</td><td>525</td><td>Politician</td><td>Cycling</td><td>FALSE</td></tr></tbody></table></div>"
      ]
     },
     "metadata": {
      "application/vnd.databricks.v1+output": {
       "addedWidgets": {},
       "aggData": [],
       "aggError": "",
       "aggOverflow": false,
       "aggSchema": [],
       "aggSeriesLimitReached": false,
       "aggType": "",
       "arguments": {},
       "columnCustomDisplayInfos": {},
       "data": [
        [
         "amxjo131",
         "Joseph Rice",
         "josephrice131@slingacademy.com",
         "91773 Miller Shoal Diaztown, FL 38841",
         "male",
         "43",
         "07-12-2022 20:15",
         "05-05-2019",
         null,
         "7",
         568,
         "Artist",
         "Playing sports",
         "FALSE"
        ],
        [
         "amxga386",
         "Gary Moore",
         "garymoore386@slingacademy.com",
         "6450 John Lodge Territon, KY 95945",
         "male",
         "71",
         "07-12-2021 20:15",
         "20-05-2020",
         null,
         "11",
         568,
         "Artist",
         "Swimming",
         "TRUE"
        ],
        [
         "amxj944",
         "John Walker",
         "johnwalker944@slingacademy.com",
         "27265 Murray Island Kevinfort, PA 63231",
         "male",
         "44",
         "07-12-2022 20:15",
         "04-04-2020",
         null,
         "11",
         497,
         "Clerk",
         "Painting",
         "FALSE"
        ],
        [
         "amxer176",
         "Eric Carter",
         "ericcarter176@slingacademy.com",
         "USNS Knight FPO AA 76532",
         "male",
         "38",
         "07-12-2022 20:15",
         "30-01-2019",
         null,
         "17",
         834,
         "Butcher",
         "Playing musical instruments",
         "FALSE"
        ],
        [
         "amxwi427",
         "William Jackson",
         "williamjackson427@slingacademy.com",
         "170 Jackson Loaf Kristenland, AS 48876",
         "male",
         "58",
         "10-12-2022 20:15",
         "01-07-2022",
         null,
         "14",
         151,
         "Engineer",
         "Reading",
         "FALSE"
        ],
        [
         "amxni228",
         "Nicole Jones",
         "nicolejones228@slingacademy.com",
         "14354 Baker Harbor Apt. 017 Ericville, HI 11192",
         "female",
         "33",
         "07-12-2022 20:15",
         "07-08-2021",
         null,
         "19",
         33,
         "Unemployed",
         "Running",
         "TRUE"
        ],
        [
         "amxda980",
         "David Davis",
         "daviddavis980@slingacademy.com",
         "021 Katherine Mall Jameston, DC 24685",
         "male",
         "59",
         "07-12-2022 20:15",
         "16-06-2022",
         null,
         "9",
         970,
         "Doctor",
         "Playing sports",
         "FALSE"
        ],
        [
         "amxja889",
         "Jason Montgomery",
         "jasonmontgomery889@slingacademy.com",
         "14657 Scott Loop Apt. 735 Port Ashley, NH 34470",
         "male",
         "58",
         "07-12-2023 20:15",
         "13-11-2021",
         null,
         "12",
         676,
         "Waitress",
         "Collecting",
         "FALSE"
        ],
        [
         "amxke695",
         "Kent Weaver",
         "kentweaver695@slingacademy.com",
         "6644 Mitchell Burg Victorhaven, KS 66356",
         "male",
         "61",
         "07-01-2022 20:15",
         "11-06-2023",
         null,
         "1",
         674,
         "Clerk",
         "Hiking",
         "FALSE"
        ],
        [
         "amxda573",
         "Darrell Dillon",
         "darrelldillon573@slingacademy.com",
         "PSC 7267, Box 9911 APO AE 49343",
         "male",
         "50",
         "07-0-2022 20:15",
         "13-09-2022",
         null,
         "12",
         750,
         "Dentist",
         "Watching movies",
         "FALSE"
        ],
        [
         "amxja322",
         "Jacqueline Wang",
         "jacquelinewang322@slingacademy.com",
         "16963 Stewart Curve Suite 27 South Cameron, ND 25136",
         "female",
         "22",
         "07-12-2022 20:15",
         "08-02-2023",
         null,
         "12",
         962,
         "Housewife",
         "Collecting",
         "FALSE"
        ],
        [
         "amxjo185",
         "Jodi Gonzalez",
         "jodigonzalez185@slingacademy.com",
         "378 Johnson Oval South Stacie, RI 76332",
         "female",
         "69",
         "07-12-2022 20:15",
         "25-06-2021",
         null,
         "12",
         68,
         "Baker",
         "Photography",
         "FALSE"
        ],
        [
         "amxom769",
         "Omar Martin",
         "omarmartin769@slingacademy.com",
         "Unit 9103 Box 4771 DPO AA 16592",
         "male",
         "28",
         "07-12-2022 20:15",
         "28-05-2023",
         null,
         "3",
         162,
         "Doctor",
         "Gardening",
         "TRUE"
        ],
        [
         "amxni473",
         "Nicole Lara",
         "nicolelara473@slingacademy.com",
         "9822 Lisa Courts Johnhaven, IL 80438",
         "female",
         "77",
         "07-01-2022 20:15",
         "03-03-2023",
         null,
         "17",
         309,
         "Janitor",
         "Hiking",
         "TRUE"
        ],
        [
         "amxja753",
         "Jason Brown",
         "jasonbrown753@slingacademy.com",
         "7310 Romero Summit East Scotttown, DC 53183",
         "male",
         "63",
         "07-14-2022  20:15:39",
         "05-12-2022",
         null,
         "13",
         763,
         "Lawyer",
         "Fishing",
         "TRUE"
        ],
        [
         "amxda257",
         "David Benson",
         "davidbenson257@slingacademy.com",
         "444 Derek Summit Lisaborough, WA 20685",
         "male",
         "61",
         "07-12-2022 20:15",
         "15-04-2022",
         null,
         "17",
         111,
         "Lawyer",
         "Meditation",
         "TRUE"
        ],
        [
         "amxki513",
         "Kimberly Mora",
         "kimberlymora513@slingacademy.com",
         "7679 Perry Square West Amybury, RI 15144",
         "female",
         "34",
         "07-12-2022 20:15",
         "19-05-2019",
         null,
         "10",
         208,
         "Farmer",
         "Collecting",
         "FALSE"
        ],
        [
         "amxer904",
         "Erik Macias",
         "erikmacias904@wingacademy.com",
         "568 Christopher Tunnel Toddburgh, DE 86966",
         "male",
         "25",
         "07-12-2022 20:15",
         "18-04-2020",
         null,
         "8",
         439,
         "Accountant",
         "Fishing",
         "FALSE"
        ],
        [
         "amxja681",
         "James Johnson",
         "jamesjohnson681@wingacademy.com",
         "19870 Sean Parkway North Jamesfurt, NC 28950",
         "male",
         "67",
         "07-08-2022 20:15",
         "17-02-2019",
         null,
         "5",
         394,
         "Security Guard",
         "Watching movies",
         "FALSE"
        ],
        [
         "amxde324",
         "Derek Peterson",
         "derekpeterson324@wingacademy.com",
         "70830 Jonathan Pine Wilcoxburgh, MI 38265",
         "male",
         "36",
         "07-12-2022 20:15",
         "15-12-2020",
         null,
         "2",
         153,
         "Architect",
         "Photography",
         "TRUE"
        ],
        [
         "amxdi438",
         "Diane Henson",
         "dianehenson438@wingacademy.com",
         "86382 Baker Ports Apt. 074 Cookfurt, NM 54313",
         "female",
         "74",
         "07-12-2022 20:15",
         "21-03-2020",
         null,
         "19",
         62,
         "Butcher",
         "Playing musical instruments",
         "FALSE"
        ],
        [
         "amxco721",
         "Cody Lyons",
         "codylyons721@wingacademy.com",
         "60971 Carrillo Square Suite 141 New Kimberlybury, AS 02128",
         "male",
         "47",
         "07-12-2022 20:15",
         "25-11-2019",
         null,
         "14",
         43,
         "Baker",
         "Hunting",
         "FALSE"
        ],
        [
         "amxma249",
         "Margaret Hardy",
         "margarethardy249@wingacademy.com",
         "2900 Sandra Villages Apt. 985 Phillipsstad, NH 19830",
         "female",
         "25",
         "07-12-2022 20:15",
         "17-07-2021",
         null,
         "9",
         455,
         "Barber",
         "Other",
         "FALSE"
        ],
        [
         "amxar881",
         "Arthur Hayes",
         "arthurhayes881@wingacademy.com",
         "353 Elizabeth Forest Deannachester, NM 66952",
         "male",
         "75",
         "07-15-2022  20:15:39",
         "01-04-2021",
         null,
         "6",
         749,
         "Chef",
         "Sewing",
         "FALSE"
        ],
        [
         "amxra702",
         "Raymond Taylor",
         "raymondtaylor702@wingacademy.com",
         "07867 John Mills Apt. 985 Tinaville, ID 59142",
         "male",
         "36",
         "07-12-2022 20:15",
         "24-09-2021",
         null,
         "6",
         125,
         "Butcher",
         "Playing musical instruments",
         "FALSE"
        ],
        [
         "amxti476",
         "Tina Moore",
         "tinamoore476@wingacademy.com",
         "50984 Shelly Pass Port Nicholas, SC 48629",
         "female",
         "34",
         "07-12-2022 20:15",
         "15-07-2020",
         null,
         "17",
         888,
         "Chef",
         "Running",
         "FALSE"
        ],
        [
         "amxky170",
         "Kylie White",
         "kyliewhite170@wingacademy.com",
         "5004 Christine Falls Suite 217 Jasonburgh, NJ 75688",
         "female",
         "63",
         "07-12-2022 20:15",
         "03-02-2020",
         null,
         "6",
         872,
         "Janitor",
         "Reading",
         "TRUE"
        ],
        [
         "amxjo648",
         "Jonathan Manning",
         "jonathanmanning648@wingacademy.com",
         "1501 Gregory Glens Suite 940 Stephensstad, GU 55206",
         "male",
         "30",
         "07-12-2022 20:15",
         "21-01-2022",
         null,
         "0",
         178,
         "Librarian",
         "Playing sports",
         "FALSE"
        ],
        [
         "amxan256",
         "Angela Bryant",
         "angelabryant256@wingacademy.com",
         "01454 Christopher Turnpike North Ryanstad, MI 36226",
         "female",
         "23",
         "07-12-2022 20:15",
         "11-09-2019",
         null,
         "3",
         525,
         "Politician",
         "Cycling",
         "FALSE"
        ]
       ],
       "datasetInfos": [],
       "dbfsResultPath": null,
       "isJsonSchema": true,
       "metadata": {},
       "overflow": false,
       "plotOptions": {
        "customPlotOptions": {},
        "displayType": "table",
        "pivotAggregation": null,
        "pivotColumns": null,
        "xColumns": null,
        "yColumns": null
       },
       "removedWidgets": [],
       "schema": [
        {
         "metadata": "{}",
         "name": "Customer Id",
         "type": "\"string\""
        },
        {
         "metadata": "{}",
         "name": "Name",
         "type": "\"string\""
        },
        {
         "metadata": "{}",
         "name": "Email Id",
         "type": "\"string\""
        },
        {
         "metadata": "{}",
         "name": "address",
         "type": "\"string\""
        },
        {
         "metadata": "{}",
         "name": "gender",
         "type": "\"string\""
        },
        {
         "metadata": "{}",
         "name": "age",
         "type": "\"string\""
        },
        {
         "metadata": "{}",
         "name": "Joining Date",
         "type": "\"string\""
        },
        {
         "metadata": "{}",
         "name": "registered",
         "type": "\"string\""
        },
        {
         "metadata": "{}",
         "name": "order ID",
         "type": "\"string\""
        },
        {
         "metadata": "{}",
         "name": "orders",
         "type": "\"string\""
        },
        {
         "metadata": "{}",
         "name": "spent",
         "type": "\"integer\""
        },
        {
         "metadata": "{}",
         "name": "job",
         "type": "\"string\""
        },
        {
         "metadata": "{}",
         "name": "hobbies",
         "type": "\"string\""
        },
        {
         "metadata": "{}",
         "name": "is_married",
         "type": "\"string\""
        }
       ],
       "type": "table"
      }
     },
     "output_type": "display_data"
    }
   ],
   "source": [
    "df3=df.withColumn('spent',col('spent').cast('Integer'))\n",
    "display(df3)"
   ]
  },
  {
   "cell_type": "code",
   "execution_count": 0,
   "metadata": {
    "application/vnd.databricks.v1+cell": {
     "cellMetadata": {
      "byteLimit": 2048000,
      "rowLimit": 10000
     },
     "inputWidgets": {},
     "nuid": "a364b84e-c27f-46d3-bd45-eb9c6286e967",
     "showTitle": false,
     "title": ""
    }
   },
   "outputs": [
    {
     "output_type": "stream",
     "name": "stdout",
     "output_type": "stream",
     "text": [
      "root\n |-- Customer Id: string (nullable = true)\n |-- Name: string (nullable = true)\n |-- Email Id: string (nullable = true)\n |-- address: string (nullable = true)\n |-- gender: string (nullable = true)\n |-- age: string (nullable = true)\n |-- Joining Date: string (nullable = true)\n |-- registered: string (nullable = true)\n |-- order ID: string (nullable = true)\n |-- orders: string (nullable = true)\n |-- spent: integer (nullable = true)\n |-- job: string (nullable = true)\n |-- hobbies: string (nullable = true)\n |-- is_married: string (nullable = true)\n\n"
     ]
    }
   ],
   "source": [
    "df3.printSchema()"
   ]
  },
  {
   "cell_type": "code",
   "execution_count": 0,
   "metadata": {
    "application/vnd.databricks.v1+cell": {
     "cellMetadata": {
      "byteLimit": 2048000,
      "rowLimit": 10000
     },
     "inputWidgets": {},
     "nuid": "bf2ffb9e-ddc6-433b-a4f2-0f2b8d1bc733",
     "showTitle": false,
     "title": ""
    }
   },
   "outputs": [
    {
     "output_type": "display_data",
     "data": {
      "text/html": [
       "<style scoped>\n",
       "  .table-result-container {\n",
       "    max-height: 300px;\n",
       "    overflow: auto;\n",
       "  }\n",
       "  table, th, td {\n",
       "    border: 1px solid black;\n",
       "    border-collapse: collapse;\n",
       "  }\n",
       "  th, td {\n",
       "    padding: 5px;\n",
       "  }\n",
       "  th {\n",
       "    text-align: left;\n",
       "  }\n",
       "</style><div class='table-result-container'><table class='table-result'><thead style='background-color: white'><tr><th>Customer Id</th><th>gender</th><th>count</th></tr></thead><tbody><tr><td>amxni228</td><td>female</td><td>1</td></tr><tr><td>amxda980</td><td>male</td><td>1</td></tr><tr><td>amxar881</td><td>male</td><td>1</td></tr><tr><td>amxti476</td><td>female</td><td>1</td></tr><tr><td>amxan256</td><td>female</td><td>1</td></tr><tr><td>amxja753</td><td>male</td><td>1</td></tr><tr><td>amxwi427</td><td>male</td><td>1</td></tr><tr><td>amxga386</td><td>male</td><td>1</td></tr><tr><td>amxra702</td><td>male</td><td>1</td></tr><tr><td>amxer904</td><td>male</td><td>1</td></tr><tr><td>amxki513</td><td>female</td><td>1</td></tr><tr><td>amxjo185</td><td>female</td><td>1</td></tr><tr><td>amxj944</td><td>male</td><td>1</td></tr><tr><td>amxda573</td><td>male</td><td>1</td></tr><tr><td>amxni473</td><td>female</td><td>1</td></tr><tr><td>amxma249</td><td>female</td><td>1</td></tr><tr><td>amxco721</td><td>male</td><td>1</td></tr><tr><td>amxer176</td><td>male</td><td>1</td></tr><tr><td>amxke695</td><td>male</td><td>1</td></tr><tr><td>amxky170</td><td>female</td><td>1</td></tr><tr><td>amxja681</td><td>male</td><td>1</td></tr><tr><td>amxom769</td><td>male</td><td>1</td></tr><tr><td>amxja322</td><td>female</td><td>1</td></tr><tr><td>amxdi438</td><td>female</td><td>1</td></tr><tr><td>amxjo648</td><td>male</td><td>1</td></tr><tr><td>amxda257</td><td>male</td><td>1</td></tr><tr><td>amxde324</td><td>male</td><td>1</td></tr><tr><td>amxjo131</td><td>male</td><td>1</td></tr><tr><td>amxja889</td><td>male</td><td>1</td></tr></tbody></table></div>"
      ]
     },
     "metadata": {
      "application/vnd.databricks.v1+output": {
       "addedWidgets": {},
       "aggData": [],
       "aggError": "",
       "aggOverflow": false,
       "aggSchema": [],
       "aggSeriesLimitReached": false,
       "aggType": "",
       "arguments": {},
       "columnCustomDisplayInfos": {},
       "data": [
        [
         "amxni228",
         "female",
         1
        ],
        [
         "amxda980",
         "male",
         1
        ],
        [
         "amxar881",
         "male",
         1
        ],
        [
         "amxti476",
         "female",
         1
        ],
        [
         "amxan256",
         "female",
         1
        ],
        [
         "amxja753",
         "male",
         1
        ],
        [
         "amxwi427",
         "male",
         1
        ],
        [
         "amxga386",
         "male",
         1
        ],
        [
         "amxra702",
         "male",
         1
        ],
        [
         "amxer904",
         "male",
         1
        ],
        [
         "amxki513",
         "female",
         1
        ],
        [
         "amxjo185",
         "female",
         1
        ],
        [
         "amxj944",
         "male",
         1
        ],
        [
         "amxda573",
         "male",
         1
        ],
        [
         "amxni473",
         "female",
         1
        ],
        [
         "amxma249",
         "female",
         1
        ],
        [
         "amxco721",
         "male",
         1
        ],
        [
         "amxer176",
         "male",
         1
        ],
        [
         "amxke695",
         "male",
         1
        ],
        [
         "amxky170",
         "female",
         1
        ],
        [
         "amxja681",
         "male",
         1
        ],
        [
         "amxom769",
         "male",
         1
        ],
        [
         "amxja322",
         "female",
         1
        ],
        [
         "amxdi438",
         "female",
         1
        ],
        [
         "amxjo648",
         "male",
         1
        ],
        [
         "amxda257",
         "male",
         1
        ],
        [
         "amxde324",
         "male",
         1
        ],
        [
         "amxjo131",
         "male",
         1
        ],
        [
         "amxja889",
         "male",
         1
        ]
       ],
       "datasetInfos": [],
       "dbfsResultPath": null,
       "isJsonSchema": true,
       "metadata": {},
       "overflow": false,
       "plotOptions": {
        "customPlotOptions": {},
        "displayType": "table",
        "pivotAggregation": null,
        "pivotColumns": null,
        "xColumns": null,
        "yColumns": null
       },
       "removedWidgets": [],
       "schema": [
        {
         "metadata": "{}",
         "name": "Customer Id",
         "type": "\"string\""
        },
        {
         "metadata": "{}",
         "name": "gender",
         "type": "\"string\""
        },
        {
         "metadata": "{}",
         "name": "count",
         "type": "\"long\""
        }
       ],
       "type": "table"
      }
     },
     "output_type": "display_data"
    }
   ],
   "source": [
    "gpdf=df3.groupBy('Customer Id','gender').count()\n",
    "display(gpdf)"
   ]
  },
  {
   "cell_type": "code",
   "execution_count": 0,
   "metadata": {
    "application/vnd.databricks.v1+cell": {
     "cellMetadata": {
      "byteLimit": 2048000,
      "rowLimit": 10000
     },
     "inputWidgets": {},
     "nuid": "d2ed1b25-6c48-4446-8a26-199514a5819d",
     "showTitle": false,
     "title": ""
    }
   },
   "outputs": [
    {
     "output_type": "display_data",
     "data": {
      "text/html": [
       "<style scoped>\n",
       "  .table-result-container {\n",
       "    max-height: 300px;\n",
       "    overflow: auto;\n",
       "  }\n",
       "  table, th, td {\n",
       "    border: 1px solid black;\n",
       "    border-collapse: collapse;\n",
       "  }\n",
       "  th, td {\n",
       "    padding: 5px;\n",
       "  }\n",
       "  th {\n",
       "    text-align: left;\n",
       "  }\n",
       "</style><div class='table-result-container'><table class='table-result'><thead style='background-color: white'><tr><th>gender</th><th>Average</th></tr></thead><tbody><tr><td>female</td><td>438.2</td></tr><tr><td>male</td><td>463.42105263157896</td></tr></tbody></table></div>"
      ]
     },
     "metadata": {
      "application/vnd.databricks.v1+output": {
       "addedWidgets": {},
       "aggData": [],
       "aggError": "",
       "aggOverflow": false,
       "aggSchema": [],
       "aggSeriesLimitReached": false,
       "aggType": "",
       "arguments": {},
       "columnCustomDisplayInfos": {},
       "data": [
        [
         "female",
         438.2
        ],
        [
         "male",
         463.42105263157896
        ]
       ],
       "datasetInfos": [],
       "dbfsResultPath": null,
       "isJsonSchema": true,
       "metadata": {},
       "overflow": false,
       "plotOptions": {
        "customPlotOptions": {},
        "displayType": "table",
        "pivotAggregation": null,
        "pivotColumns": null,
        "xColumns": null,
        "yColumns": null
       },
       "removedWidgets": [],
       "schema": [
        {
         "metadata": "{}",
         "name": "gender",
         "type": "\"string\""
        },
        {
         "metadata": "{}",
         "name": "Average",
         "type": "\"double\""
        }
       ],
       "type": "table"
      }
     },
     "output_type": "display_data"
    }
   ],
   "source": [
    "dfff=df3.groupBy('gender').agg(avg('spent').alias('Average'))\n",
    "display(dfff)"
   ]
  },
  {
   "cell_type": "code",
   "execution_count": 0,
   "metadata": {
    "application/vnd.databricks.v1+cell": {
     "cellMetadata": {},
     "inputWidgets": {},
     "nuid": "8922048e-5287-4949-8b36-94efd180f5ed",
     "showTitle": false,
     "title": ""
    }
   },
   "outputs": [],
   "source": []
  }
 ],
 "metadata": {
  "application/vnd.databricks.v1+notebook": {
   "dashboards": [],
   "language": "python",
   "notebookMetadata": {
    "pythonIndentUnit": 4
   },
   "notebookName": "pysparkall",
   "widgets": {}
  }
 },
 "nbformat": 4,
 "nbformat_minor": 0
}
