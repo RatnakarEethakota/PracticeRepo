{
 "cells": [
  {
   "cell_type": "code",
   "execution_count": 0,
   "metadata": {
    "application/vnd.databricks.v1+cell": {
     "cellMetadata": {
      "byteLimit": 2048000,
      "rowLimit": 10000
     },
     "inputWidgets": {},
     "nuid": "7de8ed04-f5c8-4fa2-9dd7-890512810e46",
     "showTitle": false,
     "title": ""
    }
   },
   "outputs": [],
   "source": [
    "from pyspark.sql import *\n",
    "from pyspark.sql.types import *\n",
    "from pyspark.sql.functions import *"
   ]
  },
  {
   "cell_type": "code",
   "execution_count": 0,
   "metadata": {
    "application/vnd.databricks.v1+cell": {
     "cellMetadata": {
      "byteLimit": 2048000,
      "rowLimit": 10000
     },
     "inputWidgets": {},
     "nuid": "e27b4cef-7ac0-41e6-b226-20796c5c18a7",
     "showTitle": false,
     "title": ""
    }
   },
   "outputs": [
    {
     "output_type": "display_data",
     "data": {
      "text/html": [
       "<style scoped>\n",
       "  .table-result-container {\n",
       "    max-height: 300px;\n",
       "    overflow: auto;\n",
       "  }\n",
       "  table, th, td {\n",
       "    border: 1px solid black;\n",
       "    border-collapse: collapse;\n",
       "  }\n",
       "  th, td {\n",
       "    padding: 5px;\n",
       "  }\n",
       "  th {\n",
       "    text-align: left;\n",
       "  }\n",
       "</style><div class='table-result-container'><table class='table-result'><thead style='background-color: white'><tr><th>ID</th><th>Name</th><th>Age</th><th>Score</th><th>Timestamp</th></tr></thead><tbody><tr><td>1</td><td>Alice</td><td>23</td><td>85</td><td>20230801</td></tr><tr><td>2</td><td>Bob</td><td>22</td><td>78</td><td>20230802</td></tr><tr><td>3</td><td>Charlie</td><td>24</td><td>92</td><td>20230803</td></tr><tr><td>4</td><td>David</td><td>21</td><td>76</td><td>20230804</td></tr><tr><td>5</td><td>Eve</td><td>23</td><td>88</td><td>20230805</td></tr><tr><td>6</td><td>Frank</td><td>25</td><td>80</td><td>20230806</td></tr><tr><td>7</td><td>Grace</td><td>22</td><td>90</td><td>20230807</td></tr><tr><td>8</td><td>Heidi</td><td>24</td><td>75</td><td>20230808</td></tr><tr><td>9</td><td>Ivan</td><td>23</td><td>89</td><td>20230809</td></tr><tr><td>10</td><td>Judy</td><td>21</td><td>91</td><td>20230810</td></tr><tr><td>11</td><td>Karl</td><td>24</td><td>82</td><td>20230811</td></tr><tr><td>12</td><td>Leo</td><td>23</td><td>84</td><td>20230812</td></tr><tr><td>13</td><td>Mona</td><td>22</td><td>77</td><td>20230813</td></tr><tr><td>14</td><td>Nina</td><td>21</td><td>95</td><td>20230814</td></tr><tr><td>15</td><td>Oscar</td><td>23</td><td>79</td><td>20230815</td></tr><tr><td>16</td><td>Paul</td><td>24</td><td>87</td><td>20230816</td></tr><tr><td>17</td><td>Quinn</td><td>22</td><td>81</td><td>20230817</td></tr><tr><td>18</td><td>Rachel</td><td>23</td><td>93</td><td>20230818</td></tr><tr><td>19</td><td>Sam</td><td>24</td><td>74</td><td>20230819</td></tr><tr><td>20</td><td>Tina</td><td>21</td><td>85</td><td>20230820</td></tr><tr><td>21</td><td>Uma</td><td>23</td><td>88</td><td>20230821</td></tr><tr><td>22</td><td>Victor</td><td>22</td><td>78</td><td>20230822</td></tr><tr><td>23</td><td>Wendy</td><td>24</td><td>92</td><td>20230823</td></tr><tr><td>24</td><td>Xander</td><td>21</td><td>76</td><td>20230824</td></tr><tr><td>25</td><td>Yara</td><td>23</td><td>88</td><td>20230825</td></tr><tr><td>26</td><td>Zane</td><td>25</td><td>80</td><td>20230826</td></tr><tr><td>27</td><td>Aaron</td><td>22</td><td>90</td><td>20230827</td></tr><tr><td>28</td><td>Bella</td><td>24</td><td>75</td><td>20230828</td></tr><tr><td>29</td><td>Carter</td><td>23</td><td>89</td><td>20230829</td></tr><tr><td>30</td><td>Diana</td><td>21</td><td>91</td><td>20230830</td></tr><tr><td>31</td><td>Eli</td><td>24</td><td>82</td><td>20230831</td></tr><tr><td>32</td><td>Fiona</td><td>23</td><td>84</td><td>20230901</td></tr><tr><td>33</td><td>George</td><td>22</td><td>77</td><td>20230902</td></tr><tr><td>34</td><td>Hannah</td><td>21</td><td>95</td><td>20230903</td></tr><tr><td>35</td><td>Isaac</td><td>23</td><td>79</td><td>20230904</td></tr><tr><td>36</td><td>Jack</td><td>24</td><td>87</td><td>20230905</td></tr><tr><td>37</td><td>Kara</td><td>22</td><td>81</td><td>20230906</td></tr><tr><td>38</td><td>Liam</td><td>23</td><td>93</td><td>20230907</td></tr><tr><td>39</td><td>Mila</td><td>24</td><td>74</td><td>20230908</td></tr><tr><td>40</td><td>Noah</td><td>21</td><td>85</td><td>20230909</td></tr><tr><td>41</td><td>Olivia</td><td>23</td><td>88</td><td>20230910</td></tr><tr><td>42</td><td>Pete</td><td>22</td><td>78</td><td>20230911</td></tr><tr><td>43</td><td>Queen</td><td>24</td><td>92</td><td>20230912</td></tr><tr><td>44</td><td>Reed</td><td>21</td><td>76</td><td>20230913</td></tr><tr><td>45</td><td>Sia</td><td>23</td><td>88</td><td>20230914</td></tr><tr><td>46</td><td>Toby</td><td>25</td><td>80</td><td>20230915</td></tr><tr><td>47</td><td>Ursula</td><td>22</td><td>90</td><td>20230916</td></tr><tr><td>48</td><td>Vera</td><td>24</td><td>75</td><td>20230917</td></tr><tr><td>49</td><td>Will</td><td>23</td><td>89</td><td>20230918</td></tr><tr><td>50</td><td>Xena</td><td>21</td><td>91</td><td>20230919</td></tr></tbody></table></div>"
      ]
     },
     "metadata": {
      "application/vnd.databricks.v1+output": {
       "addedWidgets": {},
       "aggData": [],
       "aggError": "",
       "aggOverflow": false,
       "aggSchema": [],
       "aggSeriesLimitReached": false,
       "aggType": "",
       "arguments": {},
       "columnCustomDisplayInfos": {},
       "data": [
        [
         1,
         "Alice",
         23,
         85,
         20230801
        ],
        [
         2,
         "Bob",
         22,
         78,
         20230802
        ],
        [
         3,
         "Charlie",
         24,
         92,
         20230803
        ],
        [
         4,
         "David",
         21,
         76,
         20230804
        ],
        [
         5,
         "Eve",
         23,
         88,
         20230805
        ],
        [
         6,
         "Frank",
         25,
         80,
         20230806
        ],
        [
         7,
         "Grace",
         22,
         90,
         20230807
        ],
        [
         8,
         "Heidi",
         24,
         75,
         20230808
        ],
        [
         9,
         "Ivan",
         23,
         89,
         20230809
        ],
        [
         10,
         "Judy",
         21,
         91,
         20230810
        ],
        [
         11,
         "Karl",
         24,
         82,
         20230811
        ],
        [
         12,
         "Leo",
         23,
         84,
         20230812
        ],
        [
         13,
         "Mona",
         22,
         77,
         20230813
        ],
        [
         14,
         "Nina",
         21,
         95,
         20230814
        ],
        [
         15,
         "Oscar",
         23,
         79,
         20230815
        ],
        [
         16,
         "Paul",
         24,
         87,
         20230816
        ],
        [
         17,
         "Quinn",
         22,
         81,
         20230817
        ],
        [
         18,
         "Rachel",
         23,
         93,
         20230818
        ],
        [
         19,
         "Sam",
         24,
         74,
         20230819
        ],
        [
         20,
         "Tina",
         21,
         85,
         20230820
        ],
        [
         21,
         "Uma",
         23,
         88,
         20230821
        ],
        [
         22,
         "Victor",
         22,
         78,
         20230822
        ],
        [
         23,
         "Wendy",
         24,
         92,
         20230823
        ],
        [
         24,
         "Xander",
         21,
         76,
         20230824
        ],
        [
         25,
         "Yara",
         23,
         88,
         20230825
        ],
        [
         26,
         "Zane",
         25,
         80,
         20230826
        ],
        [
         27,
         "Aaron",
         22,
         90,
         20230827
        ],
        [
         28,
         "Bella",
         24,
         75,
         20230828
        ],
        [
         29,
         "Carter",
         23,
         89,
         20230829
        ],
        [
         30,
         "Diana",
         21,
         91,
         20230830
        ],
        [
         31,
         "Eli",
         24,
         82,
         20230831
        ],
        [
         32,
         "Fiona",
         23,
         84,
         20230901
        ],
        [
         33,
         "George",
         22,
         77,
         20230902
        ],
        [
         34,
         "Hannah",
         21,
         95,
         20230903
        ],
        [
         35,
         "Isaac",
         23,
         79,
         20230904
        ],
        [
         36,
         "Jack",
         24,
         87,
         20230905
        ],
        [
         37,
         "Kara",
         22,
         81,
         20230906
        ],
        [
         38,
         "Liam",
         23,
         93,
         20230907
        ],
        [
         39,
         "Mila",
         24,
         74,
         20230908
        ],
        [
         40,
         "Noah",
         21,
         85,
         20230909
        ],
        [
         41,
         "Olivia",
         23,
         88,
         20230910
        ],
        [
         42,
         "Pete",
         22,
         78,
         20230911
        ],
        [
         43,
         "Queen",
         24,
         92,
         20230912
        ],
        [
         44,
         "Reed",
         21,
         76,
         20230913
        ],
        [
         45,
         "Sia",
         23,
         88,
         20230914
        ],
        [
         46,
         "Toby",
         25,
         80,
         20230915
        ],
        [
         47,
         "Ursula",
         22,
         90,
         20230916
        ],
        [
         48,
         "Vera",
         24,
         75,
         20230917
        ],
        [
         49,
         "Will",
         23,
         89,
         20230918
        ],
        [
         50,
         "Xena",
         21,
         91,
         20230919
        ]
       ],
       "datasetInfos": [],
       "dbfsResultPath": null,
       "isJsonSchema": true,
       "metadata": {},
       "overflow": false,
       "plotOptions": {
        "customPlotOptions": {},
        "displayType": "table",
        "pivotAggregation": null,
        "pivotColumns": null,
        "xColumns": null,
        "yColumns": null
       },
       "removedWidgets": [],
       "schema": [
        {
         "metadata": "{}",
         "name": "ID",
         "type": "\"integer\""
        },
        {
         "metadata": "{}",
         "name": "Name",
         "type": "\"string\""
        },
        {
         "metadata": "{}",
         "name": "Age",
         "type": "\"integer\""
        },
        {
         "metadata": "{}",
         "name": "Score",
         "type": "\"integer\""
        },
        {
         "metadata": "{}",
         "name": "Timestamp",
         "type": "\"long\""
        }
       ],
       "type": "table"
      }
     },
     "output_type": "display_data"
    }
   ],
   "source": [
    "data = [\n",
    "    (1, \"Alice\", 23, 85, 20230801),\n",
    "    (2, \"Bob\", 22, 78, 20230802),\n",
    "    (3, \"Charlie\", 24, 92, 20230803),\n",
    "    (4, \"David\", 21, 76, 20230804),\n",
    "    (5, \"Eve\", 23, 88, 20230805),\n",
    "    (6, \"Frank\", 25, 80, 20230806),\n",
    "    (7, \"Grace\", 22, 90, 20230807),\n",
    "    (8, \"Heidi\", 24, 75, 20230808),\n",
    "    (9, \"Ivan\", 23, 89, 20230809),\n",
    "    (10, \"Judy\", 21, 91, 20230810),\n",
    "    (11, \"Karl\", 24, 82, 20230811),\n",
    "    (12, \"Leo\", 23, 84, 20230812),\n",
    "    (13, \"Mona\", 22, 77, 20230813),\n",
    "    (14, \"Nina\", 21, 95, 20230814),\n",
    "    (15, \"Oscar\", 23, 79, 20230815),\n",
    "    (16, \"Paul\", 24, 87, 20230816),\n",
    "    (17, \"Quinn\", 22, 81, 20230817),\n",
    "    (18, \"Rachel\", 23, 93, 20230818),\n",
    "    (19, \"Sam\", 24, 74, 20230819),\n",
    "    (20, \"Tina\", 21, 85, 20230820),\n",
    "    (21, \"Uma\", 23, 88, 20230821),\n",
    "    (22, \"Victor\", 22, 78, 20230822),\n",
    "    (23, \"Wendy\", 24, 92, 20230823),\n",
    "    (24, \"Xander\", 21, 76, 20230824),\n",
    "    (25, \"Yara\", 23, 88, 20230825),\n",
    "    (26, \"Zane\", 25, 80, 20230826),\n",
    "    (27, \"Aaron\", 22, 90, 20230827),\n",
    "    (28, \"Bella\", 24, 75, 20230828),\n",
    "    (29, \"Carter\", 23, 89, 20230829),\n",
    "    (30, \"Diana\", 21, 91, 20230830),\n",
    "    (31, \"Eli\", 24, 82, 20230831),\n",
    "    (32, \"Fiona\", 23, 84, 20230901),\n",
    "    (33, \"George\", 22, 77, 20230902),\n",
    "    (34, \"Hannah\", 21, 95, 20230903),\n",
    "    (35, \"Isaac\", 23, 79, 20230904),\n",
    "    (36, \"Jack\", 24, 87, 20230905),\n",
    "    (37, \"Kara\", 22, 81, 20230906),\n",
    "    (38, \"Liam\", 23, 93, 20230907),\n",
    "    (39, \"Mila\", 24, 74, 20230908),\n",
    "    (40, \"Noah\", 21, 85, 20230909),\n",
    "    (41, \"Olivia\", 23, 88, 20230910),\n",
    "    (42, \"Pete\", 22, 78, 20230911),\n",
    "    (43, \"Queen\", 24, 92, 20230912),\n",
    "    (44, \"Reed\", 21, 76, 20230913),\n",
    "    (45, \"Sia\", 23, 88, 20230914),\n",
    "    (46, \"Toby\", 25, 80, 20230915),\n",
    "    (47, \"Ursula\", 22, 90, 20230916),\n",
    "    (48, \"Vera\", 24, 75, 20230917),\n",
    "    (49, \"Will\", 23, 89, 20230918),\n",
    "    (50, \"Xena\", 21, 91, 20230919)\n",
    "]\n",
    "\n",
    "\n",
    "schema = StructType([\n",
    "    StructField(\"ID\", IntegerType(), True),\n",
    "    StructField(\"Name\", StringType(), True),\n",
    "    StructField(\"Age\", IntegerType(), True),\n",
    "    StructField(\"Score\", IntegerType(), True),\n",
    "    StructField(\"Timestamp\", LongType(), False)\n",
    "])\n",
    "\n",
    "df=spark.createDataFrame(data=data, schema=schema)\n",
    "df.display()"
   ]
  },
  {
   "cell_type": "code",
   "execution_count": 0,
   "metadata": {
    "application/vnd.databricks.v1+cell": {
     "cellMetadata": {
      "byteLimit": 2048000,
      "rowLimit": 10000
     },
     "inputWidgets": {},
     "nuid": "72f0daf8-5c41-4c18-bb30-7a3117563340",
     "showTitle": false,
     "title": ""
    }
   },
   "outputs": [
    {
     "output_type": "display_data",
     "data": {
      "text/html": [
       "<style scoped>\n",
       "  .table-result-container {\n",
       "    max-height: 300px;\n",
       "    overflow: auto;\n",
       "  }\n",
       "  table, th, td {\n",
       "    border: 1px solid black;\n",
       "    border-collapse: collapse;\n",
       "  }\n",
       "  th, td {\n",
       "    padding: 5px;\n",
       "  }\n",
       "  th {\n",
       "    text-align: left;\n",
       "  }\n",
       "</style><div class='table-result-container'><table class='table-result'><thead style='background-color: white'><tr><th>ID</th><th>Name</th><th>Age</th><th>Score</th><th>Timestamp</th></tr></thead><tbody><tr><td>1</td><td>Sophia</td><td>23</td><td>85</td><td>20221001</td></tr><tr><td>2</td><td>Mila</td><td>22</td><td>78</td><td>20221002</td></tr><tr><td>3</td><td>George</td><td>24</td><td>92</td><td>20221003</td></tr><tr><td>5</td><td>Thomas</td><td>23</td><td>88</td><td>20221005</td></tr><tr><td>6</td><td>Isaac</td><td>25</td><td>80</td><td>20221006</td></tr><tr><td>9</td><td>Aaron</td><td>23</td><td>89</td><td>20221009</td></tr><tr><td>10</td><td>Wendy</td><td>21</td><td>91</td><td>20221010</td></tr><tr><td>11</td><td>Uma</td><td>24</td><td>82</td><td>20221011</td></tr><tr><td>16</td><td>Rachel</td><td>24</td><td>87</td><td>20221016</td></tr><tr><td>17</td><td>Quinn</td><td>22</td><td>81</td><td>20221017</td></tr><tr><td>18</td><td>Liam</td><td>23</td><td>93</td><td>20221018</td></tr><tr><td>20</td><td>Bob</td><td>21</td><td>85</td><td>20221020</td></tr><tr><td>21</td><td>Alice</td><td>23</td><td>88</td><td>20221021</td></tr><tr><td>22</td><td>Charlie</td><td>22</td><td>78</td><td>20221022</td></tr><tr><td>24</td><td>Paul</td><td>21</td><td>76</td><td>20221024</td></tr><tr><td>25</td><td>Pete</td><td>23</td><td>88</td><td>20221025</td></tr><tr><td>26</td><td>Karl</td><td>25</td><td>80</td><td>20221026</td></tr><tr><td>27</td><td>Frank</td><td>22</td><td>90</td><td>20221027</td></tr><tr><td>29</td><td>Noah</td><td>23</td><td>89</td><td>20221029</td></tr><tr><td>32</td><td>Eve</td><td>23</td><td>84</td><td>20221030</td></tr><tr><td>33</td><td>Nina</td><td>22</td><td>77</td><td>202211101</td></tr><tr><td>35</td><td>Yvonne</td><td>23</td><td>79</td><td>20221102</td></tr><tr><td>36</td><td>Will</td><td>24</td><td>87</td><td>20221103</td></tr><tr><td>37</td><td>Sia</td><td>22</td><td>81</td><td>20221104</td></tr><tr><td>38</td><td>Reed</td><td>23</td><td>93</td><td>20221105</td></tr><tr><td>39</td><td>Olivia</td><td>24</td><td>74</td><td>20221106</td></tr><tr><td>40</td><td>Pat</td><td>21</td><td>85</td><td>20221107</td></tr><tr><td>41</td><td>Xena</td><td>23</td><td>88</td><td>20221108</td></tr><tr><td>42</td><td>Carter</td><td>22</td><td>78</td><td>20221109</td></tr><tr><td>43</td><td>Jack</td><td>24</td><td>92</td><td>20221110</td></tr><tr><td>44</td><td>Fiona</td><td>21</td><td>76</td><td>20221111</td></tr><tr><td>45</td><td>Tina</td><td>23</td><td>88</td><td>20221112</td></tr><tr><td>46</td><td>Zane</td><td>25</td><td>80</td><td>20221113</td></tr><tr><td>47</td><td>Vera</td><td>22</td><td>90</td><td>20221114</td></tr><tr><td>48</td><td>Queen</td><td>24</td><td>75</td><td>20221115</td></tr><tr><td>49</td><td>Oscar</td><td>23</td><td>89</td><td>20221116</td></tr><tr><td>50</td><td>Victor</td><td>21</td><td>91</td><td>20221117</td></tr><tr><td>51</td><td>Yara</td><td>24</td><td>90</td><td>20221118</td></tr><tr><td>52</td><td>Toby</td><td>25</td><td>78</td><td>20221119</td></tr><tr><td>53</td><td>Kara</td><td>23</td><td>85</td><td>20221120</td></tr><tr><td>54</td><td>Zack</td><td>22</td><td>80</td><td>20221121</td></tr><tr><td>55</td><td>Ivan</td><td>24</td><td>88</td><td>20221122</td></tr><tr><td>56</td><td>Judy</td><td>23</td><td>91</td><td>20221123</td></tr><tr><td>57</td><td>Quentin</td><td>25</td><td>87</td><td>20221124</td></tr><tr><td>58</td><td>Liam</td><td>24</td><td>84</td><td>20221125</td></tr><tr><td>59</td><td>Gara</td><td>22</td><td>86</td><td>20221126</td></tr><tr><td>60</td><td>Fiona</td><td>23</td><td>83</td><td>20221127</td></tr><tr><td>61</td><td>Olivia</td><td>24</td><td>90</td><td>20221128</td></tr><tr><td>62</td><td>Frank</td><td>23</td><td>79</td><td>20221129</td></tr><tr><td>63</td><td>Zane</td><td>24</td><td>88</td><td>20221130</td></tr></tbody></table></div>"
      ]
     },
     "metadata": {
      "application/vnd.databricks.v1+output": {
       "addedWidgets": {},
       "aggData": [],
       "aggError": "",
       "aggOverflow": false,
       "aggSchema": [],
       "aggSeriesLimitReached": false,
       "aggType": "",
       "arguments": {},
       "columnCustomDisplayInfos": {},
       "data": [
        [
         1,
         "Sophia",
         23,
         85,
         20221001
        ],
        [
         2,
         "Mila",
         22,
         78,
         20221002
        ],
        [
         3,
         "George",
         24,
         92,
         20221003
        ],
        [
         5,
         "Thomas",
         23,
         88,
         20221005
        ],
        [
         6,
         "Isaac",
         25,
         80,
         20221006
        ],
        [
         9,
         "Aaron",
         23,
         89,
         20221009
        ],
        [
         10,
         "Wendy",
         21,
         91,
         20221010
        ],
        [
         11,
         "Uma",
         24,
         82,
         20221011
        ],
        [
         16,
         "Rachel",
         24,
         87,
         20221016
        ],
        [
         17,
         "Quinn",
         22,
         81,
         20221017
        ],
        [
         18,
         "Liam",
         23,
         93,
         20221018
        ],
        [
         20,
         "Bob",
         21,
         85,
         20221020
        ],
        [
         21,
         "Alice",
         23,
         88,
         20221021
        ],
        [
         22,
         "Charlie",
         22,
         78,
         20221022
        ],
        [
         24,
         "Paul",
         21,
         76,
         20221024
        ],
        [
         25,
         "Pete",
         23,
         88,
         20221025
        ],
        [
         26,
         "Karl",
         25,
         80,
         20221026
        ],
        [
         27,
         "Frank",
         22,
         90,
         20221027
        ],
        [
         29,
         "Noah",
         23,
         89,
         20221029
        ],
        [
         32,
         "Eve",
         23,
         84,
         20221030
        ],
        [
         33,
         "Nina",
         22,
         77,
         202211101
        ],
        [
         35,
         "Yvonne",
         23,
         79,
         20221102
        ],
        [
         36,
         "Will",
         24,
         87,
         20221103
        ],
        [
         37,
         "Sia",
         22,
         81,
         20221104
        ],
        [
         38,
         "Reed",
         23,
         93,
         20221105
        ],
        [
         39,
         "Olivia",
         24,
         74,
         20221106
        ],
        [
         40,
         "Pat",
         21,
         85,
         20221107
        ],
        [
         41,
         "Xena",
         23,
         88,
         20221108
        ],
        [
         42,
         "Carter",
         22,
         78,
         20221109
        ],
        [
         43,
         "Jack",
         24,
         92,
         20221110
        ],
        [
         44,
         "Fiona",
         21,
         76,
         20221111
        ],
        [
         45,
         "Tina",
         23,
         88,
         20221112
        ],
        [
         46,
         "Zane",
         25,
         80,
         20221113
        ],
        [
         47,
         "Vera",
         22,
         90,
         20221114
        ],
        [
         48,
         "Queen",
         24,
         75,
         20221115
        ],
        [
         49,
         "Oscar",
         23,
         89,
         20221116
        ],
        [
         50,
         "Victor",
         21,
         91,
         20221117
        ],
        [
         51,
         "Yara",
         24,
         90,
         20221118
        ],
        [
         52,
         "Toby",
         25,
         78,
         20221119
        ],
        [
         53,
         "Kara",
         23,
         85,
         20221120
        ],
        [
         54,
         "Zack",
         22,
         80,
         20221121
        ],
        [
         55,
         "Ivan",
         24,
         88,
         20221122
        ],
        [
         56,
         "Judy",
         23,
         91,
         20221123
        ],
        [
         57,
         "Quentin",
         25,
         87,
         20221124
        ],
        [
         58,
         "Liam",
         24,
         84,
         20221125
        ],
        [
         59,
         "Gara",
         22,
         86,
         20221126
        ],
        [
         60,
         "Fiona",
         23,
         83,
         20221127
        ],
        [
         61,
         "Olivia",
         24,
         90,
         20221128
        ],
        [
         62,
         "Frank",
         23,
         79,
         20221129
        ],
        [
         63,
         "Zane",
         24,
         88,
         20221130
        ]
       ],
       "datasetInfos": [],
       "dbfsResultPath": null,
       "isJsonSchema": true,
       "metadata": {},
       "overflow": false,
       "plotOptions": {
        "customPlotOptions": {},
        "displayType": "table",
        "pivotAggregation": null,
        "pivotColumns": null,
        "xColumns": null,
        "yColumns": null
       },
       "removedWidgets": [],
       "schema": [
        {
         "metadata": "{}",
         "name": "ID",
         "type": "\"integer\""
        },
        {
         "metadata": "{}",
         "name": "Name",
         "type": "\"string\""
        },
        {
         "metadata": "{}",
         "name": "Age",
         "type": "\"integer\""
        },
        {
         "metadata": "{}",
         "name": "Score",
         "type": "\"integer\""
        },
        {
         "metadata": "{}",
         "name": "Timestamp",
         "type": "\"long\""
        }
       ],
       "type": "table"
      }
     },
     "output_type": "display_data"
    }
   ],
   "source": [
    "data1 = [\n",
    "    (1, \"Sophia\", 23, 85, 20221001),\n",
    "    (2, \"Mila\", 22, 78, 20221002),\n",
    "    (3, \"George\", 24, 92, 20221003),\n",
    "    (5, \"Thomas\", 23, 88, 20221005),\n",
    "    (6, \"Isaac\", 25, 80, 20221006),\n",
    "    (9, \"Aaron\", 23, 89, 20221009),\n",
    "    (10, \"Wendy\", 21, 91, 20221010),\n",
    "    (11, \"Uma\", 24, 82, 20221011),\n",
    "    (16, \"Rachel\", 24, 87, 20221016),\n",
    "    (17, \"Quinn\", 22, 81, 20221017),\n",
    "    (18, \"Liam\", 23, 93, 20221018),\n",
    "    (20, \"Bob\", 21, 85, 20221020),\n",
    "    (21, \"Alice\", 23, 88, 20221021),\n",
    "    (22, \"Charlie\", 22, 78, 20221022),\n",
    "    (24, \"Paul\", 21, 76, 20221024),\n",
    "    (25, \"Pete\", 23, 88, 20221025),\n",
    "    (26, \"Karl\", 25, 80, 20221026),\n",
    "    (27, \"Frank\", 22, 90, 20221027),\n",
    "    (29, \"Noah\", 23, 89, 20221029),\n",
    "    (32, \"Eve\", 23, 84, 20221030),\n",
    "    (33, \"Nina\", 22, 77, 202211101),\n",
    "    (35, \"Yvonne\", 23, 79, 20221102),\n",
    "    (36, \"Will\", 24, 87, 20221103),\n",
    "    (37, \"Sia\", 22, 81, 20221104),\n",
    "    (38, \"Reed\", 23, 93, 20221105),\n",
    "    (39, \"Olivia\", 24, 74, 20221106),\n",
    "    (40, \"Pat\", 21, 85, 20221107),\n",
    "    (41, \"Xena\", 23, 88, 20221108),\n",
    "    (42, \"Carter\", 22, 78, 20221109),\n",
    "    (43, \"Jack\", 24, 92, 20221110),\n",
    "    (44, \"Fiona\", 21, 76, 20221111),\n",
    "    (45, \"Tina\", 23, 88, 20221112),\n",
    "    (46, \"Zane\", 25, 80, 20221113),\n",
    "    (47, \"Vera\", 22, 90, 20221114),\n",
    "    (48, \"Queen\", 24, 75, 20221115),\n",
    "    (49, \"Oscar\", 23, 89, 20221116),\n",
    "    (50, \"Victor\", 21, 91, 20221117),\n",
    "    (51, \"Yara\", 24, 90, 20221118),\n",
    "    (52, \"Toby\", 25, 78, 20221119),\n",
    "    (53, \"Kara\", 23, 85, 20221120),\n",
    "    (54, \"Zack\", 22, 80, 20221121),\n",
    "    (55, \"Ivan\", 24, 88, 20221122),\n",
    "    (56, \"Judy\", 23, 91, 20221123),\n",
    "    (57, \"Quentin\", 25, 87, 20221124),\n",
    "    (58, \"Liam\", 24, 84, 20221125),\n",
    "    (59, \"Gara\", 22, 86, 20221126),\n",
    "    (60, \"Fiona\", 23, 83, 20221127),\n",
    "    (61, \"Olivia\", 24, 90, 20221128),\n",
    "    (62, \"Frank\", 23, 79, 20221129),\n",
    "    (63, \"Zane\", 24, 88, 20221130)\n",
    "]\n",
    "\n",
    "\n",
    "\n",
    "schema1 = StructType([\n",
    "    StructField(\"ID\", IntegerType(), True),\n",
    "    StructField(\"Name\", StringType(), True),\n",
    "    StructField(\"Age\", IntegerType(), True),\n",
    "    StructField(\"Score\", IntegerType(), True),\n",
    "    StructField(\"Timestamp\", LongType(), False)\n",
    "])\n",
    "\n",
    "df1=spark.createDataFrame(data=data1, schema=schema1)\n",
    "df1.display()"
   ]
  },
  {
   "cell_type": "code",
   "execution_count": 0,
   "metadata": {
    "application/vnd.databricks.v1+cell": {
     "cellMetadata": {
      "byteLimit": 2048000,
      "rowLimit": 10000
     },
     "inputWidgets": {},
     "nuid": "948f8bd0-8b08-4588-847b-86c506f374a1",
     "showTitle": false,
     "title": ""
    }
   },
   "outputs": [
    {
     "output_type": "display_data",
     "data": {
      "text/html": [
       "<style scoped>\n",
       "  .table-result-container {\n",
       "    max-height: 300px;\n",
       "    overflow: auto;\n",
       "  }\n",
       "  table, th, td {\n",
       "    border: 1px solid black;\n",
       "    border-collapse: collapse;\n",
       "  }\n",
       "  th, td {\n",
       "    padding: 5px;\n",
       "  }\n",
       "  th {\n",
       "    text-align: left;\n",
       "  }\n",
       "</style><div class='table-result-container'><table class='table-result'><thead style='background-color: white'><tr><th>ID</th><th>Name</th><th>Age</th><th>Score</th><th>Timestamp</th></tr></thead><tbody><tr><td>4</td><td>David</td><td>21</td><td>76</td><td>20230804</td></tr><tr><td>12</td><td>Leo</td><td>23</td><td>84</td><td>20230812</td></tr><tr><td>8</td><td>Heidi</td><td>24</td><td>75</td><td>20230808</td></tr><tr><td>7</td><td>Grace</td><td>22</td><td>90</td><td>20230807</td></tr><tr><td>13</td><td>Mona</td><td>22</td><td>77</td><td>20230813</td></tr><tr><td>15</td><td>Oscar</td><td>23</td><td>79</td><td>20230815</td></tr><tr><td>14</td><td>Nina</td><td>21</td><td>95</td><td>20230814</td></tr><tr><td>19</td><td>Sam</td><td>24</td><td>74</td><td>20230819</td></tr><tr><td>23</td><td>Wendy</td><td>24</td><td>92</td><td>20230823</td></tr><tr><td>28</td><td>Bella</td><td>24</td><td>75</td><td>20230828</td></tr><tr><td>30</td><td>Diana</td><td>21</td><td>91</td><td>20230830</td></tr><tr><td>31</td><td>Eli</td><td>24</td><td>82</td><td>20230831</td></tr><tr><td>34</td><td>Hannah</td><td>21</td><td>95</td><td>20230903</td></tr></tbody></table></div>"
      ]
     },
     "metadata": {
      "application/vnd.databricks.v1+output": {
       "addedWidgets": {},
       "aggData": [],
       "aggError": "",
       "aggOverflow": false,
       "aggSchema": [],
       "aggSeriesLimitReached": false,
       "aggType": "",
       "arguments": {},
       "columnCustomDisplayInfos": {},
       "data": [
        [
         4,
         "David",
         21,
         76,
         20230804
        ],
        [
         12,
         "Leo",
         23,
         84,
         20230812
        ],
        [
         8,
         "Heidi",
         24,
         75,
         20230808
        ],
        [
         7,
         "Grace",
         22,
         90,
         20230807
        ],
        [
         13,
         "Mona",
         22,
         77,
         20230813
        ],
        [
         15,
         "Oscar",
         23,
         79,
         20230815
        ],
        [
         14,
         "Nina",
         21,
         95,
         20230814
        ],
        [
         19,
         "Sam",
         24,
         74,
         20230819
        ],
        [
         23,
         "Wendy",
         24,
         92,
         20230823
        ],
        [
         28,
         "Bella",
         24,
         75,
         20230828
        ],
        [
         30,
         "Diana",
         21,
         91,
         20230830
        ],
        [
         31,
         "Eli",
         24,
         82,
         20230831
        ],
        [
         34,
         "Hannah",
         21,
         95,
         20230903
        ]
       ],
       "datasetInfos": [],
       "dbfsResultPath": null,
       "isJsonSchema": true,
       "metadata": {},
       "overflow": false,
       "plotOptions": {
        "customPlotOptions": {},
        "displayType": "table",
        "pivotAggregation": null,
        "pivotColumns": null,
        "xColumns": null,
        "yColumns": null
       },
       "removedWidgets": [],
       "schema": [
        {
         "metadata": "{}",
         "name": "ID",
         "type": "\"integer\""
        },
        {
         "metadata": "{}",
         "name": "Name",
         "type": "\"string\""
        },
        {
         "metadata": "{}",
         "name": "Age",
         "type": "\"integer\""
        },
        {
         "metadata": "{}",
         "name": "Score",
         "type": "\"integer\""
        },
        {
         "metadata": "{}",
         "name": "Timestamp",
         "type": "\"long\""
        }
       ],
       "type": "table"
      }
     },
     "output_type": "display_data"
    }
   ],
   "source": [
    "unmatched_data=df.join(df1,on='ID', how='left_anti')\n",
    "unmatched_data.display()"
   ]
  },
  {
   "cell_type": "code",
   "execution_count": 0,
   "metadata": {
    "application/vnd.databricks.v1+cell": {
     "cellMetadata": {
      "byteLimit": 2048000,
      "rowLimit": 10000
     },
     "inputWidgets": {},
     "nuid": "b8374866-e5c7-477a-aef8-e53a5a1f346d",
     "showTitle": false,
     "title": ""
    }
   },
   "outputs": [
    {
     "output_type": "stream",
     "name": "stdout",
     "output_type": "stream",
     "text": [
      "+---+-------+---+-----+\n| ID|   Name|Age|Score|\n+---+-------+---+-----+\n|  1|  Alice| 23|   85|\n|  2|    Bob| 22|   78|\n|  3|Charlie| 24|   92|\n|  4|  David| 21|   76|\n|  5|    Eve| 23|   88|\n|  6|  Frank| 25|   80|\n|  7|  Grace| 22|   90|\n|  8|  Heidi| 24|   75|\n|  9|   Ivan| 23|   89|\n| 10|   Judy| 21|   91|\n| 11|   Karl| 24|   82|\n| 12|    Leo| 23|   84|\n| 13|   Mona| 22|   77|\n| 14|   Nina| 21|   95|\n| 15|  Oscar| 23|   79|\n| 16|   Paul| 24|   87|\n| 17|  Quinn| 22|   81|\n| 18| Rachel| 23|   93|\n| 19|    Sam| 24|   74|\n| 20|   Tina| 21|   85|\n+---+-------+---+-----+\nonly showing top 20 rows\n\n"
     ]
    }
   ],
   "source": [
    "max_timestamp = df1.agg(max(col('Timestamp')).alias('max_timestamp')).collect()[0]['max_timestamp']\n",
    "\n",
    "filtered_df1 = df.filter(col('Timestamp') <= max_timestamp)\n",
    "\n",
    "filtered_ids = filtered_df1.select('ID','Name','Age','Score')\n",
    "\n",
    "\n",
    "filtered_ids.show()"
   ]
  },
  {
   "cell_type": "code",
   "execution_count": 0,
   "metadata": {
    "application/vnd.databricks.v1+cell": {
     "cellMetadata": {},
     "inputWidgets": {},
     "nuid": "ad4a6916-1b79-44f8-88f0-ce450add80cc",
     "showTitle": false,
     "title": ""
    }
   },
   "outputs": [],
   "source": []
  }
 ],
 "metadata": {
  "application/vnd.databricks.v1+notebook": {
   "dashboards": [],
   "environmentMetadata": null,
   "language": "python",
   "notebookMetadata": {
    "pythonIndentUnit": 4
   },
   "notebookName": "nokia_shadow",
   "widgets": {}
  }
 },
 "nbformat": 4,
 "nbformat_minor": 0
}
